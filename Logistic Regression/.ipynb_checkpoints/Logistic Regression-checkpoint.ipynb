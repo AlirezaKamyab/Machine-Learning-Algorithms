{
 "cells": [
  {
   "cell_type": "markdown",
   "id": "275971c0",
   "metadata": {},
   "source": [
    "# Logistic Regression\n",
    "## Function\n",
    "The function of logistic regression is<br>\n",
    "$g(z) = \\frac{1}{1 + e^{-z}}$<br>\n",
    "This is called \"Sigmoid\" function or \"Logistic\" function.<br>\n",
    "Let's denote $z$ as $\\overrightarrow{w}.\\overrightarrow{x} + b$<br>\n",
    "So we get a function that takes $\\overrightarrow{x}$ as parameter<br>\n",
    "$f(\\overrightarrow{x}) = g(\\overrightarrow{w}.\\overrightarrow{x} + b) = \\frac{1}{1 + e^{-(\\overrightarrow{w}.\\overrightarrow{x} + b)}}$"
   ]
  },
  {
   "cell_type": "code",
   "execution_count": 1,
   "id": "612a5344",
   "metadata": {},
   "outputs": [],
   "source": [
    "import numpy as np\n",
    "import pandas as pd\n",
    "import matplotlib.pyplot as plt\n",
    "import math, copy"
   ]
  },
  {
   "cell_type": "markdown",
   "id": "19389e4b",
   "metadata": {},
   "source": [
    "Let's first define Sigmoid function"
   ]
  },
  {
   "cell_type": "code",
   "execution_count": 2,
   "id": "b5dffc9d",
   "metadata": {},
   "outputs": [],
   "source": [
    "def sigmoid(z):\n",
    "    z = np.clip(z, -500, 36)\n",
    "    return 1.0 / (1.0 + np.exp(-z))"
   ]
  },
  {
   "cell_type": "markdown",
   "id": "24ae76fa",
   "metadata": {},
   "source": [
    "And the graph of sigmoid function will be like:"
   ]
  },
  {
   "cell_type": "code",
   "execution_count": 3,
   "id": "9979d66a",
   "metadata": {},
   "outputs": [
    {
     "data": {
      "image/png": "[encoded data removed]",
      "text/plain": [
       "<Figure size 432x288 with 1 Axes>"
      ]
     },
     "metadata": {
      "needs_background": "light"
     },
     "output_type": "display_data"
    }
   ],
   "source": [
    "x = np.arange(-10, 10)\n",
    "plt.figure()\n",
    "plt.plot(x, [sigmoid(i) for i in x]);\n",
    "plt.title('Sigmoid Function');"
   ]
  },
  {
   "cell_type": "markdown",
   "id": "614d658d",
   "metadata": {},
   "source": [
    "Definition of predict function"
   ]
  },
  {
   "cell_type": "code",
   "execution_count": 4,
   "id": "a3541c53",
   "metadata": {},
   "outputs": [],
   "source": [
    "def predict(x, w, b):\n",
    "    return sigmoid(np.dot(x, w) + b)"
   ]
  },
  {
   "cell_type": "markdown",
   "id": "ef1439b8",
   "metadata": {},
   "source": [
    "Before diving in, let's have an example for our function"
   ]
  },
  {
   "cell_type": "code",
   "execution_count": 5,
   "id": "123cc7e4",
   "metadata": {},
   "outputs": [],
   "source": [
    "x_train = np.array([[0.5, 0.5], [0.9, -0.8], [0, 0.9], [0.876, 0], [0.894, 0.1], [-0.99, 0.5],\n",
    "                    [1, 1], [1.12, -1], [-1, 1.3], [-1.2, 1.1], [-1.14, -1], [-1, -1], [-1, 1]], dtype=np.longdouble)\n",
    "y_train = np.array([0, 0, 0, 0, 0, 0, 1, 1, 1, 1, 1, 1, 1], dtype=np.longdouble)\n",
    "w = np.zeros_like(x_train[0]); b = 0"
   ]
  },
  {
   "cell_type": "code",
   "execution_count": 6,
   "id": "ffac76b1",
   "metadata": {},
   "outputs": [
    {
     "data": {
      "image/png": "[encoded data removed]",
      "text/plain": [
       "<Figure size 432x288 with 1 Axes>"
      ]
     },
     "metadata": {
      "needs_background": "light"
     },
     "output_type": "display_data"
    }
   ],
   "source": [
    "plt.figure()\n",
    "plt.scatter(x_train[:6, 0], x_train[:6, 1], marker='o', c='blue')\n",
    "plt.scatter(x_train[6:, 0], x_train[6:, 1], marker='x', c='red')\n",
    "ax = plt.gca()\n",
    "ax.set_xlim([-3, 3]);\n",
    "ax.set_ylim([-3, 3]);"
   ]
  },
  {
   "cell_type": "markdown",
   "id": "a060df0a",
   "metadata": {},
   "source": [
    "## Cost function\n",
    "The cost function for Logistic regression is defined as <br>\n",
    "$\n",
    "\\displaystyle\n",
    "J(\\overrightarrow{w}, b) = \\frac{1}{m}\\sum_{i=1}^{m}Loss(f_{\\overrightarrow{w}, b}(\\overrightarrow{x}^{(i)}), y^{(i)})$\n",
    "<br><br>\n",
    "$\n",
    "\\begin{equation}\n",
    "Loss(f_{\\overrightarrow{w}, b}(\\overrightarrow{x}^{(i)}), y^{(i)}) = \n",
    "    \\begin{cases}\n",
    "        -log(f_{\\overrightarrow{w}, b}(\\overrightarrow{x}^{(i)})) & \\text{if} y^{(i)}=1\\\\\n",
    "        -log(1 - f_{\\overrightarrow{w}, b}(\\overrightarrow{x}^{(i)})) & \\text{if} y^{(i)}=0\\\\\n",
    "    \\end{cases}\n",
    "\\end{equation}\n",
    "$\n",
    "\n",
    "we can write our $Loss$ function in a simpler way<br>\n",
    "$\n",
    "\\begin{equation}\n",
    "    Loss(f_{\\overrightarrow{w}, b}(\\overrightarrow{x}^{(i)}), y^{(i)}) = -y^{(i)}log(f_{\\overrightarrow{w}, b}(\\overrightarrow{x}^{(i)})) - (1 - y^{(i)})log(1 - f_{\\overrightarrow{w}, b}(\\overrightarrow{x}^{(i)}))\n",
    "\\end{equation}\n",
    "$\n",
    "\n",
    "and so our cost function will be<br>\n",
    "$\n",
    "\\begin{equation}\n",
    "\\displaystyle\n",
    "    J(\\overrightarrow{w}, b) = -\\frac{1}{m}\\sum_{i=1}^{m}\\biggr[y^{(i)}log(f_{\\overrightarrow{w}, b}(\\overrightarrow{x}^{(i)})) + (1 - y^{(i)})log(1 - f_{\\overrightarrow{w}, b}(\\overrightarrow{x}^{(i)}))\\biggl]\n",
    "\\end{equation}\n",
    "$"
   ]
  },
  {
   "cell_type": "code",
   "execution_count": 7,
   "id": "98dca299",
   "metadata": {},
   "outputs": [],
   "source": [
    "def loss(x, y):\n",
    "    return -1 * (y * math.log(x) + (1 - y) * math.log(1 - x))"
   ]
  },
  {
   "cell_type": "code",
   "execution_count": 8,
   "id": "4c8a9431",
   "metadata": {},
   "outputs": [],
   "source": [
    "def cost(X, y, w, b):\n",
    "    err_sum = 0\n",
    "    m = X.shape[0]\n",
    "    for i in range(m):\n",
    "        err_sum = err_sum + loss(predict(X[i], w, b), y[i])\n",
    "    return err_sum / m"
   ]
  },
  {
   "cell_type": "code",
   "execution_count": 9,
   "id": "6676ddb8",
   "metadata": {},
   "outputs": [
    {
     "name": "stdout",
     "output_type": "stream",
     "text": [
      "Current cost of our model is 0.6931471805599453\n"
     ]
    }
   ],
   "source": [
    "print(f'Current cost of our model is {cost(x_train, y_train, w, b)}')"
   ]
  },
  {
   "cell_type": "markdown",
   "id": "31adb78e",
   "metadata": {},
   "source": [
    "## Gradient Descent\n",
    "This one is the same as Gradient Descent for Linear Regression<br>\n",
    "$\n",
    "\\bigg\\{\n",
    "\\begin{gather*}\n",
    "    w_j = w_j - \\alpha\\frac{d}{dw_j}J(\\overrightarrow{w}, b) & j\\dots n\\\\\n",
    "    b = b - \\alpha\\frac{d}{db}J(\\overrightarrow{w}, b)\n",
    "\\end{gather*}\n",
    "\\bigg\\}\n",
    "$\n",
    "<br>\n",
    "Also the derivatives are: <br>\n",
    "$\n",
    "\\begin{equation}\n",
    "\\displaystyle\n",
    "    \\frac{d}{dw_j}J(\\overrightarrow{w}, b) = \\frac{1}{m}\\sum_{i=1}^{m}\\bigg(\\big(f_{\\overrightarrow{w}, b}(\\overrightarrow{x}^{(i)}) - y^{(i)}\\big)x_{j}^{(i)}\\bigg)\\\\\n",
    "\\displaystyle\n",
    "    \\frac{d}{db}J(\\overrightarrow{w}, b) = \\frac{1}{m}\\sum_{i=1}^{m}\\bigg(f_{\\overrightarrow{w}, b}(\\overrightarrow{x}^{(i)}) - y^{(i)}\\bigg)\n",
    "\\end{equation}\n",
    "$"
   ]
  },
  {
   "cell_type": "code",
   "execution_count": 10,
   "id": "528b5b2a",
   "metadata": {},
   "outputs": [],
   "source": [
    "def gradient(X, y, w, b):\n",
    "    m, n = X.shape\n",
    "    dj_dw = np.zeros(n)\n",
    "    dj_db = 0\n",
    "    for i in range(m):\n",
    "        err = predict(X[i], w, b) - y[i]\n",
    "        for j in range(n):\n",
    "            dj_dw[j] = dj_dw[j] + (err * X[i, j])\n",
    "        dj_db = dj_db + err\n",
    "    dj_dw = dj_dw / m\n",
    "    dj_db = dj_db / m\n",
    "    return dj_dw, dj_db"
   ]
  },
  {
   "cell_type": "code",
   "execution_count": 11,
   "id": "b701af3d",
   "metadata": {},
   "outputs": [],
   "source": [
    "def gradient_descent(X, y, init_w, init_b, alpha, cost_function, gradient_function, iterations=1000):\n",
    "    w = copy.deepcopy(init_w)\n",
    "    b = init_b\n",
    "    \n",
    "    for i in range(1, iterations + 1):\n",
    "        dj_dw, dj_db = gradient(X, y, w, b)\n",
    "        w = w - (alpha * dj_dw)\n",
    "        b = b - (alpha * dj_db)\n",
    "        \n",
    "        if i % 1000 == 0:\n",
    "            print(f'i:{i} w={w} b={b} cost={cost_function(X, y, w, b)}')\n",
    "    return w, b"
   ]
  },
  {
   "cell_type": "markdown",
   "id": "d07ace2d",
   "metadata": {},
   "source": [
    "Now let's define scale function to put our training data in [0, 1] interval"
   ]
  },
  {
   "cell_type": "code",
   "execution_count": 12,
   "id": "2224f26e",
   "metadata": {},
   "outputs": [],
   "source": [
    "def scale(X):\n",
    "    x_scale = copy.deepcopy(X)\n",
    "    x_scale = x_scale / np.abs(X).max()\n",
    "    return x_scale"
   ]
  },
  {
   "cell_type": "markdown",
   "id": "8307d604",
   "metadata": {},
   "source": [
    "## Train Data"
   ]
  },
  {
   "cell_type": "code",
   "execution_count": 13,
   "id": "1320f308",
   "metadata": {},
   "outputs": [
    {
     "name": "stdout",
     "output_type": "stream",
     "text": [
      "i:1000 w=[2.59388549 4.74445206] b=-5.504533290932367 cost=0.12032055744106558\n",
      "i:2000 w=[3.4694742  6.15971102] b=-7.435569776124819 cost=0.07732727432912223\n",
      "i:3000 w=[3.99877857 7.11626727] b=-8.696262858631641 cost=0.05921034052617842\n",
      "i:4000 w=[4.38012407 7.86240659] b=-9.655463639700118 cost=0.0487005265399369\n",
      "i:5000 w=[4.67891351 8.48304539] b=-10.438533202099807 cost=0.04166571748887068\n",
      "i:6000 w=[4.92473633 9.0186548 ] b=-11.104308838311216 cost=0.0365567530186902\n",
      "i:7000 w=[5.13354874 9.49207575] b=-11.685544870801694 cost=0.03264517259539639\n",
      "i:8000 w=[5.31497306 9.91763036] b=-12.202537585417081 cost=0.02953723015779802\n",
      "i:9000 w=[ 5.47527857 10.30497367] b=-12.668826380485163 cost=0.026998917299895956\n",
      "i:10000 w=[ 5.61878785 10.66096833] b=-13.093943373095629 cost=0.02488123761898729\n",
      "i:11000 w=[ 5.74861271 10.99069323] b=-13.484880897484224 cost=0.02308422314725819\n",
      "i:12000 w=[ 5.86707081 11.29802843] b=-13.846936790869176 cost=0.021537983651249575\n",
      "i:13000 w=[ 5.97593632 11.58601511] b=-14.184231182788663 cost=0.02019200772322138\n",
      "i:14000 w=[ 6.07659845 11.8570877 ] b=-14.50003795268178 cost=0.0190087770990501\n",
      "i:15000 w=[ 6.17016584 12.11322963] b=-14.797005852677621 cost=0.017959777788567603\n",
      "i:16000 w=[ 6.25753758 12.35608127] b=-15.077310958233156 cost=0.017022911946274068\n",
      "i:17000 w=[ 6.33945306 12.58701682] b=-15.342764748990705 cost=0.016180763702237998\n",
      "i:18000 w=[ 6.41652772 12.80720043] b=-15.594892592865772 cost=0.015419404673583983\n",
      "i:19000 w=[ 6.48927933 13.01762802] b=-15.834991936755129 cost=0.014727551271869975\n",
      "i:20000 w=[ 6.55814761 13.21915896] b=-16.064176244971915 cost=0.014095957600856475\n",
      "i:21000 w=[ 6.62350916 13.41254056] b=-16.283408714723613 cost=0.013516969906933757\n",
      "i:22000 w=[ 6.68568896 13.59842718] b=-16.49352852043055 cost=0.012984194160789015\n",
      "i:23000 w=[ 6.74496937 13.77739533] b=-16.695271506126016 cost=0.012492244358306526\n",
      "i:24000 w=[ 6.80159725 13.94995583] b=-16.88928668992501 cost=0.012036549389961938\n",
      "i:25000 w=[ 6.85578968 14.11656364] b=-17.076149566472868 cost=0.011613203055438346\n",
      "i:26000 w=[ 6.90773849 14.27762583] b=-17.25637293100145 cost=0.01121884630166366\n",
      "i:27000 w=[ 6.95761406 14.43350823] b=-17.430415763549036 cost=0.010850573830623402\n",
      "i:28000 w=[ 7.00556835 14.58454092] b=-17.598690579286085 cost=0.010505859349957177\n",
      "i:29000 w=[ 7.05173748 14.73102278] b=-17.761569554508956 cost=0.010182495236232908\n",
      "i:30000 w=[ 7.09624383 14.87322542] b=-17.919389666906504 cost=0.00987854344935718\n",
      "i:31000 w=[ 7.13919781 15.01139639] b=-18.072457035837722 cost=0.009592295309345874\n",
      "i:32000 w=[ 7.18069938 15.14576205] b=-18.221050608532614 cost=0.009322238312276547\n",
      "i:33000 w=[ 7.22083928 15.27652989] b=-18.365425307816835 cost=0.00906702858083968\n",
      "i:34000 w=[ 7.2597002  15.40389064] b=-18.505814733675596 cost=0.00882546785791424\n",
      "i:35000 w=[ 7.29735759 15.52802006] b=-18.642433492918776 cost=0.008596484187925031\n",
      "i:36000 w=[ 7.33388058 15.64908042] b=-18.77547921710223 cost=0.00837911561077882\n",
      "i:37000 w=[ 7.36933259 15.76722196] b=-18.905134317747738 cost=0.008172496331499787\n",
      "i:38000 w=[ 7.40377196 15.88258399] b=-19.03156751908703 cost=0.007975844935793397\n",
      "i:39000 w=[ 7.43725249 15.99529595] b=-19.154935201513773 cost=0.007788454305334121\n",
      "i:40000 w=[ 7.46982386 16.10547837] b=-19.275382583265323 cost=0.007609682952215967\n",
      "i:41000 w=[ 7.50153206 16.21324361] b=-19.393044763276436 cost=0.007438947543926425\n",
      "i:42000 w=[ 7.53241976 16.31869668] b=-19.508047644421403 cost=0.0072757164315146415\n",
      "i:43000 w=[ 7.56252657 16.42193577] b=-19.620508753315292 cost=0.0071195040266989786\n",
      "i:44000 w=[ 7.59188936 16.52305292] b=-19.73053797033891 cost=0.006969865900281282\n",
      "i:45000 w=[ 7.62054252 16.62213449] b=-19.83823818148366 cost=0.006826394495780635\n",
      "i:46000 w=[ 7.64851811 16.7192616 ] b=-19.943705861894006 cost=0.00668871536972633\n",
      "i:47000 w=[ 7.67584614 16.8145106 ] b=-20.047031599554494 cost=0.006556483884371408\n",
      "i:48000 w=[ 7.70255469 16.90795341] b=-20.148300566369155 cost=0.006429382290352605\n",
      "i:49000 w=[ 7.72867009 16.99965786] b=-20.247592942873556 cost=0.0063071171465186055\n",
      "i:50000 w=[ 7.75421705 17.08968799] b=-20.344984301970786 cost=0.006189417032184862\n",
      "i:51000 w=[ 7.77921881 17.17810436] b=-20.440545956361373 cost=0.006076030513750207\n",
      "i:52000 w=[ 7.80369722 17.26496425] b=-20.534345273726814 cost=0.005966724333186398\n",
      "i:53000 w=[ 7.82767288 17.35032195] b=-20.62644596320455 cost=0.005861281790582227\n",
      "i:54000 w=[ 7.85116521 17.43422893] b=-20.716908336245478 cost=0.005759501296849777\n",
      "i:55000 w=[ 7.87419256 17.51673402] b=-20.805789544563584 cost=0.005661195076013884\n",
      "i:56000 w=[ 7.89677225 17.59788365] b=-20.893143797556718 cost=0.005566187999307694\n",
      "i:57000 w=[ 7.9189207  17.67772192] b=-20.97902256129356 cost=0.005474316535678725\n",
      "i:58000 w=[ 7.94065342 17.75629085] b=-21.06347474091661 cost=0.0053854278053347745\n",
      "i:59000 w=[ 7.96198515 17.83363042] b=-21.146546848096808 cost=0.00529937872468994\n",
      "i:60000 w=[ 7.98292985 17.90977875] b=-21.228283154989438 cost=0.005216035232554266\n",
      "i:61000 w=[ 8.00350078 17.98477222] b=-21.308725835979875 cost=0.005135271588682105\n",
      "i:62000 w=[ 8.02371055 18.05864554] b=-21.387915098366136 cost=0.005056969736889292\n",
      "i:63000 w=[ 8.04357115 18.13143188] b=-21.465889303000164 cost=0.004981018725897269\n",
      "i:64000 w=[ 8.06309399 18.20316294] b=-21.542685075802186 cost=0.004907314181877394\n",
      "i:65000 w=[ 8.08228994 18.27386907] b=-21.618337410966088 cost=0.004835757827380883\n",
      "i:66000 w=[ 8.10116937 18.3435793 ] b=-21.692879766589208 cost=0.004766257041954809\n",
      "i:67000 w=[ 8.11974216 18.41232145] b=-21.766344153385763 cost=0.004698724460282668\n",
      "i:68000 w=[ 8.13801776 18.48012217] b=-21.8387612170762 cost=0.004633077604156951\n",
      "i:69000 w=[ 8.15600518 18.54700704] b=-21.910160314987593 cost=0.004569238545000874\n",
      "i:70000 w=[ 8.17371304 18.61300059] b=-21.98056958734689 cost=0.004507133594016535\n",
      "i:71000 w=[ 8.19114959 18.67812639] b=-22.05001602370276 cost=0.004446693017352813\n",
      "i:72000 w=[ 8.20832272 18.74240707] b=-22.118525524871405 cost=0.004387850773963199\n",
      "i:73000 w=[ 8.22523999 18.80586438] b=-22.18612296076334 cost=0.004330544274069389\n",
      "i:74000 w=[ 8.24190864 18.86851925] b=-22.252832224416522 cost=0.004274714156363764\n",
      "i:75000 w=[ 8.25833563 18.93039182] b=-22.318676282530863 cost=0.0042203040822720705\n",
      "i:76000 w=[ 8.27452761 18.99150146] b=-22.383677222772967 cost=0.004167260545771134\n",
      "i:77000 w=[ 8.29049098 19.05186684] b=-22.44785629809567 cost=0.004115532697403943\n",
      "i:78000 w=[ 8.30623188 19.11150596] b=-22.511233968296573 cost=0.004065072181269571\n",
      "i:79000 w=[ 8.32175622 19.17043614] b=-22.57382993901925 cost=0.004015832983883634\n",
      "i:80000 w=[ 8.33706967 19.22867413] b=-22.635663198383863 cost=0.00396777129391237\n",
      "i:81000 w=[ 8.35217769 19.28623605] b=-22.696752051418528 cost=0.003920845371876909\n",
      "i:82000 w=[ 8.36708554 19.3431375 ] b=-22.75711415244807 cost=0.0038750154290095856\n",
      "i:83000 w=[ 8.38179826 19.3993935 ] b=-22.816766535583742 cost=0.0038302435145211016\n",
      "i:84000 w=[ 8.39632074 19.4550186 ] b=-22.875725643446735 cost=0.0037864934106029017\n",
      "i:85000 w=[ 8.41065766 19.51002685] b=-22.934007354246468 cost=0.003743730534552711\n",
      "i:86000 w=[ 8.42481356 19.56443182] b=-22.991627007325448 cost=0.003701921847466187\n",
      "i:87000 w=[ 8.43879278 19.61824666] b=-23.048599427274773 cost=0.003661035768982963\n",
      "i:88000 w=[ 8.45259956 19.67148407] b=-23.104938946713958 cost=0.003621042097627432\n",
      "i:89000 w=[ 8.46623794 19.72415637] b=-23.160659427824168 cost=0.0035819119363162165\n",
      "i:90000 w=[ 8.47971186 19.77627546] b=-23.215774282715113 cost=0.003543617622648654\n",
      "i:91000 w=[ 8.4930251  19.82785289] b=-23.27029649270066 cost=0.0035061326636226494\n",
      "i:92000 w=[ 8.50618134 19.87889983] b=-23.324238626553694 cost=0.003469431674453005\n",
      "i:93000 w=[ 8.51918411 19.92942713] b=-23.377612857803033 cost=0.003433490321194022\n",
      "i:94000 w=[ 8.53203683 19.97944529] b=-23.43043098113295 cost=0.003398285266892306\n",
      "i:95000 w=[ 8.54474283 20.02896451] b=-23.48270442794044 cost=0.0033637941210202045\n",
      "i:96000 w=[ 8.55730531 20.07799467] b=-23.53444428110209 cost=0.0033299953919565554\n",
      "i:97000 w=[ 8.56972737 20.12654537] b=-23.585661288997205 cost=0.0032968684423051366\n",
      "i:98000 w=[ 8.58201201 20.17462593] b=-23.63636587883314 cost=0.003264393446852966\n",
      "i:99000 w=[ 8.59416216 20.22224539] b=-23.686568169312817 cost=0.003232551352989066\n"
     ]
    },
    {
     "name": "stdout",
     "output_type": "stream",
     "text": [
      "i:100000 w=[ 8.60618064 20.26941255] b=-23.73627798268376 cost=0.0032013238434165413\n"
     ]
    }
   ],
   "source": [
    "x_scale = scale(x_train)\n",
    "w_out, b_out = gradient_descent(x_train ** 2, y_train, w, b, 0.155, cost, gradient, 100000)"
   ]
  },
  {
   "cell_type": "markdown",
   "id": "9a2c8e3c",
   "metadata": {},
   "source": [
    "### Trying to predict\n",
    "When we have a point on or outside of the circle with radius 1 and C(0, 0) we should get 1 and zero otherwise"
   ]
  },
  {
   "cell_type": "code",
   "execution_count": 14,
   "id": "fef26a2d",
   "metadata": {},
   "outputs": [
    {
     "data": {
      "text/plain": [
       "0.41409857593470334"
      ]
     },
     "execution_count": 14,
     "metadata": {},
     "output_type": "execute_result"
    }
   ],
   "source": [
    "x_test = np.array([0.90, -0.90])\n",
    "predict(x_test**2, w_out, b_out)"
   ]
  },
  {
   "cell_type": "markdown",
   "id": "59b8de89",
   "metadata": {},
   "source": [
    "## Another example\n",
    "In this example we use only one feature"
   ]
  },
  {
   "cell_type": "code",
   "execution_count": 15,
   "id": "fa3b36e3",
   "metadata": {},
   "outputs": [],
   "source": [
    "x_train = np.array([0, 1, 2, 3, 3.5, 5, 6, 7, 8, 9])\n",
    "y_train = np.array([0, 0, 0, 0, 1, 1, 1, 1, 1, 1])\n",
    "x_train = x_train.reshape((-1, 1))\n",
    "alpha = 0.1\n",
    "x_scale = scale(x_train)\n",
    "w = np.zeros_like(x_train[0])"
   ]
  },
  {
   "cell_type": "code",
   "execution_count": 16,
   "id": "cebc08ed",
   "metadata": {},
   "outputs": [
    {
     "data": {
      "image/png": "[encoded data removed]",
      "text/plain": [
       "<Figure size 432x288 with 1 Axes>"
      ]
     },
     "metadata": {
      "needs_background": "light"
     },
     "output_type": "display_data"
    }
   ],
   "source": [
    "plt.scatter(x_scale[:4], y_train[:4], marker='o')\n",
    "plt.scatter(x_scale[4:], y_train[4:], c='red', marker='x', linewidths=1);"
   ]
  },
  {
   "cell_type": "code",
   "execution_count": 17,
   "id": "7d340790",
   "metadata": {},
   "outputs": [
    {
     "name": "stdout",
     "output_type": "stream",
     "text": [
      "i:1000 w=[2.69213516] b=-8.667901807044517 cost=0.08742880259767068\n",
      "i:2000 w=[3.53583431] b=-11.40564666938329 cost=0.07085211769932395\n",
      "i:3000 w=[4.19041872] b=-13.531241003475095 cost=0.06093127911021075\n",
      "i:4000 w=[4.74937153] b=-15.347881346328203 cost=0.053695713540567305\n",
      "i:5000 w=[5.24429311] b=-16.957172606624642 cost=0.0480207564537141\n",
      "i:6000 w=[5.69071235] b=-18.409079701002913 cost=0.04340275639191411\n",
      "i:7000 w=[6.09803293] b=-19.733949591379794 cost=0.03955811494339066\n",
      "i:8000 w=[6.47271687] b=-20.95269669279272 cost=0.03630504234104098\n",
      "i:9000 w=[6.81956183] b=-22.08088239432851 cost=0.033517650423082565\n",
      "i:10000 w=[7.14230598] b=-23.130649207482072 cost=0.031104409510912957\n",
      "i:11000 w=[7.44395485] b=-24.111769006995587 cost=0.028996546835212904\n",
      "i:12000 w=[7.72697768] b=-25.03227461470756 cost=0.027141145602864708\n",
      "i:13000 w=[7.99343533] b=-25.898872559728147 cost=0.025496737805094948\n",
      "i:14000 w=[8.2450688] b=-26.717229667208887 cost=0.024030342434306025\n",
      "i:15000 w=[8.48336345] b=-27.492181090842866 cost=0.022715399426555403\n",
      "i:16000 w=[8.70959702] b=-28.227886350666207 cost=0.021530287280147782\n",
      "i:17000 w=[8.92487655] b=-28.927949280900663 cost=0.020457235756972062\n",
      "i:18000 w=[9.13016726] b=-29.595511994108982 cost=0.0194815139843405\n",
      "i:19000 w=[9.32631552] b=-30.23332960244312 cost=0.018590815056628313\n",
      "i:20000 w=[9.51406733] b=-30.8438303702677 cost=0.017774783532472867\n",
      "i:21000 w=[9.69408332] b=-31.429164641381753 cost=0.01702464851703659\n",
      "i:22000 w=[9.86695111] b=-31.9912449918806 cost=0.016332935837478572\n",
      "i:23000 w=[10.03319551] b=-32.53177944180531 cost=0.015693240183422212\n",
      "i:24000 w=[10.19328699] b=-33.052299119188845 cost=0.015100043200495836\n",
      "i:25000 w=[10.34764879] b=-33.554181450505666 cost=0.014548567142317522\n",
      "i:26000 w=[10.49666299] b=-34.03866971487926 cost=0.014034656282461973\n",
      "i:27000 w=[10.64067552] b=-34.50688962149385 cost=0.013554680175937703\n",
      "i:28000 w=[10.78000056] b=-34.95986343415704 cost=0.013105454248884882\n",
      "i:29000 w=[10.91492419] b=-35.39852206261398 cost=0.012684174228216355\n",
      "i:30000 w=[11.04570765] b=-35.823715459062186 cost=0.012288361698525341\n",
      "i:31000 w=[11.17259005] b=-36.236221594653465 cost=0.011915818661106026\n",
      "i:32000 w=[11.2957908] b=-36.63675424043393 cost=0.011564589418646425\n",
      "i:33000 w=[11.41551162] b=-37.02596973709177 cost=0.011232928454496185\n",
      "i:34000 w=[11.53193843] b=-37.404472905756556 cost=0.010919273243101867\n",
      "i:35000 w=[11.64524292] b=-37.77282222618658 cost=0.010622221137115112\n",
      "i:36000 w=[11.7555839] b=-38.13153438767178 cost=0.010340509640755358\n",
      "i:37000 w=[11.86310861] b=-38.48108830085321 cost=0.010072999508652052\n",
      "i:38000 w=[11.96795374] b=-38.821928644624236 cost=0.00981866021242023\n",
      "i:39000 w=[12.07024644] b=-39.15446901073189 cost=0.009576557399539356\n",
      "i:40000 w=[12.17010518] b=-39.47909469913981 cost=0.009345842035224861\n",
      "i:41000 w=[12.26764047] b=-39.79616520928716 cost=0.009125740971347362\n",
      "i:42000 w=[12.36295559] b=-40.10601646576146 cost=0.008915548729734064\n",
      "i:43000 w=[12.45614719] b=-40.408962811373115 cost=0.008714620322442855\n",
      "i:44000 w=[12.54730583] b=-40.705298795965035 cost=0.00852236496045057\n",
      "i:45000 w=[12.63651648] b=-40.995300785376415 cost=0.008338240525895275\n",
      "i:46000 w=[12.72385897] b=-41.27922841165981 cost=0.008161748702565214\n",
      "i:47000 w=[12.80940838] b=-41.557325882839436 cost=0.007992430675516818\n",
      "i:48000 w=[12.89323544] b=-41.8298231681035 cost=0.007829863324157634\n",
      "i:49000 w=[12.9754068] b=-42.096937072275416 cost=0.007673655844354932\n",
      "i:50000 w=[13.05598537] b=-42.35887221166021 cost=0.00752344674452223\n"
     ]
    }
   ],
   "source": [
    "w_out, b_out = gradient_descent(x_train, y_train, w, 0, 0.5, cost, gradient, 50000)"
   ]
  },
  {
   "cell_type": "code",
   "execution_count": 18,
   "id": "ecbe938d",
   "metadata": {},
   "outputs": [
    {
     "data": {
      "image/png": "[encoded data removed]",
      "text/plain": [
       "<Figure size 432x288 with 1 Axes>"
      ]
     },
     "metadata": {
      "needs_background": "light"
     },
     "output_type": "display_data"
    }
   ],
   "source": [
    "plt.scatter(x_train[:4], y_train[:4], marker='o')\n",
    "plt.scatter(x_train[4:], y_train[4:], c='red', marker='x', linewidths=1);\n",
    "y_out = [predict(i, w_out, b_out) for i in x_train]\n",
    "plt.plot(x_train, y_out)\n",
    "\n",
    "x_num = np.linspace(x_train.min(), x_train.max(), 10)\n",
    "x_num_out = w_out * x_num + b_out\n",
    "plt.plot(x_num, x_num_out)\n",
    "ax = plt.gca()\n",
    "ax.set_ylim([-0.06, 1.06]);"
   ]
  },
  {
   "cell_type": "markdown",
   "id": "90302d46",
   "metadata": {},
   "source": [
    "The end."
   ]
  }
 ],
 "metadata": {
  "kernelspec": {
   "display_name": "Python 3 (ipykernel)",
   "language": "python",
   "name": "python3"
  },
  "language_info": {
   "codemirror_mode": {
    "name": "ipython",
    "version": 3
   },
   "file_extension": ".py",
   "mimetype": "text/x-python",
   "name": "python",
   "nbconvert_exporter": "python",
   "pygments_lexer": "ipython3",
   "version": "3.10.4"
  }
 },
 "nbformat": 4,
 "nbformat_minor": 5
}
