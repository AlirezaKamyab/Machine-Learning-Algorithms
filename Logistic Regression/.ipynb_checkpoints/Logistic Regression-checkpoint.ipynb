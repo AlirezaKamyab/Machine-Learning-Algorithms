{
 "cells": [
  {
   "cell_type": "markdown",
   "id": "9eddd330",
   "metadata": {},
   "source": [
    "# Logistic Regression\n",
    "## Function\n",
    "The function of logistic regression is<br>\n",
    "$g(z) = \\frac{1}{1 + e^{-z}}$<br>\n",
    "This is called \"Sigmoid\" function or \"Logistic\" function.<br>\n",
    "Let's denote $z$ as $\\overrightarrow{w}.\\overrightarrow{x} + b$<br>\n",
    "So we get a function that takes $\\overrightarrow{x}$ as parameter<br>\n",
    "$f(\\overrightarrow{x}) = g(\\overrightarrow{w}.\\overrightarrow{x} + b) = \\frac{1}{1 + e^{-(\\overrightarrow{w}.\\overrightarrow{x} + b)}}$"
   ]
  },
  {
   "cell_type": "code",
   "execution_count": 1,
   "id": "5e4e3359",
   "metadata": {},
   "outputs": [],
   "source": [
    "import numpy as np\n",
    "import pandas as pd\n",
    "import matplotlib.pyplot as plt\n",
    "import math, copy"
   ]
  },
  {
   "cell_type": "markdown",
   "id": "4007976b",
   "metadata": {},
   "source": [
    "Let's first define Sigmoid function"
   ]
  },
  {
   "cell_type": "code",
   "execution_count": 2,
   "id": "df9e1a81",
   "metadata": {},
   "outputs": [],
   "source": [
    "def sigmoid(z):\n",
    "    #z = np.clip(z, -500, 36.5)\n",
    "    return 1.0 / (1.0 + np.exp(-z))"
   ]
  },
  {
   "cell_type": "markdown",
   "id": "e2459e40",
   "metadata": {},
   "source": [
    "And the graph of sigmoid function will be like:"
   ]
  },
  {
   "cell_type": "code",
   "execution_count": 3,
   "id": "276f8ed6",
   "metadata": {},
   "outputs": [
    {
     "data": {
      "image/png": "[encoded data removed]",
      "text/plain": [
       "<Figure size 432x288 with 1 Axes>"
      ]
     },
     "metadata": {
      "needs_background": "light"
     },
     "output_type": "display_data"
    }
   ],
   "source": [
    "x = np.arange(-10, 10)\n",
    "plt.figure()\n",
    "plt.plot(x, [sigmoid(i) for i in x]);\n",
    "plt.title('Sigmoid Function');"
   ]
  },
  {
   "cell_type": "markdown",
   "id": "8a2f51f1",
   "metadata": {},
   "source": [
    "Definition of predict function"
   ]
  },
  {
   "cell_type": "code",
   "execution_count": 4,
   "id": "592a658b",
   "metadata": {},
   "outputs": [],
   "source": [
    "def predict(x, w, b):\n",
    "    return sigmoid(np.dot(x, w) + b)"
   ]
  },
  {
   "cell_type": "markdown",
   "id": "989e9821",
   "metadata": {},
   "source": [
    "Before diving in, let's have an example for our function"
   ]
  },
  {
   "cell_type": "code",
   "execution_count": 5,
   "id": "6c0bd7a7",
   "metadata": {},
   "outputs": [],
   "source": [
    "x1x2 = np.array([[0.5, 0.5], [0.9, -0.8], [0, 0.9], [0.876, 0], [0.894, 0.1], [-0.80, 0.5],\n",
    "                    [1, 1], [1.12, -1], [-1, 1.3], [-1.2, 1.1], [-1.14, -1], [-1, -1], [-1, 1]], dtype=np.longdouble)\n",
    "x_train = np.c_[x1x2[:, 0] ** 2, x1x2[:, 1] ** 2]\n",
    "y_train = np.array([0, 0, 0, 0, 0, 0, 1, 1, 1, 1, 1, 1, 1], dtype=np.longdouble)\n",
    "w = np.zeros_like(x_train[0]); b = 0"
   ]
  },
  {
   "cell_type": "code",
   "execution_count": 6,
   "id": "ca005bf4",
   "metadata": {},
   "outputs": [
    {
     "data": {
      "image/png": "[encoded data removed]",
      "text/plain": [
       "<Figure size 432x288 with 1 Axes>"
      ]
     },
     "metadata": {
      "needs_background": "light"
     },
     "output_type": "display_data"
    }
   ],
   "source": [
    "plt.figure()\n",
    "plt.scatter(x1x2[:6, 0], x1x2[:6, 1], marker='o', c='blue')\n",
    "plt.scatter(x1x2[6:, 0], x1x2[6:, 1], marker='x', c='red')\n",
    "ax = plt.gca()\n",
    "ax.set_xlim([-3, 3]);\n",
    "ax.set_ylim([-3, 3]);"
   ]
  },
  {
   "cell_type": "markdown",
   "id": "997e5539",
   "metadata": {},
   "source": [
    "## Cost function\n",
    "The cost function for Logistic regression is defined as <br>\n",
    "$\n",
    "\\displaystyle\n",
    "J(\\overrightarrow{w}, b) = \\frac{1}{m}\\sum_{i=1}^{m}Loss(f_{\\overrightarrow{w}, b}(\\overrightarrow{x}^{(i)}), y^{(i)})$\n",
    "<br><br>\n",
    "$\n",
    "\\begin{equation}\n",
    "Loss(f_{\\overrightarrow{w}, b}(\\overrightarrow{x}^{(i)}), y^{(i)}) = \n",
    "    \\begin{cases}\n",
    "        -log(f_{\\overrightarrow{w}, b}(\\overrightarrow{x}^{(i)})) & \\text{if} y^{(i)}=1\\\\\n",
    "        -log(1 - f_{\\overrightarrow{w}, b}(\\overrightarrow{x}^{(i)})) & \\text{if} y^{(i)}=0\\\\\n",
    "    \\end{cases}\n",
    "\\end{equation}\n",
    "$\n",
    "\n",
    "we can write our $Loss$ function in a simpler way<br>\n",
    "$\n",
    "\\begin{equation}\n",
    "    Loss(f_{\\overrightarrow{w}, b}(\\overrightarrow{x}^{(i)}), y^{(i)}) = -y^{(i)}log(f_{\\overrightarrow{w}, b}(\\overrightarrow{x}^{(i)})) - (1 - y^{(i)})log(1 - f_{\\overrightarrow{w}, b}(\\overrightarrow{x}^{(i)}))\n",
    "\\end{equation}\n",
    "$\n",
    "\n",
    "and so our cost function will be<br>\n",
    "$\n",
    "\\begin{equation}\n",
    "\\displaystyle\n",
    "    J(\\overrightarrow{w}, b) = -\\frac{1}{m}\\sum_{i=1}^{m}\\biggr[y^{(i)}log(f_{\\overrightarrow{w}, b}(\\overrightarrow{x}^{(i)})) + (1 - y^{(i)})log(1 - f_{\\overrightarrow{w}, b}(\\overrightarrow{x}^{(i)}))\\biggl]\n",
    "\\end{equation}\n",
    "$"
   ]
  },
  {
   "cell_type": "code",
   "execution_count": 7,
   "id": "a7386ad2",
   "metadata": {},
   "outputs": [],
   "source": [
    "def loss(x, y):\n",
    "    return -1 * (y * np.log(x) + (1 - y) * np.log(1 - x))"
   ]
  },
  {
   "cell_type": "code",
   "execution_count": 8,
   "id": "0614ce3e",
   "metadata": {},
   "outputs": [],
   "source": [
    "def cost(X, y, w, b):\n",
    "    err_sum = 0\n",
    "    m = X.shape[0]\n",
    "    for i in range(m):\n",
    "        err_sum = err_sum + loss(predict(X[i], w, b), y[i])\n",
    "    return err_sum / m"
   ]
  },
  {
   "cell_type": "code",
   "execution_count": 9,
   "id": "396b6a10",
   "metadata": {},
   "outputs": [
    {
     "name": "stdout",
     "output_type": "stream",
     "text": [
      "Current cost of our model is 0.6931471805599453\n"
     ]
    }
   ],
   "source": [
    "print(f'Current cost of our model is {cost(x_train, y_train, w, b)}')"
   ]
  },
  {
   "cell_type": "markdown",
   "id": "62909df2",
   "metadata": {},
   "source": [
    "## Gradient Descent\n",
    "This one is the same as Gradient Descent for Linear Regression<br>\n",
    "$\n",
    "\\bigg\\{\n",
    "\\begin{gather*}\n",
    "    w_j = w_j - \\alpha\\frac{d}{dw_j}J(\\overrightarrow{w}, b) & j\\dots n\\\\\n",
    "    b = b - \\alpha\\frac{d}{db}J(\\overrightarrow{w}, b)\n",
    "\\end{gather*}\n",
    "\\bigg\\}\n",
    "$\n",
    "<br>\n",
    "Also the derivatives are: <br>\n",
    "$\n",
    "\\begin{equation}\n",
    "\\displaystyle\n",
    "    \\frac{d}{dw_j}J(\\overrightarrow{w}, b) = \\frac{1}{m}\\sum_{i=1}^{m}\\bigg(\\big(f_{\\overrightarrow{w}, b}(\\overrightarrow{x}^{(i)}) - y^{(i)}\\big)x_{j}^{(i)}\\bigg)\\\\\n",
    "\\displaystyle\n",
    "    \\frac{d}{db}J(\\overrightarrow{w}, b) = \\frac{1}{m}\\sum_{i=1}^{m}\\bigg(f_{\\overrightarrow{w}, b}(\\overrightarrow{x}^{(i)}) - y^{(i)}\\bigg)\n",
    "\\end{equation}\n",
    "$"
   ]
  },
  {
   "cell_type": "code",
   "execution_count": 10,
   "id": "b8a6ec93",
   "metadata": {},
   "outputs": [],
   "source": [
    "def gradient(X, y, w, b):\n",
    "    m, n = X.shape\n",
    "    dj_dw = np.zeros(n)\n",
    "    dj_db = 0\n",
    "    for i in range(m):\n",
    "        err = predict(X[i], w, b) - y[i]\n",
    "        for j in range(n):\n",
    "            dj_dw[j] = dj_dw[j] + (err * X[i, j])\n",
    "        dj_db = dj_db + err\n",
    "    dj_dw = dj_dw / m\n",
    "    dj_db = dj_db / m\n",
    "    return dj_dw, dj_db"
   ]
  },
  {
   "cell_type": "code",
   "execution_count": 11,
   "id": "742f7f26",
   "metadata": {},
   "outputs": [],
   "source": [
    "def gradient_descent(X, y, init_w, init_b, alpha, cost_function, gradient_function, iterations=1000):\n",
    "    w = copy.deepcopy(init_w)\n",
    "    b = init_b\n",
    "    \n",
    "    for i in range(1, iterations + 1):\n",
    "        dj_dw, dj_db = gradient(X, y, w, b)\n",
    "        w = w - (alpha * dj_dw)\n",
    "        b = b - (alpha * dj_db)\n",
    "        \n",
    "        if i % 1000 == 0:\n",
    "            calced_cost = cost_function(X, y, w, b)\n",
    "            if str(calced_cost) != 'nan': print(f'i:{i} w={w} b={b} cost={calced_cost}')\n",
    "            else: print(f'i:{i} w={w} b={b} cost=Small number')\n",
    "    return w, b"
   ]
  },
  {
   "cell_type": "markdown",
   "id": "940e495d",
   "metadata": {},
   "source": [
    "Now let's define scale function to put our training data in [0, 1] interval"
   ]
  },
  {
   "cell_type": "code",
   "execution_count": 12,
   "id": "8b7566a4",
   "metadata": {},
   "outputs": [],
   "source": [
    "def scale(X):\n",
    "    x_scale = copy.deepcopy(X)\n",
    "    abs_max = np.abs(X).max()\n",
    "    x_scale = x_scale / abs_max\n",
    "    return x_scale, abs_max"
   ]
  },
  {
   "cell_type": "markdown",
   "id": "8185c918",
   "metadata": {},
   "source": [
    "## Train Data"
   ]
  },
  {
   "cell_type": "code",
   "execution_count": 13,
   "id": "91fcdd27",
   "metadata": {},
   "outputs": [
    {
     "name": "stdout",
     "output_type": "stream",
     "text": [
      "i:1000 w=[ 8.30982246 11.36373532] b=-9.206389749081165 cost=0.05249470084762162\n",
      "i:2000 w=[10.12244523 14.40478829] b=-11.682474665975782 cost=0.03341902925134448\n",
      "i:3000 w=[11.23984592 16.52144161] b=-13.329762944565127 cost=0.02491078345898751\n",
      "i:4000 w=[12.05462761 18.17596538] b=-14.583904561081702 cost=0.01991557026886604\n",
      "i:5000 w=[12.69655555 19.54038502] b=-15.60048775772819 cost=0.016599453703260162\n",
      "i:6000 w=[13.22598416 20.70298108] b=-16.456210180965442 cost=0.014230773099607425\n",
      "i:7000 w=[13.67620449 21.71629852] b=-17.19528821569231 cost=0.01245251872214201\n",
      "i:8000 w=[14.06760661 22.61447981] b=-17.84574905922937 cost=0.01106798545953019\n",
      "i:9000 w=[14.41360727 23.4210677 ] b=-18.426545725724704 cost=0.00995939887365894\n",
      "i:10000 w=[14.72351124 24.15301999] b=-18.951118428384433 cost=0.009051786908179031\n",
      "i:11000 w=[15.00403754 24.82297087] b=-19.42935361160901 cost=0.008295105756287696\n",
      "i:12000 w=[15.26019634 25.44059186] b=-19.868739430683974 cost=0.007654657087784526\n",
      "i:13000 w=[15.49582271 26.01345366] b=-20.275085123537874 cost=0.007105619019747979\n",
      "i:14000 w=[15.71391699 26.54759466] b=-20.652988700157426 cost=0.0066297637104965786\n",
      "i:15000 w=[15.91687019 27.04790892] b=-21.00615203447525 cost=0.006213403691112661\n",
      "i:16000 w=[16.1066182 27.5184183] b=-21.337599593662773 cost=0.005846061178564395\n",
      "i:17000 w=[16.28475011 27.96246817] b=-21.649834199036462 cost=0.005519579627950882\n",
      "i:18000 w=[16.45258613 28.38287112] b=-21.94495042005187 cost=0.00522751495001935\n",
      "i:19000 w=[16.61123489 28.78201435] b=-22.224718732353693 cost=0.004964708767595494\n",
      "i:20000 w=[16.76163619 29.16194131] b=-22.490649049418142 cost=0.004726983205204164\n",
      "i:21000 w=[16.90459351 29.52441466] b=-22.744039414465703 cost=0.004510918657531028\n",
      "i:22000 w=[17.04079911 29.87096545] b=-22.986013828238775 cost=0.004313689358219108\n",
      "i:23000 w=[17.17085354 30.20293193] b=-23.217551997909588 cost=0.004132939940610653\n",
      "i:24000 w=[17.29528115 30.52149063] b=-23.439512993008222 cost=0.003966691545823033\n",
      "i:25000 w=[17.41454237 30.8276814 ] b=-23.652654246938116 cost=0.003813269545189423\n",
      "i:26000 w=[17.5290437  31.12242774] b=-23.857646961287372 cost=0.003671247288168234\n",
      "i:27000 w=[17.63914574 31.40655356] b=-24.05508870015899 cost=0.0035394018793858803\n",
      "i:28000 w=[17.74516988 31.68079696] b=-24.24551376780966 cost=0.0034166790880680305\n",
      "i:29000 w=[17.84740371 31.94582178] b=-24.429401821712062 cost=0.0033021652636648262\n",
      "i:30000 w=[17.94610565 32.20222717] b=-24.607185069117023 cost=0.0031950646788725134\n",
      "i:31000 w=[18.04150867 32.45055579] b=-24.77925431764776 cost=0.0030946811150660866\n",
      "i:32000 w=[18.1338236  32.69130065] b=-24.945964092047372 cost=0.0030004027918183345\n",
      "i:33000 w=[18.22324176 32.924911  ] b=-25.10763698477438 cost=0.0029116899531240986\n",
      "i:34000 w=[18.30993737 33.15179735] b=-25.264567374037966 cost=0.00282806457977387\n",
      "i:35000 w=[18.39406945 33.37233579] b=-25.417024616461948 cost=0.002749101815011377\n",
      "i:36000 w=[18.47578355 33.58687174] b=-25.565255800965776 cost=0.0026744227797337924\n",
      "i:37000 w=[18.55521327 33.79572321] b=-25.70948813425116 cost=0.0026036885215447603\n",
      "i:38000 w=[18.63248146 33.99918358] b=-25.849931015457088 cost=0.0025365948943459125\n",
      "i:39000 w=[18.7077014  34.19752413] b=-25.986777847322756 cost=0.0024728682057625906\n",
      "i:40000 w=[18.78097772 34.39099616] b=-26.12020762299811 cost=0.0024122615014085438\n",
      "i:41000 w=[18.85240728 34.57983294] b=-26.25038632102524 cost=0.002354551379919379\n",
      "i:42000 w=[18.92207992 34.76425137] b=-26.377468135644694 cost=0.0022995352523980297\n",
      "i:43000 w=[18.99007911 34.94445346] b=-26.501596565203073 cost=0.0022470289756020513\n",
      "i:44000 w=[19.05648254 35.12062772] b=-26.622905377845797 cost=0.0021968648007584623\n",
      "i:45000 w=[19.12136264 35.29295028] b=-26.74151947072188 cost=0.0021488895899884277\n",
      "i:46000 w=[19.18478704 35.46158597] b=-26.85755563647916 cost=0.0021029632604939127\n",
      "i:47000 w=[19.24681898 35.62668927] b=-26.97112324879368 cost=0.0020589574232948394\n",
      "i:48000 w=[19.30751771 35.78840515] b=-27.082324876977346 cost=0.0020167541887265443\n",
      "i:49000 w=[19.36693878 35.94686985] b=-27.19125683828437 cost=0.0019762451153502803\n",
      "i:50000 w=[19.42513435 36.10221154] b=-27.298009695340426 cost=0.0019373302825907586\n",
      "i:51000 w=[19.48215347 36.25455098] b=-27.402668705106073 cost=0.0018999174704441213\n",
      "i:52000 w=[19.53804233 36.40400204] b=-27.505314224928878 cost=0.0018639214321110073\n",
      "i:53000 w=[19.59284444 36.55067225] b=-27.606022080510996 cost=0.0018292632475069971\n",
      "i:54000 w=[19.64660088 36.69466323] b=-27.704863899997125 cost=0.0017958697473526475\n",
      "i:55000 w=[19.69935045 36.83607115] b=-27.801907417856135 cost=0.001763672999018931\n",
      "i:56000 w=[19.75112983 36.97498709] b=-27.897216751773644 cost=0.0017326098465394767\n",
      "i:57000 w=[19.80197374 37.1114974 ] b=-27.990852655380102 cost=0.0017026214982509187\n",
      "i:58000 w=[19.85191509 37.245684  ] b=-28.082872749299543 cost=0.0016736531564063512\n",
      "i:59000 w=[19.90098508 37.37762472] b=-28.17333173271296 cost=0.0016456536838634086\n",
      "i:60000 w=[19.94921334 37.50739353] b=-28.262281577372647 cost=0.0016185753035900642\n",
      "i:61000 w=[19.996628   37.63506081] b=-28.349771705786768 cost=0.0015923733272795776\n",
      "i:62000 w=[20.04325583 37.76069359] b=-28.43584915509644 cost=0.0015670059098393842\n",
      "i:63000 w=[20.08912229 37.88435572] b=-28.52055872800283 cost=0.001542433826922045\n",
      "i:64000 w=[20.13425165 38.00610809] b=-28.603943131951407 cost=0.001518620273013198\n",
      "i:65000 w=[20.17866701 38.12600884] b=-28.686043107653386 cost=0.0014955306778977621\n",
      "i:66000 w=[20.22239044 38.24411347] b=-28.766897547907895 cost=0.0014731325395795473\n",
      "i:67000 w=[20.26544298 38.36047504] b=-28.846543607591126 cost=0.00145139527196132\n",
      "i:68000 w=[20.30784475 38.47514426] b=-28.925016805587596 cost=0.001430290065786101\n",
      "i:69000 w=[20.34961496 38.5881697 ] b=-29.002351119361343 cost=0.0014097897615118022\n",
      "i:70000 w=[20.390772   38.69959784] b=-29.078579072796032 cost=0.001389868732942875\n",
      "i:71000 w=[20.43133348 38.80947323] b=-29.15373181786959 cost=0.0013705027805705043\n",
      "i:72000 w=[20.47131624 38.91783858] b=-29.227839210675736 cost=0.001351669033691755\n",
      "i:73000 w=[20.51073644 39.02473487] b=-29.300929882255303 cost=0.0013333458604743546\n",
      "i:74000 w=[20.54960957 39.13020141] b=-29.373031304656646 cost=0.001315512785225603\n",
      "i:75000 w=[20.58795048 39.23427597] b=-29.44416985260487 cost=0.0012981504122021048\n",
      "i:76000 w=[20.62577344 39.33699484] b=-29.51437086112625 cost=0.0012812403553635525\n",
      "i:77000 w=[20.66309215 39.43839292] b=-29.583658679441267 cost=0.0012647651735375994\n",
      "i:78000 w=[20.69991978 39.53850377] b=-29.652056721412603 cost=0.0012487083105155177\n",
      "i:79000 w=[20.73626899 39.63735967] b=-29.71958751280885 cost=0.0012330540396469918\n",
      "i:80000 w=[20.77215194 39.73499173] b=-29.78627273562202 cost=0.0012177874125444074\n",
      "i:81000 w=[20.80758038 39.8314299 ] b=-29.85213326965644 cost=0.0012028942115458433\n",
      "i:82000 w=[20.84256557 39.92670305] b=-29.917189231587795 cost=0.0011883609056191438\n",
      "i:83000 w=[20.87711839 40.02083902] b=-29.98146001167529 cost=0.0011741746094203014\n",
      "i:84000 w=[20.91124933 40.11386464] b=-30.04496430829358 cost=0.0011603230452456306\n",
      "i:85000 w=[20.94496849 40.20580584] b=-30.107720160437786 cost=0.001146794507642632\n",
      "i:86000 w=[20.9782856  40.29668762] b=-30.169744978343285 cost=0.0011335778304644448\n",
      "i:87000 w=[21.01121008 40.38653413] b=-30.23105557234935 cost=0.0011206623561740895\n",
      "i:88000 w=[21.04375101 40.47536873] b=-30.29166818012634 cost=0.0011080379072212513\n",
      "i:89000 w=[21.07591716 40.56321396] b=-30.351598492376368 cost=0.0010956947593295868\n",
      "i:90000 w=[21.10771699 40.65009164] b=-30.410861677108937 cost=0.0010836236165479491\n",
      "i:91000 w=[21.13915872 40.73602287] b=-30.46947240258572 cost=0.0010718155879318515\n",
      "i:92000 w=[21.17025024 40.82102806] b=-30.52744485902006 cost=0.0010602621657299473\n",
      "i:93000 w=[21.20099923 40.90512699] b=-30.584792779112657 cost=0.0010489552049665586\n",
      "i:94000 w=[21.23141309 40.98833877] b=-30.641529457496397 cost=0.0010378869043146672\n",
      "i:95000 w=[21.26149901 41.07068196] b=-30.69766776915964 cost=0.001027049788166205\n",
      "i:96000 w=[21.29126393 41.15217452] b=-30.753220186911957 cost=0.0010164366898133648\n",
      "i:97000 w=[21.32071459 41.23283385] b=-30.808198797950507 cost=0.00100604073566077\n",
      "i:98000 w=[21.3498575  41.31267683] b=-30.862615319582943 cost=0.0009958553303961184\n",
      "i:99000 w=[21.37869899 41.39171984] b=-30.91648111415735 cost=0.000985874143051788\n",
      "i:100000 w=[21.40724519 41.46997877] b=-30.96980720324683 cost=0.0009760910938958456\n"
     ]
    }
   ],
   "source": [
    "x_scale, abs_max = scale(x_train)\n",
    "w_out, b_out = gradient_descent(x_scale, y_train, w, b, 1, cost, gradient, 100000)"
   ]
  },
  {
   "cell_type": "markdown",
   "id": "01d9e303",
   "metadata": {},
   "source": [
    "### Trying to predict\n",
    "When we have a point on or outside of the circle with radius 1 and C(0, 0) we should get 1 and zero otherwise"
   ]
  },
  {
   "cell_type": "code",
   "execution_count": 14,
   "id": "20001b73",
   "metadata": {
    "scrolled": true
   },
   "outputs": [
    {
     "data": {
      "text/plain": [
       "0.3029295411225904"
      ]
     },
     "execution_count": 14,
     "metadata": {},
     "output_type": "execute_result"
    }
   ],
   "source": [
    "x_test = np.array([.9, -.9]) ** 2\n",
    "x_test = x_test / abs_max\n",
    "predict(x_test, w_out, b_out)"
   ]
  },
  {
   "cell_type": "markdown",
   "id": "c49206f4",
   "metadata": {},
   "source": [
    "## Another example\n",
    "In this example we use only one feature"
   ]
  },
  {
   "cell_type": "code",
   "execution_count": 15,
   "id": "c396a8fb",
   "metadata": {},
   "outputs": [],
   "source": [
    "x_train = np.array([0, 1, 2, 3, 3.5, 5, 6, 7, 8, 9], dtype=np.longdouble)\n",
    "y_train = np.array([0, 0, 0, 0, 1, 1, 1, 1, 1, 1], dtype=np.longdouble)\n",
    "x_train = x_train.reshape((-1, 1))\n",
    "alpha = 0.1\n",
    "x_scale, abs_max = scale(x_train)\n",
    "w = np.zeros_like(x_train[0], dtype=np.longdouble)"
   ]
  },
  {
   "cell_type": "code",
   "execution_count": 16,
   "id": "f379384e",
   "metadata": {},
   "outputs": [
    {
     "data": {
      "image/png": "[encoded data removed]",
      "text/plain": [
       "<Figure size 432x288 with 1 Axes>"
      ]
     },
     "metadata": {
      "needs_background": "light"
     },
     "output_type": "display_data"
    }
   ],
   "source": [
    "plt.scatter(x_scale[:4], y_train[:4], marker='o')\n",
    "plt.scatter(x_scale[4:], y_train[4:], c='red', marker='x', linewidths=1);"
   ]
  },
  {
   "cell_type": "code",
   "execution_count": 17,
   "id": "bcf4ee9b",
   "metadata": {},
   "outputs": [
    {
     "name": "stdout",
     "output_type": "stream",
     "text": [
      "i:1000 w=[11.40284865] b=-4.201595713146906 cost=0.14932444898238076\n",
      "i:2000 w=[14.75735041] b=-5.4139274249058635 cost=0.12334594814242035\n",
      "i:3000 w=[17.06802309] b=-6.238839111578875 cost=0.11123300680799922\n",
      "i:4000 w=[18.9149643] b=-6.895895926079552 cost=0.10352648819614226\n",
      "i:5000 w=[20.49356056] b=-7.457056363359226 cost=0.09790466590095112\n",
      "i:6000 w=[21.89500947] b=-7.955401097132316 cost=0.09347601901066256\n",
      "i:7000 w=[23.16969605] b=-8.40902039795639 cost=0.08981276243597751\n",
      "i:8000 w=[24.34855072] b=-8.828936820851037 cost=0.08667948962640029\n",
      "i:9000 w=[25.45199238] b=-9.222385627539925 cost=0.08393395107007118\n",
      "i:10000 w=[26.49423915] b=-9.594382513814608 cost=0.08148412011048761\n",
      "i:11000 w=[27.48560475] b=-9.948552994556621 cost=0.07926728017833448\n",
      "i:12000 w=[28.4338171] b=-10.287605962053973 cost=0.07723889749648906\n",
      "i:13000 w=[29.34482133] b=-10.613620670583009 cost=0.07536627941426834\n",
      "i:14000 w=[30.22329234] b=-10.92822918304224 cost=0.073624755618275\n",
      "i:15000 w=[31.07297498] b=-11.232737014256157 cost=0.07199527235560158\n",
      "i:16000 w=[31.89691721] b=-11.528205576870066 cost=0.07046281858418393\n",
      "i:17000 w=[32.69763447] b=-11.81551012042834 cost=0.06901536291012597\n",
      "i:18000 w=[33.47722823] b=-12.095381437542516 cost=0.06764311555009657\n",
      "i:19000 w=[34.23747333] b=-12.368436517184723 cost=0.06633800359010499\n",
      "i:20000 w=[34.97988349] b=-12.635201489010576 cost=0.06509329003102919\n",
      "i:21000 w=[35.70576122] b=-12.896129076011398 cost=0.06390329208014413\n",
      "i:22000 w=[36.41623639] b=-13.151612061008848 cost=0.06276316939383202\n",
      "i:23000 w=[37.11229645] b=-13.40199381099342 cost=0.06166876255240823\n",
      "i:24000 w=[37.79481027] b=-13.647576597069557 cost=0.06061646821564941\n",
      "i:25000 w=[38.4645473] b=-13.888628240299244 cost=0.059603141470823275\n",
      "i:26000 w=[39.12219299] b=-14.125387470515564 cost=0.058626018616916076\n",
      "i:27000 w=[39.76836133] b=-14.358068284618126 cost=0.05768265549973679\n",
      "i:28000 w=[40.40360516] b=-14.586863519146164 cost=0.05677087781571142\n",
      "i:29000 w=[41.0284247] b=-14.81194780005259 cost=0.055888740723860256\n",
      "i:30000 w=[41.64327461] b=-15.033479994588555 cost=0.0550344957665995\n",
      "i:31000 w=[42.24856993] b=-15.251605262013447 cost=0.0542065635804919\n",
      "i:32000 w=[42.84469108] b=-15.466456778700714 cost=0.05340351123146554\n",
      "i:33000 w=[43.43198806] b=-15.67815719718888 cost=0.05262403327184998\n",
      "i:34000 w=[44.01078404] b=-15.886819886471223 cost=0.051866935814083345\n",
      "i:35000 w=[44.58137846] b=-16.09254999135776 cost=0.051131123065802045\n",
      "i:36000 w=[45.14404962] b=-16.295445341383545 cost=0.05041558588573412\n",
      "i:37000 w=[45.69905699] b=-16.49559723396275 cost=0.04971939200838586\n",
      "i:38000 w=[46.24664313] b=-16.693091111927746 cost=0.04904167765441632\n",
      "i:39000 w=[46.78703545] b=-16.888007151967706 cost=0.048381640297599726\n",
      "i:40000 w=[47.32044765] b=-17.080420777574073 cost=0.04773853240191538\n",
      "i:41000 w=[47.84708102] b=-17.270403107767425 cost=0.04711165597615258\n",
      "i:42000 w=[48.36712565] b=-17.45802135098325 cost=0.04650035782050057\n",
      "i:43000 w=[48.88076133] b=-17.64333915195688 cost=0.045904025361341826\n",
      "i:44000 w=[49.38815854] b=-17.82641689818461 cost=0.04532208298805937\n",
      "i:45000 w=[49.88947916] b=-18.0073119915033 cost=0.04475398881996485\n",
      "i:46000 w=[50.38487721] b=-18.18607908947453 cost=0.044199231843115264\n",
      "i:47000 w=[50.87449947] b=-18.36277032055009 cost=0.043657329366365225\n",
      "i:48000 w=[51.35848604] b=-18.537435476404884 cost=0.04312782475388783\n",
      "i:49000 w=[51.8369708] b=-18.710122184329215 cost=0.04261028539792305\n",
      "i:50000 w=[52.31008191] b=-18.880876062159405 cost=0.04210430090093541\n"
     ]
    }
   ],
   "source": [
    "w_out, b_out = gradient_descent(x_scale, y_train, w, 0, 0.5, cost, gradient, 50000)"
   ]
  },
  {
   "cell_type": "code",
   "execution_count": 18,
   "id": "a7ac09df",
   "metadata": {},
   "outputs": [
    {
     "data": {
      "image/png": "[encoded data removed]",
      "text/plain": [
       "<Figure size 432x288 with 1 Axes>"
      ]
     },
     "metadata": {
      "needs_background": "light"
     },
     "output_type": "display_data"
    }
   ],
   "source": [
    "plt.scatter(x_scale[:4], y_train[:4], marker='o')\n",
    "plt.scatter(x_scale[4:], y_train[4:], c='red', marker='x', linewidths=1);\n",
    "y_out = [predict(i, w_out, b_out) for i in x_scale]\n",
    "plt.plot(x_scale, y_out)\n",
    "\n",
    "x_num = np.linspace(x_scale.min(), x_scale.max(), 10)\n",
    "x_num_out = w_out * x_num + b_out\n",
    "plt.plot(x_num, x_num_out)\n",
    "ax = plt.gca()\n",
    "ax.set_ylim([-0.06, 1.06]);"
   ]
  },
  {
   "cell_type": "markdown",
   "id": "4ea5bad6",
   "metadata": {},
   "source": [
    "The end."
   ]
  }
 ],
 "metadata": {
  "kernelspec": {
   "display_name": "Python 3 (ipykernel)",
   "language": "python",
   "name": "python3"
  },
  "language_info": {
   "codemirror_mode": {
    "name": "ipython",
    "version": 3
   },
   "file_extension": ".py",
   "mimetype": "text/x-python",
   "name": "python",
   "nbconvert_exporter": "python",
   "pygments_lexer": "ipython3",
   "version": "3.10.4"
  }
 },
 "nbformat": 4,
 "nbformat_minor": 5
}
