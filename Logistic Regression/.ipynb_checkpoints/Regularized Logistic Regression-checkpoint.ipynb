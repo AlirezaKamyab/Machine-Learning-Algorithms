{
 "cells": [
  {
   "cell_type": "markdown",
   "id": "f4b02ca8",
   "metadata": {},
   "source": [
    "# Regularized Logistic Regression\n",
    "## Function\n",
    "For the definition of the function first we have to define the Segmoid function. <br>\n",
    "$\n",
    "\\begin{equation}\n",
    "\\displaystyle\n",
    "    Sigmoid(z) = \\frac{1}{1 + e^{-z}}\n",
    "\\end{equation}\n",
    "$\n",
    "<br>\n",
    "The function of the Logistic regression is :\n",
    "$\n",
    "\\begin{equation}\n",
    "\\displaystyle\n",
    "    f_{\\overrightarrow{w}, b}(\\overrightarrow{x}) = Sigmoid(\\overrightarrow{w}.\\overrightarrow{x} + b) = \\frac{1}{1 + e^{-(\\overrightarrow{w}.\\overrightarrow{x} + b)}}\n",
    "\\end{equation}\n",
    "$"
   ]
  },
  {
   "cell_type": "code",
   "execution_count": 1,
   "id": "080a046d",
   "metadata": {},
   "outputs": [],
   "source": [
    "import numpy as np\n",
    "import matplotlib.pyplot as plt\n",
    "import copy\n",
    "import pandas as pd"
   ]
  },
  {
   "cell_type": "code",
   "execution_count": 2,
   "id": "2fe19f5c",
   "metadata": {},
   "outputs": [],
   "source": [
    "def segmoid(z):\n",
    "    return 1.0 / (1.0 + np.exp(-z))"
   ]
  },
  {
   "cell_type": "code",
   "execution_count": 3,
   "id": "e61d3087",
   "metadata": {},
   "outputs": [],
   "source": [
    "def predict(x, w, b):\n",
    "    return segmoid(np.dot(x, w) + b)"
   ]
  },
  {
   "cell_type": "markdown",
   "id": "e8d898ac",
   "metadata": {},
   "source": [
    "## Cost function\n",
    "The cost function is the average loss for each training input + the regularization term. Implementation of the cost function requires the definition of $Loss$ function which is: <br>\n",
    "$\n",
    "\\begin{equation}\n",
    "\\displaystyle\n",
    "    Loss(f_{\\overrightarrow{w}, b}(\\overrightarrow{x}^{(i)}), y^{(i)}) = -y^{(i)} log\\big(f_{\\overrightarrow{w}, b}(\\overrightarrow{x}^{(i)})\\big) - (1 - y^{(i)}) log\\big(1 - f_{\\overrightarrow{w}, b}(\\overrightarrow{x}^{(i)})\\big)\n",
    "\\end{equation}\n",
    "$\n",
    "<br>\n",
    "The cost function is defined as such:<br>\n",
    "$\n",
    "\\begin{equation}\n",
    "\\displaystyle\n",
    "    J(\\overrightarrow{w}, b) = \\bigg(\\frac{1}{m}\\sum_{i=1}^{m}Loss\\big(f_{\\overrightarrow{w}, b}(\\overrightarrow{x}^{(i)}), y^{(i)}\\big)\\bigg) + \\frac{\\lambda}{2m}\\sum_{j=1}^{n}w_{j}\n",
    "\\end{equation}\n",
    "$\n",
    "<br>\n",
    "**$\\lambda$ is regularization parameter** <br>\n",
    "**$m$ and $n$ are number of rows(entries) and columns(features) respectively**"
   ]
  },
  {
   "cell_type": "code",
   "execution_count": 4,
   "id": "df108034",
   "metadata": {},
   "outputs": [],
   "source": [
    "def loss(fwb_i, y):\n",
    "    return -y * np.log(fwb_i) - (1 - y) * np.log(1 - fwb_i)"
   ]
  },
  {
   "cell_type": "code",
   "execution_count": 5,
   "id": "0a25f705",
   "metadata": {},
   "outputs": [],
   "source": [
    "def cost(X, y, w, b, lambda_ = 0):\n",
    "    m, n = X.shape\n",
    "    loss_sum = 0\n",
    "    for i in range(m):\n",
    "        loss_sum += loss(predict(X[i], w, b), y[i])\n",
    "    total_cost = loss_sum / m\n",
    "    \n",
    "    reg_sum = 0\n",
    "    for j in range(n):\n",
    "        reg_sum += w[j]\n",
    "    total_cost += (lambda_ / (2 * m)) * reg_sum\n",
    "    return total_cost"
   ]
  },
  {
   "cell_type": "markdown",
   "id": "4f7c8c14",
   "metadata": {},
   "source": [
    "## Gradient Descent\n",
    "We take the derivative of the cost function until it converges<br>\n",
    "$\n",
    "\\begin{equation}\n",
    "\\displaystyle\n",
    "    \\text{Until converges}\n",
    "    \\begin{cases}\n",
    "        w_j = w_j - \\alpha\\frac{d}{dw_j}J(\\overrightarrow{w}, b)\\\\\n",
    "        b = b - \\alpha\\frac{d}{db}J(\\overrightarrow{w}, b)\n",
    "    \\end{cases}\n",
    "\\end{equation}\n",
    "$\n",
    "<br>\n",
    "The derivative of terms are: <br>\n",
    "$\n",
    "\\begin{equation}\n",
    "\\displaystyle\n",
    "    \\frac{d}{dw_j}J(\\overrightarrow{w}, b) = \\bigg(\\frac{1}{m}\\sum_{i=1}^{m}\\big(f_{\\overrightarrow{w}, b}(\\overrightarrow{x}^{(i)}) - y^{(i)}\\big)x_{j}^{(i)}\\bigg) + \\frac{\\lambda}{m}w_j\\\\\n",
    "\\displaystyle\n",
    "    \\frac{d}{db}J(\\overrightarrow{w}, b) = \\frac{1}{m}\\sum_{i=1}^{m}\\big(f_{\\overrightarrow{w}, b}(\\overrightarrow{x}^{(i)}) - y^{(i)}\\big)\n",
    "\\end{equation}\n",
    "$"
   ]
  },
  {
   "cell_type": "code",
   "execution_count": 6,
   "id": "5b7286b6",
   "metadata": {},
   "outputs": [],
   "source": [
    "def gradient(X, y, w, b, lambda_ = 0):\n",
    "    m, n = X.shape\n",
    "    dj_dw = np.zeros(n)\n",
    "    dj_db = 0\n",
    "    \n",
    "    for i in range(m):\n",
    "        err = predict(X[i], w, b) - y[i]\n",
    "        for j in range(n):\n",
    "            dj_dw[j] = dj_dw[j] + err * X[i][j]\n",
    "        dj_db += err\n",
    "    dj_dw = dj_dw / m\n",
    "    dj_db = dj_db / m\n",
    "    \n",
    "    for j in range(n):\n",
    "        dj_dw[j] += (lambda_ / m) * w[j]\n",
    "    \n",
    "    return dj_dw, dj_db"
   ]
  },
  {
   "cell_type": "code",
   "execution_count": 7,
   "id": "e04871da",
   "metadata": {},
   "outputs": [],
   "source": [
    "def gradient_descent(X, y, init_w, init_b, alpha, cost_function, gradient_function, iterations = 1000, lambda_ = 0):\n",
    "    w = copy.deepcopy(init_w)\n",
    "    b = init_b\n",
    "    \n",
    "    for i in range(1, iterations + 1):\n",
    "        dj_dw, dj_db = gradient_function(X, y, w, b, lambda_)\n",
    "        w = w - alpha * dj_dw\n",
    "        b = b - alpha * dj_db\n",
    "        \n",
    "        if i % 1000 == 0:\n",
    "            print(f'i: {i} w={w} b={b} cost={cost_function(X, y, w, b)}')\n",
    "    return w, b"
   ]
  },
  {
   "cell_type": "markdown",
   "id": "8755398a",
   "metadata": {},
   "source": [
    "## Scale\n",
    "Scaling data to be between 0 and 1 helps alot to train the data better<br>\n",
    "$\n",
    "\\begin{equation}\n",
    "\\displaystyle\n",
    "    \\overrightarrow{x} = \\frac{\\overrightarrow{x}}{max_{\\overrightarrow{x}}}\n",
    "\\end{equation}\n",
    "$"
   ]
  },
  {
   "cell_type": "code",
   "execution_count": 8,
   "id": "80c74e34",
   "metadata": {},
   "outputs": [],
   "source": [
    "def scale(X):\n",
    "    abs_max = np.max(np.abs(X), axis=0)\n",
    "    x_scale = X / abs_max\n",
    "    return x_scale, abs_max"
   ]
  },
  {
   "cell_type": "markdown",
   "id": "f2d1bb3f",
   "metadata": {},
   "source": [
    "## Calculate the accuracy\n",
    "With specification of a threshold we can choose either 1 or 0 to be the actual outcome of the prediction"
   ]
  },
  {
   "cell_type": "code",
   "execution_count": 9,
   "id": "b8db6552",
   "metadata": {},
   "outputs": [],
   "source": [
    "def calc_accuracy(X, y, w_out, b_out, threshold=0.5):\n",
    "    correct = 0\n",
    "    m, n = X.shape\n",
    "    for i in range(m):\n",
    "        prediction = predict(X[i], w_out, b_out)\n",
    "        if prediction >= threshold and y[i] == 1: correct += 1\n",
    "        elif prediction < threshold and y[i] == 0: correct += 1\n",
    "    return correct / m"
   ]
  },
  {
   "cell_type": "markdown",
   "id": "fb0efdc3",
   "metadata": {},
   "source": [
    "## Plot\n",
    "With contour plot, we are able to plot the decision boundry"
   ]
  },
  {
   "cell_type": "code",
   "execution_count": 10,
   "id": "d96620a5",
   "metadata": {},
   "outputs": [],
   "source": [
    "def plot_data(X, points = 0.1):\n",
    "    min1, max1 = X[:, 0].min() - 1, X[:, 1].max() + 1\n",
    "    min2, max2 = X[:, 1].min() - 1, X[:, 1].max() + 1\n",
    "    x1grid = np.arange(min1, max1, points)\n",
    "    x2grid = np.arange(min2, max2, points)\n",
    "    xx, yy = np.meshgrid(x1grid, x2grid)\n",
    "    r1, r2 = xx.flatten(), yy.flatten()\n",
    "    r1, r2 = np.reshape(r1, (-1, 1)), np.reshape(r2, (-1, 1))\n",
    "    x_grid = np.hstack((r1, r2))\n",
    "    \n",
    "    return xx, yy, x_grid"
   ]
  },
  {
   "cell_type": "markdown",
   "id": "660a7863",
   "metadata": {},
   "source": [
    "## Training and Example\n",
    "Let's try the algorithm for finding the chance of admission the could get"
   ]
  },
  {
   "cell_type": "code",
   "execution_count": 11,
   "id": "270830e1",
   "metadata": {},
   "outputs": [],
   "source": [
    "n_0 = 200; n_1 = 200\n",
    "r = 9\n",
    "\n",
    "x1 = np.random.random_sample(n_0)\n",
    "x1 = x1 * 2 * r - r\n",
    "temp1 = np.random.random_sample(int(np.ceil(n_1 / 2)))\n",
    "temp1 = ((temp1 * 100) % 2 * r) + r\n",
    "temp2 = np.random.random_sample(int(np.floor(n_1 / 2)))\n",
    "temp2 = -(((temp2 * 100) % 2 * r) + r)\n",
    "temp1 = np.concatenate((temp1, temp2), axis=0)\n",
    "np.random.shuffle(temp1)\n",
    "x1 = np.concatenate([x1, temp1], axis=0)\n",
    "x1 = x1.astype(np.longdouble)"
   ]
  },
  {
   "cell_type": "code",
   "execution_count": 12,
   "id": "afcc959e",
   "metadata": {},
   "outputs": [],
   "source": [
    "x2 = np.random.random_sample(n_0)\n",
    "x2 = x2 * 2 * r - r\n",
    "temp1 = np.random.random_sample(int(np.ceil(n_1 / 2)))\n",
    "temp1 = ((temp1 * 100) % r * 2) + r\n",
    "temp2 = np.random.random_sample(int(np.floor(n_1 / 2)))\n",
    "temp2 = -(((temp2 * 100) % 2 * r) + r)\n",
    "temp1 = np.concatenate((temp1, temp2), axis=0)\n",
    "np.random.shuffle(temp1)\n",
    "x2 = np.concatenate((x2, temp1), axis=0)\n",
    "x2 = x2.astype(np.longdouble)"
   ]
  },
  {
   "cell_type": "code",
   "execution_count": 13,
   "id": "b7824a05",
   "metadata": {},
   "outputs": [],
   "source": [
    "x_train = np.c_[x1 ** 2, x2 ** 2]\n",
    "y_train = np.array([0 if i < n_0 else 1 for i in range(n_0 + n_1)])"
   ]
  },
  {
   "cell_type": "code",
   "execution_count": 14,
   "id": "00822e60",
   "metadata": {},
   "outputs": [
    {
     "data": {
      "image/png": "[encoded data removed]",
      "text/plain": [
       "<Figure size 432x288 with 1 Axes>"
      ]
     },
     "metadata": {
      "needs_background": "light"
     },
     "output_type": "display_data"
    }
   ],
   "source": [
    "plt.figure()\n",
    "plt.scatter(x1[:n_0], x2[:n_0], c='red', label='y=0')\n",
    "plt.scatter(x1[n_0:], x2[n_0:], c='orange', label='y=1')\n",
    "ax = plt.gca()\n",
    "ax.set_xlim([-3 * r, 3 * r])\n",
    "ax.set_ylim([-3 * r, 3 * r])\n",
    "ax.set_xlabel('$x_1$')\n",
    "ax.set_ylabel('$x_2$');\n",
    "ax.legend();"
   ]
  },
  {
   "cell_type": "code",
   "execution_count": 15,
   "id": "79b77525",
   "metadata": {},
   "outputs": [
    {
     "name": "stdout",
     "output_type": "stream",
     "text": [
      "i: 1000 w=[11.3575723  11.19528812] b=-3.957145969392563 cost=0.055803876477513566\n",
      "i: 2000 w=[14.38708997 14.29761696] b=-4.738949385548261 cost=0.035942297882105984\n",
      "i: 3000 w=[16.39106146 16.35196876] b=-5.2492941396821555 cost=0.02737389431722524\n",
      "i: 4000 w=[17.9186666  17.91002521] b=-5.635823030574111 cost=0.02244168172839285\n",
      "i: 5000 w=[19.16477643 19.17242208] b=-5.9495881257428564 cost=0.019187979074192795\n",
      "i: 6000 w=[20.22311732 20.23708583] b=-6.214990631620647 cost=0.016859676284240243\n",
      "i: 7000 w=[21.14649315 21.15966201] b=-6.445743713888975 cost=0.01510033648795538\n",
      "i: 8000 w=[21.96777372 21.97495708] b=-6.650368676601255 cost=0.013717883137019297\n",
      "i: 9000 w=[22.70889096 22.70625198] b=-6.834541322362098 cost=0.012599050853686778\n",
      "i: 10000 w=[23.38524984 23.36991318] b=-7.002240828799014 cost=0.0116724472256181\n"
     ]
    }
   ],
   "source": [
    "x_scale, amax = scale(x_train)\n",
    "w_in = np.zeros_like(x_train[0])\n",
    "b_in = 0\n",
    "w_out, b_out = gradient_descent(x_scale, y_train, w_in, b_in, 1, cost, gradient, 10000)"
   ]
  },
  {
   "cell_type": "code",
   "execution_count": 16,
   "id": "e3cc75b5",
   "metadata": {},
   "outputs": [
    {
     "name": "stdout",
     "output_type": "stream",
     "text": [
      "The accuracy is 1.0\n"
     ]
    }
   ],
   "source": [
    "print(f'The accuracy is {calc_accuracy(x_scale, y_train, w_out, b_out, 0.5)}')"
   ]
  },
  {
   "cell_type": "markdown",
   "id": "8f92f7e2",
   "metadata": {},
   "source": [
    "### Plotting the model\n",
    "Below is a plot of the model"
   ]
  },
  {
   "cell_type": "code",
   "execution_count": 17,
   "id": "e8ebb136",
   "metadata": {},
   "outputs": [
    {
     "data": {
      "image/png": "[encoded data removed]",
      "text/plain": [
       "<Figure size 432x288 with 2 Axes>"
      ]
     },
     "metadata": {
      "needs_background": "light"
     },
     "output_type": "display_data"
    }
   ],
   "source": [
    "plt.figure()\n",
    "ax = plt.gca()\n",
    "ax.set_xlim([-3 * r, 3 * r])\n",
    "ax.set_ylim([-3 * r, 3 * r])\n",
    "ax.set_xlabel('$x_1$')\n",
    "ax.set_ylabel('$x_2$');\n",
    "xx, yy, x_grid = plot_data(np.c_[x1, x2], 0.05)\n",
    "x_grid = x_grid ** 2;\n",
    "x_grid /= amax;\n",
    "z_pre = predict(x_grid, w_out, b_out);\n",
    "zz = z_pre.reshape(xx.shape);\n",
    "plt.contourf(xx, yy, zz, cmap='OrRd');\n",
    "plt.colorbar()\n",
    "plt.scatter(x1[:n_0], x2[:n_0], c='red', label='y=0', lw=0.5);\n",
    "plt.scatter(x1[n_0:], x2[n_0:], c='yellow', label='y=1', lw=0.5);"
   ]
  },
  {
   "cell_type": "markdown",
   "id": "b98ca120",
   "metadata": {},
   "source": [
    "The end"
   ]
  }
 ],
 "metadata": {
  "kernelspec": {
   "display_name": "Python 3 (ipykernel)",
   "language": "python",
   "name": "python3"
  },
  "language_info": {
   "codemirror_mode": {
    "name": "ipython",
    "version": 3
   },
   "file_extension": ".py",
   "mimetype": "text/x-python",
   "name": "python",
   "nbconvert_exporter": "python",
   "pygments_lexer": "ipython3",
   "version": "3.10.4"
  }
 },
 "nbformat": 4,
 "nbformat_minor": 5
}
