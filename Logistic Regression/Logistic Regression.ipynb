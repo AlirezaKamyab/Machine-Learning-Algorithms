{
 "cells": [
  {
   "cell_type": "markdown",
   "id": "9eddd330",
   "metadata": {},
   "source": [
    "# Logistic Regression\n",
    "## Function\n",
    "The function of logistic regression is<br>\n",
    "$g(z) = \\frac{1}{1 + e^{-z}}$<br>\n",
    "This is called \"Sigmoid\" function or \"Logistic\" function.<br>\n",
    "Let's denote $z$ as $\\overrightarrow{w}.\\overrightarrow{x} + b$<br>\n",
    "So we get a function that takes $\\overrightarrow{x}$ as parameter<br>\n",
    "$f(\\overrightarrow{x}) = g(\\overrightarrow{w}.\\overrightarrow{x} + b) = \\frac{1}{1 + e^{-(\\overrightarrow{w}.\\overrightarrow{x} + b)}}$"
   ]
  },
  {
   "cell_type": "code",
   "execution_count": 1,
   "id": "5e4e3359",
   "metadata": {},
   "outputs": [],
   "source": [
    "import numpy as np\n",
    "import pandas as pd\n",
    "import matplotlib.pyplot as plt\n",
    "import math, copy"
   ]
  },
  {
   "cell_type": "markdown",
   "id": "4007976b",
   "metadata": {},
   "source": [
    "Let's first define Sigmoid function"
   ]
  },
  {
   "cell_type": "code",
   "execution_count": 2,
   "id": "df9e1a81",
   "metadata": {},
   "outputs": [],
   "source": [
    "def sigmoid(z):\n",
    "    #z = np.clip(z, -500, 36.5)\n",
    "    return 1.0 / (1.0 + np.exp(-z))"
   ]
  },
  {
   "cell_type": "markdown",
   "id": "e2459e40",
   "metadata": {},
   "source": [
    "And the graph of sigmoid function will be like:"
   ]
  },
  {
   "cell_type": "code",
   "execution_count": 3,
   "id": "276f8ed6",
   "metadata": {},
   "outputs": [
    {
     "data": {
      "image/png": "[encoded data removed]",
      "text/plain": [
       "<Figure size 432x288 with 1 Axes>"
      ]
     },
     "metadata": {
      "needs_background": "light"
     },
     "output_type": "display_data"
    }
   ],
   "source": [
    "x = np.arange(-10, 10)\n",
    "plt.figure()\n",
    "plt.plot(x, [sigmoid(i) for i in x]);\n",
    "plt.title('Sigmoid Function');"
   ]
  },
  {
   "cell_type": "markdown",
   "id": "8a2f51f1",
   "metadata": {},
   "source": [
    "Definition of predict function"
   ]
  },
  {
   "cell_type": "code",
   "execution_count": 4,
   "id": "592a658b",
   "metadata": {},
   "outputs": [],
   "source": [
    "def predict(x, w, b):\n",
    "    return sigmoid(np.dot(x, w) + b)"
   ]
  },
  {
   "cell_type": "markdown",
   "id": "989e9821",
   "metadata": {},
   "source": [
    "Before diving in, let's have an example for our function"
   ]
  },
  {
   "cell_type": "code",
   "execution_count": 5,
   "id": "6c0bd7a7",
   "metadata": {},
   "outputs": [],
   "source": [
    "x_train = np.array([[0.5, 0.5], [0.9, -0.8], [0, 0.9], [0.876, 0], [0.894, 0.1], [-0.99, 0.5],\n",
    "                    [1, 1], [1.12, -1], [-1, 1.3], [-1.2, 1.1], [-1.14, -1], [-1, -1], [-1, 1]], dtype=np.longdouble)\n",
    "y_train = np.array([0, 0, 0, 0, 0, 0, 1, 1, 1, 1, 1, 1, 1], dtype=np.longdouble)\n",
    "w = np.zeros_like(x_train[0]); b = 0"
   ]
  },
  {
   "cell_type": "code",
   "execution_count": 6,
   "id": "ca005bf4",
   "metadata": {},
   "outputs": [
    {
     "data": {
      "image/png": "[encoded data removed]",
      "text/plain": [
       "<Figure size 432x288 with 1 Axes>"
      ]
     },
     "metadata": {
      "needs_background": "light"
     },
     "output_type": "display_data"
    }
   ],
   "source": [
    "plt.figure()\n",
    "plt.scatter(x_train[:6, 0], x_train[:6, 1], marker='o', c='blue')\n",
    "plt.scatter(x_train[6:, 0], x_train[6:, 1], marker='x', c='red')\n",
    "ax = plt.gca()\n",
    "ax.set_xlim([-3, 3]);\n",
    "ax.set_ylim([-3, 3]);"
   ]
  },
  {
   "cell_type": "markdown",
   "id": "997e5539",
   "metadata": {},
   "source": [
    "## Cost function\n",
    "The cost function for Logistic regression is defined as <br>\n",
    "$\n",
    "\\displaystyle\n",
    "J(\\overrightarrow{w}, b) = \\frac{1}{m}\\sum_{i=1}^{m}Loss(f_{\\overrightarrow{w}, b}(\\overrightarrow{x}^{(i)}), y^{(i)})$\n",
    "<br><br>\n",
    "$\n",
    "\\begin{equation}\n",
    "Loss(f_{\\overrightarrow{w}, b}(\\overrightarrow{x}^{(i)}), y^{(i)}) = \n",
    "    \\begin{cases}\n",
    "        -log(f_{\\overrightarrow{w}, b}(\\overrightarrow{x}^{(i)})) & \\text{if} y^{(i)}=1\\\\\n",
    "        -log(1 - f_{\\overrightarrow{w}, b}(\\overrightarrow{x}^{(i)})) & \\text{if} y^{(i)}=0\\\\\n",
    "    \\end{cases}\n",
    "\\end{equation}\n",
    "$\n",
    "\n",
    "we can write our $Loss$ function in a simpler way<br>\n",
    "$\n",
    "\\begin{equation}\n",
    "    Loss(f_{\\overrightarrow{w}, b}(\\overrightarrow{x}^{(i)}), y^{(i)}) = -y^{(i)}log(f_{\\overrightarrow{w}, b}(\\overrightarrow{x}^{(i)})) - (1 - y^{(i)})log(1 - f_{\\overrightarrow{w}, b}(\\overrightarrow{x}^{(i)}))\n",
    "\\end{equation}\n",
    "$\n",
    "\n",
    "and so our cost function will be<br>\n",
    "$\n",
    "\\begin{equation}\n",
    "\\displaystyle\n",
    "    J(\\overrightarrow{w}, b) = -\\frac{1}{m}\\sum_{i=1}^{m}\\biggr[y^{(i)}log(f_{\\overrightarrow{w}, b}(\\overrightarrow{x}^{(i)})) + (1 - y^{(i)})log(1 - f_{\\overrightarrow{w}, b}(\\overrightarrow{x}^{(i)}))\\biggl]\n",
    "\\end{equation}\n",
    "$"
   ]
  },
  {
   "cell_type": "code",
   "execution_count": 7,
   "id": "a7386ad2",
   "metadata": {},
   "outputs": [],
   "source": [
    "def loss(x, y):\n",
    "    return -1 * (y * np.log(x) + (1 - y) * np.log(1 - x))"
   ]
  },
  {
   "cell_type": "code",
   "execution_count": 8,
   "id": "0614ce3e",
   "metadata": {},
   "outputs": [],
   "source": [
    "def cost(X, y, w, b):\n",
    "    err_sum = 0\n",
    "    m = X.shape[0]\n",
    "    for i in range(m):\n",
    "        err_sum = err_sum + loss(predict(X[i], w, b), y[i])\n",
    "    return err_sum / m"
   ]
  },
  {
   "cell_type": "code",
   "execution_count": 9,
   "id": "396b6a10",
   "metadata": {},
   "outputs": [
    {
     "name": "stdout",
     "output_type": "stream",
     "text": [
      "Current cost of our model is 0.6931471805599453\n"
     ]
    }
   ],
   "source": [
    "print(f'Current cost of our model is {cost(x_train, y_train, w, b)}')"
   ]
  },
  {
   "cell_type": "markdown",
   "id": "62909df2",
   "metadata": {},
   "source": [
    "## Gradient Descent\n",
    "This one is the same as Gradient Descent for Linear Regression<br>\n",
    "$\n",
    "\\bigg\\{\n",
    "\\begin{gather*}\n",
    "    w_j = w_j - \\alpha\\frac{d}{dw_j}J(\\overrightarrow{w}, b) & j\\dots n\\\\\n",
    "    b = b - \\alpha\\frac{d}{db}J(\\overrightarrow{w}, b)\n",
    "\\end{gather*}\n",
    "\\bigg\\}\n",
    "$\n",
    "<br>\n",
    "Also the derivatives are: <br>\n",
    "$\n",
    "\\begin{equation}\n",
    "\\displaystyle\n",
    "    \\frac{d}{dw_j}J(\\overrightarrow{w}, b) = \\frac{1}{m}\\sum_{i=1}^{m}\\bigg(\\big(f_{\\overrightarrow{w}, b}(\\overrightarrow{x}^{(i)}) - y^{(i)}\\big)x_{j}^{(i)}\\bigg)\\\\\n",
    "\\displaystyle\n",
    "    \\frac{d}{db}J(\\overrightarrow{w}, b) = \\frac{1}{m}\\sum_{i=1}^{m}\\bigg(f_{\\overrightarrow{w}, b}(\\overrightarrow{x}^{(i)}) - y^{(i)}\\bigg)\n",
    "\\end{equation}\n",
    "$"
   ]
  },
  {
   "cell_type": "code",
   "execution_count": 10,
   "id": "b8a6ec93",
   "metadata": {},
   "outputs": [],
   "source": [
    "def gradient(X, y, w, b):\n",
    "    m, n = X.shape\n",
    "    dj_dw = np.zeros(n)\n",
    "    dj_db = 0\n",
    "    for i in range(m):\n",
    "        err = predict(X[i], w, b) - y[i]\n",
    "        for j in range(n):\n",
    "            dj_dw[j] = dj_dw[j] + (err * X[i, j])\n",
    "        dj_db = dj_db + err\n",
    "    dj_dw = dj_dw / m\n",
    "    dj_db = dj_db / m\n",
    "    return dj_dw, dj_db"
   ]
  },
  {
   "cell_type": "code",
   "execution_count": 11,
   "id": "742f7f26",
   "metadata": {},
   "outputs": [],
   "source": [
    "def gradient_descent(X, y, init_w, init_b, alpha, cost_function, gradient_function, iterations=1000):\n",
    "    w = copy.deepcopy(init_w)\n",
    "    b = init_b\n",
    "    \n",
    "    for i in range(1, iterations + 1):\n",
    "        dj_dw, dj_db = gradient(X, y, w, b)\n",
    "        w = w - (alpha * dj_dw)\n",
    "        b = b - (alpha * dj_db)\n",
    "        \n",
    "        if i % 1000 == 0:\n",
    "            calced_cost = cost_function(X, y, w, b)\n",
    "            if str(calced_cost) != 'nan': print(f'i:{i} w={w} b={b} cost={calced_cost}')\n",
    "            else: print(f'i:{i} w={w} b={b} cost=Small number')\n",
    "    return w, b"
   ]
  },
  {
   "cell_type": "markdown",
   "id": "940e495d",
   "metadata": {},
   "source": [
    "Now let's define scale function to put our training data in [0, 1] interval"
   ]
  },
  {
   "cell_type": "code",
   "execution_count": 12,
   "id": "8b7566a4",
   "metadata": {},
   "outputs": [],
   "source": [
    "def scale(X):\n",
    "    x_scale = copy.deepcopy(X)\n",
    "    abs_max = np.abs(X).max()\n",
    "    x_scale = x_scale / abs_max\n",
    "    return x_scale, abs_max"
   ]
  },
  {
   "cell_type": "markdown",
   "id": "8185c918",
   "metadata": {},
   "source": [
    "## Train Data"
   ]
  },
  {
   "cell_type": "code",
   "execution_count": 13,
   "id": "91fcdd27",
   "metadata": {},
   "outputs": [
    {
     "name": "stdout",
     "output_type": "stream",
     "text": [
      "i:1000 w=[3.56571722 5.84135268] b=-4.156828641722336 cost=0.17453723867353127\n",
      "i:2000 w=[4.95728555 7.94684875] b=-5.86397397372964 cost=0.11313951450130862\n",
      "i:3000 w=[5.8405484  9.33345208] b=-6.985890197622908 cost=0.08735982862824179\n",
      "i:4000 w=[ 6.49359204 10.39831422] b=-7.841043070866399 cost=0.07251147639387023\n",
      "i:5000 w=[ 7.01495433 11.27584021] b=-8.540483911400226 cost=0.06260850562909243\n",
      "i:6000 w=[ 7.4507387  12.02882936] b=-9.136609709624526 cost=0.055420644715225856\n",
      "i:7000 w=[ 7.82621993 12.69210021] b=-9.658550687417113 cost=0.04990876083838014\n",
      "i:8000 w=[ 8.15677003 13.28714848] b=-10.1242895160955 cost=0.04551614503428314\n",
      "i:9000 w=[ 8.45245203 13.8282672 ] b=-10.545768143067644 cost=0.04191446391807252\n",
      "i:10000 w=[ 8.72022534 14.32549208] b=-10.931356308857897 cost=0.038895968798812366\n",
      "i:11000 w=[ 8.96511212 14.78616972] b=-11.287168416926548 cost=0.036321955014732586\n",
      "i:12000 w=[ 9.19086142 15.21585848] b=-11.617820490933786 cost=0.034095806577756814\n",
      "i:13000 w=[ 9.40035023 15.61887769] b=-11.926891570766823 cost=0.03214787773107534\n",
      "i:14000 w=[ 9.59583749 15.99865875] b=-12.217218598287179 cost=0.03042652361475752\n",
      "i:15000 w=[ 9.77913139 16.35797878] b=-12.491092400540454 cost=0.028892527721402925\n",
      "i:16000 w=[ 9.95170332 16.69912111] b=-12.750392291150126 cost=0.027515503461816835\n",
      "i:17000 w=[10.11476772 17.02398878] b=-12.996681138297465 cost=0.026271493054329187\n",
      "i:18000 w=[10.26933942 17.33418681] b=-13.231274150542232 cost=0.0251413195361529\n",
      "i:19000 w=[10.41627573 17.63108293] b=-13.455289703637538 cost=0.02410942762152193\n",
      "i:20000 w=[10.55630782 17.91585346] b=-13.669687597464996 cost=0.02316305068956814\n",
      "i:21000 w=[10.69006471 18.18951838] b=-13.875298326750592 cost=0.022291600661847783\n",
      "i:22000 w=[10.81809168 18.45296858] b=-14.072845805489123 cost=0.021486213507125557\n",
      "i:23000 w=[10.9408647  18.70698738] b=-14.26296524157019 cost=0.020739405506047196\n",
      "i:24000 w=[11.05880185 18.95226765] b=-14.446217363620443 cost=0.020044809708855225\n",
      "i:25000 w=[11.17227247 19.18942554] b=-14.623099866321738 cost=0.019396971362498423\n",
      "i:26000 w=[11.28160454 19.41901173] b=-14.794056708183819 cost=0.018791187315225236\n",
      "i:27000 w=[11.38709073 19.64152064] b=-14.959485732310522 cost=0.018223378641805937\n",
      "i:28000 w=[11.48899332 19.85739801] b=-15.119744963899407 cost=0.017689988660200644\n",
      "i:29000 w=[11.58754833 20.06704726] b=-15.275157853559747 cost=0.017187900566212968\n",
      "i:30000 w=[11.68296895 20.27083481] b=-15.426017673369564 cost=0.016714370377001818\n",
      "i:31000 w=[11.77544843 20.4690946 ] b=-15.5725912263912 cost=0.016266971931261684\n",
      "i:32000 w=[11.86516252 20.66213188] b=-15.715121995646046 cost=0.015843551466151774\n",
      "i:33000 w=[11.95227151 20.8502265 ] b=-15.853832832184848 cost=0.015442189861761508\n",
      "i:34000 w=[12.03692205 21.03363571] b=-15.988928261679929 cost=0.015061171070106726\n",
      "i:35000 w=[12.11924865 21.21259659] b=-16.12059647333098 cost=0.014698955567098514\n",
      "i:36000 w=[12.19937499 21.38732814] b=-16.249011042681094 cost=0.014354157910590378\n",
      "i:37000 w=[12.27741507 21.55803314] b=-16.37433243035216 cost=0.01402552767544251\n",
      "i:38000 w=[12.3534742 21.7248997] b=-16.496709291114016 cost=0.013711933181907719\n",
      "i:39000 w=[12.42764988 21.88810273] b=-16.616279621647394 cost=0.013412347547006799\n",
      "i:40000 w=[12.50003254 22.0478051 ] b=-16.73317177049756 cost=0.01312583667759141\n",
      "i:41000 w=[12.57070622 22.20415882] b=-16.847505329788895 cost=0.012851548894195671\n",
      "i:42000 w=[12.63974916 22.35730594] b=-16.95939192508193 cost=0.012588705930797297\n",
      "i:43000 w=[12.70723433 22.50737946] b=-17.06893591714611 cost=0.012336595100458501\n",
      "i:44000 w=[12.77322991 22.65450406] b=-17.176235027282573 cost=0.012094562452930918\n",
      "i:45000 w=[12.83779966 22.79879683] b=-17.28138089606455 cost=0.011862006779537866\n",
      "i:46000 w=[12.90100334 22.94036787] b=-17.384459583897737 cost=0.01163837434443887\n",
      "i:47000 w=[12.96289701 23.07932082] b=-17.48555202058371 cost=0.011423154240831223\n",
      "i:48000 w=[13.02353335 23.21575341] b=-17.58473441004792 cost=0.011215874286624449\n",
      "i:49000 w=[13.08296193 23.34975786] b=-17.682078595537675 cost=0.011016097387311036\n",
      "i:50000 w=[13.14122942 23.48142135] b=-17.77765238987111 cost=0.010823418304687379\n",
      "i:51000 w=[13.19837984 23.61082634] b=-17.87151987470747 cost=0.010637460779170958\n",
      "i:52000 w=[13.25445477 23.73805091] b=-17.96374167228896 cost=0.010457874961059014\n",
      "i:53000 w=[13.30949349 23.8631691 ] b=-18.054375192661386 cost=0.01028433511244323\n",
      "i:54000 w=[13.36353317 23.98625119] b=-18.1434748590009 cost=0.010116537546855878\n",
      "i:55000 w=[13.41660902 24.10736389] b=-18.231092313352377 cost=0.00995419877824815\n",
      "i:56000 w=[13.46875441 24.22657067] b=-18.317276604800934 cost=0.009797053854736856\n",
      "i:57000 w=[13.52000104 24.34393191] b=-18.40207436186039 cost=0.009644854855815767\n",
      "i:58000 w=[13.57037897 24.45950512] b=-18.48552995065201 cost=0.009497369534501197\n",
      "i:59000 w=[13.61991682 24.57334512] b=-18.567685620266378 cost=0.009354380088262964\n",
      "i:60000 w=[13.6686418  24.68550421] b=-18.648581636542694 cost=0.009215682044622168\n",
      "i:61000 w=[13.71657983 24.7960323 ] b=-18.72825640536378 cost=0.009081083249051502\n",
      "i:62000 w=[13.76375559 24.90497711] b=-18.806746586443545 cost=0.008950402944321176\n",
      "i:63000 w=[13.81019265 25.01238424] b=-18.884087198479513 cost=0.008823470931738327\n",
      "i:64000 w=[13.85591349 25.11829732] b=-18.960311716449873 cost=0.008700126805855475\n",
      "i:65000 w=[13.90093958 25.22275813] b=-19.03545216175313 cost=0.008580219255207378\n",
      "i:66000 w=[13.94529144 25.32580669] b=-19.109539185817237 cost=0.008463605422486633\n",
      "i:67000 w=[13.9889887  25.42748137] b=-19.18260214774117 cost=0.008350150318313317\n",
      "i:68000 w=[14.03205015 25.52781898] b=-19.254669186476164 cost=0.008239726283406692\n",
      "i:69000 w=[14.07449377 25.62685484] b=-19.325767288003338 cost=0.008132212494534115\n",
      "i:70000 w=[14.11633682 25.72462288] b=-19.395922347920855 cost=0.008027494510115129\n",
      "i:71000 w=[14.15759582 25.82115569] b=-19.4651592298144 cost=0.00792546385179669\n",
      "i:72000 w=[14.19828663 25.91648461] b=-19.533501819748924 cost=0.007826017618703959\n",
      "i:73000 w=[14.23842447 26.0106398 ] b=-19.600973077188407 cost=0.007729058131415135\n",
      "i:74000 w=[14.27802397 26.10365027] b=-19.667595082623038 cost=0.007634492603006734\n",
      "i:75000 w=[14.31709918 26.19554396] b=-19.733389082157306 cost=0.007542232834787612\n",
      "i:76000 w=[14.35566361 26.28634779] b=-19.798375529289387 cost=0.007452194934577303\n",
      "i:77000 w=[14.39373025 26.3760877 ] b=-19.86257412409323 cost=0.007364299055593841\n",
      "i:78000 w=[14.43131161 26.46478871] b=-19.92600384999584 cost=0.007278469154205611\n",
      "i:79000 w=[14.46841975 26.55247495] b=-19.988683008324816 cost=0.007194632764968716\n",
      "i:80000 w=[14.50506626 26.63916973] b=-20.050629250787857 cost=0.007112720791522453\n",
      "i:81000 w=[14.54126232 26.72489553] b=-20.111859610031704 cost=0.007032667312047511\n",
      "i:82000 w=[14.57701873 26.80967409] b=-20.17239052841576 cost=0.006954409398111917\n",
      "i:83000 w=[14.61234588 26.8935264 ] b=-20.232237885124338 cost=0.006877886945838884\n",
      "i:84000 w=[14.64725381 26.97647276] b=-20.291417021732627 cost=0.006803042518424072\n",
      "i:85000 w=[14.68175221 27.05853281] b=-20.3499427663308 cost=0.006729821199120038\n",
      "i:86000 w=[14.71585045 27.13972553] b=-20.407829456303507 cost=0.006658170453880196\n",
      "i:87000 w=[14.74955757 27.22006932] b=-20.465090959854027 cost=0.0065880400029290865\n",
      "i:88000 w=[14.78288232 27.29958198] b=-20.52174069635565 cost=0.0065193817005841665\n",
      "i:89000 w=[14.81583315 27.37828075] b=-20.577791655606283 cost=0.0064521494227173775\n",
      "i:90000 w=[14.84841823 27.45618233] b=-20.633256416056735 cost=0.006386298961292137\n",
      "i:91000 w=[14.88064549 27.53330291] b=-20.688147162078383 cost=0.006321787925460709\n",
      "i:92000 w=[14.91252259 27.60965819] b=-20.742475700329777 cost=0.006258575648748891\n",
      "i:93000 w=[14.94405694 27.68526341] b=-20.796253475279006 cost=0.006196623101894319\n",
      "i:94000 w=[14.97525573 27.76013332] b=-20.84949158393326 cost=0.006135892810938201\n",
      "i:95000 w=[15.00612593 27.83428227] b=-20.902200789824203 cost=0.006076348780204247\n",
      "i:96000 w=[15.03667428 27.90772417] b=-20.954391536293517 cost=0.0060179564198268925\n",
      "i:97000 w=[15.06690734 27.98047253] b=-21.006073959121377 cost=0.005960682477517026\n",
      "i:98000 w=[15.09683145 28.05254049] b=-21.057257898535035 cost=0.005904494974277115\n",
      "i:99000 w=[15.12645277 28.1239408 ] b=-21.107952910635664 cost=0.005849363143803\n"
     ]
    },
    {
     "name": "stdout",
     "output_type": "stream",
     "text": [
      "i:100000 w=[15.15577728 28.19468585] b=-21.158168278275298 cost=0.005795257375324294\n"
     ]
    }
   ],
   "source": [
    "x_scale, abs_max = scale(x_train)\n",
    "w_out, b_out = gradient_descent(x_scale ** 2, y_train, w, b, 0.155, cost, gradient, 100000)"
   ]
  },
  {
   "cell_type": "markdown",
   "id": "01d9e303",
   "metadata": {},
   "source": [
    "### Trying to predict\n",
    "When we have a point on or outside of the circle with radius 1 and C(0, 0) we should get 1 and zero otherwise"
   ]
  },
  {
   "cell_type": "code",
   "execution_count": 14,
   "id": "20001b73",
   "metadata": {},
   "outputs": [
    {
     "data": {
      "text/plain": [
       "0.40595147572520074"
      ]
     },
     "execution_count": 14,
     "metadata": {},
     "output_type": "execute_result"
    }
   ],
   "source": [
    "x_test = np.array([0.90, -0.90])\n",
    "x_test = x_test / abs_max\n",
    "predict(x_test**2, w_out, b_out)"
   ]
  },
  {
   "cell_type": "markdown",
   "id": "c49206f4",
   "metadata": {},
   "source": [
    "## Another example\n",
    "In this example we use only one feature"
   ]
  },
  {
   "cell_type": "code",
   "execution_count": 15,
   "id": "c396a8fb",
   "metadata": {},
   "outputs": [],
   "source": [
    "x_train = np.array([0, 1, 2, 3, 3.5, 5, 6, 7, 8, 9], dtype=np.longdouble)\n",
    "y_train = np.array([0, 0, 0, 0, 1, 1, 1, 1, 1, 1], dtype=np.longdouble)\n",
    "x_train = x_train.reshape((-1, 1))\n",
    "alpha = 0.1\n",
    "x_scale, abs_max = scale(x_train)\n",
    "w = np.zeros_like(x_train[0], dtype=np.longdouble)"
   ]
  },
  {
   "cell_type": "code",
   "execution_count": 16,
   "id": "f379384e",
   "metadata": {},
   "outputs": [
    {
     "data": {
      "image/png": "[encoded data removed]",
      "text/plain": [
       "<Figure size 432x288 with 1 Axes>"
      ]
     },
     "metadata": {
      "needs_background": "light"
     },
     "output_type": "display_data"
    }
   ],
   "source": [
    "plt.scatter(x_scale[:4], y_train[:4], marker='o')\n",
    "plt.scatter(x_scale[4:], y_train[4:], c='red', marker='x', linewidths=1);"
   ]
  },
  {
   "cell_type": "code",
   "execution_count": null,
   "id": "bcf4ee9b",
   "metadata": {},
   "outputs": [
    {
     "name": "stdout",
     "output_type": "stream",
     "text": [
      "i:1000 w=[11.40284865] b=-4.201595713146906 cost=0.14932444898238076\n",
      "i:2000 w=[14.75735041] b=-5.4139274249058635 cost=0.12334594814242035\n",
      "i:3000 w=[17.06802309] b=-6.238839111578875 cost=0.11123300680799922\n",
      "i:4000 w=[18.9149643] b=-6.895895926079552 cost=0.10352648819614226\n",
      "i:5000 w=[20.49356056] b=-7.457056363359226 cost=0.09790466590095112\n",
      "i:6000 w=[21.89500947] b=-7.955401097132316 cost=0.09347601901066256\n",
      "i:7000 w=[23.16969605] b=-8.40902039795639 cost=0.08981276243597751\n",
      "i:8000 w=[24.34855072] b=-8.828936820851037 cost=0.08667948962640029\n",
      "i:9000 w=[25.45199238] b=-9.222385627539925 cost=0.08393395107007118\n",
      "i:10000 w=[26.49423915] b=-9.594382513814608 cost=0.08148412011048761\n",
      "i:11000 w=[27.48560475] b=-9.948552994556621 cost=0.07926728017833448\n",
      "i:12000 w=[28.4338171] b=-10.287605962053973 cost=0.07723889749648906\n",
      "i:13000 w=[29.34482133] b=-10.613620670583009 cost=0.07536627941426834\n",
      "i:14000 w=[30.22329234] b=-10.92822918304224 cost=0.073624755618275\n",
      "i:15000 w=[31.07297498] b=-11.232737014256157 cost=0.07199527235560158\n",
      "i:16000 w=[31.89691721] b=-11.528205576870066 cost=0.07046281858418393\n",
      "i:17000 w=[32.69763447] b=-11.81551012042834 cost=0.06901536291012597\n",
      "i:18000 w=[33.47722823] b=-12.095381437542516 cost=0.06764311555009657\n",
      "i:19000 w=[34.23747333] b=-12.368436517184723 cost=0.06633800359010499\n",
      "i:20000 w=[34.97988349] b=-12.635201489010576 cost=0.06509329003102919\n",
      "i:21000 w=[35.70576122] b=-12.896129076011398 cost=0.06390329208014413\n",
      "i:22000 w=[36.41623639] b=-13.151612061008848 cost=0.06276316939383202\n",
      "i:23000 w=[37.11229645] b=-13.40199381099342 cost=0.06166876255240823\n",
      "i:24000 w=[37.79481027] b=-13.647576597069557 cost=0.06061646821564941\n",
      "i:25000 w=[38.4645473] b=-13.888628240299244 cost=0.059603141470823275\n",
      "i:26000 w=[39.12219299] b=-14.125387470515564 cost=0.058626018616916076\n",
      "i:27000 w=[39.76836133] b=-14.358068284618126 cost=0.05768265549973679\n",
      "i:28000 w=[40.40360516] b=-14.586863519146164 cost=0.05677087781571142\n",
      "i:29000 w=[41.0284247] b=-14.81194780005259 cost=0.055888740723860256\n",
      "i:30000 w=[41.64327461] b=-15.033479994588555 cost=0.0550344957665995\n",
      "i:31000 w=[42.24856993] b=-15.251605262013447 cost=0.0542065635804919\n",
      "i:32000 w=[42.84469108] b=-15.466456778700714 cost=0.05340351123146554\n",
      "i:33000 w=[43.43198806] b=-15.67815719718888 cost=0.05262403327184998\n"
     ]
    }
   ],
   "source": [
    "w_out, b_out = gradient_descent(x_scale, y_train, w, 0, 0.5, cost, gradient, 50000)"
   ]
  },
  {
   "cell_type": "code",
   "execution_count": null,
   "id": "a7ac09df",
   "metadata": {},
   "outputs": [],
   "source": [
    "plt.scatter(x_scale[:4], y_train[:4], marker='o')\n",
    "plt.scatter(x_scale[4:], y_train[4:], c='red', marker='x', linewidths=1);\n",
    "y_out = [predict(i, w_out, b_out) for i in x_scale]\n",
    "plt.plot(x_scale, y_out)\n",
    "\n",
    "x_num = np.linspace(x_scale.min(), x_scale.max(), 10)\n",
    "x_num_out = w_out * x_num + b_out\n",
    "plt.plot(x_num, x_num_out)\n",
    "ax = plt.gca()\n",
    "ax.set_ylim([-0.06, 1.06]);"
   ]
  },
  {
   "cell_type": "markdown",
   "id": "4ea5bad6",
   "metadata": {},
   "source": [
    "The end."
   ]
  }
 ],
 "metadata": {
  "kernelspec": {
   "display_name": "Python 3 (ipykernel)",
   "language": "python",
   "name": "python3"
  },
  "language_info": {
   "codemirror_mode": {
    "name": "ipython",
    "version": 3
   },
   "file_extension": ".py",
   "mimetype": "text/x-python",
   "name": "python",
   "nbconvert_exporter": "python",
   "pygments_lexer": "ipython3",
   "version": "3.10.4"
  }
 },
 "nbformat": 4,
 "nbformat_minor": 5
}
