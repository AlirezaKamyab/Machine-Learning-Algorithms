{
 "cells": [
  {
   "cell_type": "markdown",
   "id": "a3427551",
   "metadata": {},
   "source": [
    "# Anomaly Detection\n",
    "Here is the implementation of anomaly detection"
   ]
  },
  {
   "cell_type": "markdown",
   "id": "ba1d741b",
   "metadata": {},
   "source": [
    "Anomaly detection is an unsupervised algorithm that finds anomalies in an unlabeled dataset."
   ]
  },
  {
   "cell_type": "code",
   "execution_count": 1,
   "id": "dc902a66",
   "metadata": {},
   "outputs": [],
   "source": [
    "import numpy as np\n",
    "import matplotlib.pyplot as plt"
   ]
  },
  {
   "cell_type": "markdown",
   "id": "a96998cb",
   "metadata": {},
   "source": [
    "## Gaussian Distribution\n",
    "Denoted by $p(x;\\mu, \\sigma^2)$ where $\\mu$ is the mean of features and $\\sigma^2$ is the variance of features.<br>\n",
    "$\n",
    "\\mu = \\frac{1}{m}\\displaystyle\\sum_{i=1}^{m}x^{(i)}\n",
    "$\n",
    "<br>\n",
    "where m is the number of data for each feature. <br>\n",
    "$\n",
    "\\sigma^2 = \\frac{1}{m}\\displaystyle\\sum_{i=1}^{m}(x^{(i)} - \\mu)^2\n",
    "$\n",
    "<br>\n",
    "So then <br>\n",
    "$\n",
    "p(x; \\mu, \\sigma^2) = \\displaystyle\\frac{1}{\\displaystyle\\sqrt{2\\pi}\\sigma}e^{\\displaystyle\\frac{-(x - \\mu)^2}{2\\sigma^2}}\n",
    "$"
   ]
  },
  {
   "cell_type": "markdown",
   "id": "9b3558ba",
   "metadata": {},
   "source": [
    "If we have multiple features like <br>\n",
    "$\n",
    "\\overrightarrow{x} = \n",
    "\\begin{bmatrix}\n",
    "    x_1\\\\\n",
    "    x_2\\\\\n",
    "    \\vdots \\\\\n",
    "    x_n\n",
    "\\end{bmatrix}\n",
    "$ <br>\n",
    "which has $n$ features. Then <br>\n",
    "$\n",
    "p(\\overrightarrow{x}) = p(x_1; \\mu_1, \\sigma^2_1) \\times p(x_2; \\mu_2, \\sigma^2_2) \\dots \\times p(x_n; \\mu_n, \\sigma^2_n)\n",
    "$\n",
    "<br>\n",
    "$\n",
    "p(\\overrightarrow{x}) = \\displaystyle\\prod_{j=1}^{n}p(x_j; \\mu_j, \\sigma^2_j)\n",
    "$"
   ]
  },
  {
   "cell_type": "code",
   "execution_count": 2,
   "id": "1acf5580",
   "metadata": {},
   "outputs": [],
   "source": [
    "def estimate_gaussian(X):\n",
    "    m, n = X.shape\n",
    "    mu = X.sum(axis=0) / m\n",
    "    var = ((X - mu) ** 2).sum(axis=0) / m\n",
    "    return mu, var"
   ]
  },
  {
   "cell_type": "code",
   "execution_count": 3,
   "id": "da6148e2",
   "metadata": {},
   "outputs": [],
   "source": [
    "def gaussian_probability(X, mu, var):\n",
    "    k = len(mu)\n",
    "    \n",
    "    if var.ndim == 1:\n",
    "        var = np.diag(var)\n",
    "        \n",
    "    X = X - mu\n",
    "    p = (2* np.pi)**(-k/2) * np.linalg.det(var)**(-0.5) * \\\n",
    "        np.exp(-0.5 * np.sum(np.matmul(X, np.linalg.pinv(var)) * X, axis=1))\n",
    "    \n",
    "    return p"
   ]
  },
  {
   "cell_type": "code",
   "execution_count": 4,
   "id": "1af0ab99",
   "metadata": {},
   "outputs": [],
   "source": [
    "def select_threshold(y_val, p_val): \n",
    "    best_epsilon = 0\n",
    "    best_F1 = 0\n",
    "    F1 = 0\n",
    "    \n",
    "    step_size = (max(p_val) - min(p_val)) / 1000\n",
    "    for epsilon in np.arange(min(p_val), max(p_val), step_size):\n",
    "    \n",
    "        p_res = p_val < epsilon\n",
    "        tp = np.sum((p_res == 1) & (y_val == 1))\n",
    "        fp = np.sum((p_res == 1) & (y_val == 0))\n",
    "        fn = np.sum((p_res == 0) & (y_val == 1))\n",
    "        \n",
    "        precision = tp / (tp + fp)\n",
    "        recall =  tp / (tp + fn)\n",
    "        \n",
    "        F1 = (2 * precision * recall) / (precision + recall)\n",
    "        \n",
    "        if F1 > best_F1:\n",
    "            best_F1 = F1\n",
    "            best_epsilon = epsilon\n",
    "        \n",
    "    return best_epsilon, best_F1"
   ]
  }
 ],
 "metadata": {
  "kernelspec": {
   "display_name": "Python 3 (ipykernel)",
   "language": "python",
   "name": "python3"
  },
  "language_info": {
   "codemirror_mode": {
    "name": "ipython",
    "version": 3
   },
   "file_extension": ".py",
   "mimetype": "text/x-python",
   "name": "python",
   "nbconvert_exporter": "python",
   "pygments_lexer": "ipython3",
   "version": "3.10.4"
  }
 },
 "nbformat": 4,
 "nbformat_minor": 5
}
