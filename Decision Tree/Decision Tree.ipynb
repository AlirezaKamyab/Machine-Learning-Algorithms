{
 "cells": [
  {
   "cell_type": "markdown",
   "id": "08092654",
   "metadata": {},
   "source": [
    "# Decision Tree\n",
    "In this notebook all features and outputs only take two values for simplicity. Full implementation is not here.\n",
    "Also, here, I have implemented classification Decision Tree and not applied to regression problems."
   ]
  },
  {
   "cell_type": "code",
   "execution_count": 1,
   "id": "347e77a4",
   "metadata": {},
   "outputs": [],
   "source": [
    "import numpy as np"
   ]
  },
  {
   "cell_type": "markdown",
   "id": "07d7adee",
   "metadata": {},
   "source": [
    "## Measuring impurity (Entropy)\n",
    "Let's denote $p_1$ to be the fraction of class1 out of 2 classes - class0 and class1.<br>\n",
    "So then $p_0 = 1 - p_1$.<br>\n",
    "$\n",
    "\\begin{equation}\n",
    "    H(p_1) = -p_1 log_2(p1) - (1 - p_1) log_2(1 - p_1)\n",
    "\\end{equation}\n",
    "$\n",
    "<br>\n",
    "We can also write it as: <br>\n",
    "$\n",
    "    H(p_1) -p_1 log_2(p_1) - (p_0) log_2(p_0)\n",
    "$"
   ]
  },
  {
   "cell_type": "code",
   "execution_count": 2,
   "id": "95490a24",
   "metadata": {},
   "outputs": [],
   "source": [
    "def compute_entropy(y):\n",
    "    # Takes classes of the result and calculates purity; numpy narray and only takes 0 and 1\n",
    "    m = y.shape[0]\n",
    "    p_1 = y[y == 1].size\n",
    "    p_1 = p_1 / m if m != 0 else 0\n",
    "    if p_1 == 0 or p_1 == 1: return 0\n",
    "    else: entropy = -p_1 * np.log2(p_1) - (1 - p_1) * np.log2(1 - p_1)\n",
    "    \n",
    "    return entropy"
   ]
  },
  {
   "cell_type": "markdown",
   "id": "de03d3d9",
   "metadata": {},
   "source": [
    "## Splitting\n",
    "Each node contains some fraction of the Data (rows) and they themselves split untill criteria is met.\n",
    "We split based on a feature. If some data has the feature so split to left; otherwise we split to the right sub-branch."
   ]
  },
  {
   "cell_type": "code",
   "execution_count": 3,
   "id": "8a4e059c",
   "metadata": {},
   "outputs": [],
   "source": [
    "def split(X, node_indices, on_feature):\n",
    "    # Matrix containing m, n rows and columns respectively.\n",
    "    # list containing indices in the current node\n",
    "    # int, as the index of columns in X\n",
    "    left = []\n",
    "    right = []\n",
    "    \n",
    "    for i in node_indices:\n",
    "        if X[i][on_feature] == 1:\n",
    "            left.append(i)\n",
    "        else: right.append(i)\n",
    "    \n",
    "    return left, right"
   ]
  },
  {
   "cell_type": "markdown",
   "id": "652cc729",
   "metadata": {},
   "source": [
    "## Information Gain\n",
    "Information gain is actually the \"Reduction of average weighted entropy compared to the parent or root of the tree\". We calculate weighted entropy as the fraction of data in the left compared to the parent times the entropy plus the fraction of data in the right compared to the parent times entropy. Information gain, then will be: <br>\n",
    "$\n",
    "    \\text{Information Gain} = H(p_1^{\\text{root}}) - (w_{\\text{left}} H(p_1^{\\text{left}}) + w_{\\text{right}} H(p_1^{\\text{right}}))\n",
    "$"
   ]
  },
  {
   "cell_type": "code",
   "execution_count": 4,
   "id": "a6539332",
   "metadata": {},
   "outputs": [],
   "source": [
    "def compute_information_gain(X, y, node_indices, on_feature):\n",
    "    # ndarray matrix consist of m and n rows and columns respectively\n",
    "    # array consisting of 1 row and m columns\n",
    "    # list of current indicies inside the node\n",
    "    # in, as the index of columns in X to perform split\n",
    "    \n",
    "    # split\n",
    "    left_indices, right_indices = split(X, node_indices, on_feature) \n",
    "    X_root, y_root = X[node_indices], y[node_indices]\n",
    "    X_left, y_left = X[left_indices], y[left_indices]\n",
    "    X_right, y_right = X[right_indices], y[right_indices]\n",
    "    \n",
    "    # calculate weights\n",
    "    w_left = X_left.shape[0] / X_root.shape[0]\n",
    "    w_right = X_right.shape[0] / X_root.shape[0]\n",
    "    \n",
    "    # calculate entropies\n",
    "    e_left = compute_entropy(y_left)\n",
    "    e_right = compute_entropy(y_right)\n",
    "    e_root = compute_entropy(y_root)\n",
    "    \n",
    "    # compute information gain\n",
    "    ig = e_root - (w_left * e_left + w_right * e_right)\n",
    "    \n",
    "    return ig"
   ]
  },
  {
   "cell_type": "markdown",
   "id": "5571500d",
   "metadata": {},
   "source": [
    "## Choosing the best feature\n",
    "The best feature is the one that has the most information gain (i.e. reduces entropy or impurity compared to the parent or the root). If a node is completely pure, we do not split anymore."
   ]
  },
  {
   "cell_type": "code",
   "execution_count": 5,
   "id": "d5b928e9",
   "metadata": {},
   "outputs": [],
   "source": [
    "def choose_best_feature(X, y, node_indices):\n",
    "    # ndarray matrix consist of m and n rows and columns respectively\n",
    "    # array consisting of 1 row and m columns\n",
    "    # list of current indicies inside the node\n",
    "    \n",
    "    m, n = X.shape\n",
    "    \n",
    "    # see whether current node is pure\n",
    "    if compute_entropy(y[node_indices]) == 0: return -1\n",
    "    \n",
    "    # find the best feature to maximize the information_gain\n",
    "    max_info = -1\n",
    "    best_feature = -1\n",
    "    for i in range(n):\n",
    "        info = compute_information_gain(X, y, node_indices, i)\n",
    "        if info > max_info:\n",
    "            max_info = info\n",
    "            best_feature = i\n",
    "    \n",
    "    return best_feature"
   ]
  },
  {
   "cell_type": "markdown",
   "id": "d3576135",
   "metadata": {},
   "source": [
    "## Build the tree\n",
    "Recursively split each node untill each of them meet the criteria and then stop splitting."
   ]
  },
  {
   "cell_type": "code",
   "execution_count": 6,
   "id": "c5fe20d0",
   "metadata": {},
   "outputs": [],
   "source": [
    "tree = []\n",
    "\n",
    "def build_tree_recursive(X, y, node_indices, branch_name, max_depth, current_depth):\n",
    "    if current_depth == max_depth: return # Base case: Criteria is met\n",
    "    \n",
    "    # choose the best feature to split base on that\n",
    "    b_f = choose_best_feature(X, y, node_indices)\n",
    "    if b_f == -1: return # Base case: Criteria is met (Pure node)\n",
    "    \n",
    "    # building the tree\n",
    "    tree.append([current_depth, branch_name, b_f, node_indices])\n",
    "    \n",
    "    # split data\n",
    "    left_indices, right_indices = split(X, node_indices, b_f)\n",
    "    \n",
    "    # recursive calls on left and right branches\n",
    "    build_tree_recursive(X, y, left_indices, 'Left', max_depth, current_depth + 1)\n",
    "    build_tree_recursive(X, y, right_indices, 'Right', max_depth, current_depth + 1)"
   ]
  },
  {
   "cell_type": "markdown",
   "id": "8dcc6205",
   "metadata": {},
   "source": [
    "## Example"
   ]
  },
  {
   "cell_type": "code",
   "execution_count": 7,
   "id": "09ace8e2",
   "metadata": {},
   "outputs": [],
   "source": [
    "X_train = np.array([[1,1,1],[1,0,1],[1,0,0],[1,0,0],[1,1,1],[0,1,1],[0,0,0],[1,0,1],[0,1,0],[1,0,0]])\n",
    "y_train = np.array([1,1,0,0,1,0,0,1,1,0])"
   ]
  },
  {
   "cell_type": "code",
   "execution_count": 8,
   "id": "f69c1e57",
   "metadata": {},
   "outputs": [],
   "source": [
    "build_tree_recursive(X_train, y_train, list(range(X_train.shape[0])), 'root', 4, 0)"
   ]
  },
  {
   "cell_type": "code",
   "execution_count": 9,
   "id": "d1ab99fc",
   "metadata": {},
   "outputs": [
    {
     "data": {
      "text/plain": [
       "[[0, 'root', 2, [0, 1, 2, 3, 4, 5, 6, 7, 8, 9]],\n",
       " [1, 'Left', 0, [0, 1, 4, 5, 7]],\n",
       " [1, 'Right', 1, [2, 3, 6, 8, 9]]]"
      ]
     },
     "execution_count": 9,
     "metadata": {},
     "output_type": "execute_result"
    }
   ],
   "source": [
    "tree"
   ]
  },
  {
   "cell_type": "markdown",
   "id": "6d24d7bc",
   "metadata": {},
   "source": [
    "End!"
   ]
  }
 ],
 "metadata": {
  "kernelspec": {
   "display_name": "Python 3 (ipykernel)",
   "language": "python",
   "name": "python3"
  },
  "language_info": {
   "codemirror_mode": {
    "name": "ipython",
    "version": 3
   },
   "file_extension": ".py",
   "mimetype": "text/x-python",
   "name": "python",
   "nbconvert_exporter": "python",
   "pygments_lexer": "ipython3",
   "version": "3.10.4"
  }
 },
 "nbformat": 4,
 "nbformat_minor": 5
}
