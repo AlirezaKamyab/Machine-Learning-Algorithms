{
 "cells": [
  {
   "cell_type": "markdown",
   "id": "0056e70f",
   "metadata": {},
   "source": [
    "# Linear Regression (Multiple Variables) with scaling\n",
    "\n",
    "## Function\n",
    "In here we have multiple features so $w$ is a vector and is written as $\\overrightarrow{w}$\n",
    "and $x$ is also a vector written as $\\overrightarrow{x}$. $b$ is the same number (bias) and we write the function as<br>\n",
    "$f_{\\overrightarrow{w},b}(\\overrightarrow{x}) = \\overrightarrow{w}.\\overrightarrow{x} + b$<br>\n",
    "which is its vectorized form; without vectorization it will be like <br>\n",
    "$f_{w, b}(x) = w_1x_1 + w_2x_2 + . . . + w_nx_n + b$ <br>\n",
    "The result of the dot product is the same<br>\n",
    "$\\overrightarrow{w}.\\overrightarrow{x} = w_1x_1 + w_2x_2 + . . . + w_nx_n$"
   ]
  },
  {
   "cell_type": "markdown",
   "id": "6b8248f4",
   "metadata": {},
   "source": [
    "Let's use the same example of price of the houses but this time with multiple features; other than predicting the price via its size, we'll have number of bedrooms, age of the house, number of bathrooms."
   ]
  },
  {
   "cell_type": "code",
   "execution_count": 1,
   "id": "ba62216b",
   "metadata": {},
   "outputs": [],
   "source": [
    "import numpy as np\n",
    "import pandas as pd\n",
    "import copy\n",
    "import matplotlib.pyplot as plt"
   ]
  },
  {
   "cell_type": "code",
   "execution_count": 2,
   "id": "378f8aec",
   "metadata": {},
   "outputs": [],
   "source": [
    "# Our dataset\n",
    "x_train = np.array([[1275, 4, 1, 12], [1674, 5, 2, 6], [2000, 6, 3, 1], [987, 2, 1, 34], [1275, 4, 1, 4]], dtype='float64')\n",
    "y_train = np.array([452.983, 673.983, 983.992, 122.111, 555.211], dtype='float64')\n",
    "m, n = x_train.shape # m is the number of data and n is the number of features\n",
    "w = np.random.random(n) # initial value for w\n",
    "b = 100 # initial value for b"
   ]
  },
  {
   "cell_type": "code",
   "execution_count": 3,
   "id": "e138fee8",
   "metadata": {},
   "outputs": [
    {
     "data": {
      "text/html": [
       "<div>\n",
       "<style scoped>\n",
       "    .dataframe tbody tr th:only-of-type {\n",
       "        vertical-align: middle;\n",
       "    }\n",
       "\n",
       "    .dataframe tbody tr th {\n",
       "        vertical-align: top;\n",
       "    }\n",
       "\n",
       "    .dataframe thead th {\n",
       "        text-align: right;\n",
       "    }\n",
       "</style>\n",
       "<table border=\"1\" class=\"dataframe\">\n",
       "  <thead>\n",
       "    <tr style=\"text-align: right;\">\n",
       "      <th></th>\n",
       "      <th>Size (feet squared)</th>\n",
       "      <th>Number of bedrooms</th>\n",
       "      <th>Number of bathrooms</th>\n",
       "      <th>Age</th>\n",
       "      <th>Price(1k $)</th>\n",
       "    </tr>\n",
       "  </thead>\n",
       "  <tbody>\n",
       "    <tr>\n",
       "      <th>0</th>\n",
       "      <td>1275.0</td>\n",
       "      <td>4.0</td>\n",
       "      <td>1.0</td>\n",
       "      <td>12.0</td>\n",
       "      <td>452.983</td>\n",
       "    </tr>\n",
       "    <tr>\n",
       "      <th>1</th>\n",
       "      <td>1674.0</td>\n",
       "      <td>5.0</td>\n",
       "      <td>2.0</td>\n",
       "      <td>6.0</td>\n",
       "      <td>673.983</td>\n",
       "    </tr>\n",
       "    <tr>\n",
       "      <th>2</th>\n",
       "      <td>2000.0</td>\n",
       "      <td>6.0</td>\n",
       "      <td>3.0</td>\n",
       "      <td>1.0</td>\n",
       "      <td>983.992</td>\n",
       "    </tr>\n",
       "    <tr>\n",
       "      <th>3</th>\n",
       "      <td>987.0</td>\n",
       "      <td>2.0</td>\n",
       "      <td>1.0</td>\n",
       "      <td>34.0</td>\n",
       "      <td>122.111</td>\n",
       "    </tr>\n",
       "    <tr>\n",
       "      <th>4</th>\n",
       "      <td>1275.0</td>\n",
       "      <td>4.0</td>\n",
       "      <td>1.0</td>\n",
       "      <td>4.0</td>\n",
       "      <td>555.211</td>\n",
       "    </tr>\n",
       "  </tbody>\n",
       "</table>\n",
       "</div>"
      ],
      "text/plain": [
       "   Size (feet squared)  Number of bedrooms  Number of bathrooms   Age  \\\n",
       "0               1275.0                 4.0                  1.0  12.0   \n",
       "1               1674.0                 5.0                  2.0   6.0   \n",
       "2               2000.0                 6.0                  3.0   1.0   \n",
       "3                987.0                 2.0                  1.0  34.0   \n",
       "4               1275.0                 4.0                  1.0   4.0   \n",
       "\n",
       "   Price(1k $)  \n",
       "0      452.983  \n",
       "1      673.983  \n",
       "2      983.992  \n",
       "3      122.111  \n",
       "4      555.211  "
      ]
     },
     "execution_count": 3,
     "metadata": {},
     "output_type": "execute_result"
    }
   ],
   "source": [
    "df = pd.DataFrame(x_train, columns=['Size (feet squared)', 'Number of bedrooms', 'Number of bathrooms', 'Age'])\n",
    "df['Price(1k $)'] = pd.Series(y_train)\n",
    "df"
   ]
  },
  {
   "cell_type": "code",
   "execution_count": 4,
   "id": "ecba4663",
   "metadata": {},
   "outputs": [
    {
     "data": {
      "image/png": "[encoded data removed]",
      "text/plain": [
       "<Figure size 432x288 with 1 Axes>"
      ]
     },
     "metadata": {
      "needs_background": "light"
     },
     "output_type": "display_data"
    }
   ],
   "source": [
    "fig, ax = plt.subplots(1, 1)\n",
    "ax.scatter(x_train[:,0], x_train[:,3]);\n",
    "ax.axis('equal');\n",
    "ax.set_title(\"Not scaled\");\n",
    "ax.set_xlabel('Size');\n",
    "ax.set_ylabel('Age');"
   ]
  },
  {
   "cell_type": "code",
   "execution_count": 5,
   "id": "013b70aa",
   "metadata": {},
   "outputs": [
    {
     "data": {
      "image/png": "[encoded data removed]",
      "text/plain": [
       "<Figure size 864x216 with 4 Axes>"
      ]
     },
     "metadata": {
      "needs_background": "light"
     },
     "output_type": "display_data"
    }
   ],
   "source": [
    "fig, ax = plt.subplots(1, 4, figsize=(12, 3))\n",
    "ax[0].scatter(x_train[:, 0], y_train)\n",
    "ax[0].set_title('Size - Price')\n",
    "ax[0].set_xlabel('Size square feet')\n",
    "ax[0].set_ylabel('Price$')\n",
    "\n",
    "ax[1].tick_params(labelleft=False, left=False)\n",
    "ax[1].scatter(x_train[:, 1], y_train)\n",
    "ax[1].set_title('Bedrooms - Price')\n",
    "ax[1].set_xlabel('Number of bedrooms')\n",
    "\n",
    "ax[2].tick_params(labelleft=False, left=False)\n",
    "ax[2].scatter(x_train[:, 2], y_train)\n",
    "ax[2].set_title('Bathrooms - Price')\n",
    "ax[2].set_xlabel('Number of Bathrooms')\n",
    "\n",
    "ax[3].tick_params(labelleft=False, left=False)\n",
    "ax[3].scatter(x_train[:, 3], y_train)\n",
    "ax[3].set_title('Age - Price')\n",
    "ax[3].set_xlabel('Age');"
   ]
  },
  {
   "cell_type": "markdown",
   "id": "ca75d19a",
   "metadata": {},
   "source": [
    "Now let's use Z-normalization to scale our data to better train our model. Below, function is define to scale our dataset data."
   ]
  },
  {
   "cell_type": "code",
   "execution_count": 6,
   "id": "2ef5f833",
   "metadata": {},
   "outputs": [],
   "source": [
    "def z_normal(x):\n",
    "    std = x.std()\n",
    "    mean = x.mean()\n",
    "    x_temp = copy.deepcopy(x).T\n",
    "    m, n = x_temp.shape\n",
    "    for i in range(m):\n",
    "        std = x_temp[i].std()\n",
    "        x_temp[i] = x_temp[i] - x_temp[i].mean()\n",
    "        x_temp[i] =  x_temp[i] / std\n",
    "    return x_temp.T"
   ]
  },
  {
   "cell_type": "markdown",
   "id": "829fcb93",
   "metadata": {},
   "source": [
    "After normalization, let's see how scaled Size and age are"
   ]
  },
  {
   "cell_type": "code",
   "execution_count": 7,
   "id": "7af1c1fe",
   "metadata": {},
   "outputs": [
    {
     "data": {
      "image/png": "[encoded data removed]",
      "text/plain": [
       "<Figure size 864x216 with 2 Axes>"
      ]
     },
     "metadata": {
      "needs_background": "light"
     },
     "output_type": "display_data"
    }
   ],
   "source": [
    "fig, ax = plt.subplots(1, 2, figsize=(12, 3))\n",
    "ax[0].axis('equal');\n",
    "ax[0].scatter(x_train[:, 0], x_train[:, 3]);\n",
    "ax[0].set_title(\"Not normalized\");\n",
    "ax[0].set_xlabel('Size');\n",
    "ax[0].set_ylabel('Age');\n",
    "\n",
    "x_train_norm = z_normal(x_train)\n",
    "ax[1].axis('equal');\n",
    "ax[1].scatter(x_train_norm[:, 0], x_train_norm[:, 3]);\n",
    "ax[1].set_title(\"Not normalized\");\n",
    "ax[1].set_xlabel('Size');\n",
    "ax[1].set_ylabel('Age');"
   ]
  },
  {
   "cell_type": "code",
   "execution_count": 8,
   "id": "caa17834",
   "metadata": {},
   "outputs": [],
   "source": [
    "def predict(x, w, b):\n",
    "    return np.dot(w, x) + b"
   ]
  },
  {
   "cell_type": "markdown",
   "id": "de44c9c5",
   "metadata": {},
   "source": [
    "Now let's try to predict the value of the first house in the dataset; "
   ]
  },
  {
   "cell_type": "code",
   "execution_count": 9,
   "id": "a3759b60",
   "metadata": {},
   "outputs": [
    {
     "name": "stdout",
     "output_type": "stream",
     "text": [
      "Value for a house with size=1275 and numberOfBedrooms=4 and numberOfBathrooms=1 and age=12 is 264.885k$\n",
      "The actual price is 452.983k$\n"
     ]
    }
   ],
   "source": [
    "print(f'Value for a house with size=1275 and numberOfBedrooms=4 and numberOfBathrooms=1 and age=12 is {predict(x_train[0], w, b):.3f}k$')\n",
    "print(f'The actual price is {y_train[0]}k$')"
   ]
  },
  {
   "cell_type": "markdown",
   "id": "e808a66c",
   "metadata": {},
   "source": [
    "## Cost function\n",
    "Now that we use vectorization, cost function is defined as <br>\n",
    "$J(\\overrightarrow{w}, b) = \\frac{1}{2m}\\Sigma_{i=1}^{m}(f_{\\overrightarrow{x},b}(\\overrightarrow{x}^{(i)}) - y^{(i)})^2$"
   ]
  },
  {
   "cell_type": "code",
   "execution_count": 10,
   "id": "81dcc9a8",
   "metadata": {},
   "outputs": [],
   "source": [
    "def cost(x, y, w, b):\n",
    "    err_sum = 0\n",
    "    m = x.shape[0]\n",
    "    for i in range(m):\n",
    "        f_wb = np.dot(w, x[i]) + b\n",
    "        err_sum += (f_wb - y[i]) ** 2\n",
    "    err_sum = err_sum / (2 * m)\n",
    "    return err_sum"
   ]
  },
  {
   "cell_type": "markdown",
   "id": "bfcdd1d5",
   "metadata": {},
   "source": [
    "If we run the cost function now due to our last test for predicting the price of the first house, we anticipate a large number\n"
   ]
  },
  {
   "cell_type": "code",
   "execution_count": 11,
   "id": "7eda5680",
   "metadata": {},
   "outputs": [
    {
     "name": "stdout",
     "output_type": "stream",
     "text": [
      "66975.80974998191\n"
     ]
    }
   ],
   "source": [
    "print(cost(x_train, y_train, w, b))"
   ]
  },
  {
   "cell_type": "markdown",
   "id": "9fb25e32",
   "metadata": {},
   "source": [
    "## Gradient Descent\n",
    "Now since we have multiple features, we should find the derivative of each of the features. So, we have to find a good value for each of $w$s from $w_1$ to $w_n$\n",
    "So we have to find the derivative for each of the features\n",
    "$w_i = w_i - \\alpha\\frac{d}{dm}J(\\overrightarrow{w}, b)$ and $b = b - \\alpha\\frac{d}{db}J(\\overrightarrow{w}, b)$<br>\n",
    "for each of the $w$s we have<br>\n",
    "$w_j = w_j - \\alpha\\frac{1}{m}\\Sigma_{i=1}^{m}(f_{\\overrightarrow{w},b}(x^{(i)}) - y^{(i)})x_{j}^{(i)}$<br>\n",
    "$b = b - \\alpha\\frac{1}{m}\\Sigma_{i=1}^{m}(f_{\\overrightarrow{w},b}(x^{(i)})-y^{(i)})$"
   ]
  },
  {
   "cell_type": "code",
   "execution_count": 12,
   "id": "5274ffa8",
   "metadata": {},
   "outputs": [],
   "source": [
    "def gradient(x, y, w, b):\n",
    "    m, n = x.shape\n",
    "    w_t = np.zeros((n,))\n",
    "    b_t = 0\n",
    "    for i in range(m):\n",
    "        err = np.dot(w, x[i]) + b - y[i]\n",
    "        for j in range(n):\n",
    "            w_t[j] += err * x[i, j]\n",
    "        b_t += err\n",
    "    w_t = w_t / m\n",
    "    b_t = b_t / m\n",
    "    return w_t, b_t"
   ]
  },
  {
   "cell_type": "code",
   "execution_count": 13,
   "id": "b52a697b",
   "metadata": {},
   "outputs": [],
   "source": [
    "def gradient_descent(x, y, init_w, init_b, alpha, cost_function, gradient_function, iterations=1000):\n",
    "    hist = []\n",
    "    w = copy.deepcopy(init_w)\n",
    "    b = init_b\n",
    "    for i in range(1, iterations + 1):\n",
    "        w_t, b_t = gradient_function(x, y, w, b)\n",
    "        w = w - (alpha * w_t)\n",
    "        b = b - (alpha * b_t)\n",
    "        c_cost = cost_function(x, y, w, b)\n",
    "        hist.append([i, c_cost])\n",
    "        if i % 100 == 0:\n",
    "            print(f'w={w}, b={b}, cost={c_cost}')\n",
    "    return w, b, hist"
   ]
  },
  {
   "cell_type": "code",
   "execution_count": 14,
   "id": "58d7e122",
   "metadata": {},
   "outputs": [
    {
     "name": "stdout",
     "output_type": "stream",
     "text": [
      "w=[  28.78046652   40.55910213  106.67148459 -133.60874768], b=557.656, cost=238.9534893890684\n",
      "w=[  -3.47136201   25.77445205  138.18458581 -154.8038827 ], b=557.656, cost=183.5311112090224\n",
      "w=[ -29.83635855   24.99361894  158.55724902 -164.7438053 ], b=557.656, cost=158.99752410241285\n",
      "w=[ -52.82217434   30.84675517  173.20449404 -169.14066695], b=557.656, cost=142.98471363197004\n",
      "w=[ -73.69020754   39.70145375  184.81454406 -170.8189387 ], b=557.656, cost=129.93504373672363\n",
      "w=[ -93.08444504   49.77347617  194.72635522 -171.17472353], b=557.656, cost=118.41157931874984\n",
      "w=[-111.34256711   60.19223341  203.61104359 -170.89761625], b=557.656, cost=107.99242969943107\n",
      "w=[-128.64987835   70.53854286  211.8089777  -170.32777588], b=557.656, cost=98.51023994759089\n",
      "w=[-145.11548962   80.61599984  219.49654206 -169.63255274], b=557.656, cost=89.86556279104698\n",
      "w=[-160.81003882   90.33790751  226.76864524 -168.89385668], b=557.656, cost=81.98069944756732\n",
      "w=[-175.78438507   99.67136778  233.67954926 -168.15137279], b=557.656, cost=74.78795476103468\n",
      "w=[-190.07888937  108.60964639  240.2630818  -167.42393663], b=557.656, cost=68.2263525969305\n",
      "w=[-203.72803757  117.15852323  246.54264892 -166.72010605], b=557.656, cost=62.240457398440014\n",
      "w=[-216.76275766  125.32955955  252.53620213 -166.04338898], b=557.656, cost=56.779743972149255\n",
      "w=[-229.21159531  133.1367859   258.25870876 -165.39482794], b=557.656, cost=51.79813141237704\n",
      "w=[-241.10132336  140.5950813   263.72338684 -164.77427698], b=557.656, cost=47.25358455034373\n",
      "w=[-252.45726988  147.71938824  268.94232816 -164.18103197], b=557.656, cost=43.10775688732514\n",
      "w=[-263.30350597  154.52434034  273.92681821 -163.61414099], b=557.656, cost=39.325666449927255\n",
      "w=[-273.66296305  161.02409344  278.68750562 -163.0725567 ], b=557.656, cost=35.87540047460335\n",
      "w=[-283.55751403  167.23225664  283.23449661 -162.55521036], b=557.656, cost=32.72784609737049\n",
      "w=[-293.00803569  173.1618721   287.57741201 -162.0610474 ], b=557.656, cost=29.856444695009422\n",
      "w=[-302.03446079  178.82541839  291.7254251  -161.58904384], b=557.656, cost=27.236967785044776\n",
      "w=[-310.65582404  184.23482481  295.68728973 -161.1382134 ], b=557.6560000000001, cost=24.84731258869489\n",
      "w=[-318.89030421  189.40149062  299.47136302 -160.70760993], b=557.6560000000001, cost=22.667315530600085\n",
      "w=[-326.75526344  194.33630619  303.0856252  -160.29632774], b=557.6560000000001, cost=20.67858210137304\n",
      "w=[-334.26728428  199.04967445  306.53769742 -159.90350076], b=557.6560000000001, cost=18.864331647299647\n",
      "w=[-341.44220499  203.55153218  309.83485836 -159.52830132], b=557.6560000000001, cost=17.20925577753655\n",
      "w=[-348.29515292  207.85137054  312.98405986 -159.16993862], b=557.6560000000001, cost=15.699389194054188\n",
      "w=[-354.84057658  211.95825495  315.99194167 -158.82765723], b=557.6560000000001, cost=14.32199185441294\n",
      "w=[-361.09227607  215.88084408  318.86484552 -158.50073558], b=557.6560000000001, cost=13.065441473070468\n",
      "w=[-367.06343219  219.6274081   321.60882855 -158.18848441], b=557.6560000000001, cost=11.91913545416725\n",
      "w=[-372.76663425  223.20584607  324.22967606 -157.89024542], b=557.6560000000001, cost=10.873401428310371\n",
      "w=[-378.21390663  226.6237026   326.73291372 -157.60538982], b=557.6560000000001, cost=9.919415638476156\n",
      "w=[-383.4167341   229.88818372  329.12381925 -157.33331704], b=557.6560000000001, cost=9.049128486386836\n",
      "w=[-388.38608607  233.00617212  331.40743352 -157.07345345], b=557.6560000000001, cost=8.25519661113021\n",
      "w=[-393.13243969  235.98424162  333.58857121 -156.82525117], b=557.6560000000001, cost=7.530920926908403\n",
      "w=[-397.66580195  238.82867104  335.67183093 -156.58818689], b=557.6560000000001, cost=6.870190097093716\n",
      "w=[-401.99573077  241.54545745  337.66160492 -156.36176082], b=557.6560000000001, cost=6.267428967625738\n",
      "w=[-406.13135519  244.14032878  339.56208832 -156.14549555], b=557.6560000000001, cost=5.717551524644194\n",
      "w=[-410.08139456  246.61875595  341.37728804 -155.93893514], b=557.6560000000001, cost=5.215917979417454\n",
      "w=[-413.85417696  248.98596436  343.11103115 -155.74164406], b=557.6560000000001, cost=4.758295618455955\n",
      "w=[-417.45765675  251.24694492  344.766973   -155.55320637], b=557.6560000000001, cost=4.340823088469337\n",
      "w=[-420.89943134  253.40646458  346.3486049  -155.37322477], b=557.6560000000001, cost=3.959977814808841\n",
      "w=[-424.18675721  255.46907636  347.85926149 -155.2013198 ], b=557.6560000000001, cost=3.61254627847746\n",
      "w=[-427.3265652   257.43912899  349.30212776 -155.03712902], b=557.6560000000001, cost=3.295596900905945\n",
      "w=[-430.32547513  259.32077603  350.68024579 -154.88030625], b=557.6560000000001, cost=3.006455307705836\n",
      "w=[-433.18980978  261.11798466  351.99652114 -154.73052087], b=557.6560000000001, cost=2.742681762671861\n",
      "w=[-435.92560818  262.83454402  353.25372898 -154.58745706], b=557.6560000000001, cost=2.5020505816309013\n",
      "w=[-438.53863834  264.47407324  354.45451995 -154.45081321], b=557.6560000000001, cost=2.282531352431011\n",
      "w=[-441.03440947  266.04002902  355.60142575 -154.32030121], b=557.6560000000001, cost=2.0822718026087275\n",
      "w=[-443.41818353  267.53571295  356.69686445 -154.1956459 ], b=557.6560000000001, cost=1.8995821701732898\n",
      "w=[-445.69498636  268.96427846  357.74314563 -154.07658447], b=557.6560000000001, cost=1.7329209456323273\n",
      "w=[-447.86961827  270.32873747  358.74247522 -153.96286589], b=557.6560000000001, cost=1.5808818649509588\n",
      "w=[-449.94666415  271.63196674  359.69696017 -153.8542504 ], b=557.6560000000001, cost=1.4421820436932502\n",
      "w=[-451.93050315  272.87671395  360.60861285 -153.750509  ], b=557.6560000000001, cost=1.3156511522230057\n",
      "w=[-453.82531789  274.06560346  361.47935536 -153.65142297], b=557.6560000000001, cost=1.200221540626807\n",
      "w=[-455.63510333  275.20114186  362.31102353 -153.55678339], b=557.6560000000001, cost=1.0949192300333719\n",
      "w=[-457.36367512  276.28572328  363.10537081 -153.46639075], b=557.6560000000001, cost=0.9988556943168447\n",
      "w=[-459.01467772  277.3216344   363.86407197 -153.38005444], b=557.6560000000001, cost=0.9112203628379534\n",
      "w=[-460.59159201  278.31105927  364.58872661 -153.29759246], b=557.6560000000001, cost=0.8312737809622762\n",
      "w=[-462.09774269  279.25608397  365.28086257 -153.21883094], b=557.6560000000001, cost=0.7583413706463367\n",
      "w=[-463.53630525  280.15870094  365.94193911 -153.14360382], b=557.6560000000001, cost=0.6918077384421004\n",
      "w=[-464.91031271  281.02081321  366.57335002 -153.0717525 ], b=557.6560000000001, cost=0.6311114828938685\n",
      "w=[-466.22266194  281.84423842  367.17642653 -153.00312548], b=557.656, cost=0.5757404575112537\n",
      "w=[-467.47611985  282.63071264  367.75244014 -152.93757809], b=557.656, cost=0.5252274493491355\n",
      "w=[-468.67332917  283.38189404  368.30260529 -152.87497211], b=557.6560000000001, cost=0.4791462367301009\n",
      "w=[-469.81681403  284.09936638  368.82808193 -152.81517557], b=557.6560000000001, cost=0.43710799284599994\n",
      "w=[-470.90898532  284.78464233  369.32997794 -152.75806238], b=557.6560000000001, cost=0.3987580048916828\n",
      "w=[-471.95214571  285.43916671  369.80935151 -152.70351212], b=557.6560000000001, cost=0.3637726810482042\n",
      "w=[-472.94849455  286.06431947  370.26721331 -152.6514098 ], b=557.6560000000001, cost=0.3318568200605029\n",
      "w=[-473.90013251  286.66141868  370.70452868 -152.60164555], b=557.6560000000001, cost=0.3027411203703124\n",
      "w=[-474.80906596  287.23172321  371.12221964 -152.55411446], b=557.6560000000001, cost=0.2761799077878688\n",
      "w=[-475.67721126  287.77643548  371.52116684 -152.50871632], b=557.6560000000001, cost=0.2519490625271051\n",
      "w=[-476.50639878  288.29670393  371.90221138 -152.4653554 ], b=557.6560000000001, cost=0.22984412811469515\n",
      "w=[-477.29837672  288.79362548  372.26615665 -152.4239403 ], b=557.6560000000001, cost=0.20967858621466778\n",
      "w=[-478.05481487  289.2682478   372.61376997 -152.38438368], b=557.6560000000001, cost=0.19128228281319706\n",
      "w=[-478.77730805  289.72157157  372.94578424 -152.34660216], b=557.6560000000001, cost=0.17449999248259845\n",
      "w=[-479.46737954  290.15455255  373.26289945 -152.31051608], b=557.6560000000001, cost=0.1591901086111736\n",
      "w=[-480.12648426  290.56810363  373.5657842  -152.27604935], b=557.6560000000001, cost=0.1452234485463851\n",
      "w=[-480.75601183  290.96309671  373.85507708 -152.2431293 ], b=557.6560000000001, cost=0.13248216356972015\n",
      "w=[-481.35728951  291.34036459  374.13138802 -152.21168653], b=557.6560000000001, cost=0.12085874450574392\n",
      "w=[-481.93158502  291.70070267  374.39529958 -152.18165475], b=557.6560000000001, cost=0.1102551145748722\n",
      "w=[-482.48010917  292.04487067  374.64736818 -152.15297064], b=557.6560000000001, cost=0.10058180183510032\n",
      "w=[-483.00401845  292.37359422  374.88812526 -152.12557371], b=557.6560000000001, cost=0.09175718423046417\n",
      "w=[-483.50441743  292.68756639  375.11807844 -152.09940622], b=557.6560000000001, cost=0.08370680087542334\n",
      "w=[-483.98236114  292.98744915  375.33771252 -152.07441299], b=557.6560000000001, cost=0.07636272376447037\n",
      "w=[-484.43885726  293.27387474  375.54749059 -152.05054132], b=557.6560000000001, cost=0.06966298460515184\n",
      "w=[-484.87486823  293.54744707  375.74785492 -152.02774089], b=557.6560000000001, cost=0.06355105193818028\n",
      "w=[-485.29131333  293.8087429   375.93922796 -152.00596362], b=557.6560000000001, cost=0.05797535413306648\n",
      "w=[-485.68907056  294.05831316  376.12201318 -151.9851636 ], b=557.6560000000001, cost=0.05288884423381322\n",
      "w=[-486.06897854  294.29668401  376.29659596 -151.96529697], b=557.6560000000001, cost=0.04824860298341734\n",
      "w=[-486.43183826  294.52435804  376.46334438 -151.94632186], b=557.6560000000001, cost=0.04401547667707951\n",
      "w=[-486.77841473  294.74181526  376.62261002 -151.92819824], b=557.6560000000001, cost=0.04015374678881199\n",
      "w=[-487.10943869  294.94951414  376.77472865 -151.91088792], b=557.6560000000001, cost=0.0366308285835394\n",
      "w=[-487.42560803  295.14789259  376.920021   -151.8943544 ], b=557.6560000000001, cost=0.03341699617157799\n",
      "w=[-487.72758935  295.33736885  377.05879339 -151.87856281], b=557.6560000000001, cost=0.030485131685864163\n",
      "w=[-488.01601934  295.51834243  377.19133841 -151.86347987], b=557.6560000000001, cost=0.027810496465108518\n",
      "w=[-488.29150611  295.69119485  377.31793551 -151.84907377], b=557.6560000000001, cost=0.02537052231250806\n",
      "w=[-488.55463049  295.85629058  377.43885159 -151.83531414], b=557.6560000000001, cost=0.02314462106840949\n",
      "w=[-488.80594723  296.01397767  377.5543416  -151.82217197], b=557.6560000000001, cost=0.02111401089036529\n"
     ]
    }
   ],
   "source": [
    "x_train_norm = z_normal(x_train)\n",
    "w, b, hist = gradient_descent(x_train_norm, y_train, w, b, 0.5, cost, gradient, 10000)"
   ]
  },
  {
   "cell_type": "markdown",
   "id": "c6bbaac5",
   "metadata": {},
   "source": [
    "Let's now predict the value of the house like before"
   ]
  },
  {
   "cell_type": "code",
   "execution_count": 15,
   "id": "b3c2f338",
   "metadata": {},
   "outputs": [
    {
     "name": "stdout",
     "output_type": "stream",
     "text": [
      "Value for a house with size=1275 and numberOfBedrooms=4 and numberOfBathrooms=1 and age=12 is 452.795k$\n",
      "The actual price is 452.983k$\n"
     ]
    }
   ],
   "source": [
    "print(f'Value for a house with size=1275 and numberOfBedrooms=4 and numberOfBathrooms=1 and age=12 is {predict(x_train_norm[0], w, b):.3f}k$')\n",
    "print(f'The actual price is {y_train[0]}k$')"
   ]
  },
  {
   "cell_type": "code",
   "execution_count": 16,
   "id": "4e0257ea",
   "metadata": {},
   "outputs": [
    {
     "data": {
      "text/html": [
       "<div>\n",
       "<style scoped>\n",
       "    .dataframe tbody tr th:only-of-type {\n",
       "        vertical-align: middle;\n",
       "    }\n",
       "\n",
       "    .dataframe tbody tr th {\n",
       "        vertical-align: top;\n",
       "    }\n",
       "\n",
       "    .dataframe thead th {\n",
       "        text-align: right;\n",
       "    }\n",
       "</style>\n",
       "<table border=\"1\" class=\"dataframe\">\n",
       "  <thead>\n",
       "    <tr style=\"text-align: right;\">\n",
       "      <th></th>\n",
       "      <th>Size (feet squared)</th>\n",
       "      <th>Number of bedrooms</th>\n",
       "      <th>Number of bathrooms</th>\n",
       "      <th>Age</th>\n",
       "      <th>Price(1k $)</th>\n",
       "      <th>Prediction (1k $)</th>\n",
       "    </tr>\n",
       "  </thead>\n",
       "  <tbody>\n",
       "    <tr>\n",
       "      <th>0</th>\n",
       "      <td>1275.0</td>\n",
       "      <td>4.0</td>\n",
       "      <td>1.0</td>\n",
       "      <td>12.0</td>\n",
       "      <td>452.983</td>\n",
       "      <td>452.794788</td>\n",
       "    </tr>\n",
       "    <tr>\n",
       "      <th>1</th>\n",
       "      <td>1674.0</td>\n",
       "      <td>5.0</td>\n",
       "      <td>2.0</td>\n",
       "      <td>6.0</td>\n",
       "      <td>673.983</td>\n",
       "      <td>674.356073</td>\n",
       "    </tr>\n",
       "    <tr>\n",
       "      <th>2</th>\n",
       "      <td>2000.0</td>\n",
       "      <td>6.0</td>\n",
       "      <td>3.0</td>\n",
       "      <td>1.0</td>\n",
       "      <td>983.992</td>\n",
       "      <td>983.800950</td>\n",
       "    </tr>\n",
       "    <tr>\n",
       "      <th>3</th>\n",
       "      <td>987.0</td>\n",
       "      <td>2.0</td>\n",
       "      <td>1.0</td>\n",
       "      <td>34.0</td>\n",
       "      <td>122.111</td>\n",
       "      <td>122.116706</td>\n",
       "    </tr>\n",
       "    <tr>\n",
       "      <th>4</th>\n",
       "      <td>1275.0</td>\n",
       "      <td>4.0</td>\n",
       "      <td>1.0</td>\n",
       "      <td>4.0</td>\n",
       "      <td>555.211</td>\n",
       "      <td>555.211483</td>\n",
       "    </tr>\n",
       "  </tbody>\n",
       "</table>\n",
       "</div>"
      ],
      "text/plain": [
       "   Size (feet squared)  Number of bedrooms  Number of bathrooms   Age  \\\n",
       "0               1275.0                 4.0                  1.0  12.0   \n",
       "1               1674.0                 5.0                  2.0   6.0   \n",
       "2               2000.0                 6.0                  3.0   1.0   \n",
       "3                987.0                 2.0                  1.0  34.0   \n",
       "4               1275.0                 4.0                  1.0   4.0   \n",
       "\n",
       "   Price(1k $)  Prediction (1k $)  \n",
       "0      452.983         452.794788  \n",
       "1      673.983         674.356073  \n",
       "2      983.992         983.800950  \n",
       "3      122.111         122.116706  \n",
       "4      555.211         555.211483  "
      ]
     },
     "execution_count": 16,
     "metadata": {},
     "output_type": "execute_result"
    }
   ],
   "source": [
    "predicted_values = []\n",
    "for i in range(m):\n",
    "    predicted_values.append(predict(x_train_norm[i], w, b))\n",
    "df['Prediction (1k $)'] = pd.Series(predicted_values)\n",
    "df"
   ]
  },
  {
   "cell_type": "markdown",
   "id": "369cba0f",
   "metadata": {},
   "source": [
    "Let's take a look at our learning curve"
   ]
  },
  {
   "cell_type": "code",
   "execution_count": 17,
   "id": "446e7670",
   "metadata": {},
   "outputs": [
    {
     "data": {
      "image/png": "[encoded data removed]",
      "text/plain": [
       "<Figure size 432x288 with 1 Axes>"
      ]
     },
     "metadata": {
      "needs_background": "light"
     },
     "output_type": "display_data"
    }
   ],
   "source": [
    "fig = plt.figure()\n",
    "hist = np.array(hist)\n",
    "plt.plot(hist[800:10000, 0], hist[800:10000, 1]);\n",
    "plt.title('Learning Curve');\n",
    "plt.xlabel('Iterations');\n",
    "plt.ylabel('Cost function');"
   ]
  },
  {
   "cell_type": "markdown",
   "id": "0b64cdf0",
   "metadata": {},
   "source": [
    "Scaling helps us to better train our data and much more faster"
   ]
  }
 ],
 "metadata": {
  "kernelspec": {
   "display_name": "Python 3 (ipykernel)",
   "language": "python",
   "name": "python3"
  },
  "language_info": {
   "codemirror_mode": {
    "name": "ipython",
    "version": 3
   },
   "file_extension": ".py",
   "mimetype": "text/x-python",
   "name": "python",
   "nbconvert_exporter": "python",
   "pygments_lexer": "ipython3",
   "version": "3.10.4"
  }
 },
 "nbformat": 4,
 "nbformat_minor": 5
}
