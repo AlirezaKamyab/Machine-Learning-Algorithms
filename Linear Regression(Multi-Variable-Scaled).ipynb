{
 "cells": [
  {
   "cell_type": "markdown",
   "id": "0056e70f",
   "metadata": {},
   "source": [
    "# Linear Regression (Multiple Variables) with scaling\n",
    "\n",
    "## Function\n",
    "In here we have multiple features so $w$ is a vector and is written as $\\overrightarrow{w}$\n",
    "and $x$ is also a vector written as $\\overrightarrow{x}$. $b$ is the same number (bias) and we write the function as<br>\n",
    "$f_{\\overrightarrow{w},b}(\\overrightarrow{x}) = \\overrightarrow{w}.\\overrightarrow{x} + b$<br>\n",
    "which is its vectorized form; without vectorization it will be like <br>\n",
    "$f_{w, b}(x) = w_1x_1 + w_2x_2 + . . . + w_nx_n + b$ <br>\n",
    "The result of the dot product is the same<br>\n",
    "$\\overrightarrow{w}.\\overrightarrow{x} = w_1x_1 + w_2x_2 + . . . + w_nx_n$"
   ]
  },
  {
   "cell_type": "markdown",
   "id": "6b8248f4",
   "metadata": {},
   "source": [
    "Let's use the same example of price of the houses but this time with multiple features; other than predicting the price via its size, we'll have number of bedrooms, age of the house, number of bathrooms."
   ]
  },
  {
   "cell_type": "code",
   "execution_count": 1,
   "id": "ba62216b",
   "metadata": {},
   "outputs": [],
   "source": [
    "import numpy as np\n",
    "import pandas as pd\n",
    "import copy\n",
    "import matplotlib.pyplot as plt"
   ]
  },
  {
   "cell_type": "code",
   "execution_count": 2,
   "id": "378f8aec",
   "metadata": {},
   "outputs": [],
   "source": [
    "# Our dataset\n",
    "x_train = np.array([[1275, 4, 1, 12], [1674, 5, 2, 6], [2000, 6, 3, 1], [987, 2, 1, 34], [1275, 4, 1, 4]], dtype='float64')\n",
    "y_train = np.array([452.983, 673.983, 983.992, 122.111, 555.211], dtype='float64')\n",
    "m, n = x_train.shape # m is the number of data and n is the number of features\n",
    "w = np.random.random(n) # initial value for w\n",
    "b = 100 # initial value for b"
   ]
  },
  {
   "cell_type": "code",
   "execution_count": 3,
   "id": "e138fee8",
   "metadata": {},
   "outputs": [
    {
     "data": {
      "text/html": [
       "<div>\n",
       "<style scoped>\n",
       "    .dataframe tbody tr th:only-of-type {\n",
       "        vertical-align: middle;\n",
       "    }\n",
       "\n",
       "    .dataframe tbody tr th {\n",
       "        vertical-align: top;\n",
       "    }\n",
       "\n",
       "    .dataframe thead th {\n",
       "        text-align: right;\n",
       "    }\n",
       "</style>\n",
       "<table border=\"1\" class=\"dataframe\">\n",
       "  <thead>\n",
       "    <tr style=\"text-align: right;\">\n",
       "      <th></th>\n",
       "      <th>Size (1k feet squared)</th>\n",
       "      <th>Number of bedrooms</th>\n",
       "      <th>Number of bathrooms</th>\n",
       "      <th>Age</th>\n",
       "      <th>Price(1k $)</th>\n",
       "    </tr>\n",
       "  </thead>\n",
       "  <tbody>\n",
       "    <tr>\n",
       "      <th>0</th>\n",
       "      <td>1275.0</td>\n",
       "      <td>4.0</td>\n",
       "      <td>1.0</td>\n",
       "      <td>12.0</td>\n",
       "      <td>452.983</td>\n",
       "    </tr>\n",
       "    <tr>\n",
       "      <th>1</th>\n",
       "      <td>1674.0</td>\n",
       "      <td>5.0</td>\n",
       "      <td>2.0</td>\n",
       "      <td>6.0</td>\n",
       "      <td>673.983</td>\n",
       "    </tr>\n",
       "    <tr>\n",
       "      <th>2</th>\n",
       "      <td>2000.0</td>\n",
       "      <td>6.0</td>\n",
       "      <td>3.0</td>\n",
       "      <td>1.0</td>\n",
       "      <td>983.992</td>\n",
       "    </tr>\n",
       "    <tr>\n",
       "      <th>3</th>\n",
       "      <td>987.0</td>\n",
       "      <td>2.0</td>\n",
       "      <td>1.0</td>\n",
       "      <td>34.0</td>\n",
       "      <td>122.111</td>\n",
       "    </tr>\n",
       "    <tr>\n",
       "      <th>4</th>\n",
       "      <td>1275.0</td>\n",
       "      <td>4.0</td>\n",
       "      <td>1.0</td>\n",
       "      <td>4.0</td>\n",
       "      <td>555.211</td>\n",
       "    </tr>\n",
       "  </tbody>\n",
       "</table>\n",
       "</div>"
      ],
      "text/plain": [
       "   Size (1k feet squared)  Number of bedrooms  Number of bathrooms   Age  \\\n",
       "0                  1275.0                 4.0                  1.0  12.0   \n",
       "1                  1674.0                 5.0                  2.0   6.0   \n",
       "2                  2000.0                 6.0                  3.0   1.0   \n",
       "3                   987.0                 2.0                  1.0  34.0   \n",
       "4                  1275.0                 4.0                  1.0   4.0   \n",
       "\n",
       "   Price(1k $)  \n",
       "0      452.983  \n",
       "1      673.983  \n",
       "2      983.992  \n",
       "3      122.111  \n",
       "4      555.211  "
      ]
     },
     "execution_count": 3,
     "metadata": {},
     "output_type": "execute_result"
    }
   ],
   "source": [
    "df = pd.DataFrame(x_train, columns=['Size (1k feet squared)', 'Number of bedrooms', 'Number of bathrooms', 'Age'])\n",
    "df['Price(1k $)'] = pd.Series(y_train)\n",
    "df"
   ]
  },
  {
   "cell_type": "code",
   "execution_count": 4,
   "id": "ecba4663",
   "metadata": {},
   "outputs": [
    {
     "data": {
      "image/png": "[encoded data removed]",
      "text/plain": [
       "<Figure size 432x288 with 1 Axes>"
      ]
     },
     "metadata": {
      "needs_background": "light"
     },
     "output_type": "display_data"
    }
   ],
   "source": [
    "fig, ax = plt.subplots(1, 1)\n",
    "ax.scatter(x_train[:,0], x_train[:,3]);\n",
    "ax.axis('equal');\n",
    "ax.set_title(\"Not scaled\");\n",
    "ax.set_xlabel('Size');\n",
    "ax.set_ylabel('Age');"
   ]
  },
  {
   "cell_type": "code",
   "execution_count": 5,
   "id": "013b70aa",
   "metadata": {},
   "outputs": [
    {
     "data": {
      "image/png": "[encoded data removed]",
      "text/plain": [
       "<Figure size 864x216 with 4 Axes>"
      ]
     },
     "metadata": {
      "needs_background": "light"
     },
     "output_type": "display_data"
    }
   ],
   "source": [
    "fig, ax = plt.subplots(1, 4, figsize=(12, 3))\n",
    "ax[0].scatter(x_train[:, 0], y_train)\n",
    "ax[0].set_title('Size - Price')\n",
    "ax[0].set_xlabel('Size square feet')\n",
    "ax[0].set_ylabel('Price$')\n",
    "\n",
    "ax[1].tick_params(labelleft=False, left=False)\n",
    "ax[1].scatter(x_train[:, 1], y_train)\n",
    "ax[1].set_title('Bedrooms - Price')\n",
    "ax[1].set_xlabel('Number of bedrooms')\n",
    "\n",
    "ax[2].tick_params(labelleft=False, left=False)\n",
    "ax[2].scatter(x_train[:, 2], y_train)\n",
    "ax[2].set_title('Bathrooms - Price')\n",
    "ax[2].set_xlabel('Number of Bathrooms')\n",
    "\n",
    "ax[3].tick_params(labelleft=False, left=False)\n",
    "ax[3].scatter(x_train[:, 3], y_train)\n",
    "ax[3].set_title('Age - Price')\n",
    "ax[3].set_xlabel('Age');"
   ]
  },
  {
   "cell_type": "markdown",
   "id": "ca75d19a",
   "metadata": {},
   "source": [
    "Now let's use Z-normalization to scale our data to better train our model. Below, function is define to scale our dataset data."
   ]
  },
  {
   "cell_type": "code",
   "execution_count": 6,
   "id": "2ef5f833",
   "metadata": {},
   "outputs": [],
   "source": [
    "def z_normal(x):\n",
    "    std = x.std()\n",
    "    mean = x.mean()\n",
    "    x_temp = copy.deepcopy(x).T\n",
    "    m, n = x_temp.shape\n",
    "    for i in range(m):\n",
    "        std = x_temp[i].std()\n",
    "        x_temp[i] = x_temp[i] - x_temp[i].mean()\n",
    "        x_temp[i] =  x_temp[i] / std\n",
    "    return x_temp.T"
   ]
  },
  {
   "cell_type": "markdown",
   "id": "829fcb93",
   "metadata": {},
   "source": [
    "After normalization, let's see how scaled Size and age are"
   ]
  },
  {
   "cell_type": "code",
   "execution_count": 7,
   "id": "7af1c1fe",
   "metadata": {},
   "outputs": [
    {
     "data": {
      "image/png": "[encoded data removed]",
      "text/plain": [
       "<Figure size 864x216 with 2 Axes>"
      ]
     },
     "metadata": {
      "needs_background": "light"
     },
     "output_type": "display_data"
    }
   ],
   "source": [
    "fig, ax = plt.subplots(1, 2, figsize=(12, 3))\n",
    "ax[0].axis('equal');\n",
    "ax[0].scatter(x_train[:, 0], x_train[:, 3]);\n",
    "ax[0].set_title(\"Not normalized\");\n",
    "ax[0].set_xlabel('Size');\n",
    "ax[0].set_ylabel('Age');\n",
    "\n",
    "x_train_norm = z_normal(x_train)\n",
    "ax[1].axis('equal');\n",
    "ax[1].scatter(x_train_norm[:, 0], x_train_norm[:, 3]);\n",
    "ax[1].set_title(\"Not normalized\");\n",
    "ax[1].set_xlabel('Size');\n",
    "ax[1].set_ylabel('Age');"
   ]
  },
  {
   "cell_type": "code",
   "execution_count": 8,
   "id": "caa17834",
   "metadata": {},
   "outputs": [],
   "source": [
    "def predict(x, w, b):\n",
    "    return np.dot(w, x) + b"
   ]
  },
  {
   "cell_type": "markdown",
   "id": "de44c9c5",
   "metadata": {},
   "source": [
    "Now let's try to predict the value of the first house in the dataset; "
   ]
  },
  {
   "cell_type": "code",
   "execution_count": 9,
   "id": "a3759b60",
   "metadata": {},
   "outputs": [
    {
     "name": "stdout",
     "output_type": "stream",
     "text": [
      "Value for a house with size=1.275 and numberOfBedrooms=4 and numberOfBathrooms=1 and age=12 is 119.047k$\n",
      "The actual price is 452.983k$\n"
     ]
    }
   ],
   "source": [
    "print(f'Value for a house with size=1.275 and numberOfBedrooms=4 and numberOfBathrooms=1 and age=12 is {predict(x_train[0], w, b):.3f}k$')\n",
    "print(f'The actual price is {y_train[0]}k$')"
   ]
  },
  {
   "cell_type": "markdown",
   "id": "e808a66c",
   "metadata": {},
   "source": [
    "## Cost function\n",
    "Now that we use vectorization, cost function is defined as <br>\n",
    "$J(\\overrightarrow{w}, b) = \\frac{1}{2m}\\Sigma_{i=1}^{m}(f_{\\overrightarrow{x},b}(\\overrightarrow{x}^{(i)}) - y^{(i)})^2$"
   ]
  },
  {
   "cell_type": "code",
   "execution_count": 10,
   "id": "81dcc9a8",
   "metadata": {},
   "outputs": [],
   "source": [
    "def cost(x, y, w, b):\n",
    "    err_sum = 0\n",
    "    m = x.shape[0]\n",
    "    for i in range(m):\n",
    "        f_wb = np.dot(w, x[i]) + b\n",
    "        err_sum += (f_wb - y[i]) ** 2\n",
    "    err_sum = err_sum / (2 * m)\n",
    "    return err_sum"
   ]
  },
  {
   "cell_type": "markdown",
   "id": "bfcdd1d5",
   "metadata": {},
   "source": [
    "If we run the cost function now due to our last test for predicting the price of the first house, we anticipate a large number\n"
   ]
  },
  {
   "cell_type": "code",
   "execution_count": 11,
   "id": "7eda5680",
   "metadata": {},
   "outputs": [
    {
     "name": "stdout",
     "output_type": "stream",
     "text": [
      "136376.61825183942\n"
     ]
    }
   ],
   "source": [
    "print(cost(x_train, y_train, w, b))"
   ]
  },
  {
   "cell_type": "markdown",
   "id": "9fb25e32",
   "metadata": {},
   "source": [
    "## Gradient Descent\n",
    "Now since we have multiple features, we should find the derivative of each of the features. So, we have to find a good value for each of $w$s from $w_1$ to $w_n$\n",
    "So we have to find the derivative for each of the features\n",
    "$w_i = w_i - \\alpha\\frac{d}{dm}J(\\overrightarrow{w}, b)$ and $b = b - \\alpha\\frac{d}{db}J(\\overrightarrow{w}, b)$<br>\n",
    "for each of the $w$s we have<br>\n",
    "$w_j = w_j - \\alpha\\frac{1}{m}\\Sigma_{i=1}^{m}(f_{\\overrightarrow{w},b}(x^{(i)}) - y^{(i)})x_{j}^{(i)}$<br>\n",
    "$b = b - \\alpha\\frac{1}{m}\\Sigma_{i=1}^{m}(f_{\\overrightarrow{w},b}(x^{(i)})-y^{(i)})$"
   ]
  },
  {
   "cell_type": "code",
   "execution_count": 12,
   "id": "5274ffa8",
   "metadata": {},
   "outputs": [],
   "source": [
    "def gradient(x, y, w, b):\n",
    "    m, n = x.shape\n",
    "    w_t = np.zeros((n,))\n",
    "    b_t = 0\n",
    "    for i in range(m):\n",
    "        err = np.dot(w, x[i]) + b - y[i]\n",
    "        for j in range(n):\n",
    "            w_t[j] += err * x[i, j]\n",
    "        b_t += err\n",
    "    w_t = w_t / m\n",
    "    b_t = b_t / m\n",
    "    return w_t, b_t"
   ]
  },
  {
   "cell_type": "code",
   "execution_count": 13,
   "id": "b52a697b",
   "metadata": {},
   "outputs": [],
   "source": [
    "def gradient_descent(x, y, init_w, init_b, alpha, cost_function, gradient_function, iterations=1000):\n",
    "    hist = []\n",
    "    w = copy.deepcopy(init_w)\n",
    "    b = init_b\n",
    "    for i in range(1, iterations + 1):\n",
    "        w_t, b_t = gradient_function(x, y, w, b)\n",
    "        w = w - (alpha * w_t)\n",
    "        b = b - (alpha * b_t)\n",
    "        c_cost = cost_function(x, y, w, b)\n",
    "        hist.append([i, c_cost])\n",
    "        if i % 100 == 0:\n",
    "            print(f'w={w}, b={b}, cost={c_cost}')\n",
    "    return w, b, hist"
   ]
  },
  {
   "cell_type": "code",
   "execution_count": 14,
   "id": "58d7e122",
   "metadata": {},
   "outputs": [
    {
     "name": "stdout",
     "output_type": "stream",
     "text": [
      "w=[  29.08479358   40.42825336  106.50298891 -133.58539465], b=557.6560000000001, cost=239.2571121833083\n",
      "w=[  -3.18831024   25.62658168  138.04034263 -154.79926048], b=557.6560000000001, cost=183.74830513003417\n",
      "w=[ -29.56977731   24.84105978  158.42773521 -164.74813749], b=557.6560000000001, cost=159.18103241154878\n",
      "w=[ -52.56942007   30.69544034  173.08487629 -169.14913151], b=557.6560000000001, cost=143.14854194021493\n",
      "w=[ -73.44971768   39.55415818  184.70231438 -170.82916368], b=557.6560000000001, cost=130.08362252486785\n",
      "w=[ -92.85520325   49.63141978  194.62016116 -171.18554838], b=557.6560000000001, cost=118.54690811098367\n",
      "w=[-111.12383812   60.05587374  203.5101093  -170.90847904], b=557.6560000000001, cost=108.11583287821864\n",
      "w=[-128.44107639   70.40796691  211.71281733 -170.33841026], b=557.6560000000001, cost=98.6228034264195\n",
      "w=[-144.91611279   80.49111755  219.40481782 -169.64283804], b=557.6560000000001, cost=89.96824729122943\n",
      "w=[-160.61963629   90.21854722  226.68109693 -168.90374382], b=557.6560000000001, cost=82.07437408008323\n",
      "w=[-175.60254031   99.55732315  233.59595926 -168.1608476 ], b=557.6560000000001, cost=74.87341059348259\n",
      "w=[-189.90521153  108.5006994   240.18325752 -167.43300177], b=557.6560000000001, cost=68.30431085371053\n",
      "w=[-203.56215678  117.05445528  246.46641398 -166.72877207], b=557.6560000000001, cost=62.31157591955432\n",
      "w=[-216.60432236  125.23015671  252.46339179 -166.05166991], b=557.6560000000001, cost=56.84462285528675\n",
      "w=[-229.06027057  133.0418413   258.18916753 -165.40273914], b=557.6560000000001, cost=51.857318098799205\n",
      "w=[-240.95678968  140.50439612  263.65696713 -164.7818341 ], b=557.6560000000001, cost=47.30757844958151\n",
      "w=[-252.3192223   147.63277194  268.87888945 -164.18825042], b=557.6560000000001, cost=43.15701359246717\n",
      "w=[-263.17165334  154.44161063  273.86622652 -163.62103575], b=557.6560000000001, cost=39.37060158217599\n",
      "w=[-273.53702732  160.94507606  278.62963306 -163.07914216], b=557.6560000000001, cost=35.9163931903106\n",
      "w=[-283.43722965  167.15678506  283.17922113 -162.56150036], b=557.6560000000001, cost=32.765242287322906\n",
      "w=[-292.89314905  173.08978726  287.52461702 -162.06705516], b=557.6560000000001, cost=29.89055990301295\n",
      "w=[-301.92472967  178.75656832  291.67499929 -161.59478203], b=557.6560000000001, cost=27.268089870439365\n",
      "w=[-310.55101708  184.16906435  295.63912677 -161.14369409], b=557.6560000000001, cost=24.875704155271247\n",
      "w=[-318.79020044  189.33868114  299.42536137 -160.71284468], b=557.6560000000001, cost=22.693216142414656\n",
      "w=[-326.65965179  194.27631527  303.04168786 -160.30132758], b=557.6560000000001, cost=20.70221030415511\n",
      "w=[-334.17596319  198.99237561  306.49573175 -159.90827624], b=557.6560000000001, cost=18.88588681251022\n",
      "w=[-341.3549819   203.49680461  309.7947759  -159.5328625 ], b=557.6560000000001, cost=17.228919784635565\n",
      "w=[-348.21184394  207.79909886  312.94577609 -159.17429512], b=557.6560000000001, cost=15.7173279651754\n",
      "w=[-354.76100608  211.90832894  315.95537587 -158.83181823], b=557.6560000000001, cost=14.338356754391096\n",
      "w=[-361.01627627  215.83315849  318.8299206  -158.50470985], b=557.6560000000001, cost=13.080370586635762\n",
      "w=[-366.99084286  219.58186239  321.57547088 -158.19228035], b=557.6560000000001, cost=11.932754751085959\n",
      "w=[-372.69730235  223.16234421  324.1978153  -157.89387102], b=557.6560000000001, cost=10.885825826299474\n",
      "w=[-378.14768598  226.58215287  326.7024827  -157.60885272], b=557.6560000000001, cost=9.930749972863032\n",
      "w=[-383.35348508  229.84849853  329.09475381 -157.33662454], b=557.6560000000001, cost=9.05946839469533\n",
      "w=[-388.32567534  232.96826779  331.37967239 -157.07661252], b=557.6560000000001, cost=8.264629340055981\n",
      "w=[-393.07473987  235.94803824  333.56205586 -156.82826848], b=557.6560000000001, cost=7.539526068495204\n",
      "w=[-397.61069139  238.79409227  335.64650544 -156.59106881], b=557.6560000000001, cost=6.8780402603191035\n",
      "w=[-401.94309329  241.51243039  337.63741591 -156.3645134 ], b=557.6560000000001, cost=6.274590391065789\n",
      "w=[-406.0810798   244.10878381  339.53898479 -156.14812462], b=557.6560000000001, cost=5.724084635385503\n",
      "w=[-410.03337526  246.58862655  341.35522127 -155.94144622], b=557.6560000000001, cost=5.22187790293195\n",
      "w=[-413.80831252  248.95718701  343.08995462 -155.74404246], b=557.6560000000001, cost=4.763732643742253\n",
      "w=[-417.41385046  251.21945895  344.74684228 -155.55549714], b=557.6560000000001, cost=4.345783092383997\n",
      "w=[-420.85759085  253.38021203  346.32937754 -155.37541275], b=557.6560000000001, cost=3.9645026491693764\n",
      "w=[-424.14679429  255.44400189  347.84089694 -155.20340959], b=557.6560000000001, cost=3.6166741232013195\n",
      "w=[-427.28839561  257.41517973  349.28458732 -155.03912503], b=557.6560000000001, cost=3.299362586168205\n",
      "w=[-430.2890184   259.29790148  350.66349247 -154.88221269], b=557.6560000000001, cost=3.009890607830214\n",
      "w=[-433.15498903  261.0961366   351.98051962 -154.73234176], b=557.6560000000001, cost=2.7458156642390743\n",
      "w=[-435.89235     262.81367639  353.23844553 -154.58919624], b=557.6560000000001, cost=2.504909528062735\n",
      "w=[-438.50687262  264.45414204  354.43992234 -154.45247434], b=557.6560000000001, cost=2.2851394671164518\n",
      "w=[-441.00406922  266.02099222  355.5874832  -154.3218878 ], b=557.6560000000001, cost=2.0846510924535484\n",
      "w=[-443.38920479  267.51753042  356.68354757 -154.1971613 ], b=557.6560000000001, cost=1.9017527112916084\n",
      "w=[-445.66730804  268.94691187  357.73042635 -154.07803186], b=557.6560000000001, cost=1.7349010527454483\n",
      "w=[-447.84318201  270.3121502   358.73032671 -153.96424833], b=557.6560000000001, cost=1.582688245925011\n",
      "w=[-449.9214142   271.61612383  359.68535681 -153.8555708 ], b=557.656, cost=1.4438299405175867\n",
      "w=[-451.90638628  272.86158198  360.59753019 -153.75177015], b=557.6560000000001, cost=1.317154469619918\n",
      "w=[-453.80228327  274.05115053  361.46877003 -153.65262752], b=557.6560000000001, cost=1.2015929633774767\n",
      "w=[-455.61310238  275.1873375   362.30091322 -153.55793389], b=557.6560000000001, cost=1.096170330010583\n",
      "w=[-457.34266146  276.27253839  363.0957142  -153.46748962], b=557.6560000000001, cost=0.9999970281268716\n",
      "w=[-458.99460703  277.30904117  363.85484869 -153.38110401], b=557.6560000000001, cost=0.9122615608952384\n",
      "w=[-460.57242199  278.29903117  364.57991723 -153.29859492], b=557.6560000000001, cost=0.8322236287500762\n",
      "w=[-462.07943292  279.24459563  365.27244851 -153.21978842], b=557.6560000000001, cost=0.7592078828469925\n",
      "w=[-463.51881713  280.14772813  365.93390263 -153.14451833], b=557.6560000000001, cost=0.6925982265640477\n",
      "w=[-464.89360936  281.0103328   366.56567417 -153.07262597], b=557.6560000000001, cost=0.6318326169649637\n",
      "w=[-466.20670815  281.83422832  367.16909513 -153.00395976], b=557.6560000000001, cost=0.5763983223597302\n",
      "w=[-467.46088198  282.62115174  367.74543774 -152.93837492], b=557.6560000000001, cost=0.525827595946178\n",
      "w=[-468.6587751   283.37276218  368.29591712 -152.87573319], b=557.6560000000001, cost=0.4796937290285654\n",
      "w=[-469.80291307  284.09064431  368.82169389 -152.81590249], b=557.6560000000001, cost=0.43760745050909905\n",
      "w=[-470.89570816  284.77631166  369.32387656 -152.75875668], b=557.6560000000001, cost=0.39921364227313116\n",
      "w=[-471.93946436  285.43120987  369.80352392 -152.70417527], b=557.6560000000001, cost=0.36418834275228135\n",
      "w=[-472.93638227  286.0567197   370.26164724 -152.65204319], b=557.6560000000001, cost=0.332236013382334\n",
      "w=[-473.88856376  286.65415994  370.69921239 -152.60225052], b=557.6560000000001, cost=0.3030870448900663\n",
      "w=[-474.79801636  287.22479021  371.11714192 -152.55469228], b=557.6560000000001, cost=0.27649548236802146\n",
      "w=[-475.66665751  287.7698136   371.51631697 -152.50926821], b=557.6560000000001, cost=0.2522369499417587\n",
      "w=[-476.49631862  288.29037921  371.89757915 -152.46588253], b=557.6560000000001, cost=0.23010675751742204\n",
      "w=[-477.28874891  288.78758457  372.26173229 -152.42444377], b=557.6560000000001, cost=0.20991817363559134\n",
      "w=[-478.0456191   289.26247797  372.60954415 -152.38486456], b=557.6560000000001, cost=0.1915008498573101\n",
      "w=[-478.76852494  289.71606066  372.94174805 -152.34706146], b=557.6560000000001, cost=0.17469938338800597\n",
      "w=[-479.45899058  290.14928895  373.25904439 -152.31095476], b=557.6560000000001, cost=0.15937200581035804\n",
      "w=[-480.11847175  290.56307623  373.56210213 -152.27646835], b=557.6560000000001, cost=0.1453893868623597\n",
      "w=[-480.74835887  290.95829492  373.85156025 -152.2435295 ], b=557.6560000000001, cost=0.13263354316674417\n",
      "w=[-481.34997998  291.33577827  374.128029   -152.21206877], b=557.6560000000001, cost=0.12099684270362314\n",
      "w=[-481.9246035   291.69632216  374.39209129 -152.18201984], b=557.6560000000001, cost=0.11038109662682179\n",
      "w=[-482.47344095  292.04068673  374.64430386 -152.15331934], b=557.6560000000001, cost=0.10069673076001462\n",
      "w=[-482.99764946  292.36959804  374.88519846 -152.12590677], b=557.6560000000001, cost=0.0918620297824852\n",
      "w=[-483.49833425  292.68374954  375.11528297 -152.09972433], b=557.6560000000001, cost=0.08380244772662519\n",
      "w=[-483.97655094  292.98380357  375.33504251 -152.07471682], b=557.6560000000001, cost=0.07644997896957255\n",
      "w=[-484.43330779  293.27039276  375.54494039 -152.05083152], b=557.6560000000001, cost=0.06974258441128212\n",
      "w=[-484.86956779  293.54412134  375.74541916 -152.02801807], b=557.6560000000001, cost=0.0636236679973872\n",
      "w=[-485.28625074  293.80556642  375.9369015  -152.00622836], b=557.6560000000001, cost=0.058041599169444257\n",
      "w=[-485.68423516  294.05527922  376.11979112 -151.98541646], b=557.6560000000001, cost=0.05294927721371594\n",
      "w=[-486.06436013  294.29378622  376.29447361 -151.96553848], b=557.6560000000001, cost=0.048303733831845816\n",
      "w=[-486.42742709  294.52159028  376.46131728 -151.94655253], b=557.6560000000001, cost=0.04406577058038488\n",
      "w=[-486.77420152  294.7391717   376.62067388 -151.92841857], b=557.6560000000001, cost=0.0401996281199109\n",
      "w=[-487.10541454  294.94698921  376.7728794  -151.91109836], b=557.6560000000001, cost=0.03667268448263464\n",
      "w=[-487.42176446  295.14548097  376.91825473 -151.89455539], b=557.6560000000001, cost=0.03345517981290446\n",
      "w=[-487.72391826  295.33506545  377.05710638 -151.87875479], b=557.6560000000001, cost=0.030519965257613264\n",
      "w=[-488.012513    295.51614239  377.1897271  -151.86366323], b=557.6560000000001, cost=0.027842273888077994\n",
      "w=[-488.28815711  295.68909355  377.31639651 -151.8492489 ], b=557.6560000000001, cost=0.02539951172013592\n",
      "w=[-488.55143178  295.85428356  377.43738165 -151.83548141], b=557.6560000000001, cost=0.023171067069260493\n",
      "w=[-488.80289206  296.01206073  377.55293762 -151.82233173], b=557.6560000000001, cost=0.021138136632081098\n"
     ]
    }
   ],
   "source": [
    "x_train_norm = z_normal(x_train)\n",
    "w, b, hist = gradient_descent(x_train_norm, y_train, w, b, 0.5, cost, gradient, 10000)"
   ]
  },
  {
   "cell_type": "markdown",
   "id": "c6bbaac5",
   "metadata": {},
   "source": [
    "Let's now predict the value of the house like before"
   ]
  },
  {
   "cell_type": "code",
   "execution_count": 15,
   "id": "b3c2f338",
   "metadata": {},
   "outputs": [
    {
     "name": "stdout",
     "output_type": "stream",
     "text": [
      "Value for a house with size=1.275 and numberOfBedrooms=4 and numberOfBathrooms=1 and age=12 is 452.795k$\n",
      "The actual price is 452.983k$\n"
     ]
    }
   ],
   "source": [
    "print(f'Value for a house with size=1.275 and numberOfBedrooms=4 and numberOfBathrooms=1 and age=12 is {predict(x_train_norm[0], w, b):.3f}k$')\n",
    "print(f'The actual price is {y_train[0]}k$')"
   ]
  },
  {
   "cell_type": "code",
   "execution_count": 16,
   "id": "4e0257ea",
   "metadata": {},
   "outputs": [
    {
     "data": {
      "text/html": [
       "<div>\n",
       "<style scoped>\n",
       "    .dataframe tbody tr th:only-of-type {\n",
       "        vertical-align: middle;\n",
       "    }\n",
       "\n",
       "    .dataframe tbody tr th {\n",
       "        vertical-align: top;\n",
       "    }\n",
       "\n",
       "    .dataframe thead th {\n",
       "        text-align: right;\n",
       "    }\n",
       "</style>\n",
       "<table border=\"1\" class=\"dataframe\">\n",
       "  <thead>\n",
       "    <tr style=\"text-align: right;\">\n",
       "      <th></th>\n",
       "      <th>Size (1k feet squared)</th>\n",
       "      <th>Number of bedrooms</th>\n",
       "      <th>Number of bathrooms</th>\n",
       "      <th>Age</th>\n",
       "      <th>Price(1k $)</th>\n",
       "      <th>Prediction (1k $)</th>\n",
       "    </tr>\n",
       "  </thead>\n",
       "  <tbody>\n",
       "    <tr>\n",
       "      <th>0</th>\n",
       "      <td>1275.0</td>\n",
       "      <td>4.0</td>\n",
       "      <td>1.0</td>\n",
       "      <td>12.0</td>\n",
       "      <td>452.983</td>\n",
       "      <td>452.794680</td>\n",
       "    </tr>\n",
       "    <tr>\n",
       "      <th>1</th>\n",
       "      <td>1674.0</td>\n",
       "      <td>5.0</td>\n",
       "      <td>2.0</td>\n",
       "      <td>6.0</td>\n",
       "      <td>673.983</td>\n",
       "      <td>674.356286</td>\n",
       "    </tr>\n",
       "    <tr>\n",
       "      <th>2</th>\n",
       "      <td>2000.0</td>\n",
       "      <td>6.0</td>\n",
       "      <td>3.0</td>\n",
       "      <td>1.0</td>\n",
       "      <td>983.992</td>\n",
       "      <td>983.800841</td>\n",
       "    </tr>\n",
       "    <tr>\n",
       "      <th>3</th>\n",
       "      <td>987.0</td>\n",
       "      <td>2.0</td>\n",
       "      <td>1.0</td>\n",
       "      <td>34.0</td>\n",
       "      <td>122.111</td>\n",
       "      <td>122.116709</td>\n",
       "    </tr>\n",
       "    <tr>\n",
       "      <th>4</th>\n",
       "      <td>1275.0</td>\n",
       "      <td>4.0</td>\n",
       "      <td>1.0</td>\n",
       "      <td>4.0</td>\n",
       "      <td>555.211</td>\n",
       "      <td>555.211483</td>\n",
       "    </tr>\n",
       "  </tbody>\n",
       "</table>\n",
       "</div>"
      ],
      "text/plain": [
       "   Size (1k feet squared)  Number of bedrooms  Number of bathrooms   Age  \\\n",
       "0                  1275.0                 4.0                  1.0  12.0   \n",
       "1                  1674.0                 5.0                  2.0   6.0   \n",
       "2                  2000.0                 6.0                  3.0   1.0   \n",
       "3                   987.0                 2.0                  1.0  34.0   \n",
       "4                  1275.0                 4.0                  1.0   4.0   \n",
       "\n",
       "   Price(1k $)  Prediction (1k $)  \n",
       "0      452.983         452.794680  \n",
       "1      673.983         674.356286  \n",
       "2      983.992         983.800841  \n",
       "3      122.111         122.116709  \n",
       "4      555.211         555.211483  "
      ]
     },
     "execution_count": 16,
     "metadata": {},
     "output_type": "execute_result"
    }
   ],
   "source": [
    "predicted_values = []\n",
    "for i in range(m):\n",
    "    predicted_values.append(predict(x_train_norm[i], w, b))\n",
    "df['Prediction (1k $)'] = pd.Series(predicted_values)\n",
    "df"
   ]
  },
  {
   "cell_type": "markdown",
   "id": "369cba0f",
   "metadata": {},
   "source": [
    "Let's take a look at our learning curve"
   ]
  },
  {
   "cell_type": "code",
   "execution_count": 32,
   "id": "446e7670",
   "metadata": {},
   "outputs": [
    {
     "data": {
      "image/png": "[encoded data removed]",
      "text/plain": [
       "<Figure size 432x288 with 1 Axes>"
      ]
     },
     "metadata": {
      "needs_background": "light"
     },
     "output_type": "display_data"
    }
   ],
   "source": [
    "fig = plt.figure()\n",
    "hist = np.array(hist)\n",
    "plt.plot(hist[800:10000, 0], hist[800:10000, 1]);\n",
    "plt.title('Learning Curve');\n",
    "plt.xlabel('Iterations');\n",
    "plt.ylabel('Cost function');"
   ]
  },
  {
   "cell_type": "markdown",
   "id": "0b64cdf0",
   "metadata": {},
   "source": [
    "Scaling helps us to better train our data and much more faster"
   ]
  }
 ],
 "metadata": {
  "kernelspec": {
   "display_name": "Python 3 (ipykernel)",
   "language": "python",
   "name": "python3"
  },
  "language_info": {
   "codemirror_mode": {
    "name": "ipython",
    "version": 3
   },
   "file_extension": ".py",
   "mimetype": "text/x-python",
   "name": "python",
   "nbconvert_exporter": "python",
   "pygments_lexer": "ipython3",
   "version": "3.10.4"
  }
 },
 "nbformat": 4,
 "nbformat_minor": 5
}
