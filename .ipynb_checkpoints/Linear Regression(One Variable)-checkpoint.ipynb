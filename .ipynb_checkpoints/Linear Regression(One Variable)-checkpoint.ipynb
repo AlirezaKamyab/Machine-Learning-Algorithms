{
 "cells": [
  {
   "cell_type": "markdown",
   "id": "ad942d0a",
   "metadata": {},
   "source": [
    "# Linear Regression (One Variable)"
   ]
  },
  {
   "cell_type": "markdown",
   "id": "e2765d92",
   "metadata": {},
   "source": [
    "## Linear Regression\n",
    "<b>Function</b>\n",
    "<p>Since this is linear regression with one variable we only have one feature</p>\n",
    "<p>$f_{w,b}(x) = wx + b$</p>\n",
    "<p>$w$ is called the weight and $b$ is call the bias</p>"
   ]
  },
  {
   "cell_type": "code",
   "execution_count": 1,
   "id": "bc2584e9",
   "metadata": {},
   "outputs": [],
   "source": [
    "import numpy as np\n",
    "import pandas as pd\n",
    "import matplotlib.pyplot as plt"
   ]
  },
  {
   "cell_type": "markdown",
   "id": "67b41d44",
   "metadata": {},
   "source": [
    "We are to predict the price of a house given its size in 1000 square feet and price in 1k dollars. Here is an example:"
   ]
  },
  {
   "cell_type": "code",
   "execution_count": 2,
   "id": "d038dd72",
   "metadata": {},
   "outputs": [],
   "source": [
    "x_train = np.array([1.287, 1.100, 1.569, 2.023, .890])\n",
    "y_train = np.array([823.990, 759.230, 798.200, 1200.000, 623.450])\n",
    "m = len(x_train) # the number of training data\n",
    "# We have a default value for w and b\n",
    "w = 0\n",
    "b = 0"
   ]
  },
  {
   "cell_type": "markdown",
   "id": "029bcbe8",
   "metadata": {},
   "source": [
    "Let's try to see the data using scatter plot"
   ]
  },
  {
   "cell_type": "code",
   "execution_count": 3,
   "id": "8dce6d2a",
   "metadata": {},
   "outputs": [
    {
     "data": {
      "image/png": "[encoded data removed]",
      "text/plain": [
       "<Figure size 432x288 with 1 Axes>"
      ]
     },
     "metadata": {
      "needs_background": "light"
     },
     "output_type": "display_data"
    }
   ],
   "source": [
    "plt.figure()\n",
    "plt.scatter(x_train, y_train, marker='x', color='r', linewidths=2)\n",
    "ax = plt.gca()\n",
    "ax.set_title('Housing Price');\n",
    "ax.set_xlabel('Size in square feet');\n",
    "ax.set_ylabel('Price in dollars');\n",
    "\n",
    "plt.plot(x_train, w * x_train + b);"
   ]
  },
  {
   "cell_type": "code",
   "execution_count": 4,
   "id": "6fc12ac4",
   "metadata": {},
   "outputs": [],
   "source": [
    "def predict(x, w, b):\n",
    "    return w * x + b"
   ]
  },
  {
   "cell_type": "markdown",
   "id": "19ace63f",
   "metadata": {},
   "source": [
    "If we try to predict the cost of a house with size = 1.287 we'll get:"
   ]
  },
  {
   "cell_type": "code",
   "execution_count": 5,
   "id": "a3c6e2ab",
   "metadata": {},
   "outputs": [
    {
     "name": "stdout",
     "output_type": "stream",
     "text": [
      "The cost predicted for a house with size=1.287 is 1129.6k$\n",
      "The actual cost is 823.99k$\n"
     ]
    }
   ],
   "source": [
    "print(f'The cost predicted for a house with size=1.287 is {predict(1.287, w, b)}k$')\n",
    "print(f'The actual cost is {y_train[0]}k$')"
   ]
  },
  {
   "cell_type": "markdown",
   "id": "5c7d9bbe",
   "metadata": {},
   "source": [
    "<b>Cost Function</b>\n",
    "<p>Cost function returns the difference of the values. If the cost is near zero, prediction is more accurate.</p>\n",
    "$J(w,b) = \\frac{1}{2m}\\Sigma_{i=1}^{m}(f_{w,b}(x^{(i)})-y^{i})^2$ <br>\n",
    "here $m$ is the number of training data, in this case 5"
   ]
  },
  {
   "cell_type": "code",
   "execution_count": 6,
   "id": "cdc39265",
   "metadata": {},
   "outputs": [],
   "source": [
    "def cost(x, y, w, b):\n",
    "    result = 0\n",
    "    for i in range(m):\n",
    "        result = result + (w * x[i] + b - y[i])**2\n",
    "    result = result / (2 * m)\n",
    "    return result"
   ]
  },
  {
   "cell_type": "code",
   "execution_count": 7,
   "id": "e1ec304f",
   "metadata": {
    "scrolled": true
   },
   "outputs": [
    {
     "name": "stdout",
     "output_type": "stream",
     "text": [
      "The cost function return 75667.55275 when w=800 and b=100\n"
     ]
    }
   ],
   "source": [
    "print(f'The cost function return {cost(x_train, y_train, w, b)} when w={w} and b={b}')"
   ]
  },
  {
   "cell_type": "markdown",
   "id": "35ea82d9",
   "metadata": {},
   "source": [
    "<b>Gradient Descent</b><br>\n",
    "This is an algorithm that finds the best $w$ and $b$ that minimizes the cost function<br>\n",
    "Algorithm is<br>\n",
    "\n",
    "Repeat until converges { <br>\n",
    "    $w = w - \\alpha\\frac{d}{dw}J(w, b)$ <br>\n",
    "    $b = b - \\alpha\\frac{d}{db}J(w, b)$ <br>\n",
    "}<br>\n",
    "Calculating the derivatives we will have: <br>\n",
    "$w = w - \\alpha\\frac{1}{m}\\Sigma_{i=1}^{m}(f_{w, b}(x^{i})-y^{i})x^{i}$<br>\n",
    "$b = b - \\alpha\\frac{1}{m}\\Sigma_{i=1}^{m}(f_{w, b}(x^{i})-y^{i})$ <br>\n",
    "$\\alpha$ is the learning rate"
   ]
  },
  {
   "cell_type": "code",
   "execution_count": 8,
   "id": "c0e6c00c",
   "metadata": {},
   "outputs": [],
   "source": [
    "def gradient(x, y, w, b):\n",
    "    sum_w = 0\n",
    "    sum_b = 0\n",
    "    m = len(x)\n",
    "    for i in range(m):\n",
    "        sum_w += (w * x[i] + b - y[i]) * x[i]\n",
    "        sum_b += (w * x[i] + b - y[i])\n",
    "    w = (1/m) * sum_w\n",
    "    b = (1/m) * sum_b\n",
    "    return w, b"
   ]
  },
  {
   "cell_type": "code",
   "execution_count": 25,
   "id": "300b849c",
   "metadata": {},
   "outputs": [],
   "source": [
    "def gradient_descent(x, y, init_w, init_b, alpha, cost_function, gradient_function, iterations=1000):\n",
    "    w, b = init_w, init_b\n",
    "    for i in range(1, iterations + 1):\n",
    "        w_d, b_d = gradient_function(x, y, w, b)\n",
    "        w = w - (alpha * w_d)\n",
    "        b = b - (alpha * b_d)\n",
    "        if i % 10 == 0 and i < 1000:\n",
    "            print(f'cost for w={w:0.10} and b={b} is {cost(x, y, w, b)} on iteration {i}')\n",
    "    return w, b"
   ]
  },
  {
   "cell_type": "code",
   "execution_count": 26,
   "id": "3683dae5",
   "metadata": {},
   "outputs": [
    {
     "name": "stdout",
     "output_type": "stream",
     "text": [
      "cost for w=455.8843014 and b=214.68014676467382 is 2371.369412743411 on iteration 10\n",
      "cost for w=455.8843014 and b=214.68014676467382 is 2371.369412743411 on iteration 20\n",
      "cost for w=455.8843014 and b=214.68014676467382 is 2371.369412743411 on iteration 30\n",
      "cost for w=455.8843014 and b=214.68014676467382 is 2371.369412743411 on iteration 40\n",
      "cost for w=455.8843014 and b=214.68014676467382 is 2371.369412743411 on iteration 50\n",
      "cost for w=455.8843014 and b=214.68014676467382 is 2371.369412743411 on iteration 60\n",
      "cost for w=455.8843014 and b=214.68014676467382 is 2371.369412743411 on iteration 70\n",
      "cost for w=455.8843014 and b=214.68014676467382 is 2371.369412743411 on iteration 80\n",
      "cost for w=455.8843014 and b=214.68014676467382 is 2371.369412743411 on iteration 90\n",
      "cost for w=455.8843014 and b=214.68014676467382 is 2371.369412743411 on iteration 100\n",
      "cost for w=455.8843014 and b=214.68014676467382 is 2371.369412743411 on iteration 110\n",
      "cost for w=455.8843014 and b=214.68014676467382 is 2371.369412743411 on iteration 120\n",
      "cost for w=455.8843014 and b=214.68014676467382 is 2371.369412743411 on iteration 130\n",
      "cost for w=455.8843014 and b=214.68014676467382 is 2371.369412743411 on iteration 140\n",
      "cost for w=455.8843014 and b=214.68014676467382 is 2371.369412743411 on iteration 150\n",
      "cost for w=455.8843014 and b=214.68014676467382 is 2371.369412743411 on iteration 160\n",
      "cost for w=455.8843014 and b=214.68014676467382 is 2371.369412743411 on iteration 170\n",
      "cost for w=455.8843014 and b=214.68014676467382 is 2371.369412743411 on iteration 180\n",
      "cost for w=455.8843014 and b=214.68014676467382 is 2371.369412743411 on iteration 190\n",
      "cost for w=455.8843014 and b=214.68014676467382 is 2371.369412743411 on iteration 200\n",
      "cost for w=455.8843014 and b=214.68014676467382 is 2371.369412743411 on iteration 210\n",
      "cost for w=455.8843014 and b=214.68014676467382 is 2371.369412743411 on iteration 220\n",
      "cost for w=455.8843014 and b=214.68014676467382 is 2371.369412743411 on iteration 230\n",
      "cost for w=455.8843014 and b=214.68014676467382 is 2371.369412743411 on iteration 240\n",
      "cost for w=455.8843014 and b=214.68014676467382 is 2371.369412743411 on iteration 250\n",
      "cost for w=455.8843014 and b=214.68014676467382 is 2371.369412743411 on iteration 260\n",
      "cost for w=455.8843014 and b=214.68014676467382 is 2371.369412743411 on iteration 270\n",
      "cost for w=455.8843014 and b=214.68014676467382 is 2371.369412743411 on iteration 280\n",
      "cost for w=455.8843014 and b=214.68014676467382 is 2371.369412743411 on iteration 290\n",
      "cost for w=455.8843014 and b=214.68014676467382 is 2371.369412743411 on iteration 300\n",
      "cost for w=455.8843014 and b=214.68014676467382 is 2371.369412743411 on iteration 310\n",
      "cost for w=455.8843014 and b=214.68014676467382 is 2371.369412743411 on iteration 320\n",
      "cost for w=455.8843014 and b=214.68014676467382 is 2371.369412743411 on iteration 330\n",
      "cost for w=455.8843014 and b=214.68014676467382 is 2371.369412743411 on iteration 340\n",
      "cost for w=455.8843014 and b=214.68014676467382 is 2371.369412743411 on iteration 350\n",
      "cost for w=455.8843014 and b=214.68014676467382 is 2371.369412743411 on iteration 360\n",
      "cost for w=455.8843014 and b=214.68014676467382 is 2371.369412743411 on iteration 370\n",
      "cost for w=455.8843014 and b=214.68014676467382 is 2371.369412743411 on iteration 380\n",
      "cost for w=455.8843014 and b=214.68014676467382 is 2371.369412743411 on iteration 390\n",
      "cost for w=455.8843014 and b=214.68014676467382 is 2371.369412743411 on iteration 400\n",
      "cost for w=455.8843014 and b=214.68014676467382 is 2371.369412743411 on iteration 410\n",
      "cost for w=455.8843014 and b=214.68014676467382 is 2371.369412743411 on iteration 420\n",
      "cost for w=455.8843014 and b=214.68014676467382 is 2371.369412743411 on iteration 430\n",
      "cost for w=455.8843014 and b=214.68014676467382 is 2371.369412743411 on iteration 440\n",
      "cost for w=455.8843014 and b=214.68014676467382 is 2371.369412743411 on iteration 450\n",
      "cost for w=455.8843014 and b=214.68014676467382 is 2371.369412743411 on iteration 460\n",
      "cost for w=455.8843014 and b=214.68014676467382 is 2371.369412743411 on iteration 470\n",
      "cost for w=455.8843014 and b=214.68014676467382 is 2371.369412743411 on iteration 480\n",
      "cost for w=455.8843014 and b=214.68014676467382 is 2371.369412743411 on iteration 490\n",
      "cost for w=455.8843014 and b=214.68014676467382 is 2371.369412743411 on iteration 500\n",
      "cost for w=455.8843014 and b=214.68014676467382 is 2371.369412743411 on iteration 510\n",
      "cost for w=455.8843014 and b=214.68014676467382 is 2371.369412743411 on iteration 520\n",
      "cost for w=455.8843014 and b=214.68014676467382 is 2371.369412743411 on iteration 530\n",
      "cost for w=455.8843014 and b=214.68014676467382 is 2371.369412743411 on iteration 540\n",
      "cost for w=455.8843014 and b=214.68014676467382 is 2371.369412743411 on iteration 550\n",
      "cost for w=455.8843014 and b=214.68014676467382 is 2371.369412743411 on iteration 560\n",
      "cost for w=455.8843014 and b=214.68014676467382 is 2371.369412743411 on iteration 570\n",
      "cost for w=455.8843014 and b=214.68014676467382 is 2371.369412743411 on iteration 580\n",
      "cost for w=455.8843014 and b=214.68014676467382 is 2371.369412743411 on iteration 590\n",
      "cost for w=455.8843014 and b=214.68014676467382 is 2371.369412743411 on iteration 600\n",
      "cost for w=455.8843014 and b=214.68014676467382 is 2371.369412743411 on iteration 610\n",
      "cost for w=455.8843014 and b=214.68014676467382 is 2371.369412743411 on iteration 620\n",
      "cost for w=455.8843014 and b=214.68014676467382 is 2371.369412743411 on iteration 630\n",
      "cost for w=455.8843014 and b=214.68014676467382 is 2371.369412743411 on iteration 640\n",
      "cost for w=455.8843014 and b=214.68014676467382 is 2371.369412743411 on iteration 650\n",
      "cost for w=455.8843014 and b=214.68014676467382 is 2371.369412743411 on iteration 660\n",
      "cost for w=455.8843014 and b=214.68014676467382 is 2371.369412743411 on iteration 670\n",
      "cost for w=455.8843014 and b=214.68014676467382 is 2371.369412743411 on iteration 680\n",
      "cost for w=455.8843014 and b=214.68014676467382 is 2371.369412743411 on iteration 690\n",
      "cost for w=455.8843014 and b=214.68014676467382 is 2371.369412743411 on iteration 700\n",
      "cost for w=455.8843014 and b=214.68014676467382 is 2371.369412743411 on iteration 710\n",
      "cost for w=455.8843014 and b=214.68014676467382 is 2371.369412743411 on iteration 720\n",
      "cost for w=455.8843014 and b=214.68014676467382 is 2371.369412743411 on iteration 730\n",
      "cost for w=455.8843014 and b=214.68014676467382 is 2371.369412743411 on iteration 740\n",
      "cost for w=455.8843014 and b=214.68014676467382 is 2371.369412743411 on iteration 750\n",
      "cost for w=455.8843014 and b=214.68014676467382 is 2371.369412743411 on iteration 760\n",
      "cost for w=455.8843014 and b=214.68014676467382 is 2371.369412743411 on iteration 770\n",
      "cost for w=455.8843014 and b=214.68014676467382 is 2371.369412743411 on iteration 780\n",
      "cost for w=455.8843014 and b=214.68014676467382 is 2371.369412743411 on iteration 790\n",
      "cost for w=455.8843014 and b=214.68014676467382 is 2371.369412743411 on iteration 800\n",
      "cost for w=455.8843014 and b=214.68014676467382 is 2371.369412743411 on iteration 810\n",
      "cost for w=455.8843014 and b=214.68014676467382 is 2371.369412743411 on iteration 820\n",
      "cost for w=455.8843014 and b=214.68014676467382 is 2371.369412743411 on iteration 830\n",
      "cost for w=455.8843014 and b=214.68014676467382 is 2371.369412743411 on iteration 840\n",
      "cost for w=455.8843014 and b=214.68014676467382 is 2371.369412743411 on iteration 850\n",
      "cost for w=455.8843014 and b=214.68014676467382 is 2371.369412743411 on iteration 860\n",
      "cost for w=455.8843014 and b=214.68014676467382 is 2371.369412743411 on iteration 870\n",
      "cost for w=455.8843014 and b=214.68014676467382 is 2371.369412743411 on iteration 880\n",
      "cost for w=455.8843014 and b=214.68014676467382 is 2371.369412743411 on iteration 890\n",
      "cost for w=455.8843014 and b=214.68014676467382 is 2371.369412743411 on iteration 900\n",
      "cost for w=455.8843014 and b=214.68014676467382 is 2371.369412743411 on iteration 910\n",
      "cost for w=455.8843014 and b=214.68014676467382 is 2371.369412743411 on iteration 920\n",
      "cost for w=455.8843014 and b=214.68014676467382 is 2371.369412743411 on iteration 930\n",
      "cost for w=455.8843014 and b=214.68014676467382 is 2371.369412743411 on iteration 940\n",
      "cost for w=455.8843014 and b=214.68014676467382 is 2371.369412743411 on iteration 950\n",
      "cost for w=455.8843014 and b=214.68014676467382 is 2371.369412743411 on iteration 960\n",
      "cost for w=455.8843014 and b=214.68014676467382 is 2371.369412743411 on iteration 970\n",
      "cost for w=455.8843014 and b=214.68014676467382 is 2371.369412743411 on iteration 980\n",
      "cost for w=455.8843014 and b=214.68014676467382 is 2371.369412743411 on iteration 990\n"
     ]
    }
   ],
   "source": [
    "w, b = gradient_descent(x_train, y_train, w, b, 0.1, cost, gradient, 10000)"
   ]
  },
  {
   "cell_type": "code",
   "execution_count": 21,
   "id": "208c80f8",
   "metadata": {},
   "outputs": [
    {
     "data": {
      "image/png": "[encoded data removed]",
      "text/plain": [
       "<Figure size 432x288 with 1 Axes>"
      ]
     },
     "metadata": {
      "needs_background": "light"
     },
     "output_type": "display_data"
    }
   ],
   "source": [
    "plt.figure()\n",
    "plt.scatter(x_train, y_train, marker='x', color='r', linewidths=2)\n",
    "ax = plt.gca()\n",
    "ax.set_title('Housing Price');\n",
    "ax.set_xlabel('Size in square feet');\n",
    "ax.set_ylabel('Price in dollars');\n",
    "\n",
    "plt.plot(x_train, w * x_train + b);"
   ]
  },
  {
   "cell_type": "markdown",
   "id": "140ff738",
   "metadata": {},
   "source": [
    "Now we can predict the cost of a house with size of 1.287 somewhat close to its value"
   ]
  },
  {
   "cell_type": "code",
   "execution_count": 22,
   "id": "e919211e",
   "metadata": {},
   "outputs": [
    {
     "name": "stdout",
     "output_type": "stream",
     "text": [
      "The cost predicted for a house with size=1.287 is 801.4032426402485k$\n",
      "The actual cost is 823.99k$\n"
     ]
    }
   ],
   "source": [
    "print(f'The cost predicted for a house with size=1.287 is {predict(1.287, w, b)}k$')\n",
    "print(f'The actual cost is {y_train[0]}k$')"
   ]
  },
  {
   "cell_type": "code",
   "execution_count": null,
   "id": "81fed03a",
   "metadata": {},
   "outputs": [],
   "source": []
  }
 ],
 "metadata": {
  "kernelspec": {
   "display_name": "Python 3 (ipykernel)",
   "language": "python",
   "name": "python3"
  },
  "language_info": {
   "codemirror_mode": {
    "name": "ipython",
    "version": 3
   },
   "file_extension": ".py",
   "mimetype": "text/x-python",
   "name": "python",
   "nbconvert_exporter": "python",
   "pygments_lexer": "ipython3",
   "version": "3.10.4"
  }
 },
 "nbformat": 4,
 "nbformat_minor": 5
}
