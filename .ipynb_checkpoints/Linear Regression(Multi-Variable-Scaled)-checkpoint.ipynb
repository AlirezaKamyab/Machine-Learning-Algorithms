{
 "cells": [
  {
   "cell_type": "markdown",
   "id": "0056e70f",
   "metadata": {},
   "source": [
    "# Linear Regression (Multiple Variables) with scaling\n",
    "\n",
    "## Function\n",
    "In here we have multiple features so $w$ is a vector and is written as $\\overrightarrow{w}$\n",
    "and $x$ is also a vector written as $\\overrightarrow{x}$. $b$ is the same number (bias) and we write the function as<br>\n",
    "$f_{\\overrightarrow{w},b}(\\overrightarrow{x}) = \\overrightarrow{w}.\\overrightarrow{x} + b$<br>\n",
    "which is its vectorized form; without vectorization it will be like <br>\n",
    "$f_{w, b}(x) = w_1x_1 + w_2x_2 + . . . + w_nx_n + b$ <br>\n",
    "The result of the dot product is the same<br>\n",
    "$\\overrightarrow{w}.\\overrightarrow{x} = w_1x_1 + w_2x_2 + . . . + w_nx_n$"
   ]
  },
  {
   "cell_type": "markdown",
   "id": "6b8248f4",
   "metadata": {},
   "source": [
    "Let's use the same example of price of the houses but this time with multiple features; other than predicting the price via its size, we'll have number of bedrooms, age of the house, number of bathrooms."
   ]
  },
  {
   "cell_type": "code",
   "execution_count": 1,
   "id": "ba62216b",
   "metadata": {},
   "outputs": [],
   "source": [
    "import numpy as np\n",
    "import pandas as pd\n",
    "import copy\n",
    "import matplotlib.pyplot as plt"
   ]
  },
  {
   "cell_type": "code",
   "execution_count": 2,
   "id": "378f8aec",
   "metadata": {},
   "outputs": [],
   "source": [
    "# Our dataset\n",
    "x_train = np.array([[1275, 4, 1, 12], [1674, 5, 2, 6], [2000, 6, 3, 1], [987, 2, 1, 34], [1275, 4, 1, 4]], dtype='float64')\n",
    "y_train = np.array([452.983, 673.983, 983.992, 122.111, 555.211], dtype='float64')\n",
    "m, n = x_train.shape # m is the number of data and n is the number of features\n",
    "w = np.random.random(n) # initial value for w\n",
    "b = 100 # initial value for b"
   ]
  },
  {
   "cell_type": "code",
   "execution_count": 3,
   "id": "e138fee8",
   "metadata": {},
   "outputs": [
    {
     "data": {
      "text/html": [
       "<div>\n",
       "<style scoped>\n",
       "    .dataframe tbody tr th:only-of-type {\n",
       "        vertical-align: middle;\n",
       "    }\n",
       "\n",
       "    .dataframe tbody tr th {\n",
       "        vertical-align: top;\n",
       "    }\n",
       "\n",
       "    .dataframe thead th {\n",
       "        text-align: right;\n",
       "    }\n",
       "</style>\n",
       "<table border=\"1\" class=\"dataframe\">\n",
       "  <thead>\n",
       "    <tr style=\"text-align: right;\">\n",
       "      <th></th>\n",
       "      <th>Size (feet squared)</th>\n",
       "      <th>Number of bedrooms</th>\n",
       "      <th>Number of bathrooms</th>\n",
       "      <th>Age</th>\n",
       "      <th>Price(1k $)</th>\n",
       "    </tr>\n",
       "  </thead>\n",
       "  <tbody>\n",
       "    <tr>\n",
       "      <th>0</th>\n",
       "      <td>1275.0</td>\n",
       "      <td>4.0</td>\n",
       "      <td>1.0</td>\n",
       "      <td>12.0</td>\n",
       "      <td>452.983</td>\n",
       "    </tr>\n",
       "    <tr>\n",
       "      <th>1</th>\n",
       "      <td>1674.0</td>\n",
       "      <td>5.0</td>\n",
       "      <td>2.0</td>\n",
       "      <td>6.0</td>\n",
       "      <td>673.983</td>\n",
       "    </tr>\n",
       "    <tr>\n",
       "      <th>2</th>\n",
       "      <td>2000.0</td>\n",
       "      <td>6.0</td>\n",
       "      <td>3.0</td>\n",
       "      <td>1.0</td>\n",
       "      <td>983.992</td>\n",
       "    </tr>\n",
       "    <tr>\n",
       "      <th>3</th>\n",
       "      <td>987.0</td>\n",
       "      <td>2.0</td>\n",
       "      <td>1.0</td>\n",
       "      <td>34.0</td>\n",
       "      <td>122.111</td>\n",
       "    </tr>\n",
       "    <tr>\n",
       "      <th>4</th>\n",
       "      <td>1275.0</td>\n",
       "      <td>4.0</td>\n",
       "      <td>1.0</td>\n",
       "      <td>4.0</td>\n",
       "      <td>555.211</td>\n",
       "    </tr>\n",
       "  </tbody>\n",
       "</table>\n",
       "</div>"
      ],
      "text/plain": [
       "   Size (feet squared)  Number of bedrooms  Number of bathrooms   Age  \\\n",
       "0               1275.0                 4.0                  1.0  12.0   \n",
       "1               1674.0                 5.0                  2.0   6.0   \n",
       "2               2000.0                 6.0                  3.0   1.0   \n",
       "3                987.0                 2.0                  1.0  34.0   \n",
       "4               1275.0                 4.0                  1.0   4.0   \n",
       "\n",
       "   Price(1k $)  \n",
       "0      452.983  \n",
       "1      673.983  \n",
       "2      983.992  \n",
       "3      122.111  \n",
       "4      555.211  "
      ]
     },
     "execution_count": 3,
     "metadata": {},
     "output_type": "execute_result"
    }
   ],
   "source": [
    "df = pd.DataFrame(x_train, columns=['Size (feet squared)', 'Number of bedrooms', 'Number of bathrooms', 'Age'])\n",
    "df['Price(1k $)'] = pd.Series(y_train)\n",
    "df"
   ]
  },
  {
   "cell_type": "code",
   "execution_count": 4,
   "id": "013b70aa",
   "metadata": {},
   "outputs": [
    {
     "data": {
      "image/png": "[encoded data removed]",
      "text/plain": [
       "<Figure size 864x216 with 4 Axes>"
      ]
     },
     "metadata": {
      "needs_background": "light"
     },
     "output_type": "display_data"
    }
   ],
   "source": [
    "fig, ax = plt.subplots(1, 4, figsize=(12, 3))\n",
    "ax[0].scatter(x_train[:, 0], y_train)\n",
    "ax[0].set_title('Size - Price')\n",
    "ax[0].set_xlabel('Size square feet')\n",
    "ax[0].set_ylabel('Price$')\n",
    "\n",
    "ax[1].tick_params(labelleft=False, left=False)\n",
    "ax[1].scatter(x_train[:, 1], y_train)\n",
    "ax[1].set_title('Bedrooms - Price')\n",
    "ax[1].set_xlabel('Number of bedrooms')\n",
    "\n",
    "ax[2].tick_params(labelleft=False, left=False)\n",
    "ax[2].scatter(x_train[:, 2], y_train)\n",
    "ax[2].set_title('Bathrooms - Price')\n",
    "ax[2].set_xlabel('Number of Bathrooms')\n",
    "\n",
    "ax[3].tick_params(labelleft=False, left=False)\n",
    "ax[3].scatter(x_train[:, 3], y_train)\n",
    "ax[3].set_title('Age - Price')\n",
    "ax[3].set_xlabel('Age');"
   ]
  },
  {
   "cell_type": "markdown",
   "id": "ca75d19a",
   "metadata": {},
   "source": [
    "Now let's use Z-normalization to scale our data to better train our model. Below, function is define to scale our dataset data."
   ]
  },
  {
   "cell_type": "code",
   "execution_count": 5,
   "id": "2ef5f833",
   "metadata": {},
   "outputs": [],
   "source": [
    "def z_normal(x):\n",
    "    std = x.std()\n",
    "    mean = x.mean()\n",
    "    x_temp = copy.deepcopy(x).T\n",
    "    m, n = x_temp.shape\n",
    "    for i in range(m):\n",
    "        std = x_temp[i].std()\n",
    "        x_temp[i] = x_temp[i] - x_temp[i].mean()\n",
    "        x_temp[i] =  x_temp[i] / std\n",
    "    return x_temp.T"
   ]
  },
  {
   "cell_type": "markdown",
   "id": "829fcb93",
   "metadata": {},
   "source": [
    "After normalization, let's see how scaled Size and age are"
   ]
  },
  {
   "cell_type": "code",
   "execution_count": 6,
   "id": "7af1c1fe",
   "metadata": {},
   "outputs": [
    {
     "data": {
      "image/png": "[encoded data removed]",
      "text/plain": [
       "<Figure size 864x216 with 2 Axes>"
      ]
     },
     "metadata": {
      "needs_background": "light"
     },
     "output_type": "display_data"
    }
   ],
   "source": [
    "fig, ax = plt.subplots(1, 2, figsize=(12, 3))\n",
    "ax[0].axis('equal');\n",
    "ax[0].scatter(x_train[:, 0], x_train[:, 3]);\n",
    "ax[0].set_title(\"Not normalized\");\n",
    "ax[0].set_xlabel('Size');\n",
    "ax[0].set_ylabel('Age');\n",
    "\n",
    "x_train_norm = z_normal(x_train)\n",
    "ax[1].axis('equal');\n",
    "ax[1].scatter(x_train_norm[:, 0], x_train_norm[:, 3]);\n",
    "ax[1].set_title(\"Z-normalized\");\n",
    "ax[1].set_xlabel('Size');\n",
    "ax[1].set_ylabel('Age');"
   ]
  },
  {
   "cell_type": "code",
   "execution_count": 7,
   "id": "caa17834",
   "metadata": {},
   "outputs": [],
   "source": [
    "def predict(x, w, b):\n",
    "    return np.dot(w, x) + b"
   ]
  },
  {
   "cell_type": "markdown",
   "id": "de44c9c5",
   "metadata": {},
   "source": [
    "Now let's try to predict the value of the first house in the dataset; "
   ]
  },
  {
   "cell_type": "code",
   "execution_count": 8,
   "id": "a3759b60",
   "metadata": {},
   "outputs": [
    {
     "name": "stdout",
     "output_type": "stream",
     "text": [
      "Value for a house with size=1275 and numberOfBedrooms=4 and numberOfBathrooms=1 and age=12 is 752.332k$\n",
      "The actual price is 452.983k$\n"
     ]
    }
   ],
   "source": [
    "print(f'Value for a house with size=1275 and numberOfBedrooms=4 and numberOfBathrooms=1 and age=12 is {predict(x_train[0], w, b):.3f}k$')\n",
    "print(f'The actual price is {y_train[0]}k$')"
   ]
  },
  {
   "cell_type": "markdown",
   "id": "e808a66c",
   "metadata": {},
   "source": [
    "## Cost function\n",
    "Now that we use vectorization, cost function is defined as <br>\n",
    "$J(\\overrightarrow{w}, b) = \\frac{1}{2m}\\Sigma_{i=1}^{m}(f_{\\overrightarrow{x},b}(\\overrightarrow{x}^{(i)}) - y^{(i)})^2$"
   ]
  },
  {
   "cell_type": "code",
   "execution_count": 9,
   "id": "81dcc9a8",
   "metadata": {},
   "outputs": [],
   "source": [
    "def cost(x, y, w, b):\n",
    "    err_sum = 0\n",
    "    m = x.shape[0]\n",
    "    for i in range(m):\n",
    "        f_wb = np.dot(w, x[i]) + b\n",
    "        err_sum += (f_wb - y[i]) ** 2\n",
    "    err_sum = err_sum / (2 * m)\n",
    "    return err_sum"
   ]
  },
  {
   "cell_type": "markdown",
   "id": "bfcdd1d5",
   "metadata": {},
   "source": [
    "If we run the cost function now due to our last test for predicting the price of the first house, we anticipate a large number\n"
   ]
  },
  {
   "cell_type": "code",
   "execution_count": 10,
   "id": "7eda5680",
   "metadata": {},
   "outputs": [
    {
     "name": "stdout",
     "output_type": "stream",
     "text": [
      "46366.364926786235\n"
     ]
    }
   ],
   "source": [
    "print(cost(x_train, y_train, w, b))"
   ]
  },
  {
   "cell_type": "markdown",
   "id": "9fb25e32",
   "metadata": {},
   "source": [
    "## Gradient Descent\n",
    "Now since we have multiple features, we should find the derivative of each of the features. So, we have to find a good value for each of $w$s from $w_1$ to $w_n$\n",
    "So we have to find the derivative for each of the features\n",
    "$w_i = w_i - \\alpha\\frac{d}{dm}J(\\overrightarrow{w}, b)$ and $b = b - \\alpha\\frac{d}{db}J(\\overrightarrow{w}, b)$<br>\n",
    "for each of the $w$s we have<br>\n",
    "$w_j = w_j - \\alpha\\frac{1}{m}\\Sigma_{i=1}^{m}(f_{\\overrightarrow{w},b}(x^{(i)}) - y^{(i)})x_{j}^{(i)}$<br>\n",
    "$b = b - \\alpha\\frac{1}{m}\\Sigma_{i=1}^{m}(f_{\\overrightarrow{w},b}(x^{(i)})-y^{(i)})$"
   ]
  },
  {
   "cell_type": "code",
   "execution_count": 11,
   "id": "5274ffa8",
   "metadata": {},
   "outputs": [],
   "source": [
    "def gradient(x, y, w, b):\n",
    "    m, n = x.shape\n",
    "    w_t = np.zeros((n,))\n",
    "    b_t = 0\n",
    "    for i in range(m):\n",
    "        err = np.dot(w, x[i]) + b - y[i]\n",
    "        for j in range(n):\n",
    "            w_t[j] += err * x[i, j]\n",
    "        b_t += err\n",
    "    w_t = w_t / m\n",
    "    b_t = b_t / m\n",
    "    return w_t, b_t"
   ]
  },
  {
   "cell_type": "code",
   "execution_count": 12,
   "id": "b52a697b",
   "metadata": {},
   "outputs": [],
   "source": [
    "def gradient_descent(x, y, init_w, init_b, alpha, cost_function, gradient_function, iterations=1000):\n",
    "    hist = []\n",
    "    w = copy.deepcopy(init_w)\n",
    "    b = init_b\n",
    "    for i in range(1, iterations + 1):\n",
    "        w_t, b_t = gradient_function(x, y, w, b)\n",
    "        w = w - (alpha * w_t)\n",
    "        b = b - (alpha * b_t)\n",
    "        c_cost = cost_function(x, y, w, b)\n",
    "        hist.append([i, c_cost])\n",
    "        if i % 100 == 0:\n",
    "            print(f'w={w}, b={b}, cost={c_cost}')\n",
    "    return w, b, hist"
   ]
  },
  {
   "cell_type": "code",
   "execution_count": 13,
   "id": "58d7e122",
   "metadata": {},
   "outputs": [
    {
     "name": "stdout",
     "output_type": "stream",
     "text": [
      "w=[  29.14876406   40.45128715  106.44348221 -133.5474652 ], b=557.656, cost=239.38599590035648\n",
      "w=[  -3.13521859   25.6245181   138.00105086 -154.78161992], b=557.656, cost=183.8029784007038\n",
      "w=[ -29.52302945   24.82718546  158.39888524 -164.74048268], b=557.656, cost=159.21551736415313\n",
      "w=[ -52.52672951   30.67630052  173.0616139  -169.14636817], b=557.656, cost=143.1762352169644\n",
      "w=[ -73.40991214   39.53296466  184.68221943 -170.82877405], b=557.656, cost=130.10796459065594\n",
      "w=[ -92.81766343   49.60973657  194.60201839 -171.18628906], b=557.656, cost=118.56888902312846\n",
      "w=[-111.08822007   60.03445088  203.49330028 -170.90973695], b=557.656, cost=108.13583010571172\n",
      "w=[-128.407174     70.38715286  211.69701964 -170.33988402], b=557.656, cost=98.64103268237379\n",
      "w=[-144.8837898    80.47106314  219.38985619 -169.64438036], b=557.656, cost=89.98487388680434\n",
      "w=[-160.58879249   90.19930648  226.66686959 -168.90528355], b=557.656, cost=82.08954112090592\n",
      "w=[-175.57309481   99.53890317  233.58240148 -168.1623512 ], b=557.656, cost=74.88724674516058\n",
      "w=[-189.87709442  108.48308491  240.17032353 -167.4344542 ], b=557.656, cost=68.31693303215488\n",
      "w=[-203.5353049   117.03762079  246.45406801 -166.73016738], b=557.656, cost=62.32309067014294\n",
      "w=[-216.57867716  125.2140725   252.4516036  -166.0530066 ], b=557.6560000000001, cost=56.85512734795295\n",
      "w=[-229.03577704  133.02647631  258.1779102  -165.40401782], b=557.6560000000001, cost=51.86690097144509\n",
      "w=[-240.93339571  140.48971936  263.64621589 -164.78305637], b=557.6560000000001, cost=47.316320561746025\n",
      "w=[-252.29687834  147.61875317  268.86862113 -164.18941833], b=557.6560000000001, cost=43.164988709014615\n",
      "w=[-263.15031216  154.42822064  273.85641921 -163.62215148], b=557.6560000000001, cost=39.377876996057225\n",
      "w=[-273.51664388  160.93228679  278.62026597 -163.08020795], b=557.6560000000001, cost=35.92303029045601\n",
      "w=[-283.41776093  167.14456964  283.17027443 -162.56251837], b=557.6560000000001, cost=32.7712970766551\n",
      "w=[-292.874554    173.07811996  287.51607184 -162.06802753], b=557.6560000000001, cost=29.8960834709952\n",
      "w=[-301.90696907  178.74542457  291.66683758 -161.59571077], b=557.6560000000001, cost=27.273128824163518\n",
      "w=[-310.53405348  184.15842067  295.63133132 -161.14458116], b=557.6560000000001, cost=24.880301012722036\n",
      "w=[-318.77399808  189.32851509  299.41791574 -160.71369195], b=557.6560000000001, cost=22.69740969123064\n",
      "w=[-326.64417651  194.2666054   303.03457635 -160.30213683], b=557.6560000000001, cost=20.706035928912847\n",
      "w=[-334.16118236  198.98310147  306.48893938 -159.90904918], b=557.6560000000001, cost=18.88937679329478\n",
      "w=[-341.34086435  203.48794665  309.78828833 -159.53360075], b=557.6560000000001, cost=17.23210356941553\n",
      "w=[-348.19835992  207.79063839  312.93957964 -159.17500024], b=557.6560000000001, cost=15.72023241828025\n",
      "w=[-354.74812715  211.90024814  315.94945749 -158.83249171], b=557.6560000000001, cost=14.341006383188253\n",
      "w=[-361.00397528  215.82544031  318.82426781 -158.50535311], b=557.6560000000001, cost=13.082787748321687\n",
      "w=[-366.97909387  219.57449056  321.57007175 -158.19289474], b=557.6560000000001, cost=11.934959841331947\n",
      "w=[-372.68608059  223.15530319  324.19265846 -157.89445784], b=557.6560000000001, cost=10.887837451347313\n",
      "w=[-378.13696779  226.57542781  326.69755727 -157.60941321], b=557.6560000000001, cost=9.932585106522845\n",
      "w=[-383.34324788  229.84207526  329.09004941 -157.33715987], b=557.6560000000001, cost=9.06114252156769\n",
      "w=[-388.31589752  232.96213276  331.3751791  -157.07712384], b=557.6560000000001, cost=8.266156586188362\n",
      "w=[-393.06540083  235.94217852  333.5577642  -156.82875685], b=557.6560000000001, cost=7.540919320576347\n",
      "w=[-397.60177144  238.78849551  335.64240637 -156.59153526], b=557.6560000000001, cost=6.879311274414677\n",
      "w=[-401.93457362  241.50708478  337.63350078 -156.36495893], b=557.6560000000001, cost=6.275749891814478\n",
      "w=[-406.07294245  244.10367808  339.53524535 -156.14855015], b=557.6560000000001, cost=5.725142406491871\n",
      "w=[-410.02560307  246.58374994  341.35164964 -155.94185265], b=557.6560000000001, cost=5.222842869720273\n",
      "w=[-413.8008891   248.95252923  343.08654327 -155.74443066], b=557.6560000000001, cost=4.764612948466956\n",
      "w=[-417.40676017  251.21501019  344.74358401 -155.55586792], b=557.6560000000001, cost=4.346586162932902\n",
      "w=[-420.85081873  253.37596291  346.32626548 -155.37576688], b=557.656, cost=3.9652352617390436\n",
      "w=[-424.14032607  255.43994345  347.83792454 -155.20374783], b=557.6560000000001, cost=3.6173424594738655\n",
      "w=[-427.28221765  257.4113034   349.2817483  -155.03944809], b=557.6560000000001, cost=3.2999722854714313\n",
      "w=[-430.28311767  259.29419911  350.66078086 -154.88252126], b=557.6560000000001, cost=3.0104468147212318\n",
      "w=[-433.1493531   261.09260037  351.97792969 -154.73263648], b=557.6560000000001, cost=2.7463230719134484\n",
      "w=[-435.88696698  262.81029885  353.23597182 -154.58947774], b=557.6560000000001, cost=2.50537241795551\n",
      "w=[-438.50173116  264.45091606  354.43755964 -154.45274321], b=557.6560000000001, cost=2.285561745027493\n",
      "w=[-440.99915849  266.01791101  355.58522652 -154.3221446 ], b=557.6560000000001, cost=2.085036321504748\n",
      "w=[-443.38451442  267.51458748  356.68139216 -154.19740657], b=557.6560000000001, cost=1.902104141991438\n",
      "w=[-445.66282815  268.94410099  357.72836766 -154.07826613], b=557.6560000000001, cost=1.7352216504170677\n",
      "w=[-447.83890315  270.30946546  358.72836041 -153.96447208], b=557.6560000000001, cost=1.5829807157265605\n",
      "w=[-449.91732736  271.61355956  359.68347875 -153.85578451], b=557.6560000000001, cost=1.4440967502681767\n",
      "w=[-451.90248284  272.85913278  360.5957364  -153.75197427], b=557.6560000000001, cost=1.3173978706227771\n",
      "w=[-453.79855499  274.04881124  361.46705674 -153.65282248], b=557.6560000000001, cost=1.2018150094161166\n",
      "w=[-455.6095414   275.18510319  362.29927681 -153.55812011], b=557.6560000000001, cost=1.0963728946785123\n",
      "w=[-457.33926028  276.27040434  363.09415122 -153.46766748], b=557.6560000000001, cost=1.0001818206361597\n",
      "w=[-458.99135848  277.30700289  363.85335585 -153.38127388], b=557.6560000000001, cost=0.912430140499256\n",
      "w=[-460.56931922  278.29708435  364.57849138 -153.29875718], b=557.6560000000001, cost=0.8323774178997729\n",
      "w=[-462.07646938  279.24273617  365.27108664 -153.21994339], b=557.6560000000001, cost=0.7593481791937101\n",
      "w=[-463.51598658  280.14595212  365.93260188 -153.14466635], b=557.6560000000001, cost=0.6927262139086553\n",
      "w=[-464.89090583  281.00863649  366.56443179 -153.07276734], b=557.6560000000001, cost=0.631949375246711\n",
      "w=[-466.20412594  281.83260813  367.1679085  -153.00409479], b=557.6560000000001, cost=0.5765048367686231\n",
      "w=[-467.45841565  282.61960426  367.74430436 -152.9385039 ], b=557.6560000000001, cost=0.5259247652358868\n",
      "w=[-468.65641944  283.37128414  368.2948346  -152.87585638], b=557.6560000000001, cost=0.47978237309989497\n",
      "w=[-469.80066312  284.08923259  368.82065995 -152.81602015], b=557.6560000000001, cost=0.4376883173283142\n",
      "w=[-470.89355918  284.7749633   369.32288902 -152.75886906], b=557.6560000000001, cost=0.3992874141830617\n",
      "w=[-471.93741181  285.42992202  369.8025807  -152.70428261], b=557.6560000000001, cost=0.36425564223001394\n",
      "w=[-472.93442184  286.05548964  370.26074634 -152.65214571], b=557.6560000000001, cost=0.332297408291402\n",
      "w=[-473.8866913   286.65298508  370.69835191 -152.60234843], b=557.6560000000001, cost=0.30314305327207475\n",
      "w=[-474.79622792  287.22366807  371.11632006 -152.5547858 ], b=557.6560000000001, cost=0.27654657681386174\n",
      "w=[-475.66494933  287.76874181  371.51553199 -152.50935753], b=557.6560000000001, cost=0.25228356157923304\n",
      "w=[-476.4946871   288.28935551  371.8968294  -152.46596784], b=557.6560000000001, cost=0.2301492796489366\n",
      "w=[-477.2871906   288.78660682  372.26101618 -152.42452526], b=557.6560000000001, cost=0.20995696505694217\n",
      "w=[-478.04413072  289.2615441   372.60886018 -152.38494239], b=557.6560000000001, cost=0.1915362378850588\n",
      "w=[-478.76710335  289.71516869  372.94109477 -152.3471358 ], b=557.6560000000001, cost=0.1747316666213776\n",
      "w=[-479.45763277  290.14843701  373.25842042 -152.31102577], b=557.6560000000001, cost=0.15940145665076388\n",
      "w=[-480.11717488  290.56226252  373.56150617 -152.27653616], b=557.6560000000001, cost=0.1454162538118534\n",
      "w=[-480.7471202   290.95751772  373.85099103 -152.24359427], b=557.6560000000001, cost=0.1326580529248465\n",
      "w=[-481.34879689  291.33503595  374.12748533 -152.21213064], b=557.656, cost=0.12101920208025904\n",
      "w=[-481.92347351  291.69561315  374.39157202 -152.18207893], b=557.6560000000001, cost=0.1104014942872821\n",
      "w=[-482.47236166  292.04000954  374.64380789 -152.15337578], b=557.6560000000001, cost=0.1007153388168722\n",
      "w=[-482.9966186   292.36895124  374.88472474 -152.12596068], b=557.6560000000001, cost=0.09187900524793237\n",
      "w=[-483.49734965  292.68313176  375.11483051 -152.09977582], b=557.6560000000001, cost=0.08381793383726163\n",
      "w=[-483.97561053  292.98321352  375.33461035 -152.074766  ], b=557.6560000000001, cost=0.07646410639502411\n",
      "w=[-484.43240958  293.26982919  375.54452762 -152.05087849], b=557.6560000000001, cost=0.06975547235680293\n",
      "w=[-484.86870989  293.54358305  375.74502492 -152.02806293], b=557.6560000000001, cost=0.06363542520960637\n",
      "w=[-485.28543134  293.80505228  375.93652495 -152.00627121], b=557.6560000000001, cost=0.05805232485409819\n",
      "w=[-485.68345252  294.05478816  376.11943147 -151.98545738], b=557.6560000000001, cost=0.052959061872599356\n",
      "w=[-486.06361261  294.2933172   376.2941301  -151.96557757], b=557.6560000000001, cost=0.04831266002654878\n",
      "w=[-486.42671312  294.52114231  376.46098918 -151.94658987], b=557.6560000000001, cost=0.04407391362889989\n",
      "w=[-486.77351959  294.73874383  376.62036051 -151.92845423], b=557.6560000000001, cost=0.040207056732138244\n",
      "w=[-487.10476321  294.94658054  376.77258008 -151.91113242], b=557.6560000000001, cost=0.03667946134016966\n",
      "w=[-487.42114236  295.14509063  376.91796885 -151.89458792], b=557.6560000000001, cost=0.03346136209791144\n",
      "w=[-487.72332408  295.33469264  377.05683333 -151.87878586], b=557.6560000000001, cost=0.030525605135336274\n",
      "w=[-488.01194547  295.5157863   377.18946631 -151.86369291], b=557.6560000000001, cost=0.027847418947029634\n",
      "w=[-488.28761506  295.68875344  377.31614741 -151.84927725], b=557.6560000000001, cost=0.02540420537359898\n",
      "w=[-488.55091405  295.85395872  377.43714374 -151.83550848], b=557.6560000000001, cost=0.023175348921617378\n",
      "w=[-488.80239756  296.01175046  377.55271038 -151.82235759], b=557.6560000000001, cost=0.021142042812997572\n"
     ]
    }
   ],
   "source": [
    "x_train_norm = z_normal(x_train)\n",
    "w, b, hist = gradient_descent(x_train_norm, y_train, w, b, 0.5, cost, gradient, 10000)"
   ]
  },
  {
   "cell_type": "markdown",
   "id": "c6bbaac5",
   "metadata": {},
   "source": [
    "Let's now predict the value of the house like before"
   ]
  },
  {
   "cell_type": "code",
   "execution_count": 14,
   "id": "b3c2f338",
   "metadata": {},
   "outputs": [
    {
     "name": "stdout",
     "output_type": "stream",
     "text": [
      "Value for a house with size=1275 and numberOfBedrooms=4 and numberOfBathrooms=1 and age=12 is 452.795k$\n",
      "The actual price is 452.983k$\n"
     ]
    }
   ],
   "source": [
    "print(f'Value for a house with size=1275 and numberOfBedrooms=4 and numberOfBathrooms=1 and age=12 is {predict(x_train_norm[0], w, b):.3f}k$')\n",
    "print(f'The actual price is {y_train[0]}k$')"
   ]
  },
  {
   "cell_type": "code",
   "execution_count": 15,
   "id": "4e0257ea",
   "metadata": {},
   "outputs": [
    {
     "data": {
      "text/html": [
       "<div>\n",
       "<style scoped>\n",
       "    .dataframe tbody tr th:only-of-type {\n",
       "        vertical-align: middle;\n",
       "    }\n",
       "\n",
       "    .dataframe tbody tr th {\n",
       "        vertical-align: top;\n",
       "    }\n",
       "\n",
       "    .dataframe thead th {\n",
       "        text-align: right;\n",
       "    }\n",
       "</style>\n",
       "<table border=\"1\" class=\"dataframe\">\n",
       "  <thead>\n",
       "    <tr style=\"text-align: right;\">\n",
       "      <th></th>\n",
       "      <th>Size (feet squared)</th>\n",
       "      <th>Number of bedrooms</th>\n",
       "      <th>Number of bathrooms</th>\n",
       "      <th>Age</th>\n",
       "      <th>Price(1k $)</th>\n",
       "      <th>Prediction (1k $)</th>\n",
       "    </tr>\n",
       "  </thead>\n",
       "  <tbody>\n",
       "    <tr>\n",
       "      <th>0</th>\n",
       "      <td>1275.0</td>\n",
       "      <td>4.0</td>\n",
       "      <td>1.0</td>\n",
       "      <td>12.0</td>\n",
       "      <td>452.983</td>\n",
       "      <td>452.794663</td>\n",
       "    </tr>\n",
       "    <tr>\n",
       "      <th>1</th>\n",
       "      <td>1674.0</td>\n",
       "      <td>5.0</td>\n",
       "      <td>2.0</td>\n",
       "      <td>6.0</td>\n",
       "      <td>673.983</td>\n",
       "      <td>674.356321</td>\n",
       "    </tr>\n",
       "    <tr>\n",
       "      <th>2</th>\n",
       "      <td>2000.0</td>\n",
       "      <td>6.0</td>\n",
       "      <td>3.0</td>\n",
       "      <td>1.0</td>\n",
       "      <td>983.992</td>\n",
       "      <td>983.800823</td>\n",
       "    </tr>\n",
       "    <tr>\n",
       "      <th>3</th>\n",
       "      <td>987.0</td>\n",
       "      <td>2.0</td>\n",
       "      <td>1.0</td>\n",
       "      <td>34.0</td>\n",
       "      <td>122.111</td>\n",
       "      <td>122.116710</td>\n",
       "    </tr>\n",
       "    <tr>\n",
       "      <th>4</th>\n",
       "      <td>1275.0</td>\n",
       "      <td>4.0</td>\n",
       "      <td>1.0</td>\n",
       "      <td>4.0</td>\n",
       "      <td>555.211</td>\n",
       "      <td>555.211483</td>\n",
       "    </tr>\n",
       "  </tbody>\n",
       "</table>\n",
       "</div>"
      ],
      "text/plain": [
       "   Size (feet squared)  Number of bedrooms  Number of bathrooms   Age  \\\n",
       "0               1275.0                 4.0                  1.0  12.0   \n",
       "1               1674.0                 5.0                  2.0   6.0   \n",
       "2               2000.0                 6.0                  3.0   1.0   \n",
       "3                987.0                 2.0                  1.0  34.0   \n",
       "4               1275.0                 4.0                  1.0   4.0   \n",
       "\n",
       "   Price(1k $)  Prediction (1k $)  \n",
       "0      452.983         452.794663  \n",
       "1      673.983         674.356321  \n",
       "2      983.992         983.800823  \n",
       "3      122.111         122.116710  \n",
       "4      555.211         555.211483  "
      ]
     },
     "execution_count": 15,
     "metadata": {},
     "output_type": "execute_result"
    }
   ],
   "source": [
    "predicted_values = []\n",
    "for i in range(m):\n",
    "    predicted_values.append(predict(x_train_norm[i], w, b))\n",
    "df['Prediction (1k $)'] = pd.Series(predicted_values)\n",
    "df"
   ]
  },
  {
   "cell_type": "markdown",
   "id": "369cba0f",
   "metadata": {},
   "source": [
    "Let's take a look at our learning curve"
   ]
  },
  {
   "cell_type": "code",
   "execution_count": 16,
   "id": "446e7670",
   "metadata": {},
   "outputs": [
    {
     "data": {
      "image/png": "[encoded data removed]",
      "text/plain": [
       "<Figure size 432x288 with 1 Axes>"
      ]
     },
     "metadata": {
      "needs_background": "light"
     },
     "output_type": "display_data"
    }
   ],
   "source": [
    "fig = plt.figure()\n",
    "hist = np.array(hist)\n",
    "plt.plot(hist[800:10000, 0], hist[800:10000, 1]);\n",
    "plt.title('Learning Curve');\n",
    "plt.xlabel('Iterations');\n",
    "plt.ylabel('Cost function');"
   ]
  },
  {
   "cell_type": "markdown",
   "id": "0b64cdf0",
   "metadata": {},
   "source": [
    "Scaling helps us to better train our data and much more faster"
   ]
  }
 ],
 "metadata": {
  "kernelspec": {
   "display_name": "Python 3 (ipykernel)",
   "language": "python",
   "name": "python3"
  },
  "language_info": {
   "codemirror_mode": {
    "name": "ipython",
    "version": 3
   },
   "file_extension": ".py",
   "mimetype": "text/x-python",
   "name": "python",
   "nbconvert_exporter": "python",
   "pygments_lexer": "ipython3",
   "version": "3.10.4"
  }
 },
 "nbformat": 4,
 "nbformat_minor": 5
}
