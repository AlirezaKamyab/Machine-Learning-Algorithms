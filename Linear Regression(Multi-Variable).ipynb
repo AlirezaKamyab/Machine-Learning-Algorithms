{
 "cells": [
  {
   "cell_type": "markdown",
   "id": "0056e70f",
   "metadata": {},
   "source": [
    "# Linear Regression (Multiple Variables)\n",
    "\n",
    "## Function\n",
    "In here we have multiple features so $w$ is a vector and is written as $\\overrightarrow{w}$\n",
    "and $x$ is also a vector written as $\\overrightarrow{x}$. $b$ is the same number (bias) and we write the function as<br>\n",
    "$f_{\\overrightarrow{w},b}(\\overrightarrow{x}) = \\overrightarrow{w}.\\overrightarrow{x} + b$<br>\n",
    "which is its vectorized form; without vectorization it will be like <br>\n",
    "$f_{w, b}(x) = w_1x_1 + w_2x_2 + . . . + w_nx_n + b$ <br>\n",
    "The result of the dot product is the same<br>\n",
    "$\\overrightarrow{w}.\\overrightarrow{x} = w_1x_1 + w_2x_2 + . . . + w_nx_n$"
   ]
  },
  {
   "cell_type": "markdown",
   "id": "6b8248f4",
   "metadata": {},
   "source": [
    "Let's use the same example of price of the houses but this time with multiple features; other than predicting the price via its size, we'll have number of bedrooms, age of the house, number of bathrooms."
   ]
  },
  {
   "cell_type": "code",
   "execution_count": 1,
   "id": "ba62216b",
   "metadata": {},
   "outputs": [],
   "source": [
    "import numpy as np\n",
    "import pandas as pd\n",
    "import copy\n",
    "import matplotlib.pyplot as plt"
   ]
  },
  {
   "cell_type": "code",
   "execution_count": 2,
   "id": "378f8aec",
   "metadata": {},
   "outputs": [],
   "source": [
    "# Our dataset\n",
    "x_train = np.array([[1.275, 4, 1, 12], [1.674, 5, 2, 6], [2.000, 6, 3, 1], [0.987, 2, 1, 34], [1.275, 4, 1, 4]], dtype='float64')\n",
    "y_train = np.array([452.983, 673.983, 983.992, 122.111, 555.211], dtype='float64')\n",
    "m, n = x_train.shape # m is the number of data and n is the number of features\n",
    "w = np.random.random(n) # initial value for w\n",
    "b = 100 # initial value for b"
   ]
  },
  {
   "cell_type": "code",
   "execution_count": 3,
   "id": "e138fee8",
   "metadata": {},
   "outputs": [
    {
     "data": {
      "text/html": [
       "<div>\n",
       "<style scoped>\n",
       "    .dataframe tbody tr th:only-of-type {\n",
       "        vertical-align: middle;\n",
       "    }\n",
       "\n",
       "    .dataframe tbody tr th {\n",
       "        vertical-align: top;\n",
       "    }\n",
       "\n",
       "    .dataframe thead th {\n",
       "        text-align: right;\n",
       "    }\n",
       "</style>\n",
       "<table border=\"1\" class=\"dataframe\">\n",
       "  <thead>\n",
       "    <tr style=\"text-align: right;\">\n",
       "      <th></th>\n",
       "      <th>Size (1k feet squared)</th>\n",
       "      <th>Number of bedrooms</th>\n",
       "      <th>Number of bathrooms</th>\n",
       "      <th>Age</th>\n",
       "      <th>Price(1k $)</th>\n",
       "    </tr>\n",
       "  </thead>\n",
       "  <tbody>\n",
       "    <tr>\n",
       "      <th>0</th>\n",
       "      <td>1275</td>\n",
       "      <td>4</td>\n",
       "      <td>1</td>\n",
       "      <td>12</td>\n",
       "      <td>452</td>\n",
       "    </tr>\n",
       "    <tr>\n",
       "      <th>1</th>\n",
       "      <td>1674</td>\n",
       "      <td>5</td>\n",
       "      <td>2</td>\n",
       "      <td>6</td>\n",
       "      <td>673</td>\n",
       "    </tr>\n",
       "    <tr>\n",
       "      <th>2</th>\n",
       "      <td>2000</td>\n",
       "      <td>6</td>\n",
       "      <td>3</td>\n",
       "      <td>1</td>\n",
       "      <td>983</td>\n",
       "    </tr>\n",
       "    <tr>\n",
       "      <th>3</th>\n",
       "      <td>987</td>\n",
       "      <td>2</td>\n",
       "      <td>1</td>\n",
       "      <td>34</td>\n",
       "      <td>122</td>\n",
       "    </tr>\n",
       "    <tr>\n",
       "      <th>4</th>\n",
       "      <td>1275</td>\n",
       "      <td>4</td>\n",
       "      <td>1</td>\n",
       "      <td>4</td>\n",
       "      <td>555</td>\n",
       "    </tr>\n",
       "  </tbody>\n",
       "</table>\n",
       "</div>"
      ],
      "text/plain": [
       "   Size (1k feet squared)  Number of bedrooms  Number of bathrooms  Age  \\\n",
       "0                    1275                   4                    1   12   \n",
       "1                    1674                   5                    2    6   \n",
       "2                    2000                   6                    3    1   \n",
       "3                     987                   2                    1   34   \n",
       "4                    1275                   4                    1    4   \n",
       "\n",
       "   Price(1k $)  \n",
       "0          452  \n",
       "1          673  \n",
       "2          983  \n",
       "3          122  \n",
       "4          555  "
      ]
     },
     "execution_count": 3,
     "metadata": {},
     "output_type": "execute_result"
    }
   ],
   "source": [
    "df = pd.DataFrame(x_train, columns=['Size (1k feet squared)', 'Number of bedrooms', 'Number of bathrooms', 'Age'])\n",
    "df['Price(1k $)'] = pd.Series(y_train)\n",
    "df"
   ]
  },
  {
   "cell_type": "code",
   "execution_count": 4,
   "id": "caa17834",
   "metadata": {},
   "outputs": [],
   "source": [
    "def predict(x, w, b):\n",
    "    return np.dot(w, x) + b"
   ]
  },
  {
   "cell_type": "markdown",
   "id": "de44c9c5",
   "metadata": {},
   "source": [
    "Now let's try to predict the value of the first house in the dataset; "
   ]
  },
  {
   "cell_type": "code",
   "execution_count": 5,
   "id": "a3759b60",
   "metadata": {},
   "outputs": [
    {
     "name": "stdout",
     "output_type": "stream",
     "text": [
      "Value for a house with size=1.275 and numberOfBedrooms=4 and numberOfBathrooms=1 and age=12 is 111.141k$\n",
      "The actual price is 452.983k$\n"
     ]
    }
   ],
   "source": [
    "print(f'Value for a house with size=1.275 and numberOfBedrooms=4 and numberOfBathrooms=1 and age=12 is {predict(x_train[0], w, b):.3f}k$')\n",
    "print(f'The actual price is {y_train[0]}k$')"
   ]
  },
  {
   "cell_type": "markdown",
   "id": "e808a66c",
   "metadata": {},
   "source": [
    "## Cost function\n",
    "Now that we use vectorization, cost function is defined as <br>\n",
    "$J(\\overrightarrow{w}, b) = \\frac{1}{2m}\\Sigma_{i=1}^{m}(f_{\\overrightarrow{x},b}(\\overrightarrow{x}^{(i)}) - y^{(i)})^2$"
   ]
  },
  {
   "cell_type": "code",
   "execution_count": 6,
   "id": "81dcc9a8",
   "metadata": {},
   "outputs": [],
   "source": [
    "def cost(x, y, w, b):\n",
    "    err_sum = 0\n",
    "    m = x.shape[0]\n",
    "    for i in range(m):\n",
    "        f_wb = np.dot(w, x[i]) + b\n",
    "        err_sum += (f_wb - y[i]) ** 2\n",
    "    err_sum = err_sum / (2 * m)\n",
    "    return err_sum"
   ]
  },
  {
   "cell_type": "markdown",
   "id": "bfcdd1d5",
   "metadata": {},
   "source": [
    "If we run the cost function now due to our last test for predicting the price of the first house, we anticipate a large number\n"
   ]
  },
  {
   "cell_type": "code",
   "execution_count": 7,
   "id": "7eda5680",
   "metadata": {},
   "outputs": [
    {
     "name": "stdout",
     "output_type": "stream",
     "text": [
      "140870.5556297853\n"
     ]
    }
   ],
   "source": [
    "print(cost(x_train, y_train, w, b))"
   ]
  },
  {
   "cell_type": "markdown",
   "id": "9fb25e32",
   "metadata": {},
   "source": [
    "## Gradient Descent\n",
    "Now since we have multiple features, we should find the derivative of each of the features. So, we have to find a good value for each of $w$s from $w_1$ to $w_n$\n",
    "So we have to find the derivative for each of the features\n",
    "$w_i = w_i - \\alpha\\frac{d}{dm}J(\\overrightarrow{w}, b)$ and $b = b - \\alpha\\frac{d}{db}J(\\overrightarrow{w}, b)$<br>\n",
    "for each of the $w$s we have<br>\n",
    "$w_j = w_j - \\alpha\\frac{1}{m}\\Sigma_{i=1}^{m}(f_{\\overrightarrow{w},b}(x^{(i)}) - y^{(i)})x_{j}^{(i)}$<br>\n",
    "$b = b - \\alpha\\frac{1}{m}\\Sigma_{i=1}^{m}(f_{\\overrightarrow{w},b}(x^{(i)})-y^{(i)})$"
   ]
  },
  {
   "cell_type": "code",
   "execution_count": 8,
   "id": "5274ffa8",
   "metadata": {},
   "outputs": [],
   "source": [
    "def gradient(x, y, w, b):\n",
    "    m, n = x.shape\n",
    "    w_t = np.zeros((n,))\n",
    "    b_t = 0\n",
    "    for i in range(m):\n",
    "        err = np.dot(w, x[i]) + b - y[i]\n",
    "        for j in range(n):\n",
    "            w_t[j] += err * x[i, j]\n",
    "        b_t += err\n",
    "    w_t = w_t / m\n",
    "    b_t = b_t / m\n",
    "    return w_t, b_t"
   ]
  },
  {
   "cell_type": "code",
   "execution_count": 9,
   "id": "b52a697b",
   "metadata": {},
   "outputs": [],
   "source": [
    "def gradient_descent(x, y, init_w, init_b, alpha, cost_function, gradient_function, iterations=1000):\n",
    "    w = copy.deepcopy(init_w)\n",
    "    b = init_b\n",
    "    for i in range(1, iterations + 1):\n",
    "        w_t, b_t = gradient_function(x, y, w, b)\n",
    "        w = w - (alpha * w_t)\n",
    "        b = b - (alpha * b_t)\n",
    "        if i % 10 == 0:\n",
    "            print(f'w={w}, b={b}, cost={cost_function(x, y, w, b)}')\n",
    "    return w, b"
   ]
  },
  {
   "cell_type": "code",
   "execution_count": 10,
   "id": "58d7e122",
   "metadata": {},
   "outputs": [
    {
     "name": "stdout",
     "output_type": "stream",
     "text": [
      "w=[ 25.01176683  78.30780322  32.70608604 -11.53864819], b=113.70269635023277, cost=14360.076743202566\n",
      "w=[ 30.78498049  95.85211343  40.96149938 -13.32949009], b=116.67403627377844, cost=5538.18171359211\n",
      "w=[ 32.17246894  99.6544119   43.73079928 -12.94668817], b=117.18998258953428, cost=3658.0392223530444\n",
      "w=[ 32.54994317 100.30215862  45.22698969 -12.22769576], b=117.14178220949354, cost=2652.1784433688335\n",
      "w=[ 32.68981515 100.21689811  46.41382129 -11.5594951 ], b=116.96260807287705, cost=2017.3209598038259\n",
      "w=[ 32.76978771  99.9549093   47.51285358 -11.0045217 ], b=116.75244693985616, cost=1608.535575832861\n",
      "w=[ 32.83151043  99.64590258  48.57591823 -10.55638214], b=116.53498432555247, cost=1342.9243517513455\n",
      "w=[ 32.88535215  99.32163577  49.61587529 -10.19716637], b=116.31630157004935, cost=1168.3401096874861\n",
      "w=[32.93436617 98.99105559 50.63651088 -9.90967934], b=116.0983145859541, cost=1051.7041244343393\n",
      "w=[32.97979707 98.65754452 51.63939848 -9.67955364], b=115.88187194624996, cost=972.017292077292\n",
      "w=[33.02236618 98.32293106 52.6254937  -9.49519018], b=115.66748599900244, cost=915.9464662047901\n",
      "w=[33.06258746 97.98846312 53.59552083 -9.34731304], b=115.4555187353245, cost=875.0242237869537\n",
      "w=[33.10085746 97.65507637 54.55007895 -9.22852401], b=115.24623931693579, cost=843.8715905402216\n",
      "w=[33.13749012 97.32349216 55.4896805  -9.13292696], b=115.03984923178018, cost=819.0699897204051\n",
      "w=[33.17273602 96.99426912 56.41477136 -9.05582388], b=114.83649761274623, cost=798.4452553135933\n",
      "w=[33.20679584 96.66783826 57.32574458 -8.99347157], b=114.63629236185149, cost=780.6131857289043\n",
      "w=[33.2398306  96.34452947 58.22295072 -8.94288761], b=114.43930876432819, cost=764.6910994257534\n",
      "w=[33.27196971 96.02459244 59.10670595 -8.9016957 ], b=114.2455962928462, cost=750.1147533933923\n",
      "w=[33.30331745 95.70821311 59.97729855 -8.86800244], b=114.05518401322723, cost=736.5221363731777\n",
      "w=[33.33395801 95.39552688 60.834994   -8.84029914], b=113.8680848859168, cost=723.6797081120648\n",
      "w=[33.36395957 95.08662902 61.68003913 -8.81738363], b=113.68429919001578, cost=711.4355795473756\n",
      "w=[33.39337757 94.78158307 62.51266541 -8.79829791], b=113.5038172488158, cost=699.6897927098871\n",
      "w=[33.42225723 94.48042744 63.33309148 -8.78227854], b=113.32662159900256, cost=688.3754540466498\n",
      "w=[33.45063567 94.18318068 64.14152537 -8.76871707], b=113.15268871669622, cost=677.4467565854411\n",
      "w=[33.47854349 93.88984576 64.93816606 -8.75712853], b=112.98199039046726, cost=666.8713745890939\n",
      "w=[33.50600611 93.60041333 65.7232049  -8.74712635], b=112.81449481313514, cost=656.6256335487714\n",
      "w=[33.5330448  93.31486446 66.49682666 -8.73840234], b=112.6501674495554, cost=646.6914417892958\n",
      "w=[33.55967752 93.03317271 67.25921037 -8.73071074], b=112.48897172597023, cost=637.0543402635903\n",
      "w=[33.58591956 92.75530587 68.01053006 -8.72385557], b=112.33086957723052, cost=627.7022621484472\n",
      "w=[33.61178408 92.48122724 68.75095529 -8.71768048], b=112.17582188081475, cost=618.6247430321134\n",
      "w=[33.63728251 92.21089677 69.48065163 -8.71206071], b=112.02378880068956, cost=609.8124171694299\n",
      "w=[33.66242492 91.94427185 70.19978099 -8.70689666], b=111.87473005937008, cost=601.2566953773679\n",
      "w=[33.68722027 91.68130798 70.90850195 -8.7021088 ], b=111.72860515280614, cost=592.9495582882282\n",
      "w=[33.7116766  91.42195937 71.60697    -8.69763357], b=111.58537351974553, cost=584.8834228882893\n",
      "w=[33.73580123 91.16617928 72.29533774 -8.69342013], b=111.44499467485693, cost=577.051055636399\n",
      "w=[33.75960088 90.91392043 72.97375504 -8.68942781], b=111.30742831300712, cost=569.4455152104064\n",
      "w=[33.78308179 90.6651352  73.64236919 -8.68562401], b=111.17263439058308, cost=562.060114119982\n",
      "w=[33.8062498  90.41977588 74.30132501 -8.68198258], b=111.04057318855223, cost=554.8883923536471\n",
      "w=[33.82911041 90.17779482 74.95076495 -8.67848251], b=110.91120536099835, cost=547.924098721831\n",
      "w=[33.85166884 89.93914456 75.59082918 -8.67510688], b=110.78449197211181, cost=541.1611771408419\n",
      "w=[33.87393008 89.70377795 76.22165566 -8.67184204], b=110.66039452400582, cost=534.5937561073563\n",
      "w=[33.89589893 89.47164817 76.8433802  -8.66867695], b=110.53887497724786, cost=528.216140250922\n",
      "w=[33.91758001 89.24270885 77.45613651 -8.66560264], b=110.41989576561193, cost=522.0228032567591\n",
      "w=[33.9389778  89.01691411 78.06005629 -8.66261179], b=110.30341980624922, cost=516.0083817082144\n",
      "w=[33.96009664 88.79421855 78.65526923 -8.65969841], b=110.1894105062328, cost=510.16766956137036\n",
      "w=[33.98094078 88.57457734 79.24190306 -8.65685758], b=110.07783176623587, cost=504.4956130679373\n",
      "w=[34.00151434 88.35794616 79.82008361 -8.6540852 ], b=109.96864798194865, cost=498.9873060282972\n",
      "w=[34.02182136 88.14428128 80.38993485 -8.65137786], b=109.8618240437165, cost=493.63798529851886\n",
      "w=[34.0418658  87.93353957 80.95157888 -8.64873267], b=109.75732533478231, cost=488.44302650153924\n",
      "w=[34.06165153 87.72567843 81.505136   -8.64614721], b=109.65511772843844, cost=483.3979399097822\n",
      "w=[34.08118237 87.52065587 82.05072474 -8.64361938], b=109.55516758433131, cost=478.49836647717086\n",
      "w=[34.10046204 87.31843049 82.58846188 -8.64114735], b=109.45744174411175, cost=473.74007400532656\n",
      "w=[34.11949421 87.11896145 83.11846246 -8.63872954], b=109.3619075265847, cost=469.11895343323323\n",
      "w=[34.13828249 86.92220851 83.64083985 -8.63636452], b=109.26853272248033, cost=464.63101524239835\n",
      "w=[34.15683044 86.72813197 84.15570575 -8.63405104], b=109.17728558894363, cost=460.2723859713816\n",
      "w=[34.17514154 86.53669273 84.66317019 -8.63178794], b=109.08813484381935, cost=456.03930483475006\n",
      "w=[34.19321923 86.34785223 85.16334163 -8.62957418], b=109.00104965979313, cost=451.92812044231886\n",
      "w=[34.2110669  86.16157248 85.65632689 -8.62740877], b=108.91599965843764, cost=447.93528761504786\n",
      "w=[34.22868787 85.97781605 86.14223126 -8.62529082], b=108.8329549042014, cost=444.05736429433625\n",
      "w=[34.24608543 85.79654601 86.62115847 -8.62321945], b=108.75188589837084, cost=440.291008541704\n",
      "w=[34.2632628  85.61772602 87.09321072 -8.62119387], b=108.67276357302913, cost=436.63297562606795\n",
      "w=[34.28022316 85.44132024 87.55848872 -8.6192133 ], b=108.59555928503063, cost=433.0801151959337\n",
      "w=[34.29696966 85.26729335 88.01709172 -8.61727699], b=108.52024481000551, cost=429.62936853395996\n",
      "w=[34.31350538 85.09561055 88.46911748 -8.61538424], b=108.44679233640571, cost=426.27776589147686\n",
      "w=[34.32983335 84.92623756 88.91466236 -8.61353434], b=108.3751744596015, cost=423.022423900564\n",
      "w=[34.34595658 84.75914058 89.35382129 -8.61172664], b=108.30536417603493, cost=419.86054306145763\n",
      "w=[34.36187802 84.59428633 89.78668781 -8.60996047], b=108.23733487743556, cost=416.7894053030374\n",
      "w=[34.37760058 84.43164199 90.21335409 -8.6082352 ], b=108.17106034510235, cost=413.80637161431093\n",
      "w=[34.39312711 84.27117523 90.63391096 -8.60655021], b=108.10651474425438, cost=410.90887974477926\n",
      "w=[34.40846045 84.11285421 91.0484479  -8.60490489], b=108.04367261845256, cost=408.0944419717067\n",
      "w=[34.42360338 83.95664752 91.45705309 -8.60329863], b=107.98250888409356, cost=405.3606429323263\n",
      "w=[34.43855864 83.80252425 91.85981342 -8.60173087], b=107.9229988249769, cost=402.7051375191192\n",
      "w=[34.45332892 83.65045392 92.25681451 -8.60020101], b=107.86511808694576, cost=400.1256488363009\n",
      "w=[34.46791689 83.50040649 92.64814071 -8.5987085 ], b=107.80884267260132, cost=397.61996621575\n",
      "w=[34.48232518 83.35235237 93.03387515 -8.59725277], b=107.75414893609108, cost=395.185943290657\n",
      "w=[34.49655635 83.20626242 93.41409973 -8.59583329], b=107.7010135779701, cost=392.82149612519385\n",
      "w=[34.51061297 83.06210789 93.78889516 -8.59444952], b=107.64941364013538, cost=390.5246013985899\n",
      "w=[34.52449754 82.91986049 94.15834097 -8.59310093], b=107.59932650083245, cost=388.293294642028\n",
      "w=[34.53821253 82.77949231 94.5225155  -8.59178699], b=107.55072986973366, cost=386.12566852682613\n",
      "w=[34.55176037 82.64097586 94.88149597 -8.5905072 ], b=107.50360178308722, cost=384.01987120240767\n",
      "w=[34.56514347 82.50428408 95.23535846 -8.58926105], b=107.45792059893647, cost=381.97410468261774\n",
      "w=[34.57836419 82.36939026 95.58417794 -8.58804804], b=107.41366499240831, cost=379.98662327896596\n",
      "w=[34.59142486 82.23626812 95.92802827 -8.58686769], b=107.37081395107016, cost=378.05573207946156\n",
      "w=[34.60432777 82.10489174 96.26698222 -8.58571951], b=107.32934677035435, cost=376.17978547167496\n",
      "w=[34.61707519 81.9752356  96.60111153 -8.58460303], b=107.28924304904916, cost=374.35718570876634\n",
      "w=[34.62966935 81.84727453 96.93048686 -8.58351778], b=107.25048268485574, cost=372.5863815172352\n",
      "w=[34.64211244 81.72098375 97.25517784 -8.5824633 ], b=107.21304587000965, cost=370.86586674513666\n",
      "w=[34.65440662 81.59633883 97.57525307 -8.58143914], b=107.17691308696656, cost=369.1941790496566\n",
      "w=[34.66655404 81.47331571 97.89078018 -8.58044484], b=107.1420651041509, cost=367.5698986228189\n",
      "w=[34.67855679 81.35189067 98.20182576 -8.57947997], b=107.10848297176662, cost=365.9916469543004\n",
      "w=[34.69041693 81.23204035 98.50845547 -8.5785441 ], b=107.07614801766942, cost=364.4580856301929\n",
      "w=[34.70213652 81.11374172 98.81073397 -8.57763679], b=107.04504184329916, cost=362.96791516673454\n",
      "w=[34.71371756 80.99697208 99.10872501 -8.57675762], b=107.01514631967186, cost=361.51987387794827\n",
      "w=[34.72516203 80.8817091  99.40249137 -8.57590619], b=106.9864435834305, cost=360.11273677622046\n",
      "w=[34.73647188 80.76793073 99.69209493 -8.57508207], b=106.95891603295338, cost=358.74531450486137\n",
      "w=[34.74764904 80.65561528 99.97759667 -8.57428487], b=106.93254632451982, cost=357.41645230171497\n",
      "w=[ 34.7586954   80.54474136 100.25905665  -8.57351419], b=106.9073173685316, cost=356.1250289929061\n",
      "w=[ 34.76961283  80.43528789 100.53653409  -8.57276963], b=106.88321232579005, cost=354.869956015866\n",
      "w=[ 34.78040317  80.32723411 100.8100873   -8.57205082], b=106.86021460382761, cost=353.650176470768\n",
      "w=[ 34.79106823  80.22055956 101.07977376  -8.57135738], b=106.83830785329297, cost=352.46466419955834\n"
     ]
    }
   ],
   "source": [
    "w, b = gradient_descent(x_train, y_train, w, b, 0.00714, cost, gradient, 1000)"
   ]
  },
  {
   "cell_type": "markdown",
   "id": "c6bbaac5",
   "metadata": {},
   "source": [
    "Let's now predict the value of the house like before"
   ]
  },
  {
   "cell_type": "code",
   "execution_count": 11,
   "id": "b3c2f338",
   "metadata": {},
   "outputs": [
    {
     "name": "stdout",
     "output_type": "stream",
     "text": [
      "Value for a house with size=1.275 and numberOfBedrooms=4 and numberOfBathrooms=1 and age=12 is 470.303k$\n",
      "The actual price is 452.983k$\n"
     ]
    }
   ],
   "source": [
    "print(f'Value for a house with size=1.275 and numberOfBedrooms=4 and numberOfBathrooms=1 and age=12 is {predict(x_train[0], w, b):.3f}k$')\n",
    "print(f'The actual price is {y_train[0]}k$')"
   ]
  },
  {
   "cell_type": "code",
   "execution_count": 12,
   "id": "4e0257ea",
   "metadata": {},
   "outputs": [
    {
     "data": {
      "text/html": [
       "<div>\n",
       "<style scoped>\n",
       "    .dataframe tbody tr th:only-of-type {\n",
       "        vertical-align: middle;\n",
       "    }\n",
       "\n",
       "    .dataframe tbody tr th {\n",
       "        vertical-align: top;\n",
       "    }\n",
       "\n",
       "    .dataframe thead th {\n",
       "        text-align: right;\n",
       "    }\n",
       "</style>\n",
       "<table border=\"1\" class=\"dataframe\">\n",
       "  <thead>\n",
       "    <tr style=\"text-align: right;\">\n",
       "      <th></th>\n",
       "      <th>Size (1k feet squared)</th>\n",
       "      <th>Number of bedrooms</th>\n",
       "      <th>Number of bathrooms</th>\n",
       "      <th>Age</th>\n",
       "      <th>Price(1k $)</th>\n",
       "      <th>Prediction (1k $)</th>\n",
       "    </tr>\n",
       "  </thead>\n",
       "  <tbody>\n",
       "    <tr>\n",
       "      <th>0</th>\n",
       "      <td>1.275</td>\n",
       "      <td>4.0</td>\n",
       "      <td>1.0</td>\n",
       "      <td>12.0</td>\n",
       "      <td>452.983</td>\n",
       "      <td>470.302643</td>\n",
       "    </tr>\n",
       "    <tr>\n",
       "      <th>1</th>\n",
       "      <td>1.674</td>\n",
       "      <td>5.0</td>\n",
       "      <td>2.0</td>\n",
       "      <td>6.0</td>\n",
       "      <td>673.983</td>\n",
       "      <td>716.912757</td>\n",
       "    </tr>\n",
       "    <tr>\n",
       "      <th>2</th>\n",
       "      <td>2.000</td>\n",
       "      <td>6.0</td>\n",
       "      <td>3.0</td>\n",
       "      <td>1.0</td>\n",
       "      <td>983.992</td>\n",
       "      <td>952.411766</td>\n",
       "    </tr>\n",
       "    <tr>\n",
       "      <th>3</th>\n",
       "      <td>0.987</td>\n",
       "      <td>2.0</td>\n",
       "      <td>1.0</td>\n",
       "      <td>34.0</td>\n",
       "      <td>122.111</td>\n",
       "      <td>111.271834</td>\n",
       "    </tr>\n",
       "    <tr>\n",
       "      <th>4</th>\n",
       "      <td>1.275</td>\n",
       "      <td>4.0</td>\n",
       "      <td>1.0</td>\n",
       "      <td>4.0</td>\n",
       "      <td>555.211</td>\n",
       "      <td>538.873502</td>\n",
       "    </tr>\n",
       "  </tbody>\n",
       "</table>\n",
       "</div>"
      ],
      "text/plain": [
       "   Size (1k feet squared)  Number of bedrooms  Number of bathrooms  Age  \\\n",
       "0                    1275                   4                    1   12   \n",
       "1                    1674                   5                    2    6   \n",
       "2                    2000                   6                    3    1   \n",
       "3                     987                   2                    1   34   \n",
       "4                    1275                   4                    1    4   \n",
       "\n",
       "   Price(1k $)  Prediction (1k $)  \n",
       "0      452.983         470.302643  \n",
       "1      673.983         716.912757  \n",
       "2      983.992         952.411766  \n",
       "3      122.111         111.271834  \n",
       "4      555.211         538.873502  "
      ]
     },
     "execution_count": 12,
     "metadata": {},
     "output_type": "execute_result"
    }
   ],
   "source": [
    "predicted_values = []\n",
    "for i in range(m):\n",
    "    predicted_values.append(predict(x_train[i], w, b))\n",
    "df['Prediction (1k $)'] = pd.Series(predicted_values)\n",
    "df"
   ]
  },
  {
   "cell_type": "markdown",
   "id": "369cba0f",
   "metadata": {},
   "source": [
    "As it seems, we've been able to predict not too close to the actual price but somehow promising."
   ]
  }
 ],
 "metadata": {
  "kernelspec": {
   "display_name": "Python 3 (ipykernel)",
   "language": "python",
   "name": "python3"
  },
  "language_info": {
   "codemirror_mode": {
    "name": "ipython",
    "version": 3
   },
   "file_extension": ".py",
   "mimetype": "text/x-python",
   "name": "python",
   "nbconvert_exporter": "python",
   "pygments_lexer": "ipython3",
   "version": "3.10.4"
  }
 },
 "nbformat": 4,
 "nbformat_minor": 5
}
