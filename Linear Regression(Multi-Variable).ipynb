{
 "cells": [
  {
   "cell_type": "markdown",
   "id": "0056e70f",
   "metadata": {},
   "source": [
    "# Linear Regression (Multiple Variables)\n",
    "\n",
    "## Function\n",
    "In here we have multiple features so $w$ is a vector and is written as $\\overrightarrow{w}$\n",
    "and $x$ is also a vector written as $\\overrightarrow{x}$. $b$ is the same number (bias) and we write the function as<br>\n",
    "$f_{\\overrightarrow{w},b}(\\overrightarrow{x}) = \\overrightarrow{w}.\\overrightarrow{x} + b$<br>\n",
    "which is its vectorized form; without vectorization it will be like <br>\n",
    "$f_{w, b}(x) = w_1x_1 + w_2x_2 + . . . + w_nx_n + b$ <br>\n",
    "The result of the dot product is the same<br>\n",
    "$\\overrightarrow{w}.\\overrightarrow{x} = w_1x_1 + w_2x_2 + . . . + w_nx_n$"
   ]
  },
  {
   "cell_type": "markdown",
   "id": "6b8248f4",
   "metadata": {},
   "source": [
    "Let's use the same example of price of the houses but this time with multiple features; other than predicting the price via its size, we'll have number of bedrooms, age of the house, number of bathrooms."
   ]
  },
  {
   "cell_type": "code",
   "execution_count": 1,
   "id": "ba62216b",
   "metadata": {},
   "outputs": [],
   "source": [
    "import numpy as np\n",
    "import pandas as pd\n",
    "import copy\n",
    "import matplotlib.pyplot as plt"
   ]
  },
  {
   "cell_type": "code",
   "execution_count": 2,
   "id": "378f8aec",
   "metadata": {},
   "outputs": [],
   "source": [
    "# Our dataset\n",
    "x_train = np.array([[1.275, 4, 1, 12], [1.674, 5, 2, 6], [2, 6, 3, 1], [0.987, 2, 1, 34], [1.275, 4, 1, 4]], dtype='float64')\n",
    "y_train = np.array([452.983, 673.983, 983.992, 122.111, 555.211])\n",
    "m, n = x_train.shape # m is the number of data and n is the number of features\n",
    "w = np.random.random(n) # initial value for w\n",
    "b = 100 # initial value for b"
   ]
  },
  {
   "cell_type": "code",
   "execution_count": 3,
   "id": "e138fee8",
   "metadata": {},
   "outputs": [
    {
     "data": {
      "text/html": [
       "<div>\n",
       "<style scoped>\n",
       "    .dataframe tbody tr th:only-of-type {\n",
       "        vertical-align: middle;\n",
       "    }\n",
       "\n",
       "    .dataframe tbody tr th {\n",
       "        vertical-align: top;\n",
       "    }\n",
       "\n",
       "    .dataframe thead th {\n",
       "        text-align: right;\n",
       "    }\n",
       "</style>\n",
       "<table border=\"1\" class=\"dataframe\">\n",
       "  <thead>\n",
       "    <tr style=\"text-align: right;\">\n",
       "      <th></th>\n",
       "      <th>Size (1k feet squared)</th>\n",
       "      <th>Number of bedrooms</th>\n",
       "      <th>Number of bathrooms</th>\n",
       "      <th>Age</th>\n",
       "      <th>Price(1k $)</th>\n",
       "    </tr>\n",
       "  </thead>\n",
       "  <tbody>\n",
       "    <tr>\n",
       "      <th>0</th>\n",
       "      <td>1.275</td>\n",
       "      <td>4.0</td>\n",
       "      <td>1.0</td>\n",
       "      <td>12.0</td>\n",
       "      <td>452.983</td>\n",
       "    </tr>\n",
       "    <tr>\n",
       "      <th>1</th>\n",
       "      <td>1.674</td>\n",
       "      <td>5.0</td>\n",
       "      <td>2.0</td>\n",
       "      <td>6.0</td>\n",
       "      <td>673.983</td>\n",
       "    </tr>\n",
       "    <tr>\n",
       "      <th>2</th>\n",
       "      <td>2.000</td>\n",
       "      <td>6.0</td>\n",
       "      <td>3.0</td>\n",
       "      <td>1.0</td>\n",
       "      <td>983.992</td>\n",
       "    </tr>\n",
       "    <tr>\n",
       "      <th>3</th>\n",
       "      <td>0.987</td>\n",
       "      <td>2.0</td>\n",
       "      <td>1.0</td>\n",
       "      <td>34.0</td>\n",
       "      <td>122.111</td>\n",
       "    </tr>\n",
       "    <tr>\n",
       "      <th>4</th>\n",
       "      <td>1.275</td>\n",
       "      <td>4.0</td>\n",
       "      <td>1.0</td>\n",
       "      <td>4.0</td>\n",
       "      <td>555.211</td>\n",
       "    </tr>\n",
       "  </tbody>\n",
       "</table>\n",
       "</div>"
      ],
      "text/plain": [
       "   Size (1k feet squared)  Number of bedrooms  Number of bathrooms   Age  \\\n",
       "0                   1.275                 4.0                  1.0  12.0   \n",
       "1                   1.674                 5.0                  2.0   6.0   \n",
       "2                   2.000                 6.0                  3.0   1.0   \n",
       "3                   0.987                 2.0                  1.0  34.0   \n",
       "4                   1.275                 4.0                  1.0   4.0   \n",
       "\n",
       "   Price(1k $)  \n",
       "0      452.983  \n",
       "1      673.983  \n",
       "2      983.992  \n",
       "3      122.111  \n",
       "4      555.211  "
      ]
     },
     "execution_count": 3,
     "metadata": {},
     "output_type": "execute_result"
    }
   ],
   "source": [
    "df = pd.DataFrame(x_train, columns=['Size (1k feet squared)', 'Number of bedrooms', 'Number of bathrooms', 'Age'])\n",
    "df['Price(1k $)'] = pd.Series(y_train)\n",
    "df"
   ]
  },
  {
   "cell_type": "code",
   "execution_count": 4,
   "id": "caa17834",
   "metadata": {},
   "outputs": [],
   "source": [
    "def predict(x, w, b):\n",
    "    return np.dot(w, x) + b"
   ]
  },
  {
   "cell_type": "markdown",
   "id": "de44c9c5",
   "metadata": {},
   "source": [
    "Now let's try to predict the value of the first house in the dataset; "
   ]
  },
  {
   "cell_type": "code",
   "execution_count": 5,
   "id": "a3759b60",
   "metadata": {},
   "outputs": [
    {
     "name": "stdout",
     "output_type": "stream",
     "text": [
      "Value for a house with size=1.275 and numberOfBedrooms=4 and numberOfBathrooms=1 and age=12 is 113.553k$\n",
      "The actual price is 452.983k$\n"
     ]
    }
   ],
   "source": [
    "print(f'Value for a house with size=1.275 and numberOfBedrooms=4 and numberOfBathrooms=1 and age=12 is {predict(x_train[0], w, b):.3f}k$')\n",
    "print(f'The actual price is {y_train[0]}k$')"
   ]
  },
  {
   "cell_type": "markdown",
   "id": "e808a66c",
   "metadata": {},
   "source": [
    "## Cost function\n",
    "Now that we use vectorization, cost function is defined as <br>\n",
    "$J(\\overrightarrow{w}, b) = \\frac{1}{2m}\\Sigma_{i=1}^{m}(f_{\\overrightarrow{x},b}(\\overrightarrow{x}^{(i)}) - y^{(i)})^2$"
   ]
  },
  {
   "cell_type": "code",
   "execution_count": 6,
   "id": "81dcc9a8",
   "metadata": {},
   "outputs": [],
   "source": [
    "def cost(x, y, w, b):\n",
    "    err_sum = 0\n",
    "    m = x.shape[0]\n",
    "    for i in range(m):\n",
    "        f_wb = np.dot(w, x[i]) + b\n",
    "        err_sum += (f_wb - y[i]) ** 2\n",
    "    err_sum = err_sum / (2 * m)\n",
    "    return err_sum"
   ]
  },
  {
   "cell_type": "markdown",
   "id": "bfcdd1d5",
   "metadata": {},
   "source": [
    "If we run the cost function now due to our last test for predicting the price of the first house, we anticipate a large number\n"
   ]
  },
  {
   "cell_type": "code",
   "execution_count": 7,
   "id": "7eda5680",
   "metadata": {},
   "outputs": [
    {
     "name": "stdout",
     "output_type": "stream",
     "text": [
      "139660.9412925776\n"
     ]
    }
   ],
   "source": [
    "print(cost(x_train, y_train, w, b))"
   ]
  },
  {
   "cell_type": "markdown",
   "id": "9fb25e32",
   "metadata": {},
   "source": [
    "## Gradient Descent\n",
    "Now since we have multiple features, we should find the derivative of each of the features. So, we have to find a good value for each of $w$s from $w_1$ to $w_n$\n",
    "So we have to find the derivative for each of the features\n",
    "$w_i = w_i - \\alpha\\frac{d}{dm}J(\\overrightarrow{w}, b)$ and $b = b - \\alpha\\frac{d}{db}J(\\overrightarrow{w}, b)$<br>\n",
    "for each of the $w$s we have<br>\n",
    "$w_j = w_j - \\alpha\\frac{1}{m}\\Sigma_{i=1}^{m}(f_{\\overrightarrow{w},b}(x^{(i)}) - y^{(i)})x_{j}^{(i)}$<br>\n",
    "$b = b - \\alpha\\frac{1}{m}\\Sigma_{i=1}^{m}(f_{\\overrightarrow{w},b}(x^{(i)})-y^{(i)})$"
   ]
  },
  {
   "cell_type": "code",
   "execution_count": 8,
   "id": "5274ffa8",
   "metadata": {},
   "outputs": [],
   "source": [
    "def gradient(x, y, w, b):\n",
    "    m, n = x.shape\n",
    "    w_t = np.zeros((n,))\n",
    "    b_t = 0\n",
    "    for i in range(m):\n",
    "        err = np.dot(w, x[i]) + b - y[i]\n",
    "        for j in range(n):\n",
    "            w_t[j] += err * x[i, j]\n",
    "        b_t += err\n",
    "    w_t = w_t / m\n",
    "    b_t = b_t / m\n",
    "    return w_t, b_t"
   ]
  },
  {
   "cell_type": "code",
   "execution_count": 9,
   "id": "b52a697b",
   "metadata": {},
   "outputs": [],
   "source": [
    "def gradient_descent(x, y, init_w, init_b, alpha, cost_function, gradient_function, iterations=1000):\n",
    "    w = copy.deepcopy(init_w)\n",
    "    b = init_b\n",
    "    for i in range(1, iterations + 1):\n",
    "        w_t, b_t = gradient_function(x, y, w, b)\n",
    "        w = w - (alpha * w_t)\n",
    "        b = b - (alpha * b_t)\n",
    "        if i % 10 == 0:\n",
    "            print(f'w={w}, b={b}, cost={cost_function(x, y, w, b)}')\n",
    "    return w, b"
   ]
  },
  {
   "cell_type": "code",
   "execution_count": 10,
   "id": "58d7e122",
   "metadata": {},
   "outputs": [
    {
     "name": "stdout",
     "output_type": "stream",
     "text": [
      "w=[ 25.71132596  78.13053793  32.91677717 -11.45741344], b=113.65413527236547, cost=14116.04950387417\n",
      "w=[ 31.46357422  95.61148001  41.1426983  -13.25752656], b=116.61453704849028, cost=5409.042669284649\n",
      "w=[ 32.8455657   99.39878841  43.90181312 -12.88842594], b=117.12825261525148, cost=3575.907408233868\n",
      "w=[ 33.22119804 100.0428907   45.39239038 -12.18179432], b=117.07990092576802, cost=2598.575072909419\n",
      "w=[ 33.36016124  99.95681253  46.57479109 -11.52377462], b=116.90112084739748, cost=1981.7987565116068\n",
      "w=[ 33.43951686  99.69483708  47.66978044 -10.9769916 ], b=116.69153233334403, cost=1584.5291396568914\n",
      "w=[ 33.5007523   99.38617861  48.72899241 -10.53539854], b=116.47472399191604, cost=1326.2688012136582\n",
      "w=[ 33.55418678  99.06244946  49.76522877 -10.18140632], b=116.25674458544921, cost=1156.390924392567\n",
      "w=[33.60285226 98.73253755 50.78225172 -9.89808578], b=116.03949429249002, cost=1042.7816324734422\n",
      "w=[33.64798046 98.39979157 51.78162077 -9.67128367], b=115.82381151522527, cost=965.0542439742891\n",
      "w=[33.6902834  98.0660161  52.76428142 -9.48957206], b=115.6102010690537, cost=910.2643548104837\n",
      "w=[33.73026784 97.73244076 53.73095004 -9.34381149], b=115.39901910413256, cost=870.1913122125\n",
      "w=[33.76832465 97.39998682 54.68221934 -9.22671253], b=115.19053019492881, cost=839.6128004392797\n",
      "w=[33.80476324 97.06936425 55.61859653 -9.1324657 ], b=114.98493221903263, cost=815.2097057516855\n",
      "w=[33.83983057 96.74112267 56.54052324 -9.05644202], b=114.78237147183131, cost=794.871021789802\n",
      "w=[33.87372446 96.41568596 57.44838898 -8.9949533 ], b=114.58295363190159, cost=777.2526637279864\n",
      "w=[33.90660361 96.09337839 58.34254135 -8.94506094], b=114.38675224945419, cost=761.4974404479423\n",
      "w=[33.93859562 95.77444518 59.22329408 -8.90442355], b=114.19381545066462, cost=747.0573150910379\n",
      "w=[33.9698033  95.45906879 60.09093333 -8.87117555], b=114.00417126385703, cost=733.5805889602376\n",
      "w=[34.00030965 95.14738187 60.94572281 -8.84383041], b=113.81783185763362, cost=720.8402928879011\n",
      "w=[34.03018194 94.83947755 61.78790782 -8.82120361], b=113.6347969144518, cost=708.6887334068808\n",
      "w=[34.05947485 94.53541771 62.61771843 -8.80235121], b=113.45505631597112, cost=697.0286396776706\n",
      "w=[34.08823299 94.23523947 63.43537214 -8.78652099], b=113.27859228024704, cost=685.7948471393026\n",
      "w=[34.116493   93.93896041 64.24107588 -8.77311343], b=113.10538106227641, cost=674.9426689918353\n",
      "w=[34.1442851  93.64658273 65.0350277  -8.76165068], b=112.93539430670948, cost=664.4405125854802\n",
      "w=[34.1716344  93.35809656 65.81741804 -8.75175183], b=112.76860012347954, cost=654.265190169926\n",
      "w=[34.19856191 93.07348254 66.58843088 -8.7431132 ], b=112.60496394271541, cost=644.3989398573804\n",
      "w=[34.22508539 92.79271399 67.34824449 -8.73549264], b=112.44444919384192, cost=634.8275321512272\n",
      "w=[34.25121995 92.51575847 68.0970322  -8.72869704], b=112.28701784464232, cost=625.5390655690551\n",
      "w=[34.27697862 92.24257921 68.83496291 -8.72257233], b=112.13263082878343, cost=616.5231997141634\n",
      "w=[34.30237273 91.97313607 69.56220152 -8.71699558], b=111.98124838450902, cost=607.7706660719293\n",
      "w=[34.32741226 91.70738646 70.27890936 -8.71186864], b=111.8328303225901, cost=599.2729551509108\n",
      "w=[34.35210607 91.44528591 70.98524442 -8.70711312], b=111.68733623794289, cost=591.022115619924\n",
      "w=[34.37646216 91.18678869 71.68136162 -8.7026664 ], b=111.54472567639482, cost=583.0106245964942\n",
      "w=[34.40048778 90.93184814 72.36741301 -8.69847838], b=111.40495826574417, cost=575.2313031601905\n",
      "w=[34.42418962 90.68041708 73.04354793 -8.69450897], b=111.26799381839959, cost=567.677260633411\n",
      "w=[34.44757386 90.43244802 73.70991314 -8.69072603], b=111.1337924114036, cost=560.3418571819445\n",
      "w=[34.47064632 90.18789335 74.36665297 -8.68710379], b=111.00231444846393, cost=553.2186781024741\n",
      "w=[34.49341246 89.94670557 75.01390936 -8.68362155], b=110.87352070767568, cost=546.3015155852647\n",
      "w=[34.51587748 89.70883736 75.65182199 -8.68026261], b=110.74737237786898, cost=539.5843552772137\n",
      "w=[34.53804634 89.47424169 76.28052835 -8.67701353], b=110.62383108591865, cost=533.0613659458465\n",
      "w=[34.55992383 89.2428719  76.90016378 -8.6738634 ], b=110.50285891687803, cost=526.7268911641149\n",
      "w=[34.58151453 89.01468177 77.51086154 -8.67080338], b=110.38441842841945, cost=520.5754423288342\n",
      "w=[34.60282292 88.78962555 78.11275287 -8.66782626], b=110.2684726607625, cost=514.601692575149\n",
      "w=[34.62385332 88.56765801 78.705967   -8.66492612], b=110.15498514303025, cost=508.80047130785385\n",
      "w=[34.64460994 88.34873443 79.29063124 -8.66209809], b=110.04391989678291, cost=503.1667591709328\n",
      "w=[34.66509691 88.13281067 79.866871   -8.65933813], b=109.93524143732483, cost=497.69568334061915\n",
      "w=[34.68531825 87.91984314 80.4348098  -8.65664288], b=109.8289147732599, cost=492.38251306781257\n",
      "w=[34.70527789 87.70978883 80.99456934 -8.65400949], b=109.72490540467298, cost=487.22265542154463\n",
      "w=[34.72497971 87.50260531 81.5462695  -8.65143554], b=109.62317932023848, cost=482.211651201562\n",
      "w=[34.74442749 87.29825073 82.09002842 -8.64891896], b=109.52370299349505, cost=477.3451709985341\n",
      "w=[34.76362495 87.09668381 82.62596246 -8.64645795], b=109.42644337847705, cost=472.6190113871553\n",
      "w=[34.78257575 86.89786386 83.15418629 -8.64405093], b=109.33136790485372, cost=468.02909124150017\n",
      "w=[34.80128349 86.70175076 83.67481289 -8.6416965 ], b=109.23844447269681, cost=463.57144816496293\n",
      "w=[34.81975171 86.50830497 84.18795356 -8.63939341], b=109.14764144697168, cost=459.24223502866806\n",
      "w=[34.83798388 86.31748751 84.69371798 -8.63714051], b=109.05892765182816, cost=455.03771661354256\n",
      "w=[34.85598342 86.12925995 85.19221422 -8.63493676], b=108.97227236475089, cost=450.95426635196054\n",
      "w=[34.87375372 85.94358443 85.68354875 -8.63278119], b=108.88764531061699, cost=446.98836316530577\n",
      "w=[34.89129809 85.76042364 86.16782649 -8.6306729 ], b=108.80501665569841, cost=443.1365883943373\n",
      "w=[34.90861979 85.5797408  86.64515083 -8.62861103], b=108.72435700163918, cost=439.39562281927317\n",
      "w=[34.92572205 85.40149967 87.11562361 -8.62659479], b=108.64563737943044, cost=435.762243766883\n",
      "w=[34.94260804 85.22566453 87.57934522 -8.62462339], b=108.56882924340184, cost=432.23332230191573\n",
      "w=[34.95928088 85.05220019 88.03641453 -8.62269611], b=108.49390446524383, cost=428.8058205003319\n",
      "w=[34.97574365 84.88107197 88.48692901 -8.62081223], b=108.42083532807176, cost=425.4767888019402\n",
      "w=[34.99199938 84.7122457  88.93098467 -8.61897106], b=108.3495945205407, cost=422.2433634400747\n",
      "w=[35.00805105 84.54568771 89.36867611 -8.61717193], b=108.2801551310174, cost=419.1027639460875\n",
      "w=[35.02390161 84.38136481 89.80009657 -8.61541419], b=108.21249064181455, cost=416.0522907264176\n",
      "w=[35.03955396 84.2192443  90.22533789 -8.61369722], b=108.14657492349143, cost=413.0893227101733\n",
      "w=[35.05501095 84.05929398 90.6444906  -8.61202038], b=108.08238222922299, cost=410.2113150651336\n",
      "w=[35.07027539 83.90148209 91.05764388 -8.61038307], b=108.01988718923997, cost=407.41579698019615\n",
      "w=[35.08535006 83.74577734 91.4648856  -8.6087847 ], b=107.95906480534127, cost=404.70036951232396\n",
      "w=[35.10023768 83.59214892 91.86630236 -8.60722469], b=107.89989044547913, cost=402.06270349612794\n",
      "w=[35.11494096 83.44056646 92.26197949 -8.60570245], b=107.84233983841777, cost=399.5005375142462\n",
      "w=[35.12946254 83.29100002 92.65200104 -8.60421743], b=107.78638906846572, cost=397.0116759267615\n",
      "w=[35.14380504 83.14342012 93.03644987 -8.60276907], b=107.73201457028149, cost=394.59398695794516\n",
      "w=[35.15797102 82.9977977  93.4154076  -8.60135684], b=107.67919312375231, cost=392.245400838641\n",
      "w=[35.17196303 82.85410412 93.78895466 -8.59998019], b=107.62790184894558, cost=389.9639080026815\n",
      "w=[35.18578357 82.71231118 94.1571703  -8.59863859], b=107.57811820113238, cost=387.74755733578314\n",
      "w=[35.1994351  82.57239107 94.52013262 -8.59733154], b=107.52981996588242, cost=385.59445447535\n",
      "w=[35.21292005 82.43431641 94.87791856 -8.59605851], b=107.48298525422963, cost=383.50276015975146\n",
      "w=[35.2262408  82.29806019 95.23060394 -8.59481901], b=107.43759249790754, cost=381.4706886256003\n",
      "w=[35.23939972 82.16359583 95.57826348 -8.59361254], b=107.39362044465385, cost=379.496506051662\n",
      "w=[35.25239912 82.03089712 95.92097078 -8.59243862], b=107.35104815358295, cost=377.5785290480064\n",
      "w=[35.2652413  81.89993824 96.25879838 -8.59129675], b=107.30985499062612, cost=375.7151231891371\n",
      "w=[35.27792851 81.77069374 96.59181775 -8.59018648], b=107.27002062403777, cost=373.90470158975074\n",
      "w=[35.29046297 81.64313855 96.92009933 -8.58910733], b=107.23152501996746, cost=372.14572352194654\n",
      "w=[35.30284687 81.51724797 97.2437125  -8.58805884], b=107.19434843809643, cost=370.43669307265395\n",
      "w=[35.31508237 81.39299766 97.56272565 -8.58704057], b=107.15847142733782, cost=368.776157840107\n",
      "w=[35.32717158 81.27036363 97.87720614 -8.58605206], b=107.12387482159994, cost=367.16270766823413\n",
      "w=[35.33911661 81.14932225 98.18722037 -8.58509288], b=107.09053973561132, cost=365.5949734178577\n",
      "w=[35.35091952 81.02985023 98.49283376 -8.58416259], b=107.05844756080675, cost=364.07162577365216\n",
      "w=[35.36258234 80.91192462 98.79411075 -8.58326078], b=107.02757996127379, cost=362.5913740857825\n",
      "w=[35.37410708 80.79552282 99.09111488 -8.58238701], b=106.99791886975828, cost=361.152965245249\n",
      "w=[35.3854957  80.68062254 99.3839087  -8.58154087], b=106.96944648372859, cost=359.75518259193643\n",
      "w=[35.39675016 80.56720183 99.67255391 -8.58072196], b=106.94214526149733, cost=358.396844854433\n",
      "w=[35.40787237 80.45523906 99.95711125 -8.57992987], b=106.91599791839992, cost=357.07680512069084\n",
      "w=[ 35.41886422  80.34471292 100.23764059  -8.57916421], b=106.89098742302913, cost=355.7939498385984\n",
      "w=[ 35.42972757  80.23560241 100.51420094  -8.5784246 ], b=106.86709699352464, cost=354.5471978456643\n",
      "w=[ 35.44046425  80.12788683 100.78685043  -8.57771063], b=106.84431009391717, cost=353.3354994268929\n",
      "w=[ 35.45107607  80.02154578 101.05564633  -8.57702194], b=106.82261043052594, cost=352.15783540007976\n"
     ]
    }
   ],
   "source": [
    "w, b = gradient_descent(x_train, y_train, w, b, 0.00714, cost, gradient, 1000)"
   ]
  },
  {
   "cell_type": "markdown",
   "id": "c6bbaac5",
   "metadata": {},
   "source": [
    "Let's now predict the value of the house like before"
   ]
  },
  {
   "cell_type": "code",
   "execution_count": 11,
   "id": "b3c2f338",
   "metadata": {},
   "outputs": [
    {
     "name": "stdout",
     "output_type": "stream",
     "text": [
      "Value for a house with size=1.275 and numberOfBedrooms=4 and numberOfBathrooms=1 and age=12 is 470.240k$\n",
      "The actual price is 452.983k$\n"
     ]
    }
   ],
   "source": [
    "print(f'Value for a house with size=1.275 and numberOfBedrooms=4 and numberOfBathrooms=1 and age=12 is {predict(x_train[0], w, b):.3f}k$')\n",
    "print(f'The actual price is {y_train[0]}k$')"
   ]
  },
  {
   "cell_type": "code",
   "execution_count": 12,
   "id": "4e0257ea",
   "metadata": {},
   "outputs": [
    {
     "data": {
      "text/html": [
       "<div>\n",
       "<style scoped>\n",
       "    .dataframe tbody tr th:only-of-type {\n",
       "        vertical-align: middle;\n",
       "    }\n",
       "\n",
       "    .dataframe tbody tr th {\n",
       "        vertical-align: top;\n",
       "    }\n",
       "\n",
       "    .dataframe thead th {\n",
       "        text-align: right;\n",
       "    }\n",
       "</style>\n",
       "<table border=\"1\" class=\"dataframe\">\n",
       "  <thead>\n",
       "    <tr style=\"text-align: right;\">\n",
       "      <th></th>\n",
       "      <th>Size (1k feet squared)</th>\n",
       "      <th>Number of bedrooms</th>\n",
       "      <th>Number of bathrooms</th>\n",
       "      <th>Age</th>\n",
       "      <th>Price(1k $)</th>\n",
       "      <th>Prediction (1k $)</th>\n",
       "    </tr>\n",
       "  </thead>\n",
       "  <tbody>\n",
       "    <tr>\n",
       "      <th>0</th>\n",
       "      <td>1.275</td>\n",
       "      <td>4.0</td>\n",
       "      <td>1.0</td>\n",
       "      <td>12.0</td>\n",
       "      <td>452.983</td>\n",
       "      <td>470.240299</td>\n",
       "    </tr>\n",
       "    <tr>\n",
       "      <th>1</th>\n",
       "      <td>1.674</td>\n",
       "      <td>5.0</td>\n",
       "      <td>2.0</td>\n",
       "      <td>6.0</td>\n",
       "      <td>673.983</td>\n",
       "      <td>716.924602</td>\n",
       "    </tr>\n",
       "    <tr>\n",
       "      <th>2</th>\n",
       "      <td>2.000</td>\n",
       "      <td>6.0</td>\n",
       "      <td>3.0</td>\n",
       "      <td>1.0</td>\n",
       "      <td>983.992</td>\n",
       "      <td>952.443954</td>\n",
       "    </tr>\n",
       "    <tr>\n",
       "      <th>3</th>\n",
       "      <td>0.987</td>\n",
       "      <td>2.0</td>\n",
       "      <td>1.0</td>\n",
       "      <td>34.0</td>\n",
       "      <td>122.111</td>\n",
       "      <td>111.292814</td>\n",
       "    </tr>\n",
       "    <tr>\n",
       "      <th>4</th>\n",
       "      <td>1.275</td>\n",
       "      <td>4.0</td>\n",
       "      <td>1.0</td>\n",
       "      <td>4.0</td>\n",
       "      <td>555.211</td>\n",
       "      <td>538.856474</td>\n",
       "    </tr>\n",
       "  </tbody>\n",
       "</table>\n",
       "</div>"
      ],
      "text/plain": [
       "   Size (1k feet squared)  Number of bedrooms  Number of bathrooms   Age  \\\n",
       "0                   1.275                 4.0                  1.0  12.0   \n",
       "1                   1.674                 5.0                  2.0   6.0   \n",
       "2                   2.000                 6.0                  3.0   1.0   \n",
       "3                   0.987                 2.0                  1.0  34.0   \n",
       "4                   1.275                 4.0                  1.0   4.0   \n",
       "\n",
       "   Price(1k $)  Prediction (1k $)  \n",
       "0      452.983         470.240299  \n",
       "1      673.983         716.924602  \n",
       "2      983.992         952.443954  \n",
       "3      122.111         111.292814  \n",
       "4      555.211         538.856474  "
      ]
     },
     "execution_count": 12,
     "metadata": {},
     "output_type": "execute_result"
    }
   ],
   "source": [
    "predicted_values = []\n",
    "for i in range(m):\n",
    "    predicted_values.append(predict(x_train[i], w, b))\n",
    "df['Prediction (1k $)'] = pd.Series(predicted_values)\n",
    "df"
   ]
  },
  {
   "cell_type": "markdown",
   "id": "369cba0f",
   "metadata": {},
   "source": [
    "As it seems, we've been able to predict not too close to the actual price but somehow promising."
   ]
  }
 ],
 "metadata": {
  "kernelspec": {
   "display_name": "Python 3 (ipykernel)",
   "language": "python",
   "name": "python3"
  },
  "language_info": {
   "codemirror_mode": {
    "name": "ipython",
    "version": 3
   },
   "file_extension": ".py",
   "mimetype": "text/x-python",
   "name": "python",
   "nbconvert_exporter": "python",
   "pygments_lexer": "ipython3",
   "version": "3.10.4"
  }
 },
 "nbformat": 4,
 "nbformat_minor": 5
}
