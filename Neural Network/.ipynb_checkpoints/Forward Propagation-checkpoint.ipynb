{
 "cells": [
  {
   "cell_type": "markdown",
   "id": "98e16831",
   "metadata": {},
   "source": [
    "# Forward Propagation\n",
    "This notebook implements the algorithm for forward propagation"
   ]
  },
  {
   "cell_type": "code",
   "execution_count": 1,
   "id": "1d50c85f",
   "metadata": {},
   "outputs": [],
   "source": [
    "import numpy as np"
   ]
  },
  {
   "cell_type": "code",
   "execution_count": 2,
   "id": "8a48e245",
   "metadata": {},
   "outputs": [],
   "source": [
    "def dense(a_in, W, b, g):\n",
    "    units = W.shape[1]\n",
    "    a_out = np.zeros(units)\n",
    "    for j in range(units):\n",
    "        w = W[:, j]\n",
    "        z = np.dot(w, a_in) + b[j]\n",
    "        a_out[j] = g(z)\n",
    "    return a_out"
   ]
  },
  {
   "cell_type": "markdown",
   "id": "27875133",
   "metadata": {},
   "source": [
    "\"dense\" function takes input of \"a_in\" which is a matrix of m * n shape where m is the number of rows or data and n is the number of features or columns.<br>\n",
    "Then takes W as a matrix with shape of m * units where m is the number of features or rows and units is the number of units in the layer.<br>\n",
    "b also is a matrix of units shape which is one dimentional and has bias for every unit.<br>\n",
    "\"g\" is the activation function."
   ]
  },
  {
   "cell_type": "markdown",
   "id": "2bc5e47d",
   "metadata": {},
   "source": [
    "Let's assume we have 2 layers. First layer contains 3 units and second layer contains 1 unit. Also $\\overrightarrow{x}$ has 3 rows with 2 columns."
   ]
  },
  {
   "cell_type": "code",
   "execution_count": 3,
   "id": "c473641c",
   "metadata": {},
   "outputs": [],
   "source": [
    "X = np.array([[1, 2],\n",
    "              [3, 4],\n",
    "              [5, 6]])\n",
    "W1 = np.array([[0.1, 0.2, 0.3],\n",
    "               [0.4, 0.5, 0.6]])\n",
    "b1 = np.array([-1, 0, 1])\n",
    "\n",
    "W2 = np.array([[0.9],\n",
    "               [0.1],\n",
    "               [0]])\n",
    "b2 = np.array([2])"
   ]
  },
  {
   "cell_type": "code",
   "execution_count": 4,
   "id": "8a9ee667",
   "metadata": {},
   "outputs": [],
   "source": [
    "def sigmoid(z):\n",
    "    return 1 / (1 + np.exp(-z))"
   ]
  },
  {
   "cell_type": "code",
   "execution_count": 5,
   "id": "c774f79c",
   "metadata": {},
   "outputs": [],
   "source": [
    "def sequential(X, W1, b1, W2, b2):\n",
    "    a1 = dense(X, W1, b1, sigmoid)\n",
    "    a2 = dense(a1, W2, b2, sigmoid)\n",
    "    return a2"
   ]
  },
  {
   "cell_type": "code",
   "execution_count": 6,
   "id": "359a143f",
   "metadata": {},
   "outputs": [
    {
     "data": {
      "text/plain": [
       "array([0.92444769])"
      ]
     },
     "execution_count": 6,
     "metadata": {},
     "output_type": "execute_result"
    }
   ],
   "source": [
    "sequential(X[0], W1, b1, W2, b2)"
   ]
  },
  {
   "cell_type": "markdown",
   "id": "66bbc389",
   "metadata": {},
   "source": [
    "Here we see if our input $\\overrightarrow{x}$ has $m$ rows with 2 features giving it to a layer with $u1$ units, each unit of that layer will have 2 features and the result of that layer will be a matrix with $m$ number of rows and $u1$ features or columns."
   ]
  },
  {
   "cell_type": "markdown",
   "id": "64c6c09e",
   "metadata": {},
   "source": [
    "## Vectorized Implementation\n",
    "We will use matrix multiplication to optimize the code for forward propagation"
   ]
  },
  {
   "cell_type": "code",
   "execution_count": 7,
   "id": "cc66ed28",
   "metadata": {},
   "outputs": [],
   "source": [
    "def dense(A_in, W, B, g):\n",
    "    Z = np.matmul(A_in, W) + B\n",
    "    A_out = g(Z)\n",
    "    return A_out"
   ]
  },
  {
   "cell_type": "markdown",
   "id": "e6cab6b3",
   "metadata": {},
   "source": [
    "Function above takes a matrix of m rows and n columns where m is the number of data and n is the number of features.<br>\n",
    "W is a n * u matrix with n rows and u columns where n represents the number of features and u the number of units for that specific layer.<br>\n",
    "B is a matrix with 1 row and u columns representing bias.<br>\n",
    "g is the activation function."
   ]
  },
  {
   "cell_type": "code",
   "execution_count": 8,
   "id": "d77c3208",
   "metadata": {},
   "outputs": [],
   "source": [
    "X = np.array([[1, 2],\n",
    "              [3, 4],\n",
    "              [5, 6]])\n",
    "W1 = np.array([[0.1, 0.2, 0.3],\n",
    "               [0.4, 0.5, 0.6]])\n",
    "B1 = np.array([[-1, 0, 1]])\n",
    "\n",
    "W2 = np.array([[0.9],\n",
    "               [0.1],\n",
    "               [0]])\n",
    "B2 = np.array([[2]])"
   ]
  },
  {
   "cell_type": "code",
   "execution_count": 9,
   "id": "0249bf68",
   "metadata": {},
   "outputs": [
    {
     "data": {
      "text/plain": [
       "array([[0.92444769],\n",
       "       [0.93894264],\n",
       "       [0.94690438]])"
      ]
     },
     "execution_count": 9,
     "metadata": {},
     "output_type": "execute_result"
    }
   ],
   "source": [
    "a_out = sequential(X, W1, B1, W2, B2)\n",
    "a_out"
   ]
  },
  {
   "cell_type": "markdown",
   "id": "26836bf6",
   "metadata": {},
   "source": [
    "Let's see the matrix multiplication here.<br>\n",
    "Let's first have one data and use vector-matrix multiplication to see the result. Then use matrix-matrix multiplication.<br>\n",
    "$\n",
    "\\overrightarrow{a}^{[l]} = A\\_in × W^{[l]} + B^{[l]}\n",
    "$"
   ]
  },
  {
   "cell_type": "markdown",
   "id": "d1eff11d",
   "metadata": {},
   "source": [
    "$\n",
    "\\begin{bmatrix}\n",
    "    1 & 2\n",
    "\\end{bmatrix} \n",
    "×\n",
    "\\begin{bmatrix}\n",
    "    0.1 & 0.2 & 0.3\\\\\n",
    "    0.4 & 0.5 & 0.6\n",
    "\\end{bmatrix}\n",
    "+\n",
    "\\begin{bmatrix}\n",
    "    -1 & 0 & 1\n",
    "\\end{bmatrix}\n",
    "=\n",
    "\\begin{bmatrix}\n",
    "    -0.1 &  1.2 &  2.5\n",
    "\\end{bmatrix}\n",
    "$"
   ]
  },
  {
   "cell_type": "markdown",
   "id": "c3557033",
   "metadata": {},
   "source": [
    "As it is seen, given a data with 2 features and pass it to a layer with 3 units results in a vector with 3 features.\n",
    "This is also true if we pass the whole dataset to the first layer:"
   ]
  },
  {
   "cell_type": "markdown",
   "id": "67603b0c",
   "metadata": {},
   "source": [
    "$\n",
    "\\begin{bmatrix}\n",
    "    1 & 2\\\\\n",
    "    3 & 4\\\\\n",
    "    5 & 6\n",
    "\\end{bmatrix} ×\n",
    "\\begin{bmatrix}\n",
    "    0.1 & 0.2 & 0.3\\\\\n",
    "    0.4 & 0.5 & 0.6\n",
    "\\end{bmatrix} +\n",
    "\\begin{bmatrix}\n",
    "    -1 & 0 & 1\n",
    "\\end{bmatrix} =\n",
    "\\begin{bmatrix}\n",
    "    -0.1 &  1.2 & 2.5\\\\\n",
    "    0.9 &  2.6 & 4.3\\\\\n",
    "    1.9 &  4.0 & 6.1\n",
    "\\end{bmatrix}\n",
    "$\n",
    "<br><br>\n",
    "Then this matrix is given to sigmoid function which result in:<br><br>\n",
    "$\n",
    "    Sigmoid\\bigg( \n",
    "    \\begin{bmatrix}\n",
    "        -0.1 &  1.2 & 2.5\\\\\n",
    "        0.9 &  2.6 & 4.3\\\\\n",
    "        1.9 &  4.0 & 6.1\n",
    "    \\end{bmatrix}\n",
    "     \\bigg)=\n",
    "     \\begin{bmatrix}\n",
    "        0.47502081 & 0.76852478 & 0.92414182\\\\\n",
    "        0.7109495 & 0.93086158 & 0.98661308\\\\\n",
    "        0.86989153 & 0.98201379 & 0.99776215\n",
    "    \\end{bmatrix}\n",
    "$"
   ]
  },
  {
   "cell_type": "markdown",
   "id": "841ebbf4",
   "metadata": {},
   "source": [
    "This new matrix is $\\overrightarrow{a}^{[1]}$ which will then be passed to the second layer with only one unit."
   ]
  },
  {
   "cell_type": "markdown",
   "id": "19511cb3",
   "metadata": {},
   "source": [
    "$\n",
    "\\begin{bmatrix}\n",
    "    0.47502081 & 0.76852478 & 0.92414182\\\\\n",
    "    0.7109495 & 0.93086158 & 0.98661308\\\\\n",
    "    0.86989153 & 0.98201379 & 0.99776215\n",
    "\\end{bmatrix} × \n",
    "\\begin{bmatrix}\n",
    "    0.1\\\\\n",
    "    0.9\\\\\n",
    "    0\n",
    "\\end{bmatrix} +\n",
    "\\begin{bmatrix}\n",
    "    2\n",
    "\\end{bmatrix} =\n",
    "\\begin{bmatrix}\n",
    "    2.50437121\\\\\n",
    "    2.73294071\\\\\n",
    "    2.88110375\n",
    "\\end{bmatrix}\n",
    "$\n",
    "<br><br>\n",
    "$\n",
    "\\overrightarrow{a}^{[2]} = Sigmoid\\bigg( \n",
    "    \\begin{bmatrix}\n",
    "        2.50437121\\\\\n",
    "        2.73294071\\\\\n",
    "        2.88110375\n",
    "    \\end{bmatrix} \\bigg) =\n",
    "\\begin{bmatrix}\n",
    "    0.92444769\\\\\n",
    "    0.93894264\\\\\n",
    "    0.94690438\n",
    "\\end{bmatrix}\n",
    "$"
   ]
  },
  {
   "cell_type": "markdown",
   "id": "691032c6",
   "metadata": {},
   "source": [
    "A matrix with 3 rows is returned as the output of the neural network. Since the last layer has only one unit, output matrix has only one column as feature."
   ]
  },
  {
   "cell_type": "markdown",
   "id": "9915751e",
   "metadata": {},
   "source": [
    "End"
   ]
  }
 ],
 "metadata": {
  "kernelspec": {
   "display_name": "Python 3 (ipykernel)",
   "language": "python",
   "name": "python3"
  },
  "language_info": {
   "codemirror_mode": {
    "name": "ipython",
    "version": 3
   },
   "file_extension": ".py",
   "mimetype": "text/x-python",
   "name": "python",
   "nbconvert_exporter": "python",
   "pygments_lexer": "ipython3",
   "version": "3.10.4"
  }
 },
 "nbformat": 4,
 "nbformat_minor": 5
}
