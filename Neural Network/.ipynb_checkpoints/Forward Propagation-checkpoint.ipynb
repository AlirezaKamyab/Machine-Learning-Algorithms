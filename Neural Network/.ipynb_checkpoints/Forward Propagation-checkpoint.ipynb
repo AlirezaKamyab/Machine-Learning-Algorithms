{
 "cells": [
  {
   "cell_type": "markdown",
   "id": "98e16831",
   "metadata": {},
   "source": [
    "# Forward Propagation\n",
    "This notebook implements the algorithm for forward propagation"
   ]
  },
  {
   "cell_type": "code",
   "execution_count": 1,
   "id": "1d50c85f",
   "metadata": {},
   "outputs": [],
   "source": [
    "import numpy as np"
   ]
  },
  {
   "cell_type": "code",
   "execution_count": 2,
   "id": "8a48e245",
   "metadata": {},
   "outputs": [],
   "source": [
    "def dense(a_in, W, b, g):\n",
    "    units = W.shape[1]\n",
    "    a_out = np.zeros(units)\n",
    "    for j in range(units):\n",
    "        w = W[:, j]\n",
    "        z = np.dot(w, a_in) + b[j]\n",
    "        a_out[j] = g(z)\n",
    "    return a_out"
   ]
  },
  {
   "cell_type": "markdown",
   "id": "27875133",
   "metadata": {},
   "source": [
    "\"dense\" function takes input of \"a_in\" which is a matrix of m * n shape where m is the number of rows or data and n is the number of features or columns.\\\n",
    "Then takes W as a matrix with shape of m * units where m is the number of features or rows and units is the number of units in the layer.\\\n",
    "b also is a matrix of units shape which is one dimentional and has bias for every unit.\\\n",
    "\"g\" is the activation function."
   ]
  },
  {
   "cell_type": "markdown",
   "id": "2bc5e47d",
   "metadata": {},
   "source": [
    "Let's assume we have 2 layers. First layer contains 3 units and second layer contains 1 unit. Also $\\overrightarrow{x}$ has 3 rows with 2 columns."
   ]
  },
  {
   "cell_type": "code",
   "execution_count": 3,
   "id": "c473641c",
   "metadata": {},
   "outputs": [],
   "source": [
    "x = np.array([[1, 2],\n",
    "             [3, 4],\n",
    "             [5, 6]])\n",
    "W1 = np.array([[0.1, 0.2, 0.3],\n",
    "      [0.4, 0.5, 0.6]])\n",
    "b1 = np.array([-1, 0, 1])\n",
    "\n",
    "W2 = np.array([[0.9],\n",
    "              [0.1],\n",
    "              [0]])\n",
    "b2 = np.array([2])"
   ]
  },
  {
   "cell_type": "code",
   "execution_count": 4,
   "id": "8a9ee667",
   "metadata": {},
   "outputs": [],
   "source": [
    "def sigmoid(z):\n",
    "    return 1 / (1 + np.exp(-z))"
   ]
  },
  {
   "cell_type": "code",
   "execution_count": 5,
   "id": "c774f79c",
   "metadata": {},
   "outputs": [],
   "source": [
    "def sequential(x, W1, b1, W2, b2):\n",
    "    a1 = dense(x, W1, b1, sigmoid)\n",
    "    a2 = dense(a1, W2, b2, sigmoid)\n",
    "    return a2"
   ]
  },
  {
   "cell_type": "code",
   "execution_count": 6,
   "id": "359a143f",
   "metadata": {},
   "outputs": [
    {
     "data": {
      "text/plain": [
       "array([0.92444769])"
      ]
     },
     "execution_count": 6,
     "metadata": {},
     "output_type": "execute_result"
    }
   ],
   "source": [
    "sequential(x[0], W1, b1, W2, b2)"
   ]
  },
  {
   "cell_type": "markdown",
   "id": "66bbc389",
   "metadata": {},
   "source": [
    "Here we see if our input $\\overrightarrow{x}$ has $m$ rows with 2 features giving it to a layer with $u1$ units, each unit of that layer will have 2 features and the result of that layer will be a matrix with $m$ number of rows and $u1$ features or columns."
   ]
  },
  {
   "cell_type": "markdown",
   "id": "64c6c09e",
   "metadata": {},
   "source": [
    "End"
   ]
  }
 ],
 "metadata": {
  "kernelspec": {
   "display_name": "Python 3 (ipykernel)",
   "language": "python",
   "name": "python3"
  },
  "language_info": {
   "codemirror_mode": {
    "name": "ipython",
    "version": 3
   },
   "file_extension": ".py",
   "mimetype": "text/x-python",
   "name": "python",
   "nbconvert_exporter": "python",
   "pygments_lexer": "ipython3",
   "version": "3.10.4"
  }
 },
 "nbformat": 4,
 "nbformat_minor": 5
}
