{
 "cells": [
  {
   "cell_type": "markdown",
   "id": "98e16831",
   "metadata": {},
   "source": [
    "# Forward Propagation\n",
    "This notebook implements the algorithm for forward propagation"
   ]
  },
  {
   "cell_type": "code",
   "execution_count": 1,
   "id": "1d50c85f",
   "metadata": {},
   "outputs": [],
   "source": [
    "import numpy as np"
   ]
  },
  {
   "cell_type": "code",
   "execution_count": 2,
   "id": "8a48e245",
   "metadata": {},
   "outputs": [],
   "source": [
    "def dense(a_in, W, b, g):\n",
    "    units = W.shape[1]\n",
    "    a_out = np.zeros(units)\n",
    "    for j in range(units):\n",
    "        w = W[:, j]\n",
    "        z = np.dot(w, a_in) + b[j]\n",
    "        a_out[j] = g(z)\n",
    "    return a_out"
   ]
  },
  {
   "cell_type": "markdown",
   "id": "27875133",
   "metadata": {},
   "source": [
    "\"dense\" function takes input of \"a_in\" which is a matrix of m * n shape where m is the number of rows or data and n is the number of features or columns.<br>\n",
    "Then takes W as a matrix with shape of m * units where m is the number of features or rows and units is the number of units in the layer.<br>\n",
    "b also is a matrix of units shape which is one dimentional and has bias for every unit.<br>\n",
    "\"g\" is the activation function."
   ]
  },
  {
   "cell_type": "markdown",
   "id": "2bc5e47d",
   "metadata": {},
   "source": [
    "Let's assume we have 2 layers. First layer contains 3 units and second layer contains 1 unit. Also $\\overrightarrow{x}$ has 3 rows with 2 columns."
   ]
  },
  {
   "cell_type": "code",
   "execution_count": 3,
   "id": "c473641c",
   "metadata": {},
   "outputs": [],
   "source": [
    "X = np.array([[1, 2],\n",
    "              [3, 4],\n",
    "              [5, 6]])\n",
    "W1 = np.array([[0.1, 0.2, 0.3],\n",
    "               [0.4, 0.5, 0.6]])\n",
    "b1 = np.array([-1, 0, 1])\n",
    "\n",
    "W2 = np.array([[0.9],\n",
    "               [0.1],\n",
    "               [0]])\n",
    "b2 = np.array([2])"
   ]
  },
  {
   "cell_type": "code",
   "execution_count": 4,
   "id": "8a9ee667",
   "metadata": {},
   "outputs": [],
   "source": [
    "def sigmoid(z):\n",
    "    return 1 / (1 + np.exp(-z))"
   ]
  },
  {
   "cell_type": "code",
   "execution_count": 5,
   "id": "c774f79c",
   "metadata": {},
   "outputs": [],
   "source": [
    "def sequential(X, W1, b1, W2, b2):\n",
    "    a1 = dense(X, W1, b1, sigmoid)\n",
    "    a2 = dense(a1, W2, b2, sigmoid)\n",
    "    return a2"
   ]
  },
  {
   "cell_type": "code",
   "execution_count": 6,
   "id": "359a143f",
   "metadata": {},
   "outputs": [
    {
     "data": {
      "text/plain": [
       "array([0.92444769])"
      ]
     },
     "execution_count": 6,
     "metadata": {},
     "output_type": "execute_result"
    }
   ],
   "source": [
    "sequential(X[0], W1, b1, W2, b2)"
   ]
  },
  {
   "cell_type": "markdown",
   "id": "66bbc389",
   "metadata": {},
   "source": [
    "Here we see if our input $\\overrightarrow{x}$ has $m$ rows with 2 features giving it to a layer with $u1$ units, each unit of that layer will have 2 features and the result of that layer will be a matrix with $m$ number of rows and $u1$ features or columns."
   ]
  },
  {
   "cell_type": "markdown",
   "id": "64c6c09e",
   "metadata": {},
   "source": [
    "## Vectorized Implementation\n",
    "We will use matrix multiplication to optimize the code for forward propagation"
   ]
  },
  {
   "cell_type": "code",
   "execution_count": 7,
   "id": "cc66ed28",
   "metadata": {},
   "outputs": [],
   "source": [
    "def dense(A_in, W, B, g):\n",
    "    Z = np.matmul(A_in, W) + B\n",
    "    A_out = g(Z)\n",
    "    return A_out"
   ]
  },
  {
   "cell_type": "markdown",
   "id": "e6cab6b3",
   "metadata": {},
   "source": [
    "Function above takes a matrix of m rows and n columns where m is the number of data and n is the number of features.<br>\n",
    "W is a n * u matrix with n rows and u columns where n represents the number of features and u the number of units for that specific layer.<br>\n",
    "B is a matrix with 1 row and u columns representing bias.<br>\n",
    "g is the activation function."
   ]
  },
  {
   "cell_type": "code",
   "execution_count": 8,
   "id": "d77c3208",
   "metadata": {},
   "outputs": [],
   "source": [
    "X = np.array([[1, 2],\n",
    "              [3, 4],\n",
    "              [5, 6]])\n",
    "W1 = np.array([[0.1, 0.2, 0.3],\n",
    "               [0.4, 0.5, 0.6]])\n",
    "B1 = np.array([[-1, 0, 1]])\n",
    "\n",
    "W2 = np.array([[0.9],\n",
    "               [0.1],\n",
    "               [0]])\n",
    "B2 = np.array([[2]])"
   ]
  },
  {
   "cell_type": "code",
   "execution_count": 9,
   "id": "0249bf68",
   "metadata": {},
   "outputs": [
    {
     "data": {
      "text/plain": [
       "array([[0.92444769],\n",
       "       [0.93894264],\n",
       "       [0.94690438]])"
      ]
     },
     "execution_count": 9,
     "metadata": {},
     "output_type": "execute_result"
    }
   ],
   "source": [
    "a_out = sequential(X, W1, B1, W2, B2)\n",
    "a_out"
   ]
  },
  {
   "cell_type": "markdown",
   "id": "26836bf6",
   "metadata": {},
   "source": [
    "Let's see the matrix multiplication here.<br>\n",
    "Let's first have one data and use vector-matrix multiplication to see the result. Then use matrix-matrix multiplication.<br>\n",
    "$\n",
    "\\overrightarrow{a}^{[l]} = A\\_in × W^{[l]} + B^{[l]}\n",
    "$"
   ]
  },
  {
   "cell_type": "markdown",
   "id": "d1eff11d",
   "metadata": {},
   "source": [
    "$\n",
    "\\begin{bmatrix}\n",
    "    1 & 2\n",
    "\\end{bmatrix}\\times\n",
    "\\begin{bmatrix}\n",
    "    0.1 & 0.2 & 0.3\\\\\n",
    "    0.4 & 0.5 & 0.6\n",
    "\\end{bmatrix}+\n",
    "\\begin{bmatrix}\n",
    "    -1 & 0 & 1\n",
    "\\end{bmatrix}=\n",
    "\\begin{bmatrix}\n",
    "    -0.1 &  1.2 &  2.5\n",
    "\\end{bmatrix}\n",
    "$"
   ]
  },
  {
   "cell_type": "markdown",
   "id": "c3557033",
   "metadata": {},
   "source": [
    "As it is seen, given a data with 2 features and pass it to a layer with 3 units results in a vector with 3 features.\n",
    "This is also true if we pass the whole dataset to the first layer:"
   ]
  },
  {
   "cell_type": "markdown",
   "id": "67603b0c",
   "metadata": {},
   "source": [
    "$\n",
    "\\begin{bmatrix}\n",
    "    1 & 2\\\\\n",
    "    3 & 4\\\\\n",
    "    5 & 6\n",
    "\\end{bmatrix}\\times\n",
    "\\begin{bmatrix}\n",
    "    0.1 & 0.2 & 0.3\\\\\n",
    "    0.4 & 0.5 & 0.6\n",
    "\\end{bmatrix}\n",
    "+\n",
    "\\begin{bmatrix}\n",
    "    -1 & 0 & 1\n",
    "\\end{bmatrix}=\n",
    "\\begin{bmatrix}\n",
    "    -0.1 &  1.2 & 2.5\\\\\n",
    "    0.9 &  2.6 & 4.3\\\\\n",
    "    1.9 &  4.0 & 6.1\n",
    "\\end{bmatrix}\n",
    "$\n",
    "<br><br>\n",
    "Then this matrix is given to sigmoid function which result in:<br><br>\n",
    "$\n",
    "Sigmoid\\bigg( \n",
    "\\begin{bmatrix}\n",
    "    -0.1 &  1.2 & 2.5\\\\\n",
    "    0.9 &  2.6 & 4.3\\\\\n",
    "    1.9 &  4.0 & 6.1\n",
    "\\end{bmatrix}\n",
    " \\bigg)=\n",
    " \\begin{bmatrix}\n",
    "    0.47502081 & 0.76852478 & 0.92414182\\\\\n",
    "    0.7109495 & 0.93086158 & 0.98661308\\\\\n",
    "    0.86989153 & 0.98201379 & 0.99776215\n",
    "\\end{bmatrix}\n",
    "$"
   ]
  },
  {
   "cell_type": "markdown",
   "id": "841ebbf4",
   "metadata": {},
   "source": [
    "This new matrix is $\\overrightarrow{a}^{[1]}$ which will then be passed to the second layer with only one unit."
   ]
  },
  {
   "cell_type": "markdown",
   "id": "19511cb3",
   "metadata": {},
   "source": [
    "$\n",
    "\\begin{bmatrix}\n",
    "    0.47502081 & 0.76852478 & 0.92414182\\\\\n",
    "    0.7109495 & 0.93086158 & 0.98661308\\\\\n",
    "    0.86989153 & 0.98201379 & 0.99776215\n",
    "\\end{bmatrix}\\times\n",
    "\\begin{bmatrix}\n",
    "    0.1\\\\\n",
    "    0.9\\\\\n",
    "    0\n",
    "\\end{bmatrix}+\n",
    "\\begin{bmatrix}\n",
    "    2\n",
    "\\end{bmatrix}=\n",
    "\\begin{bmatrix}\n",
    "    2.50437121\\\\\n",
    "    2.73294071\\\\\n",
    "    2.88110375\n",
    "\\end{bmatrix}\n",
    "$\n",
    "\n",
    "<br><br>\n",
    "\n",
    "$\n",
    "\\overrightarrow{a}^{[2]} = \n",
    "Sigmoid\\bigg( \n",
    "    \\begin{bmatrix}\n",
    "        2.50437121\\\\\n",
    "        2.73294071\\\\\n",
    "        2.88110375\n",
    "    \\end{bmatrix} \\bigg)=\n",
    "\\begin{bmatrix}\n",
    "    0.92444769\\\\\n",
    "    0.93894264\\\\\n",
    "    0.94690438\n",
    "\\end{bmatrix}\n",
    "$"
   ]
  },
  {
   "cell_type": "markdown",
   "id": "691032c6",
   "metadata": {},
   "source": [
    "A matrix with 3 rows is returned as the output of the neural network. Since the last layer has only one unit, output matrix has only one column as feature."
   ]
  },
  {
   "cell_type": "markdown",
   "id": "9915751e",
   "metadata": {},
   "source": [
    "## Example"
   ]
  },
  {
   "cell_type": "code",
   "execution_count": 10,
   "id": "3586e8d0",
   "metadata": {},
   "outputs": [],
   "source": [
    "from sklearn.datasets import load_digits\n",
    "from tensorflow.keras.layers import Dense\n",
    "from tensorflow.keras.models import Sequential\n",
    "import tensorflow as tf\n",
    "import matplotlib.pyplot as plt\n",
    "from sklearn.model_selection import train_test_split"
   ]
  },
  {
   "cell_type": "code",
   "execution_count": 11,
   "id": "2210fb24",
   "metadata": {},
   "outputs": [],
   "source": [
    "X, y = load_digits(n_class=2, return_X_y=True)\n",
    "X, X_test, y, y_test = train_test_split(X, y, train_size=0.8, shuffle=True)"
   ]
  },
  {
   "cell_type": "code",
   "execution_count": 12,
   "id": "ab202124",
   "metadata": {},
   "outputs": [
    {
     "data": {
      "image/png": "[encoded data removed]",
      "text/plain": [
       "<Figure size 1080x1080 with 144 Axes>"
      ]
     },
     "metadata": {},
     "output_type": "display_data"
    }
   ],
   "source": [
    "r, c = 12, 12\n",
    "fig, ax = plt.subplots(r, c, figsize=(15, 15))\n",
    "cnt = 0\n",
    "for i in range(r):\n",
    "    for j in range(c):\n",
    "        ax[i][j].tick_params(left=False, bottom=False, labelleft=False, labelbottom=False)\n",
    "        ax[i][j].imshow(X[cnt].reshape(8, 8), cmap='gray')\n",
    "        ax[i][j].set_title(f'{y[cnt]}')\n",
    "        cnt += 1\n",
    "fig.subplots_adjust(top=1)"
   ]
  },
  {
   "cell_type": "code",
   "execution_count": 13,
   "id": "7500ea14",
   "metadata": {},
   "outputs": [
    {
     "name": "stdout",
     "output_type": "stream",
     "text": [
      "Model: \"Digit_Prediction_Model\"\n",
      "_________________________________________________________________\n",
      " Layer (type)                Output Shape              Param #   \n",
      "=================================================================\n",
      " layer1 (Dense)              (None, 25)                1625      \n",
      "                                                                 \n",
      " layer2 (Dense)              (None, 15)                390       \n",
      "                                                                 \n",
      " layer3 (Dense)              (None, 1)                 16        \n",
      "                                                                 \n",
      "=================================================================\n",
      "Total params: 2,031\n",
      "Trainable params: 2,031\n",
      "Non-trainable params: 0\n",
      "_________________________________________________________________\n"
     ]
    }
   ],
   "source": [
    "model = Sequential([\n",
    "    tf.keras.Input(shape=(64,)),\n",
    "    Dense(units=25, activation='sigmoid', name='layer1'),\n",
    "    Dense(units=15, activation='sigmoid', name='layer2'),\n",
    "    Dense(units=1, activation='sigmoid', name='layer3'),\n",
    "], name='Digit_Prediction_Model')\n",
    "model.summary()"
   ]
  },
  {
   "cell_type": "code",
   "execution_count": 14,
   "id": "202b1ecb",
   "metadata": {},
   "outputs": [],
   "source": [
    "model.compile(\n",
    "    loss=tf.keras.losses.BinaryCrossentropy(),\n",
    "    optimizer=tf.keras.optimizers.Adam(learning_rate=0.1),\n",
    "    metrics=['accuracy']\n",
    ")"
   ]
  },
  {
   "cell_type": "code",
   "execution_count": 15,
   "id": "47982e9a",
   "metadata": {},
   "outputs": [],
   "source": [
    "norm = tf.keras.layers.Normalization()\n",
    "norm.adapt(X)\n",
    "Xn = norm(X)"
   ]
  },
  {
   "cell_type": "code",
   "execution_count": 16,
   "id": "d651048a",
   "metadata": {},
   "outputs": [
    {
     "name": "stdout",
     "output_type": "stream",
     "text": [
      "Epoch 1/10\n",
      "9/9 [==============================] - 0s 996us/step - loss: 0.2767 - accuracy: 0.8958\n",
      "Epoch 2/10\n",
      "9/9 [==============================] - 0s 1ms/step - loss: 0.0145 - accuracy: 1.0000\n",
      "Epoch 3/10\n",
      "9/9 [==============================] - 0s 893us/step - loss: 0.0021 - accuracy: 1.0000\n",
      "Epoch 4/10\n",
      "9/9 [==============================] - 0s 873us/step - loss: 8.0941e-04 - accuracy: 1.0000\n",
      "Epoch 5/10\n",
      "9/9 [==============================] - 0s 873us/step - loss: 5.2765e-04 - accuracy: 1.0000\n",
      "Epoch 6/10\n",
      "9/9 [==============================] - 0s 873us/step - loss: 4.2472e-04 - accuracy: 1.0000\n",
      "Epoch 7/10\n",
      "9/9 [==============================] - 0s 873us/step - loss: 3.7593e-04 - accuracy: 1.0000\n",
      "Epoch 8/10\n",
      "9/9 [==============================] - 0s 748us/step - loss: 3.4745e-04 - accuracy: 1.0000\n",
      "Epoch 9/10\n",
      "9/9 [==============================] - 0s 873us/step - loss: 3.2633e-04 - accuracy: 1.0000\n",
      "Epoch 10/10\n",
      "9/9 [==============================] - 0s 748us/step - loss: 3.0906e-04 - accuracy: 1.0000\n"
     ]
    }
   ],
   "source": [
    "model.fit(\n",
    "    Xn, y,\n",
    "    epochs=10\n",
    ");"
   ]
  },
  {
   "cell_type": "markdown",
   "id": "d3506ceb",
   "metadata": {},
   "source": [
    "Now, use Forward Propagation implemented in Keras libaray to predict the number via its trained W and B"
   ]
  },
  {
   "cell_type": "code",
   "execution_count": 17,
   "id": "d7242776",
   "metadata": {},
   "outputs": [
    {
     "name": "stdout",
     "output_type": "stream",
     "text": [
      "3/3 [==============================] - 0s 498us/step\n"
     ]
    }
   ],
   "source": [
    "predicted = model.predict(X_test)\n",
    "yhat = np.array([0 if i < 0.5 else 1 for i in predicted])"
   ]
  },
  {
   "cell_type": "markdown",
   "id": "d0ca36da",
   "metadata": {},
   "source": [
    "As in the images below, the first number shows the original number and second one shows the predicted outcome of keras Forward Propagation. <br>\n",
    "Notice some predictions may be wrong."
   ]
  },
  {
   "cell_type": "code",
   "execution_count": 18,
   "id": "04dd5261",
   "metadata": {},
   "outputs": [
    {
     "data": {
      "image/png": "[encoded data removed]",
      "text/plain": [
       "<Figure size 1080x1080 with 72 Axes>"
      ]
     },
     "metadata": {},
     "output_type": "display_data"
    }
   ],
   "source": [
    "r, c = 9, 8\n",
    "fig, ax = plt.subplots(r, c, figsize=(15, 15))\n",
    "cnt = 0\n",
    "for i in range(r):\n",
    "    for j in range(c):\n",
    "        ax[i][j].tick_params(left=False, bottom=False, labelleft=False, labelbottom=False)\n",
    "        ax[i][j].imshow(X_test[cnt].reshape(8, 8), cmap='gray')\n",
    "        ax[i][j].set_title(f'{y_test[cnt]} {yhat[cnt]}')\n",
    "        cnt += 1\n",
    "fig.subplots_adjust(top=1)"
   ]
  },
  {
   "cell_type": "code",
   "execution_count": 19,
   "id": "f1f21074",
   "metadata": {},
   "outputs": [],
   "source": [
    "layer1, layer2, layer3 = model.layers"
   ]
  },
  {
   "cell_type": "markdown",
   "id": "2d78965e",
   "metadata": {},
   "source": [
    "We have every image to be 8px by 8px that's why we see our $\\overrightarrow{x}$ has 64 features for every row. Given 64 features to the first layer, since there are 25 units, there will be 25 columns in W1 and 64 rows. And B1 has only one row with 25 indices. W2 uses 25 features constructed in layer1 and creates 15 features so 25 rows and 15 columns. Also for layer3 . . .<br>\n",
    "Giving 72 rows with 64 feature to the first layer then results in 25 features since every data is given to each perceptron to create a new data. This is also true for next layers."
   ]
  },
  {
   "cell_type": "code",
   "execution_count": 20,
   "id": "97a2894f",
   "metadata": {},
   "outputs": [
    {
     "name": "stdout",
     "output_type": "stream",
     "text": [
      "X has 72 rows and 64 columns\n",
      "W1 has 64 rows and 25 columns\n",
      "W2 has 25 rows and 15 columns\n",
      "W3 has 15 rows and 1 columns\n"
     ]
    }
   ],
   "source": [
    "W1, B1 = layer1.get_weights()\n",
    "W2, B2 = layer2.get_weights()\n",
    "W3, B3 = layer3.get_weights()\n",
    "\n",
    "print(f'X has {X_test.shape[0]} rows and {X_test.shape[1]} columns')\n",
    "print(f'W1 has {W1.shape[0]} rows and {W1.shape[1]} columns')\n",
    "print(f'W2 has {W2.shape[0]} rows and {W2.shape[1]} columns')\n",
    "print(f'W3 has {W3.shape[0]} rows and {W3.shape[1]} columns')"
   ]
  },
  {
   "cell_type": "code",
   "execution_count": 21,
   "id": "f948de2b",
   "metadata": {},
   "outputs": [],
   "source": [
    "def mySequential(A_in, W1, B1, W2, B2, W3, B3):\n",
    "    a1 = dense(A_in, W1, B1, sigmoid)\n",
    "    a2 = dense(a1, W2, B2, sigmoid)\n",
    "    a3 = dense(a2, W3, B3, sigmoid)\n",
    "    return a3"
   ]
  },
  {
   "cell_type": "code",
   "execution_count": 22,
   "id": "0eefcabe",
   "metadata": {},
   "outputs": [],
   "source": [
    "my_prediction = mySequential(X_test, W1, B1, W2, B2, W3, B3)"
   ]
  },
  {
   "cell_type": "code",
   "execution_count": 23,
   "id": "de98e939",
   "metadata": {},
   "outputs": [],
   "source": [
    "my_yhat = np.array([0 if i < 0.5 else 1 for i in my_prediction])"
   ]
  },
  {
   "cell_type": "markdown",
   "id": "9ba6486f",
   "metadata": {},
   "source": [
    "First number above each image shows the original number; second number shows prediction through forward propagation from keras; third number shows prediction through forward propagation implemented in this notebook."
   ]
  },
  {
   "cell_type": "code",
   "execution_count": 24,
   "id": "6767d1d0",
   "metadata": {},
   "outputs": [
    {
     "data": {
      "image/png": "[encoded data removed]",
      "text/plain": [
       "<Figure size 1080x1080 with 72 Axes>"
      ]
     },
     "metadata": {},
     "output_type": "display_data"
    }
   ],
   "source": [
    "r, c = 9, 8\n",
    "fig, ax = plt.subplots(r, c, figsize=(15, 15))\n",
    "cnt = 0\n",
    "for i in range(r):\n",
    "    for j in range(c):\n",
    "        ax[i][j].tick_params(left=False, bottom=False, labelleft=False, labelbottom=False)\n",
    "        ax[i][j].imshow(X_test[cnt].reshape(8, 8), cmap='gray')\n",
    "        ax[i][j].set_title(f'{y_test[cnt]} {yhat[cnt]} {my_yhat[cnt]}')\n",
    "        cnt += 1\n",
    "fig.subplots_adjust(top=1)"
   ]
  },
  {
   "cell_type": "markdown",
   "id": "c6d761f7",
   "metadata": {},
   "source": [
    "End."
   ]
  }
 ],
 "metadata": {
  "kernelspec": {
   "display_name": "Python 3 (ipykernel)",
   "language": "python",
   "name": "python3"
  },
  "language_info": {
   "codemirror_mode": {
    "name": "ipython",
    "version": 3
   },
   "file_extension": ".py",
   "mimetype": "text/x-python",
   "name": "python",
   "nbconvert_exporter": "python",
   "pygments_lexer": "ipython3",
   "version": "3.10.4"
  }
 },
 "nbformat": 4,
 "nbformat_minor": 5
}
