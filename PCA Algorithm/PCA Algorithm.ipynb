{
 "cells": [
  {
   "cell_type": "markdown",
   "id": "ef239965-f568-4552-9fef-69ffe4f5d3da",
   "metadata": {},
   "source": [
    "# Principle Components Analysis"
   ]
  },
  {
   "cell_type": "markdown",
   "id": "64b66dad-4c0c-4a18-9f3a-918e0e9b046b",
   "metadata": {},
   "source": [
    "Principle components analysis (PCA) is a dimensionality reduction algorithm. Given a set of $\\{x^{(1)},x^{(2)}, \\dots x^{(n)}\\}$, the aim of the algorithm is to take some $x^{(i)} \\in \\mathbb{R}^n$ and map it to some $c^{(i)} \\in \\mathbb{R}^l$ where $l \\lt n$. This way it takes less memory to store the data.<br>\n",
    "We want to define some function to encode $f(x)=c$ and another function to decode $x \\approx g(f(x))$<br>\n",
    "\n",
    "For simplicity we choose the decode function to be merely a matrix multiplication that map the code in $\\mathbb{R}^l$ back to $\\mathbb{R}^n$. Let $g(c) = \\mathbf{D}c$ where $\\mathbf{D} \\in \\mathbb{R}^{n \\times l}$ is the matrix defining the decoding.<br>\n",
    "\n",
    "Computing the optimal code for this decoder is difficult; to make it easy we should constrain the columns of $\\mathbf{D}$ to be orthogonal.<br>\n",
    "The matrix $\\mathbf{D}$ in the PCA decoding function is a matrix that maps the encoded data $c$ back to its original representation. If $\\mathbf{D}$ is not orthogonal, then it is possible to find a code $c$ that maps to a different original representation than the one it was intended to represent. This is because the columns of $\\mathbf{D}$ are not orthogonal, so they can be linearly dependent. This means that it is possible to find a linear combination of the columns of $\\mathbf{D}$ that is equal to zero, but that does not correspond to any real data point. This linear combination can then be used to create a code $c$ that maps to a different original representation than the one it was intended to represent.<br>\n",
    "\n",
    "We should also, constrain all the columns of matrix $\\mathbf{D}$ to have a unit norm.\n",
    "If we do not constrain the columns of $\\mathbf{D}$ to have a unit norm, then there will be many possible solutions to the PCA decoding function. This is because we can increase the scale of any column of $\\mathbf{D}$ without changing the decoded representation.<br>\n",
    "For example, let's say we have a column of $\\mathbf{D}$ that represents the first principal component of the data. If we increase the scale of this column by 2, then we will also need to decrease the code c for all points by 2. This will ensure that the decoded representation of all points remains the same.<br>\n",
    "<br>\n",
    "Let's try to generate the optimal codes $\\mathbf{c^*}$ for each point $x$. To find the optimal code we should minimize the distance between $\\mathbf{c^*}$ and its reconstruction, $g(\\mathbf{c^*})$. To do that we use squared $L^2$ norm.\n",
    "$$\n",
    "\\begin{gather}\n",
    "    \\mathbf{c^*} = \\underset{c}{arg\\ min}\\parallel{x - g(c)}\\parallel_2^2\n",
    "\\end{gather}\n",
    "$$\n",
    "\n",
    "The function that we are minimizing is\n",
    "$$\n",
    "\\begin{gather}\n",
    "    (x - g(c))^\\top(x - g(c)) \\\\\n",
    "    = x^\\top x - x^\\top g(c) - g(c)^\\top x + g(c)^\\top g(c)\\\\\n",
    "    = x^\\top x - 2x^\\top g(c) + g(c)^\\top g(c)\n",
    "\\end{gather}\n",
    "$$\n",
    "\n",
    "Since we are minimizing the above function, we can omit the first term since it does not depend on $\\mathbf{c}$\n",
    "\n",
    "$$\n",
    "\\begin{gather}\n",
    "    \\mathbf{c^*} = \\underset{c}{arg\\ min} -2x^\\top g(c) + g(c)^\\top g(c)\n",
    "\\end{gather}\n",
    "$$\n",
    "\n",
    "given $g(c) = \\mathbf{D}c$\n",
    "\n",
    "$$\n",
    "\\begin{gather}\n",
    "    \\mathbf{c^*} = \\underset{c}{arg\\ min} -2x^\\top \\mathbf{D}c + c^\\top\\mathbf{D}^\\top \\mathbf{D}c\\\\\n",
    "    = \\underset{c}{arg\\ min} -2x^\\top \\mathbf{D}c + c^\\top\\mathbf{I}_lc\n",
    "\\end{gather}\n",
    "$$\n",
    "\n",
    "If $\\mathbf{D}$ is an orthogonal matrix, then $\\mathbf{D}^\\top \\mathbf{D}$ is the identity matrix. This is because the columns of $\\mathbf{D}$ are orthogonal to each other, so the product of any column of $\\mathbf{D}$ with its transpose is equal to the identity matrix.\n",
    "\n",
    "$$\n",
    "\\begin{gather}\n",
    "    = \\underset{c}{arg\\ min} -2x^\\top \\mathbf{D}c + c^\\top c\n",
    "\\end{gather}\n",
    "$$\n",
    "\n",
    "Let's now solve the optimization problem\n",
    "\n",
    "$$\n",
    "\\begin{gather}\n",
    "    \\nabla_c(-2x^\\top\\mathbf{D}c + c^\\top c) = \\mathbf{0} \\\\\n",
    "    -2\\mathbf{D}^\\top x + 2c = \\mathbf{0}\\\\\n",
    "    c = \\mathbf{D}^\\top x\n",
    "\\end{gather}\n",
    "$$\n",
    "\n",
    "We can optimally encode $x$ using a matrix-vector multiplication\n",
    "$$\n",
    "\\begin{gather}\n",
    "    f(x) = \\mathbf{D}^\\top x\n",
    "\\end{gather}\n",
    "$$\n",
    "\n",
    "Let's now try to define the reconstruction operation\n",
    "\n",
    "$$\n",
    "\\begin{gather}\n",
    "    r(x) = g(f(x)) = \\mathbf{D}\\mathbf{D}^\\top x\n",
    "\\end{gather}\n",
    "$$\n",
    "\n",
    "Next, we need to choose matrix $\\mathbf{D}$. To do so we revisit the idea of minimizing the $L^2$ distance between inputs and reconstructions. Since the same matrix $\\mathbf{D}$ is used to decode all the points, we can no longer consider the points in isolation. Instead we minimize the Frobenius norm of the matrix of errors computed over all dimensions and all points:\n",
    "$$\n",
    "\\begin{gather}\n",
    "    \\mathbf{D^*} = \\underset{D}{arg\\ min}\\sqrt{\\sum_{i, j}\\bigg(x_j^{(i)}-r(x^{(i)})_j\\bigg)^2} & \\text{Subject to } \\mathbf{D}^\\top\\mathbf{D}=\\mathbf{I}_l\n",
    "\\end{gather}\n",
    "$$\n",
    "\n",
    "The constraint $\\mathbf{D}^\\top\\mathbf{D}=\\mathbf{I}_l$​ means that the columns of matrix $\\mathbf{D}$ are orthonormal. This means that each column has a magnitude of 1 and is orthogonal to all other columns. This constraint is used to ensure that the principal components are uncorrelated and have unit variance.<br>\n",
    "\n",
    "Let's start by considering the case where $l = 1$; in this case $\\mathbf{D}$ is just a vector $\\mathbf{d}$:\n",
    "$$\n",
    "\\begin{gather}\n",
    "    \\mathbf{d^*} = \\underset{\\mathbf{d}}{arg\\ min}\\sum_i{\\parallel x^{(i)} - \\mathbf{dd}^\\top x^{(i)} \\parallel_2^2} & \\text{subject to} \\parallel \\mathbf{d} \\parallel_2 = 1\n",
    "\\end{gather}\n",
    "$$\n",
    "\n",
    "Since $\\mathbf{d}^\\top x^{(i)}$ is a scalar and coefficient to $\\mathbf{d}$, we'd like it to be on the left of the vector $\\mathbf{d}$:\n",
    "$$\n",
    "\\begin{gather}\n",
    "    \\mathbf{d^*} = \\underset{\\mathbf{d}}{arg\\ min}\\sum_i{\\parallel x^{(i)} - \\mathbf{d}^\\top x^{(i)}\\mathbf{d} \\parallel_2^2} & \\text{subject to} \\parallel \\mathbf{d} \\parallel_2 = 1\n",
    "\\end{gather}\n",
    "$$\n",
    "since scalar is its own transpose:\n",
    "$$\n",
    "\\begin{gather}\n",
    "    \\mathbf{d^*} = \\underset{\\mathbf{d}}{arg\\ min}\\sum_i{\\parallel x^{(i)} - x^{(i)\\top} \\mathbf{d}\\mathbf{d} \\parallel_2^2} & \\text{subject to} \\parallel \\mathbf{d} \\parallel_2 = 1\n",
    "\\end{gather}\n",
    "$$\n",
    "\n",
    "Let's stack each example to form a matrix $\\mathbf{X} \\in \\mathbb{R}^{m\\times n}$ where $\\mathbf{X_{i, :}} = x^{(i)^\\top}$:\n",
    "$$\n",
    "\\begin{gather}\n",
    "    \\mathbf{d^*} = \\underset{\\mathbf{d}}{arg\\ min}{\\parallel \\mathbf{X} - \\mathbf{X}\\mathbf{d}\\mathbf{d}^\\top \\parallel_F^2} & \\text{subject to } \\mathbf{d}^\\top \\mathbf{d} = 1\n",
    "\\end{gather}\n",
    "$$\n",
    "Disregarding the constraint\n",
    "$$\n",
    "\\begin{gather}\n",
    "    \\underset{\\mathbf{d}}{arg\\ min}{\\parallel \\mathbf{X} - \\mathbf{X}\\mathbf{d}\\mathbf{d}^\\top \\parallel_F^2}\\\\\n",
    "    = \\underset{\\mathbf{d}}{arg\\ min}\\ Tr\\bigg(\\big(\\mathbf{X} - \\mathbf{X}\\mathbf{d}\\mathbf{d}^\\top\\big)^\\top\\big(\\mathbf{X} - \\mathbf{X}\\mathbf{d}\\mathbf{d}^\\top\\big)\\bigg)\\\\\n",
    "    = \\underset{\\mathbf{d}}{arg\\ min}\\ Tr{(\\mathbf{X}^\\top\\mathbf{X}-\\mathbf{X}^\\top\\mathbf{X}dd^\\top-dd^\\top\\mathbf{X}^\\top\\mathbf{X}+dd^\\top\\mathbf{X}^\\top\\mathbf{X}dd^\\top)}\\\\\n",
    "    = \\underset{\\mathbf{d}}{arg\\ min}\\ Tr{(\\mathbf{X}^\\top\\mathbf{X})}-\\ Tr{(\\mathbf{X}^\\top\\mathbf{X}dd^\\top)}-\\ Tr{(dd^\\top\\mathbf{X}^\\top\\mathbf{X})}+\\ Tr{(dd^\\top\\mathbf{X}^\\top\\mathbf{X}dd^\\top)}\n",
    "\\end{gather}\n",
    "$$\n",
    "(Remove the terms that does not involve $\\mathbf{d}$)\n",
    "$$\n",
    "\\begin{gather}\n",
    "    = \\underset{\\mathbf{d}}{arg\\ min}-\\ Tr{(\\mathbf{X}^\\top\\mathbf{X}dd^\\top)}-\\ Tr{(dd^\\top\\mathbf{X}^\\top\\mathbf{X})}+\\ Tr{(dd^\\top\\mathbf{X}^\\top\\mathbf{X}dd^\\top)}\n",
    "\\end{gather}\n",
    "$$\n",
    "\n",
    "(We can cycle the order of matrices inside a trace)\n",
    "$$\n",
    "\\begin{gather}\n",
    "    = \\underset{\\mathbf{d}}{arg\\ min}-2\\ Tr{(\\mathbf{X}^\\top\\mathbf{X}dd^\\top)}+\\ Tr{(dd^\\top\\mathbf{X}^\\top\\mathbf{X}dd^\\top)}\\\\\n",
    "    = \\underset{\\mathbf{d}}{arg\\ min}-2\\ Tr{(\\mathbf{X}^\\top\\mathbf{X}dd^\\top)}+\\ Tr{(\\mathbf{X}^\\top\\mathbf{X}dd^\\top dd^\\top)}\n",
    "\\end{gather}\n",
    "$$\n",
    "(Re-introducing the constraints)\n",
    "$$\n",
    "\\begin{gather}\n",
    "    = \\underset{\\mathbf{d}}{arg\\ min}-2\\ Tr{(\\mathbf{X}^\\top\\mathbf{X}dd^\\top)}+\\ Tr{(\\mathbf{X}^\\top\\mathbf{X}dd^\\top dd^\\top)} & \\text{subject to } \\mathbf{d}^\\top\\mathbf{d} = 1\\\\ \n",
    "    = \\underset{\\mathbf{d}}{arg\\ min}-2\\ Tr{(\\mathbf{X}^\\top\\mathbf{X}dd^\\top)}+\\ Tr{(\\mathbf{X}^\\top\\mathbf{X}dd^\\top)} & \\text{subject to } \\mathbf{d}^\\top\\mathbf{d} = 1\\\\\n",
    "    = \\underset{\\mathbf{d}}{arg\\ min}-\\ Tr{(\\mathbf{X}^\\top\\mathbf{X}dd^\\top)}& \\text{subject to } \\mathbf{d}^\\top\\mathbf{d} = 1\\\\\n",
    "    = \\underset{\\mathbf{d}}{arg\\ max}\\ Tr{(\\mathbf{X}^\\top\\mathbf{X}dd^\\top)}& \\text{subject to } \\mathbf{d}^\\top\\mathbf{d} = 1\\\\\n",
    "    = \\underset{\\mathbf{d}}{arg\\ max}\\ Tr{(d^\\top\\mathbf{X}^\\top\\mathbf{X}d)}& \\text{subject to } \\mathbf{d}^\\top\\mathbf{d} = 1\n",
    "\\end{gather}\n",
    "$$\n",
    "\n",
    "Optimization problem can be solved using eigendecomposition. In this case optimal $\\mathbf{d}$ is given by the eigenvector of $\\mathbf{X}^\\top \\mathbf{X}$ corresponding to the largest eigenvalue.\n",
    "Since we let $l=1$, we only decode the first component. For more matrix $\\mathbf{D}$ will be given by $l$ eigenvectors corresponding to the largest eigenvalues."
   ]
  },
  {
   "cell_type": "code",
   "execution_count": 1,
   "id": "7aff888c-5152-4cd0-a045-d42ad43ac95d",
   "metadata": {},
   "outputs": [],
   "source": [
    "%matplotlib inline"
   ]
  },
  {
   "cell_type": "code",
   "execution_count": 2,
   "id": "a05abaa7-9707-4ef2-9936-74f69c5a694d",
   "metadata": {},
   "outputs": [],
   "source": [
    "import numpy as np\n",
    "import matplotlib.pyplot as plt"
   ]
  },
  {
   "cell_type": "code",
   "execution_count": 3,
   "id": "73bc1b2c-517d-486b-b2e3-97118c991481",
   "metadata": {},
   "outputs": [
    {
     "data": {
      "image/png": "[encoded data removed]",
      "text/plain": [
       "<Figure size 640x480 with 1 Axes>"
      ]
     },
     "metadata": {},
     "output_type": "display_data"
    }
   ],
   "source": [
    "x_1 = np.random.randn(10) * 10\n",
    "x_2 = x_1 + np.random.randn(10) * 2\n",
    "fig, ax = plt.subplots(layout='constrained');\n",
    "ax.scatter(x_1, x_2);"
   ]
  },
  {
   "cell_type": "code",
   "execution_count": 4,
   "id": "c65e5c29-9d7e-420b-9181-435e2ef04611",
   "metadata": {},
   "outputs": [],
   "source": [
    "X = np.hstack((x_1.reshape(-1, 1), x_2.reshape(-1, 1)), dtype='float32')"
   ]
  },
  {
   "cell_type": "markdown",
   "id": "780b978a-3faf-4abf-99ca-a06d5b7ff92b",
   "metadata": {},
   "source": [
    "## Mean normalization"
   ]
  },
  {
   "cell_type": "code",
   "execution_count": 5,
   "id": "6589f5e8-3495-496a-9c06-8cb7a52df41a",
   "metadata": {},
   "outputs": [],
   "source": [
    "mu = np.mean(X, axis=0)\n",
    "std = np.std(X, axis=0)\n",
    "X_norm = (X - mu) / std"
   ]
  },
  {
   "cell_type": "markdown",
   "id": "f4a3fdc0-5a0b-4da8-8c9e-45de33405b2c",
   "metadata": {},
   "source": [
    "## PCA"
   ]
  },
  {
   "cell_type": "code",
   "execution_count": 6,
   "id": "c322cd7b-75fc-45b5-919e-6496d35b0d38",
   "metadata": {},
   "outputs": [],
   "source": [
    "sigma = (X_norm.T @ X_norm)"
   ]
  },
  {
   "cell_type": "code",
   "execution_count": 7,
   "id": "b7c24f84-99af-4b04-8d22-2d02e4d0f3a8",
   "metadata": {},
   "outputs": [],
   "source": [
    "U, S, V = np.linalg.svd(sigma)"
   ]
  },
  {
   "cell_type": "code",
   "execution_count": 8,
   "id": "e7aa8b3f-2a6f-4b74-8f69-94fbea097888",
   "metadata": {},
   "outputs": [],
   "source": [
    "Ureduce = U[:, 0].reshape(-1, 1)"
   ]
  },
  {
   "cell_type": "code",
   "execution_count": 9,
   "id": "5df7d7db-76c5-4e21-9da7-fcda8a9b560d",
   "metadata": {},
   "outputs": [],
   "source": [
    "def f(x):\n",
    "    return Ureduce.T @ x\n",
    "\n",
    "C = f(X_norm.T)"
   ]
  },
  {
   "cell_type": "code",
   "execution_count": 10,
   "id": "be0cd713-d587-4fe7-b1e4-1962082e2283",
   "metadata": {},
   "outputs": [
    {
     "data": {
      "image/png": "[encoded data removed]",
      "text/plain": [
       "<Figure size 640x480 with 1 Axes>"
      ]
     },
     "metadata": {},
     "output_type": "display_data"
    }
   ],
   "source": [
    "fig, ax = plt.subplots()\n",
    "ax.scatter(X_norm[:, 0], X_norm[:, 1]);\n",
    "ax.scatter(C, np.zeros_like(C), marker='^');"
   ]
  },
  {
   "cell_type": "markdown",
   "id": "6b2a1b1c-9ece-4ae6-9a4a-4069b4c71e44",
   "metadata": {},
   "source": [
    "## What $k$ should we choose?\n",
    "We should try PCA with $k=\\alpha$, where $1 \\le\\alpha $ and compute $c$ which is the encoded version of $x$ then check if\n",
    "$$\n",
    "\\begin{gather}\n",
    "    \\frac{\\frac{1}{m}\\sum_{i=1}^{m}\\parallel x^{(i)} - c^{(i)} \\parallel^2}{\\frac{1}{m}\\sum_{i=1}^{m}\\parallel x^{(i)} \\parallel^2} \\le 0.01\n",
    "\\end{gather}\n",
    "$$\n",
    "\n",
    "Where $m$ is the number of examples and $n$ is the number of the dimensionality of each example and $k$ is the number of the new dimensionality.<br>\n",
    "We should try $k=1\\dots n$ to see which satisfy the inequality.\n",
    "<br>\n",
    "There is more efficient way to find the best $k$. Calculation of `U, S, V = svd(sigma)` where `sigma` is $\\Sigma = \\mathbf{X}^\\top\\mathbf{X}$ results another matrix `S` which is a diagonal matrix.\n",
    "$$\n",
    "S = \n",
    "\\begin{bmatrix}\n",
    "    s_{11} & 0 & 0 & \\dots & 0 \\\\\n",
    "    0 & s_{22} & 0 & \\dots & 0 \\\\\n",
    "    0 & 0 & s_{33} & \\dots & 0\\\\\n",
    "    \\vdots & \\vdots & \\vdots & \\vdots & \\vdots\\\\\n",
    "    0 & 0 & 0 & \\dots & s_{nn}\\\\\n",
    "\\end{bmatrix}\n",
    "$$\n",
    "<br>\n",
    "Now we need to check\n",
    "$$\n",
    "\\begin{gather}\n",
    "    1 - \\frac{\\sum_{i=1}^{k}\\mathbf{S}_{ii}}{\\sum_{i=1}^{n}\\mathbf{S}_{ii}} \\le 0.01\n",
    "\\end{gather}\n",
    "$$\n",
    "In this case we say \"99% of variance retained\""
   ]
  },
  {
   "cell_type": "code",
   "execution_count": 11,
   "id": "f8113bb4-c1db-4e77-a54b-9950f59cb103",
   "metadata": {},
   "outputs": [
    {
     "name": "stdout",
     "output_type": "stream",
     "text": [
      "99.1% variane retained\n"
     ]
    }
   ],
   "source": [
    "retain_var = 1 - np.sum(S[:1]) / np.sum(S)\n",
    "print(f'{(1 - retain_var) * 100:0.3}% variane retained')"
   ]
  },
  {
   "cell_type": "markdown",
   "id": "05e5d9b5-af52-4ba8-b7c7-2201363f47af",
   "metadata": {},
   "source": [
    "## Decoding"
   ]
  },
  {
   "cell_type": "code",
   "execution_count": 12,
   "id": "d4815362-0401-41e0-9a25-80647683110b",
   "metadata": {},
   "outputs": [],
   "source": [
    "def g(c):\n",
    "    return Ureduce @ c\n",
    "\n",
    "X_approx = g(C).T"
   ]
  },
  {
   "cell_type": "code",
   "execution_count": 13,
   "id": "d25a4ca3-cdf4-4231-a795-44f01aebf7fa",
   "metadata": {},
   "outputs": [
    {
     "data": {
      "text/plain": [
       "<matplotlib.legend.Legend at 0x7f91eb74e850>"
      ]
     },
     "execution_count": 13,
     "metadata": {},
     "output_type": "execute_result"
    },
    {
     "data": {
      "image/png": "[encoded data removed]",
      "text/plain": [
       "<Figure size 640x480 with 1 Axes>"
      ]
     },
     "metadata": {},
     "output_type": "display_data"
    }
   ],
   "source": [
    "fig, ax = plt.subplots()\n",
    "ax.scatter(X_approx[:, 0], X_approx[:, 1], label='approximation')\n",
    "ax.scatter(X_norm[:, 0], X_norm[:, 1], label='original', alpha=0.5);\n",
    "ax.legend()"
   ]
  },
  {
   "cell_type": "markdown",
   "id": "b5ad1378-808e-46c0-a282-7e31a8171b58",
   "metadata": {},
   "source": [
    "_References_<br>\n",
    "<i>[Deep Learning; Ian Goodfellow, Yoshua Bengio, Aaron Courville]</i>"
   ]
  }
 ],
 "metadata": {
  "kernelspec": {
   "display_name": "Python 3 (ipykernel)",
   "language": "python",
   "name": "python3"
  },
  "language_info": {
   "codemirror_mode": {
    "name": "ipython",
    "version": 3
   },
   "file_extension": ".py",
   "mimetype": "text/x-python",
   "name": "python",
   "nbconvert_exporter": "python",
   "pygments_lexer": "ipython3",
   "version": "3.11.3"
  }
 },
 "nbformat": 4,
 "nbformat_minor": 5
}
