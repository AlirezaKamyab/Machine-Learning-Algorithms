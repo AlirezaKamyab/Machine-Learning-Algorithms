{
 "cells": [
  {
   "cell_type": "markdown",
   "id": "186ebc2e",
   "metadata": {},
   "source": [
    "# Collaborative Filtering"
   ]
  },
  {
   "cell_type": "markdown",
   "id": "8e416844",
   "metadata": {},
   "source": [
    "### Notations\n",
    "Imagine we are to predict the rating for each movie given by a user."
   ]
  },
  {
   "cell_type": "markdown",
   "id": "d2b67685",
   "metadata": {},
   "source": [
    "| Notation | Description |\n",
    "| :- | :- |\n",
    "| $n_u$ | Number of users |\n",
    "| $n_m$ | Number of movies |\n",
    "| $r(i, j)$ | It equals 1 if user \"j\" has rated move \"i\" |\n",
    "| $y^{(i, j)}$ | Rating of user \"j\" for the movie \"i\" |\n",
    "| $n$ | Number of features for each movie |\n",
    "| $w^{(j)}$ | Weights of features for user \"j\" |\n",
    "| $x^{(i)}$ | Features for movie \"i\" |\n",
    "| $b^{(j)}$ | Intersection for user \"j\" |"
   ]
  },
  {
   "cell_type": "markdown",
   "id": "7d8d7ebc",
   "metadata": {},
   "source": [
    "Given a dataset like below, we can use collaborative filtering to use all the users' rating to predict future ratings."
   ]
  },
  {
   "cell_type": "markdown",
   "id": "122c2280",
   "metadata": {},
   "source": [
    "| Movie | User1 | User2 | User3 | User4 | User5 | Feature1 ($x_1$) | Feature2 ($x_2$) |\n",
    "| :-: | :-: | :-: | :-: | :-: | :-: | :-: | :-: |\n",
    "| Movie1 | 5 | 5 | 0 | 0 | ? | 9.9 | 0 |\n",
    "| Movie2 | 5 | ? | ? | 0 | ? | 1.0 | 0.01 |\n",
    "| Movie3 | ? | 4 | 0 | ? | ? | 0.99 | 0 |\n",
    "| Movie4 | 0 | 0 | 5 | 4 | ? | 0.1 | 1.0 |\n",
    "| Movie5 | 0 | 0 | 5 | ? | ? | 0 | 0.9 |"
   ]
  },
  {
   "cell_type": "code",
   "execution_count": 1,
   "id": "6ce35a9c",
   "metadata": {},
   "outputs": [],
   "source": [
    "import numpy as np\n",
    "import tensorflow as tf"
   ]
  },
  {
   "cell_type": "markdown",
   "id": "518af01e",
   "metadata": {},
   "source": [
    "### Function\n",
    "The function is like a linear function with a difference that we have three variables<br>\n",
    "$\n",
    "f_{W, b, X}(W^{(j)}, b^{(j)}, X^{(i)}) = W^{(j)}.X^{(i)} + b^{(j)}\n",
    "$\n",
    "<br>\n",
    "If the function is mean normalized: <br>\n",
    "$\n",
    "f_{W, b, X}(W^{(j)}, b^{(j)}, X^{(i)}) = W^{(j)}.X^{(i)} + b^{(j)} - \\mu^{(i)}\n",
    "$\n",
    "<br>\n",
    "where $\\mu$ is a vector with $n_m$ rows. (Mean normalization could be calculated in a way to have $n_u$ rows i.e. be calculated via taking the mean of each column rather than row)\n",
    "\n",
    "### Cost function\n",
    "Now instead of learning parameters $W$ and $b$ we also have to learn $X$. <br>\n",
    "$\n",
    "\\begin{equation}\n",
    "\\displaystyle\n",
    "    J(W, b, X) = \\frac{1}{2} \\sum_{(i, j):r(i, j)=1}(W^{(j)}.X^{(i)} + b^{(j)} - y^{(i, j)})^2  + \\frac{\\lambda}{2}\\sum_{j=1}^{n_u}\\sum_{k=1}^{n}(W_{k}^{(j)})^2 + \\frac{\\lambda}{2}\\sum_{i=1}^{n_m}\\sum_{k=1}^{n}(X_{k}^{(i)})^2\n",
    "\\end{equation}\n",
    "$\n",
    "<br>\n",
    "We can write this in another way <br>\n",
    "$\n",
    "\\begin{equation}\n",
    "\\displaystyle\n",
    "    J(W, b, X) = \\frac{1}{2} \\sum_{i=1}^{n_m}\\sum_{j=1}^{n_u}r(i, j)\\times(W^{(j)}.X^{(i)} + b^{(j)} - y^{(i, j)})^2  + \\frac{\\lambda}{2}\\sum_{j=1}^{n_u}\\sum_{k=1}^{n}(W_{k}^{(j)})^2 + \\frac{\\lambda}{2}\\sum_{i=1}^{n_m}\\sum_{k=1}^{n}(X_{k}^{(i)})^2\n",
    "\\end{equation}\n",
    "$\n",
    "\n",
    "### Gradient descent\n",
    "Repeat {<br>\n",
    "    $W_{i}^{(j)} = W_{i}^{(j)} - \\alpha\\displaystyle\\frac{\\partial}{\\partial W_{i}^{(j)}}J(W, b, X)$ <br>\n",
    "    $b^{(j)} = b^{(j)} - \\alpha\\displaystyle\\frac{\\partial}{\\partial b^{(j)}}J(W, b, X)$ <br>\n",
    "    $X_{k}^{(j)} = X_{k}^{(j)} - \\alpha\\displaystyle\\frac{\\partial}{\\partial X_{k}^{(j)}}J(W, b, X)$ <br>\n",
    "}"
   ]
  },
  {
   "cell_type": "code",
   "execution_count": 2,
   "id": "dcd7a100",
   "metadata": {},
   "outputs": [],
   "source": [
    "def cf_func(w, x, b):\n",
    "    return np.dot(w, x) + b"
   ]
  },
  {
   "cell_type": "code",
   "execution_count": 3,
   "id": "958c5d31",
   "metadata": {},
   "outputs": [],
   "source": [
    "def cf_cost(X, W, b, Y, R, lambda_):\n",
    "    nm, nu = Y.shape\n",
    "    J = 0\n",
    "    nm, n = X.shape\n",
    "    nu, _ = W.shape\n",
    "    \n",
    "    for j in range(nu):\n",
    "        for i in range(nm):\n",
    "            J += R[i, j] * (1/2) * (cf_func(W[j], X[i], b[0, j]) - Y[i, j]) ** 2\n",
    "    \n",
    "    for j in range(nu):\n",
    "        for k in range(n):\n",
    "            J += (lambda_ / 2 ) * W[j, k] ** 2\n",
    "            \n",
    "    for i in range(nm):\n",
    "        for k in range(n):\n",
    "            J += (lambda_ / 2) * X[i, k] ** 2\n",
    "\n",
    "    return J"
   ]
  },
  {
   "cell_type": "markdown",
   "id": "8751d838",
   "metadata": {},
   "source": [
    "Function below is vectorized implementation of the code (refrence \"Coursera, unsupervised learning, recommenders, reinforcement-learning\")"
   ]
  },
  {
   "cell_type": "code",
   "execution_count": 4,
   "id": "29639f9d",
   "metadata": {},
   "outputs": [],
   "source": [
    "def cofi_cost_func_v(X, W, b, Y, R, lambda_):\n",
    "    \"\"\"\n",
    "    Returns the cost for the content-based filtering\n",
    "    Vectorized for speed. Uses tensorflow operations to be compatible with custom training loop.\n",
    "    Args:\n",
    "      X (ndarray (num_movies,num_features)): matrix of item features\n",
    "      W (ndarray (num_users,num_features)) : matrix of user parameters\n",
    "      b (ndarray (1, num_users)            : vector of user parameters\n",
    "      Y (ndarray (num_movies,num_users)    : matrix of user ratings of movies\n",
    "      R (ndarray (num_movies,num_users)    : matrix, where R(i, j) = 1 if the i-th movies was rated by the j-th user\n",
    "      lambda_ (float): regularization parameter\n",
    "    Returns:\n",
    "      J (float) : Cost\n",
    "    \"\"\"\n",
    "    j = (tf.linalg.matmul(X, tf.transpose(W)) + b - Y)*R\n",
    "    J = 0.5 * tf.reduce_sum(j**2) + (lambda_/2) * (tf.reduce_sum(X**2) + tf.reduce_sum(W**2))\n",
    "    return J"
   ]
  },
  {
   "cell_type": "markdown",
   "id": "3a03fab6",
   "metadata": {},
   "source": [
    "Since finding derivative of the cost function seems difficult, we use \"auto diff\" tools from tensorflow."
   ]
  },
  {
   "cell_type": "code",
   "execution_count": 5,
   "id": "9dda1ba6",
   "metadata": {},
   "outputs": [],
   "source": [
    "def mean_normalization(X):\n",
    "    mu = X.sum(axis=1) / X.shape[1]\n",
    "    mu = mu.reshape(-1, 1)\n",
    "    X = X - mu.reshape(-1, 1)\n",
    "    return X, mu"
   ]
  },
  {
   "cell_type": "code",
   "execution_count": 6,
   "id": "1f494a53",
   "metadata": {},
   "outputs": [],
   "source": [
    "def gradient_descent(X, W, b, Y, R, alpha=0.1, iterations=200, lambda_=0):\n",
    "    optimizer = tf.keras.optimizers.Adam(alpha)\n",
    "    for i in range(iterations):\n",
    "        with tf.GradientTape() as tape:\n",
    "            cost = cf_cost(X, W, b, Y, R, lambda_)\n",
    "            \n",
    "        grads = tape.gradient(cost, [W, X, b])\n",
    "        optimizer.apply_gradients(zip(grads, W, x, b))\n",
    "        \n",
    "        print(f'Iteration {i} cost:{cost}')"
   ]
  }
 ],
 "metadata": {
  "kernelspec": {
   "display_name": "Python 3 (ipykernel)",
   "language": "python",
   "name": "python3"
  },
  "language_info": {
   "codemirror_mode": {
    "name": "ipython",
    "version": 3
   },
   "file_extension": ".py",
   "mimetype": "text/x-python",
   "name": "python",
   "nbconvert_exporter": "python",
   "pygments_lexer": "ipython3",
   "version": "3.10.4"
  }
 },
 "nbformat": 4,
 "nbformat_minor": 5
}
