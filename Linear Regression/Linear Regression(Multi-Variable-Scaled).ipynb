{
 "cells": [
  {
   "cell_type": "markdown",
   "id": "0056e70f",
   "metadata": {},
   "source": [
    "# Linear Regression (Multiple Variables) with scaling\n",
    "\n",
    "## Function\n",
    "In here we have multiple features so $w$ is a vector and is written as $\\overrightarrow{w}$\n",
    "and $x$ is also a vector written as $\\overrightarrow{x}$. $b$ is the same number (bias) and we write the function as<br>\n",
    "$f_{\\overrightarrow{w},b}(\\overrightarrow{x}) = \\overrightarrow{w}.\\overrightarrow{x} + b$<br>\n",
    "which is its vectorized form; without vectorization it will be like <br>\n",
    "$f_{w, b}(x) = w_1x_1 + w_2x_2 + . . . + w_nx_n + b$ <br>\n",
    "The result of the dot product is the same<br>\n",
    "$\\overrightarrow{w}.\\overrightarrow{x} = w_1x_1 + w_2x_2 + . . . + w_nx_n$"
   ]
  },
  {
   "cell_type": "markdown",
   "id": "6b8248f4",
   "metadata": {},
   "source": [
    "Let's use the same example of price of the houses but this time with multiple features; other than predicting the price via its size, we'll have number of bedrooms, age of the house, number of bathrooms."
   ]
  },
  {
   "cell_type": "code",
   "execution_count": 1,
   "id": "ba62216b",
   "metadata": {},
   "outputs": [],
   "source": [
    "import numpy as np\n",
    "import pandas as pd\n",
    "import copy\n",
    "import matplotlib.pyplot as plt"
   ]
  },
  {
   "cell_type": "code",
   "execution_count": 2,
   "id": "378f8aec",
   "metadata": {},
   "outputs": [],
   "source": [
    "# Our dataset\n",
    "x_train = np.array([[1275, 4, 1, 12], [1674, 5, 2, 6], [2000, 6, 3, 1], [987, 2, 1, 34], [1275, 4, 1, 4]], dtype='float64')\n",
    "y_train = np.array([452.983, 673.983, 983.992, 122.111, 555.211], dtype='float64')\n",
    "m, n = x_train.shape # m is the number of data and n is the number of features\n",
    "w = np.random.random(n) # initial value for w\n",
    "b = 100 # initial value for b"
   ]
  },
  {
   "cell_type": "code",
   "execution_count": 3,
   "id": "e138fee8",
   "metadata": {},
   "outputs": [
    {
     "data": {
      "text/html": [
       "<div>\n",
       "<style scoped>\n",
       "    .dataframe tbody tr th:only-of-type {\n",
       "        vertical-align: middle;\n",
       "    }\n",
       "\n",
       "    .dataframe tbody tr th {\n",
       "        vertical-align: top;\n",
       "    }\n",
       "\n",
       "    .dataframe thead th {\n",
       "        text-align: right;\n",
       "    }\n",
       "</style>\n",
       "<table border=\"1\" class=\"dataframe\">\n",
       "  <thead>\n",
       "    <tr style=\"text-align: right;\">\n",
       "      <th></th>\n",
       "      <th>Size (feet squared)</th>\n",
       "      <th>Number of bedrooms</th>\n",
       "      <th>Number of bathrooms</th>\n",
       "      <th>Age</th>\n",
       "      <th>Price(1k $)</th>\n",
       "    </tr>\n",
       "  </thead>\n",
       "  <tbody>\n",
       "    <tr>\n",
       "      <th>0</th>\n",
       "      <td>1275.0</td>\n",
       "      <td>4.0</td>\n",
       "      <td>1.0</td>\n",
       "      <td>12.0</td>\n",
       "      <td>452.983</td>\n",
       "    </tr>\n",
       "    <tr>\n",
       "      <th>1</th>\n",
       "      <td>1674.0</td>\n",
       "      <td>5.0</td>\n",
       "      <td>2.0</td>\n",
       "      <td>6.0</td>\n",
       "      <td>673.983</td>\n",
       "    </tr>\n",
       "    <tr>\n",
       "      <th>2</th>\n",
       "      <td>2000.0</td>\n",
       "      <td>6.0</td>\n",
       "      <td>3.0</td>\n",
       "      <td>1.0</td>\n",
       "      <td>983.992</td>\n",
       "    </tr>\n",
       "    <tr>\n",
       "      <th>3</th>\n",
       "      <td>987.0</td>\n",
       "      <td>2.0</td>\n",
       "      <td>1.0</td>\n",
       "      <td>34.0</td>\n",
       "      <td>122.111</td>\n",
       "    </tr>\n",
       "    <tr>\n",
       "      <th>4</th>\n",
       "      <td>1275.0</td>\n",
       "      <td>4.0</td>\n",
       "      <td>1.0</td>\n",
       "      <td>4.0</td>\n",
       "      <td>555.211</td>\n",
       "    </tr>\n",
       "  </tbody>\n",
       "</table>\n",
       "</div>"
      ],
      "text/plain": [
       "   Size (feet squared)  Number of bedrooms  Number of bathrooms   Age  \\\n",
       "0               1275.0                 4.0                  1.0  12.0   \n",
       "1               1674.0                 5.0                  2.0   6.0   \n",
       "2               2000.0                 6.0                  3.0   1.0   \n",
       "3                987.0                 2.0                  1.0  34.0   \n",
       "4               1275.0                 4.0                  1.0   4.0   \n",
       "\n",
       "   Price(1k $)  \n",
       "0      452.983  \n",
       "1      673.983  \n",
       "2      983.992  \n",
       "3      122.111  \n",
       "4      555.211  "
      ]
     },
     "execution_count": 3,
     "metadata": {},
     "output_type": "execute_result"
    }
   ],
   "source": [
    "df = pd.DataFrame(x_train, columns=['Size (feet squared)', 'Number of bedrooms', 'Number of bathrooms', 'Age'])\n",
    "df['Price(1k $)'] = pd.Series(y_train)\n",
    "df"
   ]
  },
  {
   "cell_type": "code",
   "execution_count": 4,
   "id": "013b70aa",
   "metadata": {},
   "outputs": [
    {
     "data": {
      "image/png": "[encoded data removed]",
      "text/plain": [
       "<Figure size 864x216 with 4 Axes>"
      ]
     },
     "metadata": {
      "needs_background": "light"
     },
     "output_type": "display_data"
    }
   ],
   "source": [
    "fig, ax = plt.subplots(1, 4, figsize=(12, 3))\n",
    "ax[0].scatter(x_train[:, 0], y_train)\n",
    "ax[0].set_title('Size - Price')\n",
    "ax[0].set_xlabel('Size square feet')\n",
    "ax[0].set_ylabel('Price$')\n",
    "\n",
    "ax[1].tick_params(labelleft=False, left=False)\n",
    "ax[1].scatter(x_train[:, 1], y_train)\n",
    "ax[1].set_title('Bedrooms - Price')\n",
    "ax[1].set_xlabel('Number of bedrooms')\n",
    "\n",
    "ax[2].tick_params(labelleft=False, left=False)\n",
    "ax[2].scatter(x_train[:, 2], y_train)\n",
    "ax[2].set_title('Bathrooms - Price')\n",
    "ax[2].set_xlabel('Number of Bathrooms')\n",
    "\n",
    "ax[3].tick_params(labelleft=False, left=False)\n",
    "ax[3].scatter(x_train[:, 3], y_train)\n",
    "ax[3].set_title('Age - Price')\n",
    "ax[3].set_xlabel('Age');"
   ]
  },
  {
   "cell_type": "markdown",
   "id": "ca75d19a",
   "metadata": {},
   "source": [
    "Now let's use Z-normalization to scale our data to better train our model. Below, function is define to scale our dataset data."
   ]
  },
  {
   "cell_type": "code",
   "execution_count": 5,
   "id": "2ef5f833",
   "metadata": {},
   "outputs": [],
   "source": [
    "def z_normal(x):\n",
    "    std = x.std()\n",
    "    mean = x.mean()\n",
    "    x_temp = copy.deepcopy(x).T\n",
    "    m, n = x_temp.shape\n",
    "    for i in range(m):\n",
    "        std = x_temp[i].std()\n",
    "        x_temp[i] = x_temp[i] - x_temp[i].mean()\n",
    "        x_temp[i] =  x_temp[i] / std\n",
    "    return x_temp.T"
   ]
  },
  {
   "cell_type": "markdown",
   "id": "829fcb93",
   "metadata": {},
   "source": [
    "After normalization, let's see how scaled Size and age are"
   ]
  },
  {
   "cell_type": "code",
   "execution_count": 6,
   "id": "7af1c1fe",
   "metadata": {},
   "outputs": [
    {
     "data": {
      "image/png": "[encoded data removed]",
      "text/plain": [
       "<Figure size 864x216 with 2 Axes>"
      ]
     },
     "metadata": {
      "needs_background": "light"
     },
     "output_type": "display_data"
    }
   ],
   "source": [
    "fig, ax = plt.subplots(1, 2, figsize=(12, 3))\n",
    "ax[0].axis('equal');\n",
    "ax[0].scatter(x_train[:, 0], x_train[:, 3]);\n",
    "ax[0].set_title(\"Not normalized\");\n",
    "ax[0].set_xlabel('Size');\n",
    "ax[0].set_ylabel('Age');\n",
    "\n",
    "x_train_norm = z_normal(x_train)\n",
    "ax[1].axis('equal');\n",
    "ax[1].scatter(x_train_norm[:, 0], x_train_norm[:, 3]);\n",
    "ax[1].set_title(\"Z-normalized\");\n",
    "ax[1].set_xlabel('Size');\n",
    "ax[1].set_ylabel('Age');"
   ]
  },
  {
   "cell_type": "code",
   "execution_count": 7,
   "id": "caa17834",
   "metadata": {},
   "outputs": [],
   "source": [
    "def predict(x, w, b):\n",
    "    return np.dot(w, x) + b"
   ]
  },
  {
   "cell_type": "markdown",
   "id": "de44c9c5",
   "metadata": {},
   "source": [
    "Now let's try to predict the value of the first house in the dataset; "
   ]
  },
  {
   "cell_type": "code",
   "execution_count": 8,
   "id": "a3759b60",
   "metadata": {},
   "outputs": [
    {
     "name": "stdout",
     "output_type": "stream",
     "text": [
      "Value for a house with size=1275 and numberOfBedrooms=4 and numberOfBathrooms=1 and age=12 is 404.029k$\n",
      "The actual price is 452.983k$\n"
     ]
    }
   ],
   "source": [
    "print(f'Value for a house with size=1275 and numberOfBedrooms=4 and numberOfBathrooms=1 and age=12 is {predict(x_train[0], w, b):.3f}k$')\n",
    "print(f'The actual price is {y_train[0]}k$')"
   ]
  },
  {
   "cell_type": "markdown",
   "id": "e808a66c",
   "metadata": {},
   "source": [
    "## Cost function\n",
    "Now that we use vectorization, cost function is defined as <br>\n",
    "$J(\\overrightarrow{w}, b) = \\frac{1}{2m}\\Sigma_{i=1}^{m}(f_{\\overrightarrow{x},b}(\\overrightarrow{x}^{(i)}) - y^{(i)})^2$"
   ]
  },
  {
   "cell_type": "code",
   "execution_count": 9,
   "id": "81dcc9a8",
   "metadata": {},
   "outputs": [],
   "source": [
    "def cost(x, y, w, b):\n",
    "    err_sum = 0\n",
    "    m = x.shape[0]\n",
    "    for i in range(m):\n",
    "        f_wb = np.dot(w, x[i]) + b\n",
    "        err_sum += (f_wb - y[i]) ** 2\n",
    "    err_sum = err_sum / (2 * m)\n",
    "    return err_sum"
   ]
  },
  {
   "cell_type": "markdown",
   "id": "bfcdd1d5",
   "metadata": {},
   "source": [
    "If we run the cost function now due to our last test for predicting the price of the first house, we anticipate a large number\n"
   ]
  },
  {
   "cell_type": "code",
   "execution_count": 10,
   "id": "7eda5680",
   "metadata": {},
   "outputs": [
    {
     "name": "stdout",
     "output_type": "stream",
     "text": [
      "27286.842703945946\n"
     ]
    }
   ],
   "source": [
    "print(cost(x_train, y_train, w, b))"
   ]
  },
  {
   "cell_type": "markdown",
   "id": "9fb25e32",
   "metadata": {},
   "source": [
    "## Gradient Descent\n",
    "Now since we have multiple features, we should find the derivative of each of the features. So, we have to find a good value for each of $w$s from $w_1$ to $w_n$\n",
    "So we have to find the derivative for each of the features\n",
    "$w_i = w_i - \\alpha\\frac{d}{dm}J(\\overrightarrow{w}, b)$ and $b = b - \\alpha\\frac{d}{db}J(\\overrightarrow{w}, b)$<br>\n",
    "for each of the $w$s we have<br>\n",
    "$w_j = w_j - \\alpha\\frac{1}{m}\\Sigma_{i=1}^{m}(f_{\\overrightarrow{w},b}(x^{(i)}) - y^{(i)})x_{j}^{(i)}$<br>\n",
    "$b = b - \\alpha\\frac{1}{m}\\Sigma_{i=1}^{m}(f_{\\overrightarrow{w},b}(x^{(i)})-y^{(i)})$"
   ]
  },
  {
   "cell_type": "code",
   "execution_count": 11,
   "id": "5274ffa8",
   "metadata": {},
   "outputs": [],
   "source": [
    "def gradient(x, y, w, b):\n",
    "    m, n = x.shape\n",
    "    w_t = np.zeros((n,))\n",
    "    b_t = 0\n",
    "    for i in range(m):\n",
    "        err = np.dot(w, x[i]) + b - y[i]\n",
    "        for j in range(n):\n",
    "            w_t[j] += err * x[i, j]\n",
    "        b_t += err\n",
    "    w_t = w_t / m\n",
    "    b_t = b_t / m\n",
    "    return w_t, b_t"
   ]
  },
  {
   "cell_type": "code",
   "execution_count": 12,
   "id": "b52a697b",
   "metadata": {},
   "outputs": [],
   "source": [
    "def gradient_descent(x, y, init_w, init_b, alpha, cost_function, gradient_function, iterations=1000):\n",
    "    hist = []\n",
    "    w = copy.deepcopy(init_w)\n",
    "    b = init_b\n",
    "    for i in range(1, iterations + 1):\n",
    "        w_t, b_t = gradient_function(x, y, w, b)\n",
    "        w = w - (alpha * w_t)\n",
    "        b = b - (alpha * b_t)\n",
    "        c_cost = cost_function(x, y, w, b)\n",
    "        hist.append([i, c_cost])\n",
    "        if i % 100 == 0:\n",
    "            print(f'w={w}, b={b}, cost={c_cost}')\n",
    "    return w, b, hist"
   ]
  },
  {
   "cell_type": "code",
   "execution_count": 13,
   "id": "58d7e122",
   "metadata": {},
   "outputs": [
    {
     "name": "stdout",
     "output_type": "stream",
     "text": [
      "w=[  29.14804179   40.39024324  106.47312569 -133.58760798], b=557.656, cost=239.3063278812859\n",
      "w=[  -3.12811256   25.58963937  138.01228459 -154.80186719], b=557.656, cost=183.79153614674254\n",
      "w=[ -29.51238599   24.80545971  158.40116632 -164.75087095], b=557.656, cost=159.22006270124047\n",
      "w=[ -52.51465611   30.66128173  173.05961347 -169.15186286], b=557.656, cost=143.18404808997929\n",
      "w=[ -73.39743694   39.52145522  184.67824152 -170.83183211], b=557.656, cost=130.11598909959565\n",
      "w=[ -92.8052813    49.60014617  194.59719641 -171.18812656], b=557.656, cost=118.5764290061444\n",
      "w=[-111.0761627    60.02598463  203.48818885 -170.91095611], b=557.656, cost=108.14276227424912\n",
      "w=[-128.39554349   70.37940972  211.69188738 -170.34078339], b=557.656, cost=98.64736979457567\n",
      "w=[-144.87262472   80.46383723  219.38483047 -169.64510825], b=557.656, cost=89.99065822366536\n",
      "w=[-160.57810049   90.19248881  226.66200817 -168.90591392], b=557.656, cost=82.09481875163026\n",
      "w=[-175.56286879   99.53243297  233.57772793 -168.16292119], b=557.656, cost=74.89206153164761\n",
      "w=[-189.86732045  108.47692561  240.16584472 -167.43498275], b=557.656, cost=68.32132543695585\n",
      "w=[-203.52596615  117.03174805  246.44978277 -166.73066436], b=557.656, cost=62.327097715638864\n",
      "w=[-216.56975581  125.20846833  252.447507   -166.05347739], b=557.656, cost=56.85878283521597\n",
      "w=[-229.02725521  133.02112611  258.17399562 -165.40446557], b=557.656, cost=51.870235742562365\n",
      "w=[-240.92525588  140.48461048  263.64247608 -164.78348308], b=557.656, cost=47.31936275446064\n",
      "w=[-252.28910358  147.61387416  268.8650487  -164.18982541], b=557.6560000000001, cost=43.167763992778134\n",
      "w=[-263.14288619  154.42356088  273.85300687 -163.62254007], b=557.6560000000001, cost=39.38040878828942\n",
      "w=[-273.5095511   160.92783628  278.61700664 -163.08057898], b=557.6560000000001, cost=35.92533995405635\n",
      "w=[-283.41098641  167.14031891  283.16716132 -162.5628727 ], b=557.6560000000001, cost=32.77340410023847\n",
      "w=[-292.86808347  173.07406002  287.5130984  -162.06836592], b=557.6560000000001, cost=29.898005633330836\n",
      "w=[-301.9007889   178.74154684  291.66399756 -161.59603397], b=557.6560000000001, cost=27.274882344187528\n",
      "w=[-310.52815065  184.15471696  295.62861873 -161.14488985], b=557.6560000000001, cost=24.88190068639031\n",
      "w=[-318.76836013  189.32497758  299.41532488 -160.71398678], b=557.6560000000001, cost=22.698869016365137\n",
      "w=[-326.63879156  194.26322665  303.03210176 -160.30241843], b=557.6560000000001, cost=20.70736721909433\n",
      "w=[-334.15603906  198.97987434  306.48657583 -159.90931814], b=557.6560000000001, cost=18.890591281763044\n",
      "w=[-341.33595186  203.48486433  309.78603084 -159.53385764], b=557.6560000000001, cost=17.233211503853745\n",
      "w=[-348.19366787  207.78769439  312.93742346 -159.1752456 ], b=557.6560000000001, cost=15.72124314728409\n",
      "w=[-354.74364565  211.89743625  315.94739806 -158.83272607], b=557.6560000000001, cost=14.34192843514705\n",
      "w=[-360.99969489  215.8227546   318.8223008  -158.50557695], b=557.6560000000001, cost=13.08362890338062\n",
      "w=[-366.97500556  219.57192537  321.56819301 -158.19310853], b=557.6560000000001, cost=11.935727197039505\n",
      "w=[-372.68217574  223.15285312  324.19086402 -157.89466203], b=557.6560000000001, cost=10.888537482543144\n",
      "w=[-378.13323818  226.57308769  326.69584336 -157.60960824], b=557.6560000000001, cost=9.933223719972144\n",
      "w=[-383.33968562  229.83984014  329.08841242 -157.33734616], b=557.6560000000001, cost=9.061725105800965\n",
      "w=[-388.31249512  232.95999795  331.37361556 -157.07730176], b=557.6560000000001, cost=8.266688056969894\n",
      "w=[-393.06215112  235.9401395   333.55627083 -156.82892678], b=557.6560000000001, cost=7.541404162382148\n",
      "w=[-397.59866755  238.78654799  335.64098001 -156.59169757], b=557.6560000000001, cost=6.879753578271547\n",
      "w=[-401.93160902  241.50522466  337.63213843 -156.36511395], b=557.6560000000001, cost=6.276153389820499\n",
      "w=[-406.07011088  244.10190143  339.53394414 -156.14869822], b=557.6560000000001, cost=5.72551050330655\n",
      "w=[-410.02289857  246.58205302  341.35040682 -155.94199408], b=557.6560000000001, cost=5.223178671293023\n",
      "w=[-413.79830597  248.95090846  343.08535622 -155.74456574], b=557.6560000000001, cost=4.764919288244313\n",
      "w=[-417.40429295  251.21346215  344.74245022 -155.55599694], b=557.6560000000001, cost=4.346865625766758\n",
      "w=[-420.84846223  253.37448433  346.32518257 -155.37589011], b=557.6560000000001, cost=3.9654902056978605\n",
      "w=[-424.13807532  255.43853122  347.83689023 -155.20386553], b=557.6560000000001, cost=3.6175750357387892\n",
      "w=[-427.2800679   257.40995456  349.28076041 -155.03956051], b=557.6560000000001, cost=3.300184456488271\n",
      "w=[-430.28106439  259.29291079  350.65983729 -154.88262863], b=557.6560000000001, cost=3.01064037075953\n",
      "w=[-433.14739196  261.09136986  351.97702847 -154.73273903], b=557.6560000000001, cost=2.7464996461719644\n",
      "w=[-435.88509384  262.80912356  353.23511104 -154.58957569], b=557.6560000000001, cost=2.5055335003427497\n",
      "w=[-438.49994208  264.44979351  354.43673748 -154.45283676], b=557.6560000000001, cost=2.2857086947344016\n",
      "w=[-440.99744969  266.01683884  355.58444126 -154.32223396], b=557.6560000000001, cost=2.0851703784720934\n",
      "w=[-443.38288231  267.51356342  356.68064214 -154.19749192], b=557.6560000000001, cost=1.9022264373731044\n",
      "w=[-445.66126928  268.94312289  357.72765129 -154.07834765], b=557.6560000000001, cost=1.7353332161244068\n",
      "w=[-447.83741423  270.30853125  358.72767619 -153.96454994], b=557.6560000000001, cost=1.5830824931354515\n",
      "w=[-449.91590526  271.61266727  359.68282523 -153.85585888], b=557.6560000000001, cost=1.444189598161993\n",
      "w=[-451.90112455  272.85828054  360.59511222 -153.7520453 ], b=557.6560000000001, cost=1.3174825724389208\n",
      "w=[-453.79725765  274.04799724  361.46646056 -153.65289033], b=557.6560000000001, cost=1.2018922798568534\n",
      "w=[-455.60830228  275.18432571  362.29870738 -153.55818491], b=557.6560000000001, cost=1.0964433857408915\n",
      "w=[-457.33807677  276.26966175  363.09360735 -153.46772937], b=557.6560000000001, cost=1.0002461271138263\n",
      "w=[-458.99022808  277.30629363  363.85283639 -153.381333  ], b=557.6560000000001, cost=0.9124888050012517\n",
      "w=[-460.56823954  278.29640692  364.57799523 -153.29881364], b=557.6560000000001, cost=0.8324309354290206\n",
      "w=[-462.07543816  279.24208914  365.27061275 -153.21999732], b=557.6560000000001, cost=0.7593970013235716\n",
      "w=[-463.51500163  280.14533412  365.93214925 -153.14471785], b=557.6560000000001, cost=0.6927707525934207\n",
      "w=[-464.88996508  281.00804622  366.56399948 -153.07281654], b=557.6560000000001, cost=0.6319900062975512\n",
      "w=[-466.20322741  281.83204435  367.16749559 -153.00414178], b=557.6560000000001, cost=0.5765419030245772\n",
      "w=[-467.45755744  282.61906578  367.74390998 -152.93854878], b=557.6560000000001, cost=0.5259585794569218\n",
      "w=[-468.65559974  283.37076983  368.29445792 -152.87589924], b=557.6560000000001, cost=0.4798132206056189\n",
      "w=[-469.79988021  284.08874136  368.82030017 -152.81606109], b=557.6560000000001, cost=0.4377164584056496\n",
      "w=[-470.89281139  284.7744941   369.32254539 -152.75890816], b=557.656, cost=0.39931308628252815\n",
      "w=[-471.93669758  285.42947388  369.80225248 -152.70431995], b=557.6560000000001, cost=0.3642790619691558\n",
      "w=[-472.93373966  286.05506161  370.26043285 -152.65218138], b=557.6560000000001, cost=0.3323187732826725\n",
      "w=[-473.88603973  286.65257626  370.6980525  -152.60238251], b=557.6560000000001, cost=0.3031625437902863\n",
      "w=[-474.7956056   287.22327759  371.11603408 -152.55481835], b=557.6560000000001, cost=0.27656435731726725\n",
      "w=[-475.66435493  287.76836886  371.51525884 -152.50938862], b=557.6560000000001, cost=0.2522997820971947\n",
      "w=[-476.49411937  288.2889993   371.8965685  -152.46599753], b=557.6560000000001, cost=0.23016407704797098\n",
      "w=[-477.28664835  288.78626658  372.260767   -152.42455361], b=557.6560000000001, cost=0.2099704641953684\n",
      "w=[-478.0436128   289.26121913  372.60862218 -152.38496948], b=557.6560000000001, cost=0.1915485526667795\n",
      "w=[-478.76660867  289.71485831  372.94086745 -152.34716167], b=557.6560000000001, cost=0.1747429009567606\n",
      "w=[-479.4571603   290.14814055  373.2582033  -152.31105047], b=557.6560000000001, cost=0.1594117053335421\n",
      "w=[-480.1167236   290.56197937  373.56129879 -152.27655976], b=557.6560000000001, cost=0.14542560331899732\n",
      "w=[-480.74668918  290.95724728  373.85079295 -152.24361681], b=557.6560000000001, cost=0.13266658214618104\n",
      "w=[-481.34838521  291.33477764  374.12729614 -152.21215217], b=557.656, cost=0.1210269829841448\n",
      "w=[-481.9230803   291.69536643  374.39139132 -152.18209949], b=557.6560000000001, cost=0.11040859252789285\n",
      "w=[-482.4719861   292.0397739   374.6436353  -152.15339542], b=557.6560000000001, cost=0.1007218142881939\n",
      "w=[-482.99625989  292.36872617  374.8845599  -152.12597943], b=557.6560000000001, cost=0.09188491258905006\n",
      "w=[-483.49700704  292.68291679  375.11467307 -152.09979374], b=557.6560000000001, cost=0.08382332289349284\n",
      "w=[-483.97528329  292.9830082   375.33445997 -152.07478311], b=557.6560000000001, cost=0.07646902263849449\n",
      "w=[-484.43209702  293.26963308  375.54438399 -152.05089484], b=557.6560000000001, cost=0.0697599572700536\n",
      "w=[-484.86841136  293.54339574  375.74488773 -152.02807854], b=557.6560000000001, cost=0.06363951663574255\n",
      "w=[-485.28514621  293.80487338  375.93639392 -152.00628612], b=557.6560000000001, cost=0.05805605731597774\n",
      "w=[-485.68318019  294.05461728  376.11930632 -151.98547162], b=557.6560000000001, cost=0.05296246686423537\n",
      "w=[-486.0633525   294.29315399  376.29401057 -151.96559118], b=557.6560000000001, cost=0.04831576627876903\n",
      "w=[-486.42646468  294.52098642  376.46087501 -151.94660286], b=557.6560000000001, cost=0.04407674735181688\n",
      "w=[-486.7732823   294.73859494  376.62025146 -151.92846664], b=557.6560000000001, cost=0.04020964183630442\n",
      "w=[-487.10453656  294.94643833  376.77247593 -151.91114427], b=557.6560000000001, cost=0.03668181963833929\n",
      "w=[-487.42092589  295.14495481  376.91786937 -151.89459924], b=557.6560000000001, cost=0.033463513489067565\n",
      "w=[-487.72311732  295.33456291  377.05673832 -151.87879667], b=557.6560000000001, cost=0.03052756777263633\n",
      "w=[-488.01174799  295.51566239  377.18937556 -151.86370323], b=557.6560000000001, cost=0.02784920939092208\n",
      "w=[-488.28742644  295.68863509  377.31606073 -151.84928711], b=557.6560000000001, cost=0.025405838731593584\n",
      "w=[-488.55073389  295.85384568  377.43706095 -151.8355179 ], b=557.6560000000001, cost=0.02317683897574458\n",
      "w=[-488.80222549  296.01164249  377.55263131 -151.82236659], b=557.6560000000001, cost=0.021143402136150905\n"
     ]
    }
   ],
   "source": [
    "x_train_norm = z_normal(x_train)\n",
    "w, b, hist = gradient_descent(x_train_norm, y_train, w, b, 0.5, cost, gradient, 10000)"
   ]
  },
  {
   "cell_type": "markdown",
   "id": "c6bbaac5",
   "metadata": {},
   "source": [
    "Let's now predict the value of the house like before"
   ]
  },
  {
   "cell_type": "code",
   "execution_count": 14,
   "id": "b3c2f338",
   "metadata": {},
   "outputs": [
    {
     "name": "stdout",
     "output_type": "stream",
     "text": [
      "Value for a house with size=1275 and numberOfBedrooms=4 and numberOfBathrooms=1 and age=12 is 452.795k$\n",
      "The actual price is 452.983k$\n"
     ]
    }
   ],
   "source": [
    "print(f'Value for a house with size=1275 and numberOfBedrooms=4 and numberOfBathrooms=1 and age=12 is {predict(x_train_norm[0], w, b):.3f}k$')\n",
    "print(f'The actual price is {y_train[0]}k$')"
   ]
  },
  {
   "cell_type": "code",
   "execution_count": 15,
   "id": "4e0257ea",
   "metadata": {},
   "outputs": [
    {
     "data": {
      "text/html": [
       "<div>\n",
       "<style scoped>\n",
       "    .dataframe tbody tr th:only-of-type {\n",
       "        vertical-align: middle;\n",
       "    }\n",
       "\n",
       "    .dataframe tbody tr th {\n",
       "        vertical-align: top;\n",
       "    }\n",
       "\n",
       "    .dataframe thead th {\n",
       "        text-align: right;\n",
       "    }\n",
       "</style>\n",
       "<table border=\"1\" class=\"dataframe\">\n",
       "  <thead>\n",
       "    <tr style=\"text-align: right;\">\n",
       "      <th></th>\n",
       "      <th>Size (feet squared)</th>\n",
       "      <th>Number of bedrooms</th>\n",
       "      <th>Number of bathrooms</th>\n",
       "      <th>Age</th>\n",
       "      <th>Price(1k $)</th>\n",
       "      <th>Prediction (1k $)</th>\n",
       "    </tr>\n",
       "  </thead>\n",
       "  <tbody>\n",
       "    <tr>\n",
       "      <th>0</th>\n",
       "      <td>1275.0</td>\n",
       "      <td>4.0</td>\n",
       "      <td>1.0</td>\n",
       "      <td>12.0</td>\n",
       "      <td>452.983</td>\n",
       "      <td>452.794657</td>\n",
       "    </tr>\n",
       "    <tr>\n",
       "      <th>1</th>\n",
       "      <td>1674.0</td>\n",
       "      <td>5.0</td>\n",
       "      <td>2.0</td>\n",
       "      <td>6.0</td>\n",
       "      <td>673.983</td>\n",
       "      <td>674.356333</td>\n",
       "    </tr>\n",
       "    <tr>\n",
       "      <th>2</th>\n",
       "      <td>2000.0</td>\n",
       "      <td>6.0</td>\n",
       "      <td>3.0</td>\n",
       "      <td>1.0</td>\n",
       "      <td>983.992</td>\n",
       "      <td>983.800817</td>\n",
       "    </tr>\n",
       "    <tr>\n",
       "      <th>3</th>\n",
       "      <td>987.0</td>\n",
       "      <td>2.0</td>\n",
       "      <td>1.0</td>\n",
       "      <td>34.0</td>\n",
       "      <td>122.111</td>\n",
       "      <td>122.116710</td>\n",
       "    </tr>\n",
       "    <tr>\n",
       "      <th>4</th>\n",
       "      <td>1275.0</td>\n",
       "      <td>4.0</td>\n",
       "      <td>1.0</td>\n",
       "      <td>4.0</td>\n",
       "      <td>555.211</td>\n",
       "      <td>555.211483</td>\n",
       "    </tr>\n",
       "  </tbody>\n",
       "</table>\n",
       "</div>"
      ],
      "text/plain": [
       "   Size (feet squared)  Number of bedrooms  Number of bathrooms   Age  \\\n",
       "0               1275.0                 4.0                  1.0  12.0   \n",
       "1               1674.0                 5.0                  2.0   6.0   \n",
       "2               2000.0                 6.0                  3.0   1.0   \n",
       "3                987.0                 2.0                  1.0  34.0   \n",
       "4               1275.0                 4.0                  1.0   4.0   \n",
       "\n",
       "   Price(1k $)  Prediction (1k $)  \n",
       "0      452.983         452.794657  \n",
       "1      673.983         674.356333  \n",
       "2      983.992         983.800817  \n",
       "3      122.111         122.116710  \n",
       "4      555.211         555.211483  "
      ]
     },
     "execution_count": 15,
     "metadata": {},
     "output_type": "execute_result"
    }
   ],
   "source": [
    "predicted_values = []\n",
    "for i in range(m):\n",
    "    predicted_values.append(predict(x_train_norm[i], w, b))\n",
    "df['Prediction (1k $)'] = pd.Series(predicted_values)\n",
    "df"
   ]
  },
  {
   "cell_type": "markdown",
   "id": "369cba0f",
   "metadata": {},
   "source": [
    "Let's take a look at our learning curve"
   ]
  },
  {
   "cell_type": "code",
   "execution_count": 16,
   "id": "446e7670",
   "metadata": {},
   "outputs": [
    {
     "data": {
      "image/png": "[encoded data removed]",
      "text/plain": [
       "<Figure size 432x288 with 1 Axes>"
      ]
     },
     "metadata": {
      "needs_background": "light"
     },
     "output_type": "display_data"
    }
   ],
   "source": [
    "fig = plt.figure()\n",
    "hist = np.array(hist)\n",
    "plt.plot(hist[800:10000, 0], hist[800:10000, 1]);\n",
    "plt.title('Learning Curve');\n",
    "plt.xlabel('Iterations');\n",
    "plt.ylabel('Cost function');"
   ]
  },
  {
   "cell_type": "markdown",
   "id": "0b64cdf0",
   "metadata": {},
   "source": [
    "Scaling helps us to better train our data and much more faster"
   ]
  }
 ],
 "metadata": {
  "kernelspec": {
   "display_name": "Python 3 (ipykernel)",
   "language": "python",
   "name": "python3"
  },
  "language_info": {
   "codemirror_mode": {
    "name": "ipython",
    "version": 3
   },
   "file_extension": ".py",
   "mimetype": "text/x-python",
   "name": "python",
   "nbconvert_exporter": "python",
   "pygments_lexer": "ipython3",
   "version": "3.10.4"
  }
 },
 "nbformat": 4,
 "nbformat_minor": 5
}
