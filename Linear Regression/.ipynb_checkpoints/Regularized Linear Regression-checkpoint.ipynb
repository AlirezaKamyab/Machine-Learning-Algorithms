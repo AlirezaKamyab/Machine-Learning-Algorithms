{
 "cells": [
  {
   "cell_type": "markdown",
   "id": "1b7ed479",
   "metadata": {},
   "source": [
    "# Regularized Linear Regression"
   ]
  },
  {
   "cell_type": "code",
   "execution_count": 1,
   "id": "995a621a",
   "metadata": {},
   "outputs": [],
   "source": [
    "import numpy as np\n",
    "import pandas as pd\n",
    "import matplotlib.pyplot as plt\n",
    "import copy"
   ]
  },
  {
   "cell_type": "markdown",
   "id": "e40ae40c",
   "metadata": {},
   "source": [
    "## Function\n",
    "The function of regularized linear regression does not change, thus<br>\n",
    "$\n",
    "\\begin{equation}\n",
    "    f_{\\overrightarrow{w}, b}(\\overrightarrow{x})= \\overrightarrow{w}.\\overrightarrow{x} + b\n",
    "\\end{equation}\n",
    "$"
   ]
  },
  {
   "cell_type": "code",
   "execution_count": 2,
   "id": "d0494860",
   "metadata": {},
   "outputs": [],
   "source": [
    "def function(x, w, b):\n",
    "    return np.dot(x, w) + b"
   ]
  },
  {
   "cell_type": "markdown",
   "id": "d84119ea",
   "metadata": {},
   "source": [
    "## Cost function\n",
    "Cost function adds $\\frac{\\lambda}{2m}\\sum_{i=1}^{m}w_i$ to reduce the weight a bit each time.<br>\n",
    "$\n",
    "\\begin{equation}\n",
    "\\displaystyle\n",
    "    J(\\overrightarrow{w}, b) = \\big[\\frac{1}{2m}\\sum_{i=1}^{m}(f_{\\overrightarrow{w}, b}(\\overrightarrow{x}^{(i)}) - y^{(i)})^2\\big] + \\big[\\frac{\\lambda}{2m}\\sum_{j=1}^{m}w_{j}^2\\big]\n",
    "\\end{equation}\n",
    "$\n",
    "<br>\n",
    "$\\lambda$: is regularization parameter"
   ]
  },
  {
   "cell_type": "code",
   "execution_count": 3,
   "id": "27b3cfe1",
   "metadata": {},
   "outputs": [],
   "source": [
    "def cost(X, y, w, b, lambda_ = 0):\n",
    "    m, n = X.shape\n",
    "    cost_sum = 0\n",
    "    for i in range(m):\n",
    "        err = function(X[i], w, b) - y[i]\n",
    "        cost_sum += err ** 2\n",
    "    cost_sum = cost_sum / (2 * m)\n",
    "    \n",
    "    reg_sum = 0\n",
    "    for j in range(n):\n",
    "        reg_sum += w[j] ** 2\n",
    "    reg_sum = reg_sum * (lambda_ / (2 * m))\n",
    "    \n",
    "    return cost_sum + reg_sum"
   ]
  },
  {
   "cell_type": "markdown",
   "id": "e2b85f83",
   "metadata": {},
   "source": [
    "## Gradient Descent"
   ]
  },
  {
   "cell_type": "markdown",
   "id": "204504a0",
   "metadata": {},
   "source": [
    "Gradient Descent algorithm is roughly the same but derivate of regularization term is added<br>\n",
    "$\n",
    "\\begin{equation}\n",
    "    \\begin{cases}\n",
    "        w_j = w_j - \\alpha\\frac{d}{dw_j}J(\\overrightarrow{w}, b)\\\\\n",
    "        b = b - \\alpha\\frac{d}{db}J(\\overrightarrow{w}, b)\n",
    "    \\end{cases}\n",
    "\\end{equation}\n",
    "$\n",
    "<br>\n",
    "We can also write: <br>\n",
    "$\n",
    "\\begin{equation}\n",
    "    \\begin{cases}\n",
    "    \\displaystyle\n",
    "        w_j = w_j - \\alpha\\bigg[\\big(\\frac{1}{m}\\sum_{i=1}^{m}\\big(f_{\\overrightarrow{w}, b}(\\overrightarrow{x}^{(i)}) - y^{(i)}\\big)x_{j}^i\\big) + \\frac{\\lambda}{m}w_j\\bigg]\\\\\n",
    "        \\displaystyle\n",
    "        b = b - \\alpha\\frac{1}{m}\\sum_{i=1}^{m}\\big(f_{\\overrightarrow{w}, b}(\\overrightarrow{x}^{(i)}) - y^{(i)}\\big)\n",
    "    \\end{cases}\n",
    "\\end{equation}\n",
    "$\n",
    "<br>\n",
    "Repeat until converges"
   ]
  },
  {
   "cell_type": "code",
   "execution_count": 4,
   "id": "7573068a",
   "metadata": {},
   "outputs": [],
   "source": [
    "def gradient(X, y, w, b, lambda_= 0):\n",
    "    m, n = X.shape\n",
    "    dj_dw = np.zeros(n)\n",
    "    dj_db = 0\n",
    "    \n",
    "    for i in range(m):\n",
    "        err = function(X[i], w, b) - y[i]\n",
    "        for j in range(n):\n",
    "            dj_dw[j] = dj_dw[j] + err * X[i][j]\n",
    "        dj_db += err\n",
    "    dj_dw = dj_dw / m\n",
    "    dj_db = dj_db / m\n",
    "    \n",
    "    for j in range(n):\n",
    "        dj_dw[j] = dj_dw[j] + (lambda_ / m) * w[j]\n",
    "    \n",
    "    return dj_dw, dj_db"
   ]
  },
  {
   "cell_type": "code",
   "execution_count": 5,
   "id": "6f7fa56a",
   "metadata": {},
   "outputs": [],
   "source": [
    "def gradient_descent(X, y, init_w, init_b, alpha, cost_function, gradient_function, iterations = 1000, lambda_ = 0):\n",
    "    w = copy.deepcopy(init_w)\n",
    "    b = init_b\n",
    "    \n",
    "    for i in range(1, iterations + 1):\n",
    "        dj_dw, dj_db = gradient_function(X, y, w, b, lambda_)\n",
    "        w = w - alpha * dj_dw\n",
    "        b = b - alpha * dj_db\n",
    "        \n",
    "        if i % 1000 == 0:\n",
    "            print(f'i: {i} w={w} b={b} cost={cost_function(X, y, w, b)}')\n",
    "    return w, b"
   ]
  },
  {
   "cell_type": "markdown",
   "id": "2bf2040e",
   "metadata": {},
   "source": [
    "## Z-Normalization\n",
    "This is also needed for multi-variable model to scale them\n",
    "<br>\n",
    "$\n",
    "\\begin{equation}\n",
    "\\displaystyle\n",
    "    z = \\frac{x - \\mu}{\\sigma}\n",
    "\\end{equation}\n",
    "$"
   ]
  },
  {
   "cell_type": "code",
   "execution_count": 6,
   "id": "032dac07",
   "metadata": {},
   "outputs": [],
   "source": [
    "def z_normalization(X):\n",
    "    mu = np.mean(X, axis=0)\n",
    "    sigma = np.mean(X, axis=0)\n",
    "    x_norm = (X - mu) / sigma\n",
    "    return x_norm, mu, sigma"
   ]
  },
  {
   "cell_type": "markdown",
   "id": "032cbfb0",
   "metadata": {},
   "source": [
    "## Scale\n",
    "We also can scale data<br>\n",
    "$\n",
    "\\begin{equation}\n",
    "\\displaystyle\n",
    "    s = \\frac{x}{x_{max}}\n",
    "\\end{equation}\n",
    "$"
   ]
  },
  {
   "cell_type": "code",
   "execution_count": 7,
   "id": "b02fc255",
   "metadata": {},
   "outputs": [],
   "source": [
    "def scale(X):\n",
    "    abs_max = np.max(np.abs(X), axis=0)\n",
    "    x_scaled = X / abs_max\n",
    "    return x_scaled, abs_max"
   ]
  },
  {
   "cell_type": "markdown",
   "id": "79d3cd5d",
   "metadata": {},
   "source": [
    "## Examples and training\n",
    "Let's test the functionality"
   ]
  },
  {
   "cell_type": "code",
   "execution_count": 8,
   "id": "48cea344",
   "metadata": {},
   "outputs": [
    {
     "data": {
      "text/html": [
       "<div>\n",
       "<style scoped>\n",
       "    .dataframe tbody tr th:only-of-type {\n",
       "        vertical-align: middle;\n",
       "    }\n",
       "\n",
       "    .dataframe tbody tr th {\n",
       "        vertical-align: top;\n",
       "    }\n",
       "\n",
       "    .dataframe thead th {\n",
       "        text-align: right;\n",
       "    }\n",
       "</style>\n",
       "<table border=\"1\" class=\"dataframe\">\n",
       "  <thead>\n",
       "    <tr style=\"text-align: right;\">\n",
       "      <th></th>\n",
       "      <th>fixed acidity</th>\n",
       "      <th>volatile acidity</th>\n",
       "      <th>citric acid</th>\n",
       "      <th>residual sugar</th>\n",
       "      <th>chlorides</th>\n",
       "      <th>free sulfur dioxide</th>\n",
       "      <th>total sulfur dioxide</th>\n",
       "      <th>density</th>\n",
       "      <th>pH</th>\n",
       "      <th>sulphates</th>\n",
       "      <th>alcohol</th>\n",
       "      <th>quality</th>\n",
       "    </tr>\n",
       "  </thead>\n",
       "  <tbody>\n",
       "    <tr>\n",
       "      <th>0</th>\n",
       "      <td>7.4</td>\n",
       "      <td>0.700</td>\n",
       "      <td>0.00</td>\n",
       "      <td>1.9</td>\n",
       "      <td>0.076</td>\n",
       "      <td>11</td>\n",
       "      <td>34</td>\n",
       "      <td>0.99780</td>\n",
       "      <td>3.51</td>\n",
       "      <td>0.56</td>\n",
       "      <td>9.4</td>\n",
       "      <td>5</td>\n",
       "    </tr>\n",
       "    <tr>\n",
       "      <th>1</th>\n",
       "      <td>7.8</td>\n",
       "      <td>0.880</td>\n",
       "      <td>0.00</td>\n",
       "      <td>2.6</td>\n",
       "      <td>0.098</td>\n",
       "      <td>25</td>\n",
       "      <td>67</td>\n",
       "      <td>0.99680</td>\n",
       "      <td>3.20</td>\n",
       "      <td>0.68</td>\n",
       "      <td>9.8</td>\n",
       "      <td>5</td>\n",
       "    </tr>\n",
       "    <tr>\n",
       "      <th>2</th>\n",
       "      <td>7.8</td>\n",
       "      <td>0.760</td>\n",
       "      <td>0.04</td>\n",
       "      <td>2.3</td>\n",
       "      <td>0.092</td>\n",
       "      <td>15</td>\n",
       "      <td>54</td>\n",
       "      <td>0.99700</td>\n",
       "      <td>3.26</td>\n",
       "      <td>0.65</td>\n",
       "      <td>9.8</td>\n",
       "      <td>5</td>\n",
       "    </tr>\n",
       "    <tr>\n",
       "      <th>3</th>\n",
       "      <td>11.2</td>\n",
       "      <td>0.280</td>\n",
       "      <td>0.56</td>\n",
       "      <td>1.9</td>\n",
       "      <td>0.075</td>\n",
       "      <td>17</td>\n",
       "      <td>60</td>\n",
       "      <td>0.99800</td>\n",
       "      <td>3.16</td>\n",
       "      <td>0.58</td>\n",
       "      <td>9.8</td>\n",
       "      <td>6</td>\n",
       "    </tr>\n",
       "    <tr>\n",
       "      <th>4</th>\n",
       "      <td>7.4</td>\n",
       "      <td>0.700</td>\n",
       "      <td>0.00</td>\n",
       "      <td>1.9</td>\n",
       "      <td>0.076</td>\n",
       "      <td>11</td>\n",
       "      <td>34</td>\n",
       "      <td>0.99780</td>\n",
       "      <td>3.51</td>\n",
       "      <td>0.56</td>\n",
       "      <td>9.4</td>\n",
       "      <td>5</td>\n",
       "    </tr>\n",
       "    <tr>\n",
       "      <th>...</th>\n",
       "      <td>...</td>\n",
       "      <td>...</td>\n",
       "      <td>...</td>\n",
       "      <td>...</td>\n",
       "      <td>...</td>\n",
       "      <td>...</td>\n",
       "      <td>...</td>\n",
       "      <td>...</td>\n",
       "      <td>...</td>\n",
       "      <td>...</td>\n",
       "      <td>...</td>\n",
       "      <td>...</td>\n",
       "    </tr>\n",
       "    <tr>\n",
       "      <th>1594</th>\n",
       "      <td>6.2</td>\n",
       "      <td>0.600</td>\n",
       "      <td>0.08</td>\n",
       "      <td>2.0</td>\n",
       "      <td>0.090</td>\n",
       "      <td>32</td>\n",
       "      <td>44</td>\n",
       "      <td>0.99490</td>\n",
       "      <td>3.45</td>\n",
       "      <td>0.58</td>\n",
       "      <td>10.5</td>\n",
       "      <td>5</td>\n",
       "    </tr>\n",
       "    <tr>\n",
       "      <th>1595</th>\n",
       "      <td>5.9</td>\n",
       "      <td>0.550</td>\n",
       "      <td>0.10</td>\n",
       "      <td>2.2</td>\n",
       "      <td>0.062</td>\n",
       "      <td>39</td>\n",
       "      <td>51</td>\n",
       "      <td>0.99512</td>\n",
       "      <td>3.52</td>\n",
       "      <td>0.76</td>\n",
       "      <td>11.2</td>\n",
       "      <td>6</td>\n",
       "    </tr>\n",
       "    <tr>\n",
       "      <th>1596</th>\n",
       "      <td>6.3</td>\n",
       "      <td>0.510</td>\n",
       "      <td>0.13</td>\n",
       "      <td>2.3</td>\n",
       "      <td>0.076</td>\n",
       "      <td>29</td>\n",
       "      <td>40</td>\n",
       "      <td>0.99574</td>\n",
       "      <td>3.42</td>\n",
       "      <td>0.75</td>\n",
       "      <td>11.0</td>\n",
       "      <td>6</td>\n",
       "    </tr>\n",
       "    <tr>\n",
       "      <th>1597</th>\n",
       "      <td>5.9</td>\n",
       "      <td>0.645</td>\n",
       "      <td>0.12</td>\n",
       "      <td>2.0</td>\n",
       "      <td>0.075</td>\n",
       "      <td>32</td>\n",
       "      <td>44</td>\n",
       "      <td>0.99547</td>\n",
       "      <td>3.57</td>\n",
       "      <td>0.71</td>\n",
       "      <td>10.2</td>\n",
       "      <td>5</td>\n",
       "    </tr>\n",
       "    <tr>\n",
       "      <th>1598</th>\n",
       "      <td>6.0</td>\n",
       "      <td>0.310</td>\n",
       "      <td>0.47</td>\n",
       "      <td>3.6</td>\n",
       "      <td>0.067</td>\n",
       "      <td>18</td>\n",
       "      <td>42</td>\n",
       "      <td>0.99549</td>\n",
       "      <td>3.39</td>\n",
       "      <td>0.66</td>\n",
       "      <td>11.0</td>\n",
       "      <td>6</td>\n",
       "    </tr>\n",
       "  </tbody>\n",
       "</table>\n",
       "<p>1599 rows × 12 columns</p>\n",
       "</div>"
      ],
      "text/plain": [
       "      fixed acidity  volatile acidity  citric acid  residual sugar  chlorides  \\\n",
       "0               7.4             0.700         0.00             1.9      0.076   \n",
       "1               7.8             0.880         0.00             2.6      0.098   \n",
       "2               7.8             0.760         0.04             2.3      0.092   \n",
       "3              11.2             0.280         0.56             1.9      0.075   \n",
       "4               7.4             0.700         0.00             1.9      0.076   \n",
       "...             ...               ...          ...             ...        ...   \n",
       "1594            6.2             0.600         0.08             2.0      0.090   \n",
       "1595            5.9             0.550         0.10             2.2      0.062   \n",
       "1596            6.3             0.510         0.13             2.3      0.076   \n",
       "1597            5.9             0.645         0.12             2.0      0.075   \n",
       "1598            6.0             0.310         0.47             3.6      0.067   \n",
       "\n",
       "      free sulfur dioxide  total sulfur dioxide  density    pH  sulphates  \\\n",
       "0                      11                    34  0.99780  3.51       0.56   \n",
       "1                      25                    67  0.99680  3.20       0.68   \n",
       "2                      15                    54  0.99700  3.26       0.65   \n",
       "3                      17                    60  0.99800  3.16       0.58   \n",
       "4                      11                    34  0.99780  3.51       0.56   \n",
       "...                   ...                   ...      ...   ...        ...   \n",
       "1594                   32                    44  0.99490  3.45       0.58   \n",
       "1595                   39                    51  0.99512  3.52       0.76   \n",
       "1596                   29                    40  0.99574  3.42       0.75   \n",
       "1597                   32                    44  0.99547  3.57       0.71   \n",
       "1598                   18                    42  0.99549  3.39       0.66   \n",
       "\n",
       "      alcohol  quality  \n",
       "0         9.4        5  \n",
       "1         9.8        5  \n",
       "2         9.8        5  \n",
       "3         9.8        6  \n",
       "4         9.4        5  \n",
       "...       ...      ...  \n",
       "1594     10.5        5  \n",
       "1595     11.2        6  \n",
       "1596     11.0        6  \n",
       "1597     10.2        5  \n",
       "1598     11.0        6  \n",
       "\n",
       "[1599 rows x 12 columns]"
      ]
     },
     "execution_count": 8,
     "metadata": {},
     "output_type": "execute_result"
    }
   ],
   "source": [
    "df = pd.read_csv('Datasets\\\\red_wine_quality.csv')\n",
    "df"
   ]
  },
  {
   "cell_type": "code",
   "execution_count": 9,
   "id": "24d8bff7",
   "metadata": {},
   "outputs": [],
   "source": [
    "x_train = np.c_[df['fixed acidity'], df['volatile acidity'], df['citric acid'],  df['residual sugar'],  \n",
    "                df['chlorides'],  df['free sulfur dioxide'],  df['total sulfur dioxide'],  df['density'],  \n",
    "                df['pH'],  df['sulphates'],  df['alcohol']]\n",
    "y_train = np.array(df['quality'])\n",
    "x_train = x_train.astype(np.longfloat)\n",
    "y_train = y_train.astype(np.longfloat)"
   ]
  },
  {
   "cell_type": "code",
   "execution_count": 10,
   "id": "3054c20e",
   "metadata": {},
   "outputs": [
    {
     "data": {
      "image/png": "[encoded data removed]",
      "text/plain": [
       "<Figure size 1080x720 with 12 Axes>"
      ]
     },
     "metadata": {
      "needs_background": "light"
     },
     "output_type": "display_data"
    }
   ],
   "source": [
    "fig, ax = plt.subplots(3, 4, figsize=(15, 10))\n",
    "### Row1\n",
    "ax[0][0].scatter(x_train[:, 0], y_train);\n",
    "ax[0][0].set_xlabel('fixed acidity')\n",
    "ax[0][0].set_ylabel('quality');\n",
    "\n",
    "ax[0][1].scatter(x_train[:, 1], y_train, c='orange');\n",
    "ax[0][1].set_xlabel('volatile acidity')\n",
    "ax[0][1].set_ylabel('quality');\n",
    "ax[0][1].tick_params(left=False, labelleft=False)\n",
    "\n",
    "ax[0][2].scatter(x_train[:, 2], y_train, c='red');\n",
    "ax[0][2].set_xlabel('citric acid')\n",
    "ax[0][2].set_ylabel('quality');\n",
    "ax[0][2].tick_params(left=False, labelleft=False)\n",
    "\n",
    "ax[0][3].scatter(x_train[:, 3], y_train, c='green');\n",
    "ax[0][3].set_xlabel('residual sugar')\n",
    "ax[0][3].set_ylabel('quality');\n",
    "ax[0][3].tick_params(left=False, labelleft=False)\n",
    "\n",
    "### Row2\n",
    "ax[1][0].scatter(x_train[:, 4], y_train);\n",
    "ax[1][0].set_xlabel('chlorides')\n",
    "ax[1][0].set_ylabel('quality');\n",
    "\n",
    "ax[1][1].scatter(x_train[:, 5], y_train, c='orange');\n",
    "ax[1][1].set_xlabel('free sulfur dioxide')\n",
    "ax[1][1].set_ylabel('quality');\n",
    "ax[1][1].tick_params(left=False, labelleft=False)\n",
    "\n",
    "ax[1][2].scatter(x_train[:, 6], y_train, c='red');\n",
    "ax[1][2].set_xlabel('total sulfur dioxide')\n",
    "ax[1][2].set_ylabel('quality');\n",
    "ax[1][2].tick_params(left=False, labelleft=False)\n",
    "ax[1][2].set_xticks([x_train[:, 6].min(), x_train[:, 6].mean(), x_train[:, 6].max()])\n",
    "\n",
    "ax[1][3].scatter(x_train[:, 7], y_train, c='green');\n",
    "ax[1][3].set_xlabel('density')\n",
    "ax[1][3].set_ylabel('quality');\n",
    "ax[1][3].tick_params(left=False, labelleft=False)\n",
    "ax[1][3].set_xticks([x_train[:, 7].min(), x_train[:, 7].mean(), x_train[:, 7].max()])\n",
    "\n",
    "### Row 3\n",
    "ax[2][0].scatter(x_train[:, 8], y_train);\n",
    "ax[2][0].set_xlabel('pH')\n",
    "ax[2][0].set_ylabel('quality');\n",
    "\n",
    "ax[2][1].scatter(x_train[:, 9], y_train, c='orange');\n",
    "ax[2][1].set_xlabel('sulphates')\n",
    "ax[2][1].set_ylabel('quality');\n",
    "ax[2][1].tick_params(left=False, labelleft=False)\n",
    "\n",
    "ax[2][2].scatter(x_train[:, 10], y_train, c='red');\n",
    "ax[2][2].set_xlabel('$alcohol$')\n",
    "ax[2][2].set_ylabel('quality');\n",
    "ax[2][2].tick_params(left=False, labelleft=False)\n",
    "\n",
    "ax[2][3].set_visible(False)"
   ]
  },
  {
   "cell_type": "code",
   "execution_count": 11,
   "id": "a76d64d5",
   "metadata": {},
   "outputs": [
    {
     "name": "stdout",
     "output_type": "stream",
     "text": [
      "i: 1000 w=[ 0.16649161 -0.58977697 -0.04862657  0.02203641 -0.15620525  0.06704991\n",
      " -0.14586881 -0.05394515 -0.97302876  0.58615353  3.00711568] b=5.636022514071287 cost=0.2087027805801073\n",
      "i: 2000 w=[ 0.1064167  -0.58292147 -0.04931025  0.02247909 -0.16266426  0.07009458\n",
      " -0.15092717 -0.07187296 -1.39958625  0.58707956  3.03397331] b=5.636022514071287 cost=0.2085023499777983\n",
      "i: 3000 w=[ 0.08309099 -0.58025653 -0.04954354  0.02266519 -0.16519291  0.07127983\n",
      " -0.15290831 -0.08493808 -1.56466239  0.58747864  3.04389707] b=5.636022514071287 cost=0.20847221353490136\n",
      "i: 4000 w=[ 0.07410697 -0.57922229 -0.04963376  0.02274369 -0.16617108  0.07173794\n",
      " -0.15367469 -0.09611987 -1.62847972  0.58763849  3.04768033] b=5.636022514071287 cost=0.20846760999360178\n",
      "i: 5000 w=[ 0.07067633 -0.57881948 -0.0496686   0.02278052 -0.16654887  0.07191449\n",
      " -0.15397068 -0.10656893 -1.65308786  0.58770568  3.04908606] b=5.636022514071287 cost=0.20846683489786916\n",
      "i: 6000 w=[ 0.06939602 -0.57866118 -0.04968199  0.02280121 -0.16669418  0.07198202\n",
      " -0.15408454 -0.11673082 -1.66251355  0.58773699  3.0495712 ] b=5.636022514071287 cost=0.20846663392698458\n",
      "i: 7000 w=[ 0.06894834 -0.57859756 -0.04968708  0.02281565 -0.16674947  0.07200733\n",
      " -0.15412787 -0.12677806 -1.66606037  0.5877544   3.04969991] b=5.636022514071287 cost=0.2084665191348185\n",
      "i: 8000 w=[ 0.06882304 -0.5785706  -0.04968896  0.02282767 -0.16676991  0.07201629\n",
      " -0.15414389 -0.13677745 -1.66733085  0.58776643  3.04969064] b=5.636022514071287 cost=0.2084664173596424\n",
      "i: 9000 w=[ 0.06882254 -0.57855784 -0.04968959  0.02283874 -0.16677684  0.07201892\n",
      " -0.15414933 -0.14675487 -1.66771994  0.58777638  3.04962796] b=5.636022514071287 cost=0.208466317631634\n",
      "i: 10000 w=[ 0.06887035 -0.57855058 -0.04968973  0.02284944 -0.16677856  0.07201911\n",
      " -0.15415068 -0.15672034 -1.6677678   0.58778551  3.04954465] b=5.636022514071287 cost=0.20846621830589177\n"
     ]
    }
   ],
   "source": [
    "x_norm, mu, sigma = z_normalization(x_train)\n",
    "w_in, b_in = np.zeros_like(x_norm[0]), 0\n",
    "w_out, b_out = gradient_descent(x_norm, y_train, w_in, b_in, 1, cost, gradient, 10000, 0)"
   ]
  },
  {
   "cell_type": "code",
   "execution_count": 12,
   "id": "f2e73ba0",
   "metadata": {},
   "outputs": [
    {
     "name": "stdout",
     "output_type": "stream",
     "text": [
      "[ 8.      0.71    0.      2.6     0.08   11.     34.      0.9976  3.44\n",
      "  0.53    9.5   ] 5.0\n"
     ]
    },
    {
     "data": {
      "text/plain": [
       "5.0678621657787355"
      ]
     },
     "execution_count": 12,
     "metadata": {},
     "output_type": "execute_result"
    }
   ],
   "source": [
    "i = 123\n",
    "x_test = x_train[i]\n",
    "print(x_test, y_train[i])\n",
    "x_test = (x_test - mu) / sigma\n",
    "function(x_test, w_out, b_out)"
   ]
  },
  {
   "cell_type": "code",
   "execution_count": 13,
   "id": "69e4413e",
   "metadata": {},
   "outputs": [],
   "source": [
    "def accuracy(X, y, w, b):\n",
    "    sum_err_perc = 0\n",
    "    m, n = X.shape\n",
    "    for i in range(m):\n",
    "        our_y = function(X[i], w, b)\n",
    "        sum_err_perc += 100 * (np.abs(y[i] - our_y)) / y[i]\n",
    "    return 100 - (sum_err_perc / m)"
   ]
  },
  {
   "cell_type": "code",
   "execution_count": 14,
   "id": "9f650b13",
   "metadata": {},
   "outputs": [
    {
     "name": "stdout",
     "output_type": "stream",
     "text": [
      "The accuracy is 90.8267%\n"
     ]
    }
   ],
   "source": [
    "ac = accuracy(x_norm, y_train, w_out, b_out)\n",
    "print(f'The accuracy is {ac:.4f}%')"
   ]
  },
  {
   "cell_type": "markdown",
   "id": "8c4b5b32",
   "metadata": {},
   "source": [
    "The end"
   ]
  }
 ],
 "metadata": {
  "kernelspec": {
   "display_name": "Python 3 (ipykernel)",
   "language": "python",
   "name": "python3"
  },
  "language_info": {
   "codemirror_mode": {
    "name": "ipython",
    "version": 3
   },
   "file_extension": ".py",
   "mimetype": "text/x-python",
   "name": "python",
   "nbconvert_exporter": "python",
   "pygments_lexer": "ipython3",
   "version": "3.10.4"
  }
 },
 "nbformat": 4,
 "nbformat_minor": 5
}
