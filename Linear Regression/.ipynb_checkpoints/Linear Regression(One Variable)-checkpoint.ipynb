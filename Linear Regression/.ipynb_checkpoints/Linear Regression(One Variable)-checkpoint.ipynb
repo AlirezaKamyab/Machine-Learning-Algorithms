{
 "cells": [
  {
   "cell_type": "markdown",
   "id": "4c8171ad",
   "metadata": {},
   "source": [
    "# Linear Regression (One Variable)"
   ]
  },
  {
   "cell_type": "markdown",
   "id": "39995af1",
   "metadata": {},
   "source": [
    "## Linear Regression\n",
    "<h3><b>Function</b></h3>\n",
    "<p>Since this is linear regression with one variable we only have one feature</p>\n",
    "<p>$f_{w,b}(x) = wx + b$</p>\n",
    "<p>$w$ is called the weight and $b$ is call the bias</p>"
   ]
  },
  {
   "cell_type": "code",
   "execution_count": 1,
   "id": "f79f79aa",
   "metadata": {},
   "outputs": [],
   "source": [
    "import numpy as np\n",
    "import pandas as pd\n",
    "import matplotlib.pyplot as plt"
   ]
  },
  {
   "cell_type": "markdown",
   "id": "5016afb6",
   "metadata": {},
   "source": [
    "We are to predict the price of a house given its size in 1000 square feet and price in 1k dollars. Here is an example:"
   ]
  },
  {
   "cell_type": "code",
   "execution_count": 2,
   "id": "322bf113",
   "metadata": {},
   "outputs": [],
   "source": [
    "x_train = np.array([1.287, 1.100, 1.569, 2.023, .890])\n",
    "y_train = np.array([823.990, 759.230, 798.200, 1200.000, 623.450])\n",
    "m = len(x_train) # the number of training data\n",
    "# We have a default value for w and b\n",
    "w = 100 # initial value for w\n",
    "b = 100 # initial value for b"
   ]
  },
  {
   "cell_type": "markdown",
   "id": "61731040",
   "metadata": {},
   "source": [
    "Let's try to see the data using scatter plot. In the graph below the line shows our line with initial $w$ and $b$ values"
   ]
  },
  {
   "cell_type": "code",
   "execution_count": 3,
   "id": "4e649f71",
   "metadata": {},
   "outputs": [
    {
     "data": {
      "image/png": "[encoded data removed]",
      "text/plain": [
       "<Figure size 432x288 with 1 Axes>"
      ]
     },
     "metadata": {
      "needs_background": "light"
     },
     "output_type": "display_data"
    }
   ],
   "source": [
    "plt.figure()\n",
    "plt.scatter(x_train, y_train, marker='x', color='r', linewidths=2)\n",
    "ax = plt.gca()\n",
    "ax.set_title('Housing Price');\n",
    "ax.set_xlabel('Size in square feet');\n",
    "ax.set_ylabel('Price in dollars');\n",
    "\n",
    "plt.plot(x_train, w * x_train + b);"
   ]
  },
  {
   "cell_type": "code",
   "execution_count": 4,
   "id": "3166eb49",
   "metadata": {},
   "outputs": [],
   "source": [
    "def predict(x, w, b):\n",
    "    return w * x + b"
   ]
  },
  {
   "cell_type": "markdown",
   "id": "aae2e8f7",
   "metadata": {},
   "source": [
    "If we try to predict the cost of a house with size = 1.287 we'll get:"
   ]
  },
  {
   "cell_type": "code",
   "execution_count": 5,
   "id": "f847628a",
   "metadata": {},
   "outputs": [
    {
     "name": "stdout",
     "output_type": "stream",
     "text": [
      "The cost predicted for a house with size=1.287 is 228.7k$\n",
      "The actual cost is 823.99k$\n"
     ]
    }
   ],
   "source": [
    "print(f'The cost predicted for a house with size=1.287 is {predict(1.287, w, b)}k$')\n",
    "print(f'The actual cost is {y_train[0]}k$')"
   ]
  },
  {
   "cell_type": "markdown",
   "id": "7923ac7a",
   "metadata": {},
   "source": [
    "<h3><b>Cost Function</b></h3>\n",
    "<p>Cost function returns the difference of the values. If the cost is near zero, prediction is more accurate.</p>\n",
    "$J(w,b) = \\frac{1}{2m}\\Sigma_{i=1}^{m}(f_{w,b}(x^{(i)})-y^{(i)})^2$ <br>\n",
    "here $m$ is the number of training data, in this case 5"
   ]
  },
  {
   "cell_type": "code",
   "execution_count": 6,
   "id": "06eba1db",
   "metadata": {},
   "outputs": [],
   "source": [
    "def cost(x, y, w, b):\n",
    "    result = 0\n",
    "    for i in range(m):\n",
    "        result = result + (w * x[i] + b - y[i])**2\n",
    "    result = result / (2 * m)\n",
    "    return result"
   ]
  },
  {
   "cell_type": "code",
   "execution_count": 7,
   "id": "becd82af",
   "metadata": {
    "scrolled": true
   },
   "outputs": [
    {
     "name": "stdout",
     "output_type": "stream",
     "text": [
      "The cost function return 194364.15595000001 when w=100 and b=100\n"
     ]
    }
   ],
   "source": [
    "print(f'The cost function return {cost(x_train, y_train, w, b)} when w={w} and b={b}')"
   ]
  },
  {
   "cell_type": "markdown",
   "id": "928c6d0c",
   "metadata": {},
   "source": [
    "<h3><b>Gradient Descent</b><br></h3>\n",
    "This is an algorithm that finds the best $w$ and $b$ that minimizes the cost function<br>\n",
    "Algorithm is<br>\n",
    "\n",
    "Repeat until converges { <br>\n",
    "    $w = w - \\alpha\\frac{d}{dw}J(w, b)$ <br>\n",
    "    $b = b - \\alpha\\frac{d}{db}J(w, b)$ <br>\n",
    "}<br>\n",
    "Calculating the derivatives we will have: <br>\n",
    "$w = w - \\alpha\\frac{1}{m}\\Sigma_{i=1}^{m}(f_{w, b}(x^{i})-y^{(i)})x^{i}$<br>\n",
    "$b = b - \\alpha\\frac{1}{m}\\Sigma_{i=1}^{m}(f_{w, b}(x^{i})-y^{(i)})$ <br>\n",
    "$\\alpha$ is the learning rate"
   ]
  },
  {
   "cell_type": "code",
   "execution_count": 8,
   "id": "3ccaf801",
   "metadata": {},
   "outputs": [],
   "source": [
    "def gradient(x, y, w, b):\n",
    "    sum_w = 0\n",
    "    sum_b = 0\n",
    "    m = len(x)\n",
    "    for i in range(m):\n",
    "        sum_w += (w * x[i] + b - y[i]) * x[i]\n",
    "        sum_b += (w * x[i] + b - y[i])\n",
    "    w = (1/m) * sum_w\n",
    "    b = (1/m) * sum_b\n",
    "    return w, b"
   ]
  },
  {
   "cell_type": "code",
   "execution_count": 9,
   "id": "af0408ee",
   "metadata": {},
   "outputs": [],
   "source": [
    "def gradient_descent(x, y, init_w, init_b, alpha, cost_function, gradient_function, iterations=1000):\n",
    "    w, b = init_w, init_b\n",
    "    for i in range(1, iterations + 1):\n",
    "        w_d, b_d = gradient_function(x, y, w, b)\n",
    "        w = w - (alpha * w_d)\n",
    "        b = b - (alpha * b_d)\n",
    "        if i % 10 == 0 and i < 1000:\n",
    "            print(f'cost for w={w:0.10} and b={b} is {cost(x, y, w, b)} on iteration {i}')\n",
    "    return w, b"
   ]
  },
  {
   "cell_type": "code",
   "execution_count": 10,
   "id": "fe73ea89",
   "metadata": {},
   "outputs": [
    {
     "name": "stdout",
     "output_type": "stream",
     "text": [
      "cost for w=389.3472991 and b=293.0474269406168 is 2800.0112947367707 on iteration 10\n",
      "cost for w=400.4878388 and b=294.43351608920767 is 2616.20491452533 on iteration 20\n",
      "cost for w=403.5192137 and b=290.54282835495997 is 2591.888350292275 on iteration 30\n",
      "cost for w=406.1809032 and b=286.7003821414861 is 2570.091161011257 on iteration 40\n",
      "cost for w=408.7014413 and b=283.04851158184164 is 2550.4485999235512 on iteration 50\n",
      "cost for w=411.0939912 and b=279.58169763451764 is 2532.7475989487925 on iteration 60\n",
      "cost for w=413.3652148 and b=276.2906751134325 is 2516.796245381158 on iteration 70\n",
      "cost for w=415.5212692 and b=273.1665333976835 is 2502.42159611676 on iteration 80\n",
      "cost for w=417.5679946 and b=270.2008104060444 is 2489.4678025344056 on iteration 90\n",
      "cost for w=419.5109348 and b=267.3854730573718 is 2477.794420799111 on iteration 100\n",
      "cost for w=421.3553526 and b=264.7128956086512 is 2467.2748891830197 on iteration 110\n",
      "cost for w=423.1062437 and b=262.1758390023543 is 2457.795155894812 on iteration 120\n",
      "cost for w=424.7683508 and b=259.76743125849805 is 2449.2524425407337 on iteration 130\n",
      "cost for w=426.346176 and b=257.48114886090775 is 2441.554129810692 on iteration 140\n",
      "cost for w=427.8439928 and b=255.3107990873424 is 2434.6167533082667 on iteration 150\n",
      "cost for w=429.2658586 and b=253.25050323562277 is 2428.3650986374228 on iteration 160\n",
      "cost for w=430.6156244 and b=251.294680700327 is 2422.7313859349633 on iteration 170\n",
      "cost for w=431.8969465 and b=249.4380338569244 is 2417.654535007495 on iteration 180\n",
      "cost for w=433.1132953 and b=247.675533712403 is 2413.0795031056236 on iteration 190\n",
      "cost for w=434.2679657 and b=246.00240628352438 is 2408.956688155534 on iteration 200\n",
      "cost for w=435.3640851 and b=244.41411966580827 is 2405.2413909778834 on iteration 210\n",
      "cost for w=436.4046226 and b=242.90637175822258 is 2401.8933306634235 on iteration 220\n",
      "cost for w=437.3923965 and b=241.47507861032827 is 2398.8762078511054 on iteration 230\n",
      "cost for w=438.3300826 and b=240.1163633603172 is 2396.157311173724 on iteration 240\n",
      "cost for w=439.2202205 and b=238.8265457339779 is 2393.7071626043403 on iteration 250\n",
      "cost for w=440.0652214 and b=237.60213207614783 is 2391.4991978582057 on iteration 260\n",
      "cost for w=440.867374 and b=236.4398058876496 is 2389.509478385227 on iteration 270\n",
      "cost for w=441.6288511 and b=235.3364188420795 is 2387.716431830442 on iteration 280\n",
      "cost for w=442.3517154 and b=234.28898225811594 is 2386.10061814852 on iteration 290\n",
      "cost for w=443.0379247 and b=233.29465900424967 is 2384.6445188365897 on iteration 300\n",
      "cost for w=443.6893377 and b=232.35075581400778 is 2383.3323470002397 on iteration 310\n",
      "cost for w=444.3077189 and b=231.45471599085724 is 2382.1498761934718 on iteration 320\n",
      "cost for w=444.8947433 and b=230.60411248302722 is 2381.0842861768824 on iteration 330\n",
      "cost for w=445.452001 and b=229.79664130949305 is 2380.1240239218273 on iteration 340\n",
      "cost for w=445.9810012 and b=229.03011531931466 is 2379.2586783535226 on iteration 350\n",
      "cost for w=446.483177 and b=228.30245826742598 is 2378.4788674751458 on iteration 360\n",
      "cost for w=446.9598884 and b=227.61169919082883 is 2377.776136649095 on iteration 370\n",
      "cost for w=447.4124268 and b=226.9559670699583 is 2377.1428669325815 on iteration 380\n",
      "cost for w=447.842018 and b=226.33348576075923 is 2376.572192473758 on iteration 390\n",
      "cost for w=448.2498254 and b=225.74256918374638 is 2376.0579260728 on iteration 400\n",
      "cost for w=448.6369538 and b=225.18161675701754 is 2375.594492100823 on iteration 410\n",
      "cost for w=449.0044517 and b=224.6491090608488 is 2375.1768660494554 on iteration 420\n",
      "cost for w=449.3533146 and b=224.14360372212963 is 2374.8005200555835 on iteration 430\n",
      "cost for w=449.6844874 and b=223.66373150748913 is 2374.4613738106564 on iteration 440\n",
      "cost for w=449.998867 and b=223.20819261453224 is 2374.1557503223694 on iteration 450\n",
      "cost for w=450.2973052 and b=222.775753151139 is 2373.880336049069 on iteration 460\n",
      "cost for w=450.5806101 and b=222.36524179329214 is 2373.632144974601 on iteration 470\n",
      "cost for w=450.8495493 and b=221.97554661237837 is 2373.4084862342397 on iteration 480\n",
      "cost for w=451.1048511 and b=221.60561206337118 is 2373.2069349405483 on iteration 490\n",
      "cost for w=451.3472071 and b=221.2544361257364 is 2373.0253058930084 on iteration 500\n",
      "cost for w=451.5772737 and b=220.92106758931644 is 2372.8616298862244 on iteration 510\n",
      "cost for w=451.7956741 and b=220.60460347784212 is 2372.7141323600476 on iteration 520\n",
      "cost for w=452.0029999 and b=220.3041866030922 is 2372.5812141598944 on iteration 530\n",
      "cost for w=452.1998126 and b=220.0190032430769 is 2372.4614341989063 on iteration 540\n",
      "cost for w=452.3866454 and b=219.74828093795568 is 2372.3534938337916 on iteration 550\n",
      "cost for w=452.5640042 and b=219.4912863977194 is 2372.256222785079 on iteration 560\n",
      "cost for w=452.7323696 and b=219.24732351596987 is 2372.1685664490237 on iteration 570\n",
      "cost for w=452.8921975 and b=219.01573148441625 is 2372.08957446372 on iteration 580\n",
      "cost for w=453.0439208 and b=218.79588300298113 is 2372.0183904053474 on iteration 590\n",
      "cost for w=453.1879506 and b=218.58718258066924 is 2371.954242502918 on iteration 600\n",
      "cost for w=453.324677 and b=218.38906492259468 is 2371.896435270789 on iteration 610\n",
      "cost for w=453.4544702 and b=218.20099339879937 is 2371.8443419682817 on iteration 620\n",
      "cost for w=453.5776819 and b=218.02245859071377 is 2371.797397804613 on iteration 630\n",
      "cost for w=453.6946458 and b=217.8529769113243 is 2371.7550938154945 on iteration 640\n",
      "cost for w=453.8056786 and b=217.69208929530885 is 2371.71697134498 on iteration 650\n",
      "cost for w=453.9110813 and b=217.53935995559272 is 2371.682617072761 on iteration 660\n",
      "cost for w=454.0111392 and b=217.39437520295715 is 2371.651658532987 on iteration 670\n",
      "cost for w=454.1061233 and b=217.25674232550307 is 2371.623760076025 on iteration 680\n",
      "cost for w=454.196291 and b=217.12608852493477 is 2371.598619229377 on iteration 690\n",
      "cost for w=454.2818865 and b=217.00205990678253 is 2371.5759634183078 on iteration 700\n",
      "cost for w=454.3631416 and b=216.884320521829 is 2371.5555470105965 on iteration 710\n",
      "cost for w=454.4402765 and b=216.77255145614282 is 2371.5371486534405 on iteration 720\n",
      "cost for w=454.5135 and b=216.66644996725432 is 2371.5205688735487 on iteration 730\n",
      "cost for w=454.5830105 and b=216.56572866413504 is 2371.505627914472 on iteration 740\n",
      "cost for w=454.6489962 and b=216.47011472875744 is 2371.4921637877146 on iteration 750\n",
      "cost for w=454.711636 and b=216.37934917712866 is 2371.4800305164586 on iteration 760\n",
      "cost for w=454.7710994 and b=216.29318615779533 is 2371.469096552887 on iteration 770\n",
      "cost for w=454.8275476 and b=216.21139228591977 is 2371.459243351984 on iteration 780\n",
      "cost for w=454.8811334 and b=216.13374601112395 is 2371.450364086256 on iteration 790\n",
      "cost for w=454.9320019 and b=216.0600370173886 is 2371.4423624875135 on iteration 800\n",
      "cost for w=454.980291 and b=215.99006565338217 is 2371.43515180317 on iteration 810\n",
      "cost for w=455.0261315 and b=215.92364239167682 is 2371.4286538556457 on iteration 820\n",
      "cost for w=455.0696475 and b=215.86058731538637 is 2371.4227981947965 on iteration 830\n",
      "cost for w=455.1109569 and b=215.80072963083552 is 2371.417521334082 on iteration 840\n",
      "cost for w=455.1501716 and b=215.74390720494094 is 2371.4127660622753 on iteration 850\n",
      "cost for w=455.1873978 and b=215.68996612605073 is 2371.4084808231505 on iteration 860\n",
      "cost for w=455.2227363 and b=215.6387602870526 is 2371.4046191565403 on iteration 870\n",
      "cost for w=455.2562829 and b=215.59015098962206 is 2371.4011391946124 on iteration 880\n",
      "cost for w=455.2881284 and b=215.54400656853792 is 2371.398003207948 on iteration 890\n",
      "cost for w=455.3183591 and b=215.50020203504866 is 2371.395177196455 on iteration 900\n",
      "cost for w=455.3470569 and b=215.4586187383222 is 2371.3926305207888 on iteration 910\n",
      "cost for w=455.3742994 and b=215.41914404406324 is 2371.390335570123 on iteration 920\n",
      "cost for w=455.4001606 and b=215.38167102942748 is 2371.3882674628126 on iteration 930\n",
      "cost for w=455.4247103 and b=215.34609819340537 is 2371.3864037766334 on iteration 940\n",
      "cost for w=455.4480153 and b=215.31232918189264 is 2371.3847243056653 on iteration 950\n",
      "cost for w=455.4701384 and b=215.28027252670103 is 2371.3832108412453 on iteration 960\n",
      "cost for w=455.4911398 and b=215.24984139780383 is 2371.381846974524 on iteration 970\n",
      "cost for w=455.5110762 and b=215.22095336814448 is 2371.3806179185945 on iteration 980\n",
      "cost for w=455.5300016 and b=215.19353019037084 is 2371.379510348139 on iteration 990\n"
     ]
    }
   ],
   "source": [
    "w, b = gradient_descent(x_train, y_train, w, b, 0.1, cost, gradient, 10000)"
   ]
  },
  {
   "cell_type": "markdown",
   "id": "e341570a",
   "metadata": {},
   "source": [
    "#### Result\n",
    "Calling gradient descent resulted in a $w$ and $b$ that minimized the cost function. In this example the cost function is very far from zero but it predicts close to the actual value"
   ]
  },
  {
   "cell_type": "code",
   "execution_count": 11,
   "id": "d36cf989",
   "metadata": {},
   "outputs": [
    {
     "data": {
      "image/png": "[encoded data removed]",
      "text/plain": [
       "<Figure size 432x288 with 1 Axes>"
      ]
     },
     "metadata": {
      "needs_background": "light"
     },
     "output_type": "display_data"
    }
   ],
   "source": [
    "plt.figure()\n",
    "plt.scatter(x_train, y_train, marker='x', color='r', linewidths=2)\n",
    "ax = plt.gca()\n",
    "ax.set_title('Housing Price');\n",
    "ax.set_xlabel('Size in square feet');\n",
    "ax.set_ylabel('Price in dollars');\n",
    "\n",
    "plt.plot(x_train, w * x_train + b);"
   ]
  },
  {
   "cell_type": "markdown",
   "id": "bd5c853c",
   "metadata": {},
   "source": [
    "Now we can predict the cost of a house with size of 1.287 somewhat close to its value"
   ]
  },
  {
   "cell_type": "code",
   "execution_count": 12,
   "id": "98c86e69",
   "metadata": {},
   "outputs": [
    {
     "name": "stdout",
     "output_type": "stream",
     "text": [
      "The cost predicted for a house with size=1.287 is 801.4032426402493k$\n",
      "The actual cost is 823.99k$\n"
     ]
    }
   ],
   "source": [
    "print(f'The cost predicted for a house with size=1.287 is {predict(1.287, w, b)}k$')\n",
    "print(f'The actual cost is {y_train[0]}k$')"
   ]
  },
  {
   "cell_type": "markdown",
   "id": "526b129c",
   "metadata": {},
   "source": [
    "This was the implementation of Univariant Linear Regression."
   ]
  }
 ],
 "metadata": {
  "kernelspec": {
   "display_name": "Python 3 (ipykernel)",
   "language": "python",
   "name": "python3"
  },
  "language_info": {
   "codemirror_mode": {
    "name": "ipython",
    "version": 3
   },
   "file_extension": ".py",
   "mimetype": "text/x-python",
   "name": "python",
   "nbconvert_exporter": "python",
   "pygments_lexer": "ipython3",
   "version": "3.10.4"
  }
 },
 "nbformat": 4,
 "nbformat_minor": 5
}
