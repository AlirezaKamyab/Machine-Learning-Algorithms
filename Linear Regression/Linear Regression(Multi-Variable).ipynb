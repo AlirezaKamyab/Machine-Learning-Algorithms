{
 "cells": [
  {
   "cell_type": "markdown",
   "id": "0056e70f",
   "metadata": {},
   "source": [
    "# Linear Regression (Multiple Variables)\n",
    "\n",
    "## Function\n",
    "In here we have multiple features so $w$ is a vector and is written as $\\overrightarrow{w}$\n",
    "and $x$ is also a vector written as $\\overrightarrow{x}$. $b$ is the same number (bias) and we write the function as<br>\n",
    "$f_{\\overrightarrow{w},b}(\\overrightarrow{x}) = \\overrightarrow{w}.\\overrightarrow{x} + b$<br>\n",
    "which is its vectorized form; without vectorization it will be like <br>\n",
    "$f_{w, b}(x) = w_1x_1 + w_2x_2 + . . . + w_nx_n + b$ <br>\n",
    "The result of the dot product is the same<br>\n",
    "$\\overrightarrow{w}.\\overrightarrow{x} = w_1x_1 + w_2x_2 + . . . + w_nx_n$"
   ]
  },
  {
   "cell_type": "markdown",
   "id": "6b8248f4",
   "metadata": {},
   "source": [
    "Let's use the same example of price of the houses but this time with multiple features; other than predicting the price via its size, we'll have number of bedrooms, age of the house, number of bathrooms."
   ]
  },
  {
   "cell_type": "code",
   "execution_count": 1,
   "id": "ba62216b",
   "metadata": {},
   "outputs": [],
   "source": [
    "import numpy as np\n",
    "import pandas as pd\n",
    "import copy\n",
    "import matplotlib.pyplot as plt"
   ]
  },
  {
   "cell_type": "code",
   "execution_count": 2,
   "id": "378f8aec",
   "metadata": {},
   "outputs": [],
   "source": [
    "# Our dataset\n",
    "x_train = np.array([[1.275, 4, 1, 12], [1.674, 5, 2, 6], [2.000, 6, 3, 1], [0.987, 2, 1, 34], [1.275, 4, 1, 4]], dtype='float64')\n",
    "y_train = np.array([452.983, 673.983, 983.992, 122.111, 555.211], dtype='float64')\n",
    "m, n = x_train.shape # m is the number of data and n is the number of features\n",
    "w = np.random.random(n) # initial value for w\n",
    "b = 100 # initial value for b"
   ]
  },
  {
   "cell_type": "code",
   "execution_count": 3,
   "id": "e138fee8",
   "metadata": {},
   "outputs": [
    {
     "data": {
      "text/html": [
       "<div>\n",
       "<style scoped>\n",
       "    .dataframe tbody tr th:only-of-type {\n",
       "        vertical-align: middle;\n",
       "    }\n",
       "\n",
       "    .dataframe tbody tr th {\n",
       "        vertical-align: top;\n",
       "    }\n",
       "\n",
       "    .dataframe thead th {\n",
       "        text-align: right;\n",
       "    }\n",
       "</style>\n",
       "<table border=\"1\" class=\"dataframe\">\n",
       "  <thead>\n",
       "    <tr style=\"text-align: right;\">\n",
       "      <th></th>\n",
       "      <th>Size (1k feet squared)</th>\n",
       "      <th>Number of bedrooms</th>\n",
       "      <th>Number of bathrooms</th>\n",
       "      <th>Age</th>\n",
       "      <th>Price(1k $)</th>\n",
       "    </tr>\n",
       "  </thead>\n",
       "  <tbody>\n",
       "    <tr>\n",
       "      <th>0</th>\n",
       "      <td>1.275</td>\n",
       "      <td>4.0</td>\n",
       "      <td>1.0</td>\n",
       "      <td>12.0</td>\n",
       "      <td>452.983</td>\n",
       "    </tr>\n",
       "    <tr>\n",
       "      <th>1</th>\n",
       "      <td>1.674</td>\n",
       "      <td>5.0</td>\n",
       "      <td>2.0</td>\n",
       "      <td>6.0</td>\n",
       "      <td>673.983</td>\n",
       "    </tr>\n",
       "    <tr>\n",
       "      <th>2</th>\n",
       "      <td>2.000</td>\n",
       "      <td>6.0</td>\n",
       "      <td>3.0</td>\n",
       "      <td>1.0</td>\n",
       "      <td>983.992</td>\n",
       "    </tr>\n",
       "    <tr>\n",
       "      <th>3</th>\n",
       "      <td>0.987</td>\n",
       "      <td>2.0</td>\n",
       "      <td>1.0</td>\n",
       "      <td>34.0</td>\n",
       "      <td>122.111</td>\n",
       "    </tr>\n",
       "    <tr>\n",
       "      <th>4</th>\n",
       "      <td>1.275</td>\n",
       "      <td>4.0</td>\n",
       "      <td>1.0</td>\n",
       "      <td>4.0</td>\n",
       "      <td>555.211</td>\n",
       "    </tr>\n",
       "  </tbody>\n",
       "</table>\n",
       "</div>"
      ],
      "text/plain": [
       "   Size (1k feet squared)  Number of bedrooms  Number of bathrooms   Age  \\\n",
       "0                   1.275                 4.0                  1.0  12.0   \n",
       "1                   1.674                 5.0                  2.0   6.0   \n",
       "2                   2.000                 6.0                  3.0   1.0   \n",
       "3                   0.987                 2.0                  1.0  34.0   \n",
       "4                   1.275                 4.0                  1.0   4.0   \n",
       "\n",
       "   Price(1k $)  \n",
       "0      452.983  \n",
       "1      673.983  \n",
       "2      983.992  \n",
       "3      122.111  \n",
       "4      555.211  "
      ]
     },
     "execution_count": 3,
     "metadata": {},
     "output_type": "execute_result"
    }
   ],
   "source": [
    "df = pd.DataFrame(x_train, columns=['Size (1k feet squared)', 'Number of bedrooms', 'Number of bathrooms', 'Age'])\n",
    "df['Price(1k $)'] = pd.Series(y_train)\n",
    "df"
   ]
  },
  {
   "cell_type": "code",
   "execution_count": 4,
   "id": "caa17834",
   "metadata": {},
   "outputs": [],
   "source": [
    "def predict(x, w, b):\n",
    "    return np.dot(w, x) + b"
   ]
  },
  {
   "cell_type": "markdown",
   "id": "de44c9c5",
   "metadata": {},
   "source": [
    "Now let's try to predict the value of the first house in the dataset; "
   ]
  },
  {
   "cell_type": "code",
   "execution_count": 5,
   "id": "a3759b60",
   "metadata": {},
   "outputs": [
    {
     "name": "stdout",
     "output_type": "stream",
     "text": [
      "Value for a house with size=1.275 and numberOfBedrooms=4 and numberOfBathrooms=1 and age=12 is 104.999k$\n",
      "The actual price is 452.983k$\n"
     ]
    }
   ],
   "source": [
    "print(f'Value for a house with size=1.275 and numberOfBedrooms=4 and numberOfBathrooms=1 and age=12 is {predict(x_train[0], w, b):.3f}k$')\n",
    "print(f'The actual price is {y_train[0]}k$')"
   ]
  },
  {
   "cell_type": "markdown",
   "id": "e808a66c",
   "metadata": {},
   "source": [
    "## Cost function\n",
    "Now that we use vectorization, cost function is defined as <br>\n",
    "$J(\\overrightarrow{w}, b) = \\frac{1}{2m}\\Sigma_{i=1}^{m}(f_{\\overrightarrow{x},b}(\\overrightarrow{x}^{(i)}) - y^{(i)})^2$"
   ]
  },
  {
   "cell_type": "code",
   "execution_count": 6,
   "id": "81dcc9a8",
   "metadata": {},
   "outputs": [],
   "source": [
    "def cost(x, y, w, b):\n",
    "    err_sum = 0\n",
    "    m = x.shape[0]\n",
    "    for i in range(m):\n",
    "        f_wb = np.dot(w, x[i]) + b\n",
    "        err_sum += (f_wb - y[i]) ** 2\n",
    "    err_sum = err_sum / (2 * m)\n",
    "    return err_sum"
   ]
  },
  {
   "cell_type": "markdown",
   "id": "bfcdd1d5",
   "metadata": {},
   "source": [
    "If we run the cost function now due to our last test for predicting the price of the first house, we anticipate a large number\n"
   ]
  },
  {
   "cell_type": "code",
   "execution_count": 7,
   "id": "7eda5680",
   "metadata": {},
   "outputs": [
    {
     "name": "stdout",
     "output_type": "stream",
     "text": [
      "141801.20734060762\n"
     ]
    }
   ],
   "source": [
    "print(cost(x_train, y_train, w, b))"
   ]
  },
  {
   "cell_type": "markdown",
   "id": "9fb25e32",
   "metadata": {},
   "source": [
    "## Gradient Descent\n",
    "Now since we have multiple features, we should find the derivative of each of the features. So, we have to find a good value for each of $w$s from $w_1$ to $w_n$\n",
    "So we have to find the derivative for each of the features\n",
    "$w_i = w_i - \\alpha\\frac{d}{dm}J(\\overrightarrow{w}, b)$ and $b = b - \\alpha\\frac{d}{db}J(\\overrightarrow{w}, b)$<br>\n",
    "for each of the $w$s we have<br>\n",
    "$w_j = w_j - \\alpha\\frac{1}{m}\\Sigma_{i=1}^{m}(f_{\\overrightarrow{w},b}(x^{(i)}) - y^{(i)})x_{j}^{(i)}$<br>\n",
    "$b = b - \\alpha\\frac{1}{m}\\Sigma_{i=1}^{m}(f_{\\overrightarrow{w},b}(x^{(i)})-y^{(i)})$"
   ]
  },
  {
   "cell_type": "code",
   "execution_count": 8,
   "id": "5274ffa8",
   "metadata": {},
   "outputs": [],
   "source": [
    "def gradient(x, y, w, b):\n",
    "    m, n = x.shape\n",
    "    w_t = np.zeros((n,))\n",
    "    b_t = 0\n",
    "    for i in range(m):\n",
    "        err = np.dot(w, x[i]) + b - y[i]\n",
    "        for j in range(n):\n",
    "            w_t[j] += err * x[i, j]\n",
    "        b_t += err\n",
    "    w_t = w_t / m\n",
    "    b_t = b_t / m\n",
    "    return w_t, b_t"
   ]
  },
  {
   "cell_type": "code",
   "execution_count": 9,
   "id": "b52a697b",
   "metadata": {},
   "outputs": [],
   "source": [
    "def gradient_descent(x, y, init_w, init_b, alpha, cost_function, gradient_function, iterations=1000):\n",
    "    w = copy.deepcopy(init_w)\n",
    "    b = init_b\n",
    "    for i in range(1, iterations + 1):\n",
    "        w_t, b_t = gradient_function(x, y, w, b)\n",
    "        w = w - (alpha * w_t)\n",
    "        b = b - (alpha * b_t)\n",
    "        if i % 10 == 0:\n",
    "            print(f'w={w}, b={b}, cost={cost_function(x, y, w, b)}')\n",
    "    return w, b"
   ]
  },
  {
   "cell_type": "code",
   "execution_count": 10,
   "id": "58d7e122",
   "metadata": {},
   "outputs": [
    {
     "name": "stdout",
     "output_type": "stream",
     "text": [
      "w=[ 25.47018622  78.30596587  32.27792222 -11.97597953], b=113.68374639315961, cost=15194.632409965114\n",
      "w=[ 31.2389634   95.83163615  40.53147666 -13.67506037], b=116.65237463069684, cost=6082.647631459326\n",
      "w=[ 32.62810574  99.63494169  43.30667626 -13.22204681], b=117.16878071517891, cost=4006.381563646822\n",
      "w=[ 33.00810272 100.28685925  44.8099625  -12.44777356], b=117.12134021407768, cost=2875.3564531031293\n",
      "w=[ 33.15027991 100.20544247  46.00369431 -11.73567648], b=116.94265966557614, cost=2160.964685617432\n",
      "w=[ 33.23217633  99.94639029  47.10919847 -11.14575991], b=116.73266750463878, cost=1701.6392374656164\n",
      "w=[ 33.2954713   99.63945354  48.17832141 -10.66978358], b=116.51509244491618, cost=1403.8940812642854\n",
      "w=[ 33.35059391  99.31653689  49.22398081 -10.28838661], b=116.29607067172039, cost=1208.860128090129\n",
      "w=[33.4006538  98.98673022 50.25001928 -9.98322277], b=116.07756641486792, cost=1079.1920761538006\n",
      "w=[33.44694241 98.65353596 51.25805789 -9.73900864], b=115.86046775549669, cost=991.1827416659207\n",
      "w=[33.49021878 98.31887948 52.24909092 -9.54341554], b=115.64531870856516, cost=929.7800938110088\n",
      "w=[33.53102704 97.9840861  53.22387372 -9.3865864 ], b=115.43250649769942, cost=885.4256768657226\n",
      "w=[33.56978783 97.65015318 54.18303036 -9.26066   ], b=115.22232034876006, cost=852.0479875805079\n",
      "w=[33.60683426 97.31785116 55.12709336 -9.15937135], b=115.0149776872042, cost=825.7888549413556\n",
      "w=[33.64243221 96.98777774 56.05652477 -9.07772857], b=114.81064029430516, cost=804.1950595054382\n",
      "w=[33.67679453 96.66039498 56.9717307  -9.01175434], b=114.60942610027767, cost=785.7052439463162\n",
      "w=[33.71009195 96.33605745 57.87307229 -8.95827972], b=114.41141833168271, cost=769.3242473767497\n",
      "w=[33.74246166 96.01503445 58.76087429 -8.9147798 ], b=114.21667274061792, cost=754.416399138493\n",
      "w=[33.77401409 95.69752747 59.63543198 -8.8792428 ], b=114.02522334900733, cost=740.5743172150626\n",
      "w=[33.80483835 95.38368425 60.49701659 -8.85006572], b=113.83708701980633, cost=727.5356301300843\n",
      "w=[33.83500656 95.07360986 61.3458797  -8.82597121], b=113.65226709591654, cost=715.1301163615682\n",
      "w=[33.8645773  94.76737553 62.18225668 -8.80594143], b=113.47075629690602, cost=703.246150091229\n",
      "w=[33.89359828 94.4650258  63.00636949 -8.78916524], b=113.2925390245834, cost=691.8094009315062\n",
      "w=[33.92210861 94.16658403 63.81842888 -8.77499618], b=113.11759319767356, cost=680.7693114403049\n",
      "w=[33.95014051 93.87205696 64.61863624 -8.76291902], b=112.94589171137197, cost=670.0905113475553\n",
      "w=[33.97772067 93.58143819 65.40718491 -8.75252306], b=112.77740359807812, cost=659.7473652375722\n",
      "w=[34.00487138 93.2947111  66.18426142 -8.74348089], b=112.61209495009281, cost=649.7205091438766\n",
      "w=[34.03161141 93.01185105 66.95004636 -8.73553144], b=112.44992965270596, cost=639.9946496032242\n",
      "w=[34.05795672 92.73282718 67.70471512 -8.72846653], b=112.29086996625425, cost=630.5571640809687\n",
      "w=[34.08392098 92.45760385 68.44843851 -8.7221201 ], b=112.1348769878847, cost=621.3972101092403\n",
      "w=[34.10951606 92.18614178 69.18138319 -8.71635963], b=111.98191101751004, cost=612.5051573831049\n",
      "w=[34.13475237 91.91839892 69.90371212 -8.71107937], b=111.83193184746341, cost=603.8722249124556\n",
      "w=[34.15963915 91.65433121 70.61558483 -8.70619485], b=111.68489899139314, cost=595.4902483940901\n",
      "w=[34.18418465 91.39389313 71.31715769 -8.7016386 ], b=111.5407718647783, cost=587.3515303031836\n",
      "w=[34.20839639 91.13703812 72.00858415 -8.69735666], b=111.39950992692842, cost=579.448742553095\n",
      "w=[34.23228123 90.88371898 72.69001486 -8.69330587], b=111.26107279232446, cost=571.7748625845156\n",
      "w=[34.25584554 90.63388814 73.36159788 -8.68945165], b=111.12542031756095, cost=564.3231307342949\n",
      "w=[34.27909526 90.38749786 74.02347875 -8.68576626], b=110.99251266887535, cost=557.0870211708708\n",
      "w=[34.30203597 90.14450044 74.67580064 -8.68222744], b=110.8623103742374, cost=550.060221498789\n",
      "w=[34.32467297 89.90484833 75.31870438 -8.67881726], b=110.73477436316223, cost=543.2366179222763\n",
      "w=[34.3470113  89.66849425 75.95232859 -8.67552128], b=110.60986599676832, cost=536.6102839921758\n",
      "w=[34.36905583 89.43539127 76.57680974 -8.6723278 ], b=110.48754709008766, cost=530.1754716807056\n",
      "w=[34.39081121 89.20549287 77.19228216 -8.66922734], b=110.36777992822746, cost=523.9266039855291\n",
      "w=[34.41228196 88.978753   77.79887815 -8.66621219], b=110.25052727765708, cost=517.8582685548758\n",
      "w=[34.43347247 88.7551261  78.39672801 -8.66327604], b=110.13575239363468, cost=511.9652120095833\n",
      "w=[34.454387   88.53456717 78.98596006 -8.66041369], b=110.02341902458114, cost=506.2423347549734\n",
      "w=[34.47502971 88.31703173 79.56670072 -8.65762083], b=109.9134914140448, cost=500.68468614969333\n",
      "w=[34.49540467 88.10247587 80.13907449 -8.65489391], b=109.80593430076875, cost=495.2874599458636\n",
      "w=[34.51551585 87.89085625 80.70320405 -8.65222989], b=109.70071291726892, cost=490.04598994488407\n",
      "w=[34.53536717 87.68213013 81.25921026 -8.64962624], b=109.59779298724673, cost=484.95574583228824\n",
      "w=[34.55496243 87.47625533 81.80721216 -8.64708078], b=109.4971407220951, cost=480.01232916718465\n",
      "w=[34.5743054  87.27319026 82.34732708 -8.64459161], b=109.39872281670286, cost=475.2114695095855\n",
      "w=[34.59339977 87.07289391 82.87967057 -8.64215709], b=109.30250644472095, cost=470.549020673835\n",
      "w=[34.61224916 86.87532586 83.40435652 -8.63977576], b=109.20845925342027, cost=466.0209570996083\n",
      "w=[34.63085714 86.68044624 83.92149712 -8.63744632], b=109.11654935824413, cost=461.6233703338348\n",
      "w=[34.64922722 86.48821578 84.43120292 -8.63516759], b=109.0267453371375, cost=457.3524656184433\n",
      "w=[34.66736285 86.29859575 84.93358285 -8.63293848], b=108.93901622471746, cost=453.20455857952385\n",
      "w=[34.68526743 86.11154798 85.42874422 -8.63075802], b=108.8533315063369, cost=449.17607201418525\n",
      "w=[34.70294431 85.92703487 85.9167928  -8.62862527], b=108.76966111208166, cost=445.2635327717565\n",
      "w=[34.72039678 85.74501935 86.39783278 -8.62653936], b=108.68797541073357, cost=441.46356872624693\n",
      "w=[34.73762809 85.56546489 86.87196683 -8.62449947], b=108.60824520372447, cost=437.7729058372467\n",
      "w=[34.75464144 85.3883355  87.33929611 -8.62250482], b=108.53044171910142, cost=434.1883652965348\n",
      "w=[34.77143997 85.2135957  87.7999203  -8.62055465], b=108.45453660551857, cost=430.7068607578065\n",
      "w=[34.78802678 85.04121054 88.25393763 -8.61864826], b=108.3805019262677, cost=427.3253956470991\n",
      "w=[34.80440493 84.87114558 88.70144488 -8.61678492], b=108.30831015335708, cost=424.04106055148975\n",
      "w=[34.82057743 84.70336687 89.1425374  -8.61496398], b=108.23793416164581, cost=420.8510306837855\n",
      "w=[34.83654724 84.53784098 89.57730917 -8.61318477], b=108.1693472230394, cost=417.7525634209821\n",
      "w=[34.85231729 84.37453494 90.00585276 -8.61144665], b=108.10252300075025, cost=414.74299591434976\n",
      "w=[34.86789046 84.21341628 90.42825941 -8.609749  ], b=108.03743554362669, cost=411.81974276901576\n",
      "w=[34.88326958 84.05445301 90.84461902 -8.60809119], b=107.97405928055241, cost=408.98029379107123\n",
      "w=[34.89845744 83.89761359 91.25502015 -8.60647264], b=107.91236901491789, cost=406.222211800198\n",
      "w=[34.9134568  83.74286695 91.6595501  -8.60489275], b=107.85233991916482, cost=403.54313050592754\n",
      "w=[34.92827037 83.59018249 92.05829485 -8.60335094], b=107.79394752940433, cost=400.94075244567296\n",
      "w=[34.94290083 83.43953003 92.45133914 -8.60184665], b=107.73716774010869, cost=398.4128469827398\n",
      "w=[34.9573508  83.29087985 92.83876648 -8.60037932], b=107.6819767988768, cost=395.9572483625641\n",
      "w=[34.97162289 83.14420267 93.22065915 -8.5989484 ], b=107.62835130127336, cost=393.5718538254949\n",
      "w=[34.98571965 82.99946962 93.5970982  -8.59755334], b=107.5762681857408, cost=391.25462177446417\n",
      "w=[34.9996436  82.85665227 93.96816352 -8.59619363], b=107.525704728584, cost=389.0035699959628\n",
      "w=[35.01339722 82.7157226  94.33393383 -8.59486873], b=107.47663853902661, cost=386.81677393275294\n",
      "w=[35.02698296 82.576653   94.69448668 -8.59357813], b=107.42904755433865, cost=384.6923650068251\n",
      "w=[35.04040323 82.43941626 95.04989849 -8.59232132], b=107.38291003503447, cost=382.62852899114125\n",
      "w=[35.0536604  82.30398557 95.40024456 -8.59109781], b=107.33820456014, cost=380.62350442872645\n",
      "w=[35.06675682 82.17033453 95.7455991  -8.5899071 ], b=107.29491002252911, cost=378.67558109776223\n",
      "w=[35.07969479 82.0384371  96.08603521 -8.58874871], b=107.25300562432743, cost=376.7830985213003\n",
      "w=[35.09247659 81.90826765 96.42162493 -8.58762217], b=107.21247087238315, cost=374.9444445203597\n",
      "w=[35.10510444 81.77980089 96.75243926 -8.58652699], b=107.173285573804, cost=373.15805380906534\n",
      "w=[35.11758057 81.65301193 97.07854814 -8.58546273], b=107.13542983155916, cost=371.42240663069225\n",
      "w=[35.12990714 81.52787623 97.40002048 -8.58442891], b=107.0988840401456, cost=369.73602743335283\n",
      "w=[35.14208629 81.40436963 97.7169242  -8.58342511], b=107.06362888131744, cost=368.09748358422246\n",
      "w=[35.15412014 81.28246829 98.02932621 -8.58245086], b=107.02964531987807, cost=366.5053841211526\n",
      "w=[35.16601076 81.16214875 98.33729245 -8.58150574], b=106.99691459953367, cost=364.95837854059835\n",
      "w=[35.1777602  81.04338787 98.64088788 -8.58058931], b=106.96541823880729, cost=363.4551556208162\n",
      "w=[35.18937049 80.92616287 98.94017654 -8.57970116], b=106.93513802701298, cost=361.9944422792606\n",
      "w=[35.20084362 80.8104513  99.23522148 -8.57884086], b=106.90605602028856, cost=360.5750024632481\n",
      "w=[35.21218153 80.69623101 99.52608488 -8.578008  ], b=106.87815453768673, cost=359.1956360728624\n",
      "w=[35.22338617 80.58348022 99.81282797 -8.57720218], b=106.8514161573232, cost=357.8551779152109\n",
      "w=[ 35.23445944  80.47217743 100.09551111  -8.57642301], b=106.82582371258141, cost=356.55249668907874\n",
      "w=[ 35.24540322  80.36230149 100.37419375  -8.57567008], b=106.80136028837262, cost=355.2864939991311\n",
      "w=[ 35.25621935  80.25383152 100.64893449  -8.574943  ], b=106.77800921745101, cost=354.05610339877785\n",
      "w=[ 35.26690965  80.14674699 100.91979106  -8.57424141], b=106.75575407678258, cost=352.8602894608921\n"
     ]
    }
   ],
   "source": [
    "w, b = gradient_descent(x_train, y_train, w, b, 0.00714, cost, gradient, 1000)"
   ]
  },
  {
   "cell_type": "markdown",
   "id": "c6bbaac5",
   "metadata": {},
   "source": [
    "Let's now predict the value of the house like before"
   ]
  },
  {
   "cell_type": "code",
   "execution_count": 11,
   "id": "b3c2f338",
   "metadata": {},
   "outputs": [
    {
     "name": "stdout",
     "output_type": "stream",
     "text": [
      "Value for a house with size=1.275 and numberOfBedrooms=4 and numberOfBathrooms=1 and age=12 is 470.337k$\n",
      "The actual price is 452.983k$\n"
     ]
    }
   ],
   "source": [
    "print(f'Value for a house with size=1.275 and numberOfBedrooms=4 and numberOfBathrooms=1 and age=12 is {predict(x_train[0], w, b):.3f}k$')\n",
    "print(f'The actual price is {y_train[0]}k$')"
   ]
  },
  {
   "cell_type": "code",
   "execution_count": 12,
   "id": "4e0257ea",
   "metadata": {},
   "outputs": [
    {
     "data": {
      "text/html": [
       "<div>\n",
       "<style scoped>\n",
       "    .dataframe tbody tr th:only-of-type {\n",
       "        vertical-align: middle;\n",
       "    }\n",
       "\n",
       "    .dataframe tbody tr th {\n",
       "        vertical-align: top;\n",
       "    }\n",
       "\n",
       "    .dataframe thead th {\n",
       "        text-align: right;\n",
       "    }\n",
       "</style>\n",
       "<table border=\"1\" class=\"dataframe\">\n",
       "  <thead>\n",
       "    <tr style=\"text-align: right;\">\n",
       "      <th></th>\n",
       "      <th>Size (1k feet squared)</th>\n",
       "      <th>Number of bedrooms</th>\n",
       "      <th>Number of bathrooms</th>\n",
       "      <th>Age</th>\n",
       "      <th>Price(1k $)</th>\n",
       "      <th>Prediction (1k $)</th>\n",
       "    </tr>\n",
       "  </thead>\n",
       "  <tbody>\n",
       "    <tr>\n",
       "      <th>0</th>\n",
       "      <td>1.275</td>\n",
       "      <td>4.0</td>\n",
       "      <td>1.0</td>\n",
       "      <td>12.0</td>\n",
       "      <td>452.983</td>\n",
       "      <td>470.336946</td>\n",
       "    </tr>\n",
       "    <tr>\n",
       "      <th>1</th>\n",
       "      <td>1.674</td>\n",
       "      <td>5.0</td>\n",
       "      <td>2.0</td>\n",
       "      <td>6.0</td>\n",
       "      <td>673.983</td>\n",
       "      <td>716.920429</td>\n",
       "    </tr>\n",
       "    <tr>\n",
       "      <th>2</th>\n",
       "      <td>2.000</td>\n",
       "      <td>6.0</td>\n",
       "      <td>3.0</td>\n",
       "      <td>1.0</td>\n",
       "      <td>983.992</td>\n",
       "      <td>952.355187</td>\n",
       "    </tr>\n",
       "    <tr>\n",
       "      <th>3</th>\n",
       "      <td>0.987</td>\n",
       "      <td>2.0</td>\n",
       "      <td>1.0</td>\n",
       "      <td>34.0</td>\n",
       "      <td>122.111</td>\n",
       "      <td>111.253271</td>\n",
       "    </tr>\n",
       "    <tr>\n",
       "      <th>4</th>\n",
       "      <td>1.275</td>\n",
       "      <td>4.0</td>\n",
       "      <td>1.0</td>\n",
       "      <td>4.0</td>\n",
       "      <td>555.211</td>\n",
       "      <td>538.930877</td>\n",
       "    </tr>\n",
       "  </tbody>\n",
       "</table>\n",
       "</div>"
      ],
      "text/plain": [
       "   Size (1k feet squared)  Number of bedrooms  Number of bathrooms   Age  \\\n",
       "0                   1.275                 4.0                  1.0  12.0   \n",
       "1                   1.674                 5.0                  2.0   6.0   \n",
       "2                   2.000                 6.0                  3.0   1.0   \n",
       "3                   0.987                 2.0                  1.0  34.0   \n",
       "4                   1.275                 4.0                  1.0   4.0   \n",
       "\n",
       "   Price(1k $)  Prediction (1k $)  \n",
       "0      452.983         470.336946  \n",
       "1      673.983         716.920429  \n",
       "2      983.992         952.355187  \n",
       "3      122.111         111.253271  \n",
       "4      555.211         538.930877  "
      ]
     },
     "execution_count": 12,
     "metadata": {},
     "output_type": "execute_result"
    }
   ],
   "source": [
    "predicted_values = []\n",
    "for i in range(m):\n",
    "    predicted_values.append(predict(x_train[i], w, b))\n",
    "df['Prediction (1k $)'] = pd.Series(predicted_values)\n",
    "df"
   ]
  },
  {
   "cell_type": "markdown",
   "id": "369cba0f",
   "metadata": {},
   "source": [
    "As it seems, we've been able to predict not too close to the actual price but somehow promising."
   ]
  }
 ],
 "metadata": {
  "kernelspec": {
   "display_name": "Python 3 (ipykernel)",
   "language": "python",
   "name": "python3"
  },
  "language_info": {
   "codemirror_mode": {
    "name": "ipython",
    "version": 3
   },
   "file_extension": ".py",
   "mimetype": "text/x-python",
   "name": "python",
   "nbconvert_exporter": "python",
   "pygments_lexer": "ipython3",
   "version": "3.10.4"
  }
 },
 "nbformat": 4,
 "nbformat_minor": 5
}
