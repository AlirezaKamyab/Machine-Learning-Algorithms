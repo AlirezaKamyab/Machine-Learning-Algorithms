{
 "cells": [
  {
   "cell_type": "markdown",
   "id": "0056e70f",
   "metadata": {},
   "source": [
    "# Linear Regression (Multiple Variables)\n",
    "\n",
    "## Function\n",
    "In here we have multiple features so $w$ is a vector and is written as $\\overrightarrow{w}$\n",
    "and $x$ is also a vector written as $\\overrightarrow{x}$. $b$ is the same number (bias) and we write the function as<br>\n",
    "$f_{\\overrightarrow{w},b}(\\overrightarrow{x}) = \\overrightarrow{w}.\\overrightarrow{x} + b$<br>\n",
    "which is its vectorized form; without vectorization it will be like <br>\n",
    "$f_{w, b}(x) = w_1x_1 + w_2x_2 + . . . + w_nx_n + b$ <br>\n",
    "The result of the dot product is the same<br>\n",
    "$\\overrightarrow{w}.\\overrightarrow{x} = w_1x_1 + w_2x_2 + . . . + w_nx_n$"
   ]
  },
  {
   "cell_type": "markdown",
   "id": "6b8248f4",
   "metadata": {},
   "source": [
    "Let's use the same example of price of the houses but this time with multiple features; other than predicting the price via its size, we'll have number of bedrooms, age of the house, number of bathrooms."
   ]
  },
  {
   "cell_type": "code",
   "execution_count": 1,
   "id": "ba62216b",
   "metadata": {},
   "outputs": [],
   "source": [
    "import numpy as np\n",
    "import pandas as pd\n",
    "import copy\n",
    "import matplotlib.pyplot as plt"
   ]
  },
  {
   "cell_type": "code",
   "execution_count": 2,
   "id": "378f8aec",
   "metadata": {},
   "outputs": [],
   "source": [
    "# Our dataset\n",
    "x_train = np.array([[1.275, 4, 1, 12], [1.674, 5, 2, 6], [2, 6, 3, 1], [0.987, 2, 1, 34], [1.275, 4, 1, 4]], dtype='float64')\n",
    "y_train = np.array([452.983, 673.983, 983.992, 122.111, 555.211])\n",
    "m, n = x_train.shape # m is the number of data and n is the number of features\n",
    "w = np.random.random(n) # initial value for w\n",
    "b = 100 # initial value for b"
   ]
  },
  {
   "cell_type": "code",
   "execution_count": 3,
   "id": "e138fee8",
   "metadata": {},
   "outputs": [
    {
     "data": {
      "text/html": [
       "<div>\n",
       "<style scoped>\n",
       "    .dataframe tbody tr th:only-of-type {\n",
       "        vertical-align: middle;\n",
       "    }\n",
       "\n",
       "    .dataframe tbody tr th {\n",
       "        vertical-align: top;\n",
       "    }\n",
       "\n",
       "    .dataframe thead th {\n",
       "        text-align: right;\n",
       "    }\n",
       "</style>\n",
       "<table border=\"1\" class=\"dataframe\">\n",
       "  <thead>\n",
       "    <tr style=\"text-align: right;\">\n",
       "      <th></th>\n",
       "      <th>Size (1k feet squared)</th>\n",
       "      <th>Number of bedrooms</th>\n",
       "      <th>Number of bathrooms</th>\n",
       "      <th>Age</th>\n",
       "      <th>Price(1k $)</th>\n",
       "    </tr>\n",
       "  </thead>\n",
       "  <tbody>\n",
       "    <tr>\n",
       "      <th>0</th>\n",
       "      <td>1.275</td>\n",
       "      <td>4.0</td>\n",
       "      <td>1.0</td>\n",
       "      <td>12.0</td>\n",
       "      <td>452.983</td>\n",
       "    </tr>\n",
       "    <tr>\n",
       "      <th>1</th>\n",
       "      <td>1.674</td>\n",
       "      <td>5.0</td>\n",
       "      <td>2.0</td>\n",
       "      <td>6.0</td>\n",
       "      <td>673.983</td>\n",
       "    </tr>\n",
       "    <tr>\n",
       "      <th>2</th>\n",
       "      <td>2.000</td>\n",
       "      <td>6.0</td>\n",
       "      <td>3.0</td>\n",
       "      <td>1.0</td>\n",
       "      <td>983.992</td>\n",
       "    </tr>\n",
       "    <tr>\n",
       "      <th>3</th>\n",
       "      <td>0.987</td>\n",
       "      <td>2.0</td>\n",
       "      <td>1.0</td>\n",
       "      <td>34.0</td>\n",
       "      <td>122.111</td>\n",
       "    </tr>\n",
       "    <tr>\n",
       "      <th>4</th>\n",
       "      <td>1.275</td>\n",
       "      <td>4.0</td>\n",
       "      <td>1.0</td>\n",
       "      <td>4.0</td>\n",
       "      <td>555.211</td>\n",
       "    </tr>\n",
       "  </tbody>\n",
       "</table>\n",
       "</div>"
      ],
      "text/plain": [
       "   Size (1k feet squared)  Number of bedrooms  Number of bathrooms   Age  \\\n",
       "0                   1.275                 4.0                  1.0  12.0   \n",
       "1                   1.674                 5.0                  2.0   6.0   \n",
       "2                   2.000                 6.0                  3.0   1.0   \n",
       "3                   0.987                 2.0                  1.0  34.0   \n",
       "4                   1.275                 4.0                  1.0   4.0   \n",
       "\n",
       "   Price(1k $)  \n",
       "0      452.983  \n",
       "1      673.983  \n",
       "2      983.992  \n",
       "3      122.111  \n",
       "4      555.211  "
      ]
     },
     "execution_count": 3,
     "metadata": {},
     "output_type": "execute_result"
    }
   ],
   "source": [
    "df = pd.DataFrame(x_train, columns=['Size (1k feet squared)', 'Number of bedrooms', 'Number of bathrooms', 'Age'])\n",
    "df['Price(1k $)'] = pd.Series(y_train)\n",
    "df"
   ]
  },
  {
   "cell_type": "code",
   "execution_count": 4,
   "id": "caa17834",
   "metadata": {},
   "outputs": [],
   "source": [
    "def predict(x, w, b):\n",
    "    return np.dot(w, x) + b"
   ]
  },
  {
   "cell_type": "markdown",
   "id": "de44c9c5",
   "metadata": {},
   "source": [
    "Now let's try to predict the value of the first house in the dataset; "
   ]
  },
  {
   "cell_type": "code",
   "execution_count": 5,
   "id": "a3759b60",
   "metadata": {},
   "outputs": [
    {
     "name": "stdout",
     "output_type": "stream",
     "text": [
      "Value for a house with size=1.275 and numberOfBedrooms=4 and numberOfBathrooms=1 and age=12 is 111.024k$\n",
      "The actual price is 452.983k$\n"
     ]
    }
   ],
   "source": [
    "print(f'Value for a house with size=1.275 and numberOfBedrooms=4 and numberOfBathrooms=1 and age=12 is {predict(x_train[0], w, b):.3f}k$')\n",
    "print(f'The actual price is {y_train[0]}k$')"
   ]
  },
  {
   "cell_type": "markdown",
   "id": "e808a66c",
   "metadata": {},
   "source": [
    "## Cost function\n",
    "Now that we use vectorization, cost function is defined as <br>\n",
    "$J(\\overrightarrow{w}, b) = \\frac{1}{2m}\\Sigma_{i=1}^{m}(f_{\\overrightarrow{x},b}(\\overrightarrow{x}^{(i)}) - y^{(i)})^2$"
   ]
  },
  {
   "cell_type": "code",
   "execution_count": 6,
   "id": "81dcc9a8",
   "metadata": {},
   "outputs": [],
   "source": [
    "def cost(x, y, w, b):\n",
    "    err_sum = 0\n",
    "    m = x.shape[0]\n",
    "    for i in range(m):\n",
    "        f_wb = np.dot(w, x[i]) + b\n",
    "        err_sum += (f_wb - y[i]) ** 2\n",
    "    err_sum = err_sum / (2 * m)\n",
    "    return err_sum"
   ]
  },
  {
   "cell_type": "markdown",
   "id": "bfcdd1d5",
   "metadata": {},
   "source": [
    "If we run the cost function now due to our last test for predicting the price of the first house, we anticipate a large number\n"
   ]
  },
  {
   "cell_type": "code",
   "execution_count": 7,
   "id": "7eda5680",
   "metadata": {},
   "outputs": [
    {
     "name": "stdout",
     "output_type": "stream",
     "text": [
      "140502.6662169472\n"
     ]
    }
   ],
   "source": [
    "print(cost(x_train, y_train, w, b))"
   ]
  },
  {
   "cell_type": "markdown",
   "id": "9fb25e32",
   "metadata": {},
   "source": [
    "## Gradient Descent\n",
    "Now since we have multiple features, we should find the derivative of each of the features. So, we have to find a good value for each of $w$s from $w_1$ to $w_n$\n",
    "So we have to find the derivative for each of the features\n",
    "$w_i = w_i - \\alpha\\frac{d}{dm}J(\\overrightarrow{w}, b)$ and $b = b - \\alpha\\frac{d}{db}J(\\overrightarrow{w}, b)$<br>\n",
    "for each of the $w$s we have<br>\n",
    "$w_j = w_j - \\alpha\\frac{1}{m}\\Sigma_{i=1}^{m}(f_{\\overrightarrow{w},b}(x^{(i)}) - y^{(i)})x_{j}^{(i)}$<br>\n",
    "$b = b - \\alpha\\frac{1}{m}\\Sigma_{i=1}^{m}(f_{\\overrightarrow{w},b}(x^{(i)})-y^{(i)})$"
   ]
  },
  {
   "cell_type": "code",
   "execution_count": 8,
   "id": "5274ffa8",
   "metadata": {},
   "outputs": [],
   "source": [
    "def gradient(x, y, w, b):\n",
    "    m, n = x.shape\n",
    "    w_t = np.zeros((n,))\n",
    "    b_t = 0\n",
    "    for i in range(m):\n",
    "        err = np.dot(w, x[i]) + b - y[i]\n",
    "        for j in range(n):\n",
    "            w_t[j] += err * x[i, j]\n",
    "        b_t += err\n",
    "    w_t = w_t / m\n",
    "    b_t = b_t / m\n",
    "    return w_t, b_t"
   ]
  },
  {
   "cell_type": "code",
   "execution_count": 9,
   "id": "b52a697b",
   "metadata": {},
   "outputs": [],
   "source": [
    "def gradient_descent(x, y, init_w, init_b, alpha, cost_function, gradient_function, iterations=1000):\n",
    "    w = copy.deepcopy(init_w)\n",
    "    b = init_b\n",
    "    for i in range(1, iterations + 1):\n",
    "        w_t, b_t = gradient_function(x, y, w, b)\n",
    "        w = w - (alpha * w_t)\n",
    "        b = b - (alpha * b_t)\n",
    "        if i % 10 == 0:\n",
    "            print(f'w={w}, b={b}, cost={cost_function(x, y, w, b)}')\n",
    "    return w, b"
   ]
  },
  {
   "cell_type": "code",
   "execution_count": 10,
   "id": "58d7e122",
   "metadata": {},
   "outputs": [
    {
     "name": "stdout",
     "output_type": "stream",
     "text": [
      "w=[ 25.08072794  78.19449514  32.86088915 -11.08611512], b=113.67747807350128, cost=13590.326253446872\n",
      "w=[ 30.87923146  95.81361785  41.13841122 -12.62416192], b=116.66856456739684, cost=4537.680956026259\n",
      "w=[ 32.28256838  99.66516768  43.92001485 -12.13007739], b=117.19680856594368, cost=2751.2991536387462\n",
      "w=[ 32.66515437 100.33103416  45.41641241 -11.38687277], b=117.15350682426963, cost=1928.3765898101894\n",
      "w=[ 32.80463277 100.24814449  46.59742318 -10.74783208], b=116.97529101384534, cost=1476.0587899621935\n",
      "w=[ 32.88170763  99.98150194  47.68804199 -10.25245677], b=116.76418443455188, cost=1219.5887861557662\n",
      "w=[32.93947528 99.66490088 48.74170066 -9.87894146], b=116.54491756999211, cost=1070.7345894811958\n",
      "w=[32.98902527 99.33206871 49.7720259  -9.59937015], b=116.32412628307864, cost=981.3311199704285\n",
      "w=[33.0337917  98.99296753 50.78319614 -9.39033396], b=116.10403325324103, cost=924.8748339213407\n",
      "w=[33.07522329 98.65151637 51.77699034 -9.23384408], b=115.88565602689556, cost=886.7680105375509\n",
      "w=[33.11414383 98.30981164 52.75446509 -9.11641012], b=115.66959322750668, cost=858.9672570122333\n",
      "w=[33.15110817 97.96920853 53.71638338 -9.027989  ], b=115.45624192105427, cost=837.0380612405091\n",
      "w=[33.18651629 97.63065279 54.66334533 -8.96112075], b=115.24587486970836, cost=818.5331010656146\n",
      "w=[33.22066351 97.29481883 55.59584234 -8.91026787], b=115.03867855956032, cost=802.0993515661623\n",
      "w=[33.25376979 96.96218737 56.51428734 -8.87132071], b=114.83477698544677, cost=786.9864604216785\n",
      "w=[33.28599972 96.63309736 57.41903496 -8.84122943], b=114.63424827977943, cost=772.7760584465423\n",
      "w=[33.3174769  96.30778318 58.31039606 -8.81773064], b=114.43713681499673, cost=759.2327154873722\n",
      "w=[33.34829453 95.986402   59.18864834 -8.79914455], b=114.24346212727312, cost=746.2218734701353\n",
      "w=[33.3785232  95.66905389 60.0540442  -8.78422442], b=114.05322552288035, cost=733.6646566877146\n",
      "w=[33.40821674 95.35579688 60.90681663 -8.77204485], b=113.86641497455601, cost=721.5129865413764\n",
      "w=[33.43741653 95.04665797 61.74718351 -8.76191886], b=113.68300875124243, cost=709.7358758814502\n",
      "w=[33.46615465 94.74164144 62.5753509  -8.75333641], b=113.5029781085036, cost=698.3118788675791\n",
      "w=[33.49445629 94.44073487 63.39151538 -8.74591875], b=113.32628928210183, cost=687.2249301248\n",
      "w=[33.52234151 94.14391372 64.19586592 -8.73938457], b=113.15290496457209, cost=676.4620501303558\n",
      "w=[33.54982652 93.85114469 64.98858515 -8.73352484], b=112.98278539821605, cost=666.0120782397969\n",
      "w=[33.57692468 93.56238816 65.76985045 -8.72818418], b=112.81588918351194, cost=655.864971627236\n",
      "w=[33.60364718 93.27760006 66.53983462 -8.72324701], b=112.65217387639628, cost=646.0114159143372\n",
      "w=[33.63000363 92.99673325 67.29870652 -8.71862733], b=112.49159642892212, cost=636.4426075105414\n",
      "w=[33.65600241 92.71973848 68.04663145 -8.71426104], b=112.33411351373647, cost=627.1501305911352\n",
      "w=[33.68165098 92.44656518 68.78377152 -8.71010031], b=112.17968176238607, cost=618.1258862743576\n",
      "w=[33.70695611 92.177162   69.51028585 -8.70610941], b=112.02825793971789, cost=609.3620506284567\n",
      "w=[33.73192402 91.91147719 70.22633082 -8.70226157], b=111.87979907089635, cost=600.8510486391659\n",
      "w=[33.75656053 91.64945892 70.93206022 -8.69853666], b=111.73426253329596, cost=592.5855370493016\n",
      "w=[33.78087112 91.39105551 71.62762531 -8.69491951], b=111.59160612236529, cost=584.5583921652003\n",
      "w=[33.80486101 91.13621555 72.31317499 -8.69139864], b=111.45178809821127, cost=576.7627004774392\n",
      "w=[33.82853521 90.88488805 72.98885586 -8.68796526], b=111.31476721791066, cost=569.191750908368\n",
      "w=[33.85189858 90.6370225  73.65481225 -8.68461262], b=111.18050275726398, cost=561.8390280303495\n",
      "w=[33.87495582 90.39256896 74.31118634 -8.6813355 ], b=111.04895452474797, cost=554.698205891332\n",
      "w=[33.89771149 90.15147806 74.95811816 -8.67812978], b=110.92008286971105, cost=547.7631422455431\n",
      "w=[33.92017006 89.91370104 75.59574568 -8.67499218], b=110.79384868632862, cost=541.0278730759533\n",
      "w=[33.94233592 89.6791898  76.22420479 -8.67192005], b=110.67021341444291, cost=534.4866073440402\n",
      "w=[33.96421335 89.44789686 76.84362939 -8.6689112 ], b=110.54913903812205, cost=528.1337219295208\n",
      "w=[33.98580656 89.2197754  77.45415143 -8.66596379], b=110.43058808255635, cost=521.963756737535\n",
      "w=[34.00711969 88.99477927 78.0559009  -8.66307625], b=110.31452360975116, cost=515.9714099590758\n",
      "w=[34.0281568  88.77286294 78.64900587 -8.66024719], b=110.2009092133553, cost=510.1515334751436\n",
      "w=[34.04892189 88.55398155 79.23359257 -8.65747539], b=110.08970901287755, cost=504.499128397554\n",
      "w=[34.06941889 88.33809086 79.80978534 -8.65475972], b=109.9808876474769, cost=499.00934074092976\n",
      "w=[34.0896517  88.12514729 80.37770674 -8.65209917], b=109.87441026946517, cost=493.67745722118207\n",
      "w=[34.10962411 87.91510788 80.93747751 -8.64949278], b=109.77024253762306, cost=488.4989011763834\n",
      "w=[34.12933989 87.70793029 81.48921664 -8.64693963], b=109.6683506104057, cost=483.4692286061747\n",
      "w=[34.14880274 87.50357279 82.03304137 -8.64443886], b=109.56870113909233, cost=478.58412432615785\n",
      "w=[34.16801631 87.30199426 82.56906725 -8.64198965], b=109.47126126092148, cost=473.83939823386544\n",
      "w=[34.1869842  87.10315419 83.09740811 -8.63959119], b=109.3759985922409, cost=469.23098168300874\n",
      "w=[34.20570993 86.90701264 83.61817614 -8.6372427 ], b=109.28288122169467, cost=464.75492396285244\n",
      "w=[34.224197   86.71353026 84.13148188 -8.63494343], b=109.19187770346244, cost=460.40738887966864\n",
      "w=[34.24244884 86.52266829 84.63743427 -8.63269263], b=109.10295705056292, cost=456.1846514372787\n",
      "w=[34.26046885 86.3343885  85.13614065 -8.63048958], b=109.01608872822924, cost=452.0830946138187\n",
      "w=[34.27826035 86.14865325 85.62770678 -8.62833357], b=108.9312426473616, cost=448.0992062319501\n",
      "w=[34.29582664 85.96542543 86.1122369  -8.62622391], b=108.84838915806179, cost=444.22957591978536\n",
      "w=[34.31317096 85.78466849 86.58983372 -8.6241599 ], b=108.76749904325101, cost=440.4708921599001\n",
      "w=[34.33029649 85.60634639 87.06059843 -8.62214088], b=108.68854351237346, cost=436.8199394238921\n",
      "w=[34.34720638 85.43042363 87.52463078 -8.62016618], b=108.61149419518587, cost=433.27359539000884\n",
      "w=[34.36390373 85.25686524 87.98202903 -8.61823514], b=108.53632313563334, cost=429.8288282414104\n",
      "w=[34.3803916  85.08563672 88.43289002 -8.61634714], b=108.46300278581155, cost=426.4826940427395\n",
      "w=[34.39667299 84.91670413 88.87730918 -8.61450153], b=108.39150600001459, cost=423.2323341927686\n",
      "w=[34.41275088 84.75003397 89.31538054 -8.61269769], b=108.321806028868, cost=420.07497295085307\n",
      "w=[34.42862818 84.58559327 89.74719676 -8.610935  ], b=108.25387651354625, cost=417.0079150350971\n",
      "w=[34.44430777 84.42334952 90.17284914 -8.60921287], b=108.18769148007344, cost=414.02854329014144\n",
      "w=[34.45979249 84.2632707  90.59242766 -8.6075307 ], b=108.1232253337068, cost=411.1343164225461\n",
      "w=[34.47508514 84.10532523 91.00602097 -8.6058879 ], b=108.06045285340139, cost=408.32276680183315\n",
      "w=[34.49018847 83.94948203 91.41371645 -8.6042839 ], b=107.99934918635533, cost=405.591498325246\n",
      "w=[34.5051052  83.79571044 91.81560017 -8.60271812], b=107.9398898426343, cost=402.93818434441647\n",
      "w=[34.51983801 83.64398026 92.21175698 -8.60119   ], b=107.88205068987449, cost=400.36056565212664\n",
      "w=[34.53438952 83.49426173 92.60227046 -8.599699  ], b=107.82580794806253, cost=397.8564485274421\n",
      "w=[34.54876234 83.34652554 92.987223   -8.59824456], b=107.77113818439159, cost=395.4237028374713\n",
      "w=[34.56295903 83.20074278 93.36669575 -8.59682615], b=107.71801830819251, cost=393.0602601941992\n",
      "w=[34.57698211 83.05688498 93.74076872 -8.59544324], b=107.66642556593874, cost=390.76411216469404\n",
      "w=[34.59083407 82.91492408 94.1095207  -8.59409531], b=107.61633753632442, cost=388.53330853325076\n",
      "w=[34.60451735 82.77483244 94.47302938 -8.59278184], b=107.56773212541394, cost=386.3659556138586\n",
      "w=[34.61803437 82.6365828  94.83137128 -8.59150233], b=107.52058756186264, cost=384.2602146116095\n",
      "w=[34.63138752 82.50014833 95.18462183 -8.59025629], b=107.47488239220696, cost=382.2143000316065\n",
      "w=[34.64457912 82.36550256 95.53285533 -8.58904321], b=107.43059547622362, cost=380.2264781339761\n",
      "w=[34.6576115  82.23261942 95.87614502 -8.58786262], b=107.38770598235624, cost=378.2950654336759\n",
      "w=[34.67048693 82.10147324 96.21456306 -8.58671404], b=107.34619338320898, cost=376.4184272437898\n",
      "w=[34.68320765 81.97203868 96.54818055 -8.58559699], b=107.30603745110581, cost=374.594976261034\n",
      "w=[34.69577587 81.84429082 96.87706756 -8.58451102], b=107.26721825371474, cost=372.8231711922816\n",
      "w=[34.70819376 81.71820506 97.20129314 -8.58345567], b=107.22971614973581, cost=371.1015154208827\n",
      "w=[34.72046349 81.5937572  97.52092533 -8.58243049], b=107.19351178465205, cost=369.42855571165865\n",
      "w=[34.73258715 81.47092335 97.83603118 -8.58143503], b=107.15858608654257, cost=367.802880953422\n",
      "w=[34.74456684 81.34968001 98.14667674 -8.58046886], b=107.12492026195666, cost=366.22312093795296\n",
      "w=[34.75640461 81.23000399 98.45292712 -8.57953154], b=107.09249579184824, cost=364.6879451743656\n",
      "w=[34.76810247 81.11187247 98.75484647 -8.57862266], b=107.06129442756949, cost=363.1960617378462\n",
      "w=[34.77966243 80.99526293 99.05249801 -8.5777418 ], b=107.0312981869232, cost=361.74621615175255\n",
      "w=[34.79108645 80.8801532  99.34594402 -8.57688853], b=107.00248935027255, cost=360.33719030213206\n",
      "w=[34.80237647 80.76652143 99.6352459  -8.57606247], b=106.9748504567079, cost=358.967801383691\n",
      "w=[34.81353439 80.65434609 99.92046411 -8.5752632 ], b=106.94836430026923, cost=357.63690087631613\n",
      "w=[ 34.82456209  80.54360595 100.20165828  -8.57449034], b=106.92301392622409, cost=356.3433735512872\n",
      "w=[ 34.83546143  80.43428012 100.47888712  -8.57374349], b=106.89878262739965, cost=355.0861365062509\n",
      "w=[ 34.84623423  80.32634798 100.75220852  -8.57302228], b=106.87565394056834, cost=353.86413822821913\n",
      "w=[ 34.85688229  80.21978923 101.0216795   -8.57232632], b=106.85361164288634, cost=352.6763576836821\n"
     ]
    }
   ],
   "source": [
    "w, b = gradient_descent(x_train, y_train, w, b, 0.007115, cost, gradient)"
   ]
  },
  {
   "cell_type": "markdown",
   "id": "c6bbaac5",
   "metadata": {},
   "source": [
    "Let's now predict the value of the house like before"
   ]
  },
  {
   "cell_type": "code",
   "execution_count": 11,
   "id": "b3c2f338",
   "metadata": {},
   "outputs": [
    {
     "name": "stdout",
     "output_type": "stream",
     "text": [
      "Value for a house with size=1.275 and numberOfBedrooms=4 and numberOfBathrooms=1 and age=12 is 470.329k$\n",
      "The actual price is 452.983k$\n"
     ]
    }
   ],
   "source": [
    "print(f'Value for a house with size=1.275 and numberOfBedrooms=4 and numberOfBathrooms=1 and age=12 is {predict(x_train[0], w, b):.3f}k$')\n",
    "print(f'The actual price is {y_train[0]}k$')"
   ]
  },
  {
   "cell_type": "code",
   "execution_count": 12,
   "id": "4e0257ea",
   "metadata": {},
   "outputs": [
    {
     "data": {
      "text/html": [
       "<div>\n",
       "<style scoped>\n",
       "    .dataframe tbody tr th:only-of-type {\n",
       "        vertical-align: middle;\n",
       "    }\n",
       "\n",
       "    .dataframe tbody tr th {\n",
       "        vertical-align: top;\n",
       "    }\n",
       "\n",
       "    .dataframe thead th {\n",
       "        text-align: right;\n",
       "    }\n",
       "</style>\n",
       "<table border=\"1\" class=\"dataframe\">\n",
       "  <thead>\n",
       "    <tr style=\"text-align: right;\">\n",
       "      <th></th>\n",
       "      <th>Size (1k feet squared)</th>\n",
       "      <th>Number of bedrooms</th>\n",
       "      <th>Number of bathrooms</th>\n",
       "      <th>Age</th>\n",
       "      <th>Price(1k $)</th>\n",
       "      <th>Prediction (1k $)</th>\n",
       "    </tr>\n",
       "  </thead>\n",
       "  <tbody>\n",
       "    <tr>\n",
       "      <th>0</th>\n",
       "      <td>1.275</td>\n",
       "      <td>4.0</td>\n",
       "      <td>1.0</td>\n",
       "      <td>12.0</td>\n",
       "      <td>452.983</td>\n",
       "      <td>470.329057</td>\n",
       "    </tr>\n",
       "    <tr>\n",
       "      <th>1</th>\n",
       "      <td>1.674</td>\n",
       "      <td>5.0</td>\n",
       "      <td>2.0</td>\n",
       "      <td>6.0</td>\n",
       "      <td>673.983</td>\n",
       "      <td>716.912380</td>\n",
       "    </tr>\n",
       "    <tr>\n",
       "      <th>2</th>\n",
       "      <td>2.000</td>\n",
       "      <td>6.0</td>\n",
       "      <td>3.0</td>\n",
       "      <td>1.0</td>\n",
       "      <td>983.992</td>\n",
       "      <td>952.378824</td>\n",
       "    </tr>\n",
       "    <tr>\n",
       "      <th>3</th>\n",
       "      <td>0.987</td>\n",
       "      <td>2.0</td>\n",
       "      <td>1.0</td>\n",
       "      <td>34.0</td>\n",
       "      <td>122.111</td>\n",
       "      <td>111.259518</td>\n",
       "    </tr>\n",
       "    <tr>\n",
       "      <th>4</th>\n",
       "      <td>1.275</td>\n",
       "      <td>4.0</td>\n",
       "      <td>1.0</td>\n",
       "      <td>4.0</td>\n",
       "      <td>555.211</td>\n",
       "      <td>538.907668</td>\n",
       "    </tr>\n",
       "  </tbody>\n",
       "</table>\n",
       "</div>"
      ],
      "text/plain": [
       "   Size (1k feet squared)  Number of bedrooms  Number of bathrooms   Age  \\\n",
       "0                   1.275                 4.0                  1.0  12.0   \n",
       "1                   1.674                 5.0                  2.0   6.0   \n",
       "2                   2.000                 6.0                  3.0   1.0   \n",
       "3                   0.987                 2.0                  1.0  34.0   \n",
       "4                   1.275                 4.0                  1.0   4.0   \n",
       "\n",
       "   Price(1k $)  Prediction (1k $)  \n",
       "0      452.983         470.329057  \n",
       "1      673.983         716.912380  \n",
       "2      983.992         952.378824  \n",
       "3      122.111         111.259518  \n",
       "4      555.211         538.907668  "
      ]
     },
     "execution_count": 12,
     "metadata": {},
     "output_type": "execute_result"
    }
   ],
   "source": [
    "predicted_values = []\n",
    "for i in range(m):\n",
    "    predicted_values.append(predict(x_train[i], w, b))\n",
    "df['Prediction (1k $)'] = pd.Series(predicted_values)\n",
    "df"
   ]
  },
  {
   "cell_type": "markdown",
   "id": "369cba0f",
   "metadata": {},
   "source": [
    "As it seems, we've been able to predict not too close to the actual price but somehow promising."
   ]
  }
 ],
 "metadata": {
  "kernelspec": {
   "display_name": "Python 3 (ipykernel)",
   "language": "python",
   "name": "python3"
  },
  "language_info": {
   "codemirror_mode": {
    "name": "ipython",
    "version": 3
   },
   "file_extension": ".py",
   "mimetype": "text/x-python",
   "name": "python",
   "nbconvert_exporter": "python",
   "pygments_lexer": "ipython3",
   "version": "3.10.4"
  }
 },
 "nbformat": 4,
 "nbformat_minor": 5
}
